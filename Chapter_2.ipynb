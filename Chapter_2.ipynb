{
  "nbformat": 4,
  "nbformat_minor": 0,
  "metadata": {
    "colab": {
      "provenance": [],
      "authorship_tag": "ABX9TyNBjCLVjfzNcHE8ImPZ/cDI",
      "include_colab_link": true
    },
    "kernelspec": {
      "name": "python3",
      "display_name": "Python 3"
    },
    "language_info": {
      "name": "python"
    }
  },
  "cells": [
    {
      "cell_type": "markdown",
      "metadata": {
        "id": "view-in-github",
        "colab_type": "text"
      },
      "source": [
        "<a href=\"https://colab.research.google.com/github/nisha1365/THINKSTATSBOOK/blob/main/Chapter_2.ipynb\" target=\"_parent\"><img src=\"https://colab.research.google.com/assets/colab-badge.svg\" alt=\"Open In Colab\"/></a>"
      ]
    },
    {
      "cell_type": "code",
      "execution_count": null,
      "metadata": {
        "id": "BL96gX_WyE_5"
      },
      "outputs": [],
      "source": [
        "import numpy as np"
      ]
    },
    {
      "cell_type": "code",
      "source": [
        "from os.path import basename, exists\n",
        "\n",
        "\n",
        "def download(url):\n",
        "    filename = basename(url)\n",
        "    if not exists(filename):\n",
        "        from urllib.request import urlretrieve\n",
        "\n",
        "        local, _ = urlretrieve(url, filename)\n",
        "        print(\"Downloaded \" + local)\n",
        "\n",
        "\n",
        "download(\"https://github.com/AllenDowney/ThinkStats2/raw/master/code/thinkstats2.py\")\n",
        "download(\"https://github.com/AllenDowney/ThinkStats2/raw/master/code/thinkplot.py\")"
      ],
      "metadata": {
        "colab": {
          "base_uri": "https://localhost:8080/"
        },
        "id": "6ryNlBITyKKB",
        "outputId": "410a56a4-2c4f-4a77-a8d5-9534fdfca291"
      },
      "execution_count": null,
      "outputs": [
        {
          "output_type": "stream",
          "name": "stdout",
          "text": [
            "Downloaded thinkstats2.py\n",
            "Downloaded thinkplot.py\n"
          ]
        }
      ]
    },
    {
      "cell_type": "markdown",
      "source": [
        "Given a list of values, there are several ways to count the frequency of each value.\n"
      ],
      "metadata": {
        "id": "ogIR1rqdyQns"
      }
    },
    {
      "cell_type": "code",
      "source": [
        "t = [1, 2, 2, 3, 5]"
      ],
      "metadata": {
        "id": "jvrwRMrByMU0"
      },
      "execution_count": null,
      "outputs": []
    },
    {
      "cell_type": "markdown",
      "source": [
        "You can use a Python dictionary:"
      ],
      "metadata": {
        "id": "bn5il98Cyk1g"
      }
    },
    {
      "cell_type": "code",
      "source": [
        "hist = {}\n",
        "for x in t:\n",
        "    hist[x] = hist.get(x, 0) + 1\n",
        "    \n",
        "hist"
      ],
      "metadata": {
        "colab": {
          "base_uri": "https://localhost:8080/"
        },
        "id": "Y-j4-qWJyUoA",
        "outputId": "ad9b49e3-eca5-42dd-dcaf-66731b6db1c5"
      },
      "execution_count": null,
      "outputs": [
        {
          "output_type": "execute_result",
          "data": {
            "text/plain": [
              "{1: 1, 2: 2, 3: 1, 5: 1}"
            ]
          },
          "metadata": {},
          "execution_count": 4
        }
      ]
    },
    {
      "cell_type": "markdown",
      "source": [
        "You can use a Counter"
      ],
      "metadata": {
        "id": "mwm6ywEsyvcL"
      }
    },
    {
      "cell_type": "code",
      "source": [
        "from collections import Counter\n",
        "counter = Counter(t)\n",
        "counter"
      ],
      "metadata": {
        "colab": {
          "base_uri": "https://localhost:8080/"
        },
        "id": "Q2TpV6DTywAu",
        "outputId": "b927cda2-de3e-4241-e7a5-d0a84f82dc99"
      },
      "execution_count": null,
      "outputs": [
        {
          "output_type": "execute_result",
          "data": {
            "text/plain": [
              "Counter({1: 1, 2: 2, 3: 1, 5: 1})"
            ]
          },
          "metadata": {},
          "execution_count": 5
        }
      ]
    },
    {
      "cell_type": "markdown",
      "source": [
        "Or you can use the Hist object provided by thinkstats2:"
      ],
      "metadata": {
        "id": "LYz0PRygy1qV"
      }
    },
    {
      "cell_type": "code",
      "source": [
        "import thinkstats2\n",
        "hist = thinkstats2.Hist([1, 2, 2, 3, 5])\n",
        "hist"
      ],
      "metadata": {
        "colab": {
          "base_uri": "https://localhost:8080/"
        },
        "id": "XasFIKHoy4CV",
        "outputId": "500946d4-cec3-4383-87fe-2c8f40e8015f"
      },
      "execution_count": null,
      "outputs": [
        {
          "output_type": "execute_result",
          "data": {
            "text/plain": [
              "Hist({1: 1, 2: 2, 3: 1, 5: 1})"
            ]
          },
          "metadata": {},
          "execution_count": 6
        }
      ]
    },
    {
      "cell_type": "markdown",
      "source": [
        "Hist provides Freq, which looks up the frequency of a value."
      ],
      "metadata": {
        "id": "7lW_D4X9zBah"
      }
    },
    {
      "cell_type": "code",
      "source": [
        "hist.Freq(2)"
      ],
      "metadata": {
        "colab": {
          "base_uri": "https://localhost:8080/"
        },
        "id": "DbSoAChbzB_e",
        "outputId": "3f3f6bbe-6bdc-4dca-89f6-77ba1c6a9ff8"
      },
      "execution_count": null,
      "outputs": [
        {
          "output_type": "execute_result",
          "data": {
            "text/plain": [
              "2"
            ]
          },
          "metadata": {},
          "execution_count": 7
        }
      ]
    },
    {
      "cell_type": "markdown",
      "source": [
        "You can also use the bracket operator,"
      ],
      "metadata": {
        "id": "JXpmpEh2zHgQ"
      }
    },
    {
      "cell_type": "code",
      "source": [
        "hist[2]"
      ],
      "metadata": {
        "colab": {
          "base_uri": "https://localhost:8080/"
        },
        "id": "sSonHnuczH_c",
        "outputId": "2397244c-5f3d-41a1-e482-81d080721817"
      },
      "execution_count": null,
      "outputs": [
        {
          "output_type": "execute_result",
          "data": {
            "text/plain": [
              "2"
            ]
          },
          "metadata": {},
          "execution_count": 8
        }
      ]
    },
    {
      "cell_type": "markdown",
      "source": [
        "If the value does not appear, it has frequency 0."
      ],
      "metadata": {
        "id": "i3xiEYcPzOkh"
      }
    },
    {
      "cell_type": "code",
      "source": [
        "hist[4]\n"
      ],
      "metadata": {
        "colab": {
          "base_uri": "https://localhost:8080/"
        },
        "id": "_sjXpX1ay6Ii",
        "outputId": "c92b740f-5601-481d-925b-e924bee3cf51"
      },
      "execution_count": null,
      "outputs": [
        {
          "output_type": "execute_result",
          "data": {
            "text/plain": [
              "0"
            ]
          },
          "metadata": {},
          "execution_count": 9
        }
      ]
    },
    {
      "cell_type": "markdown",
      "source": [
        "The Values method returns the values:"
      ],
      "metadata": {
        "id": "DpZ6lMh5zVrR"
      }
    },
    {
      "cell_type": "code",
      "source": [
        "hist.Values()\n"
      ],
      "metadata": {
        "colab": {
          "base_uri": "https://localhost:8080/"
        },
        "id": "iV9INRgUzWPz",
        "outputId": "e982a6a5-8420-42b4-d91e-55d7a6be21b8"
      },
      "execution_count": null,
      "outputs": [
        {
          "output_type": "execute_result",
          "data": {
            "text/plain": [
              "dict_keys([1, 2, 3, 5])"
            ]
          },
          "metadata": {},
          "execution_count": 10
        }
      ]
    },
    {
      "cell_type": "markdown",
      "source": [
        "So you can iterate the values and their frequencies like this:"
      ],
      "metadata": {
        "id": "z3XKEewUz-OT"
      }
    },
    {
      "cell_type": "code",
      "source": [
        "for val in sorted(hist.Values()):\n",
        "    print(val, hist[val])"
      ],
      "metadata": {
        "colab": {
          "base_uri": "https://localhost:8080/"
        },
        "id": "dBqVZSTmzQ6I",
        "outputId": "4dec758c-9543-4087-e376-a9e5a2332955"
      },
      "execution_count": null,
      "outputs": [
        {
          "output_type": "stream",
          "name": "stdout",
          "text": [
            "1 1\n",
            "2 2\n",
            "3 1\n",
            "5 1\n"
          ]
        }
      ]
    },
    {
      "cell_type": "markdown",
      "source": [
        "Or you can use the Items method:"
      ],
      "metadata": {
        "id": "bbVwRqpI0IOI"
      }
    },
    {
      "cell_type": "code",
      "source": [
        "for val, freq in hist.Items():\n",
        "     print(val, freq)"
      ],
      "metadata": {
        "colab": {
          "base_uri": "https://localhost:8080/"
        },
        "id": "JgQWEJ1d0Iyo",
        "outputId": "c3add567-412a-42ec-be1a-cfdabfa32c9e"
      },
      "execution_count": null,
      "outputs": [
        {
          "output_type": "stream",
          "name": "stdout",
          "text": [
            "1 1\n",
            "2 2\n",
            "3 1\n",
            "5 1\n"
          ]
        }
      ]
    },
    {
      "cell_type": "markdown",
      "source": [
        "thinkplot is a wrapper for matplotlib that provides functions that work with the objects in thinkstats2.\n",
        "\n",
        "For example Hist plots the values and their frequencies as a bar graph.\n",
        "\n",
        "Config takes parameters that label the x and y axes, among other things."
      ],
      "metadata": {
        "id": "NXat7xEx0VnV"
      }
    },
    {
      "cell_type": "code",
      "source": [
        "import thinkplot\n",
        "thinkplot.Hist(hist)\n",
        "thinkplot.Config(xlabel='value', ylabel='frequency')"
      ],
      "metadata": {
        "colab": {
          "base_uri": "https://localhost:8080/",
          "height": 279
        },
        "id": "PXSP5ERo0WiO",
        "outputId": "97ce891c-74e1-4d67-c923-1935c33ce939"
      },
      "execution_count": null,
      "outputs": [
        {
          "output_type": "display_data",
          "data": {
            "text/plain": [
              "<Figure size 432x288 with 1 Axes>"
            ],
            "image/png": "[encoded data removed]"
          },
          "metadata": {
            "needs_background": "light"
          }
        }
      ]
    },
    {
      "cell_type": "markdown",
      "source": [
        "load the data from the pregnancy file and select the records for live births."
      ],
      "metadata": {
        "id": "dyQJQFg10oml"
      }
    },
    {
      "cell_type": "code",
      "source": [
        "download(\"https://github.com/AllenDowney/ThinkStats2/raw/master/code/nsfg.py\")\n",
        "\n",
        "download(\"https://github.com/AllenDowney/ThinkStats2/raw/master/code/2002FemPreg.dct\")\n",
        "download(\n",
        "    \"https://github.com/AllenDowney/ThinkStats2/raw/master/code/2002FemPreg.dat.gz\"\n",
        ")"
      ],
      "metadata": {
        "colab": {
          "base_uri": "https://localhost:8080/"
        },
        "id": "ArSdkR3N0pNI",
        "outputId": "e6ec7e05-6b28-4090-8285-e1cd4a810cf4"
      },
      "execution_count": null,
      "outputs": [
        {
          "output_type": "stream",
          "name": "stdout",
          "text": [
            "Downloaded nsfg.py\n",
            "Downloaded 2002FemPreg.dct\n",
            "Downloaded 2002FemPreg.dat.gz\n"
          ]
        }
      ]
    },
    {
      "cell_type": "code",
      "source": [
        "import nsfg"
      ],
      "metadata": {
        "id": "bibTM56F0Azo"
      },
      "execution_count": null,
      "outputs": []
    },
    {
      "cell_type": "code",
      "source": [
        "preg = nsfg.ReadFemPreg()\n",
        "live = preg[preg.outcome == 1]\n"
      ],
      "metadata": {
        "id": "WfCzP24x0vK4"
      },
      "execution_count": null,
      "outputs": []
    },
    {
      "cell_type": "markdown",
      "source": [
        "Here's the histogram of birth weights in pounds. Notice that Hist works with anything iterable, including a Pandas Series. The label attribute appears in the legend when you plot the Hist."
      ],
      "metadata": {
        "id": "l6bOF1fE04GN"
      }
    },
    {
      "cell_type": "code",
      "source": [
        "hist = thinkstats2.Hist(live.birthwgt_lb, label='birthwgt_lb')\n",
        "thinkplot.Hist(hist)\n",
        "thinkplot.Config(xlabel='Birth weight (pounds)', ylabel='Count')"
      ],
      "metadata": {
        "colab": {
          "base_uri": "https://localhost:8080/",
          "height": 279
        },
        "id": "my8lSbGb04za",
        "outputId": "150f5d0e-d38e-4cf6-b974-e61755eda20b"
      },
      "execution_count": null,
      "outputs": [
        {
          "output_type": "display_data",
          "data": {
            "text/plain": [
              "<Figure size 432x288 with 1 Axes>"
            ],
            "image/png": "[encoded data removed]"
          },
          "metadata": {
            "needs_background": "light"
          }
        }
      ]
    },
    {
      "cell_type": "markdown",
      "source": [
        "I'll apply floor to round down:"
      ],
      "metadata": {
        "id": "BF3wRF_DeV_Q"
      }
    },
    {
      "cell_type": "code",
      "source": [
        "ages = np.floor(live.agepreg)"
      ],
      "metadata": {
        "id": "nDjWufBAeYAS"
      },
      "execution_count": null,
      "outputs": []
    },
    {
      "cell_type": "code",
      "source": [
        "hist = thinkstats2.Hist(ages, label='agepreg')\n",
        "thinkplot.Hist(hist)\n",
        "thinkplot.Config(xlabel='years', ylabel='Count')"
      ],
      "metadata": {
        "id": "c3urYvB80xtO",
        "outputId": "94c933c2-d8a0-4d7f-9337-c856d7452ba0",
        "colab": {
          "base_uri": "https://localhost:8080/",
          "height": 279
        }
      },
      "execution_count": null,
      "outputs": [
        {
          "output_type": "display_data",
          "data": {
            "text/plain": [
              "<Figure size 432x288 with 1 Axes>"
            ],
            "image/png": "[encoded data removed]"
          },
          "metadata": {
            "needs_background": "light"
          }
        }
      ]
    },
    {
      "cell_type": "markdown",
      "source": [
        "plot the histogram of pregnancy lengths (column prglngth)."
      ],
      "metadata": {
        "id": "7pauQesyehfo"
      }
    },
    {
      "cell_type": "code",
      "source": [
        "# Solution\n",
        "\n",
        "hist = thinkstats2.Hist(live.prglngth, label='prglngth')\n",
        "thinkplot.Hist(hist)\n",
        "thinkplot.Config(xlabel='weeks', ylabel='Count')"
      ],
      "metadata": {
        "id": "QFZbUYQxeire",
        "outputId": "7ab964fd-2daa-4e76-8336-ab98453a0304",
        "colab": {
          "base_uri": "https://localhost:8080/",
          "height": 279
        }
      },
      "execution_count": null,
      "outputs": [
        {
          "output_type": "display_data",
          "data": {
            "text/plain": [
              "<Figure size 432x288 with 1 Axes>"
            ],
            "image/png": "[encoded data removed]"
          },
          "metadata": {
            "needs_background": "light"
          }
        }
      ]
    },
    {
      "cell_type": "markdown",
      "source": [
        "Hist provides smallest, which select the lowest values and their frequencies."
      ],
      "metadata": {
        "id": "3GcwbAT_eqVZ"
      }
    },
    {
      "cell_type": "code",
      "source": [
        "for weeks, freq in hist.Smallest(10):\n",
        "    print(weeks, freq)"
      ],
      "metadata": {
        "id": "zKhLuKtieq9-",
        "outputId": "f23c5c51-f26c-4d17-c925-3632d1d185e9",
        "colab": {
          "base_uri": "https://localhost:8080/"
        }
      },
      "execution_count": null,
      "outputs": [
        {
          "output_type": "stream",
          "name": "stdout",
          "text": [
            "0 1\n",
            "4 1\n",
            "9 1\n",
            "13 1\n",
            "17 2\n",
            "18 1\n",
            "19 1\n",
            "20 1\n",
            "21 2\n",
            "22 7\n"
          ]
        }
      ]
    },
    {
      "cell_type": "markdown",
      "source": [
        "Use Largest to display the longest pregnancy lengths."
      ],
      "metadata": {
        "id": "wsrEF3S4eyDL"
      }
    },
    {
      "cell_type": "code",
      "source": [
        "# Solution\n",
        "\n",
        "for weeks, freq in hist.Largest(10):\n",
        "    print(weeks, freq)"
      ],
      "metadata": {
        "id": "pqT3OStYeykf",
        "outputId": "9cd5c12c-b87f-4e10-f9ca-d9478837d491",
        "colab": {
          "base_uri": "https://localhost:8080/"
        }
      },
      "execution_count": null,
      "outputs": [
        {
          "output_type": "stream",
          "name": "stdout",
          "text": [
            "50 2\n",
            "48 7\n",
            "47 1\n",
            "46 1\n",
            "45 10\n",
            "44 46\n",
            "43 148\n",
            "42 328\n",
            "41 587\n",
            "40 1116\n"
          ]
        }
      ]
    },
    {
      "cell_type": "markdown",
      "source": [
        "From live births, we can select first babies and others using birthord, then compute histograms of pregnancy length for the two groups."
      ],
      "metadata": {
        "id": "3YHcTIibe8V0"
      }
    },
    {
      "cell_type": "code",
      "source": [
        "firsts = live[live.birthord == 1]\n",
        "others = live[live.birthord != 1]\n",
        "\n",
        "first_hist = thinkstats2.Hist(firsts.prglngth, label='first')\n",
        "other_hist = thinkstats2.Hist(others.prglngth, label='other')"
      ],
      "metadata": {
        "id": "oFRHE6UIe82p"
      },
      "execution_count": null,
      "outputs": []
    },
    {
      "cell_type": "markdown",
      "source": [
        "We can use width and align to plot two histograms side-by-side."
      ],
      "metadata": {
        "id": "31YwchbKfTTZ"
      }
    },
    {
      "cell_type": "code",
      "source": [
        "width = 0.45\n",
        "thinkplot.PrePlot(2)\n",
        "thinkplot.Hist(first_hist, align='right', width=width)\n",
        "thinkplot.Hist(other_hist, align='left', width=width)\n",
        "thinkplot.Config(xlabel='weeks', ylabel='Count', xlim=[27, 46])"
      ],
      "metadata": {
        "id": "-pzB9vPrfTz-",
        "outputId": "3aef737c-5abe-4e9b-900d-746bb548354d",
        "colab": {
          "base_uri": "https://localhost:8080/",
          "height": 279
        }
      },
      "execution_count": null,
      "outputs": [
        {
          "output_type": "display_data",
          "data": {
            "text/plain": [
              "<Figure size 432x288 with 1 Axes>"
            ],
            "image/png": "[encoded data removed]"
          },
          "metadata": {
            "needs_background": "light"
          }
        }
      ]
    },
    {
      "cell_type": "code",
      "source": [
        "mean = live.prglngth.mean()\n",
        "var = live.prglngth.var()\n",
        "std = live.prglngth.std()"
      ],
      "metadata": {
        "id": "33In897Iecx_"
      },
      "execution_count": null,
      "outputs": []
    },
    {
      "cell_type": "code",
      "source": [
        "mean, std"
      ],
      "metadata": {
        "id": "8z-9Hriufap3",
        "outputId": "26afe2fd-4fc2-4195-dde8-ca77448ce5d0",
        "colab": {
          "base_uri": "https://localhost:8080/"
        }
      },
      "execution_count": null,
      "outputs": [
        {
          "output_type": "execute_result",
          "data": {
            "text/plain": [
              "(38.56055968517709, 2.702343810070587)"
            ]
          },
          "metadata": {},
          "execution_count": 26
        }
      ]
    },
    {
      "cell_type": "markdown",
      "source": [
        "As an exercise, confirm that std is the square root of var:"
      ],
      "metadata": {
        "id": "wSPJx_pXfhHD"
      }
    },
    {
      "cell_type": "code",
      "source": [
        "# Solution\n",
        "\n",
        "np.sqrt(var) == std"
      ],
      "metadata": {
        "id": "ld8DWhrffhkp",
        "outputId": "62c76224-2314-442c-ea43-db6c623d5d0b",
        "colab": {
          "base_uri": "https://localhost:8080/"
        }
      },
      "execution_count": null,
      "outputs": [
        {
          "output_type": "execute_result",
          "data": {
            "text/plain": [
              "True"
            ]
          },
          "metadata": {},
          "execution_count": 27
        }
      ]
    },
    {
      "cell_type": "code",
      "source": [
        "firsts.prglngth.mean(), others.prglngth.mean()"
      ],
      "metadata": {
        "id": "kx7z2MK2fcn6",
        "outputId": "6ec62683-6b5a-448c-d1f1-86c2deaca6b4",
        "colab": {
          "base_uri": "https://localhost:8080/"
        }
      },
      "execution_count": null,
      "outputs": [
        {
          "output_type": "execute_result",
          "data": {
            "text/plain": [
              "(38.60095173351461, 38.52291446673706)"
            ]
          },
          "metadata": {},
          "execution_count": 28
        }
      ]
    },
    {
      "cell_type": "markdown",
      "source": [
        "And here's the difference (in weeks):"
      ],
      "metadata": {
        "id": "pWbYLS0qfqaF"
      }
    },
    {
      "cell_type": "code",
      "source": [
        "firsts.prglngth.mean() - others.prglngth.mean()"
      ],
      "metadata": {
        "id": "V7vUlz7gfq2I",
        "outputId": "327c12a3-80fb-48cd-ac30-01a48177081c",
        "colab": {
          "base_uri": "https://localhost:8080/"
        }
      },
      "execution_count": null,
      "outputs": [
        {
          "output_type": "execute_result",
          "data": {
            "text/plain": [
              "0.07803726677754952"
            ]
          },
          "metadata": {},
          "execution_count": 29
        }
      ]
    },
    {
      "cell_type": "markdown",
      "source": [
        "This functon computes the Cohen effect size, which is the difference in means expressed in number of standard deviations:"
      ],
      "metadata": {
        "id": "XEIC8MUdf9YN"
      }
    },
    {
      "cell_type": "code",
      "source": [
        "def CohenEffectSize(group1, group2):\n",
        "    \"\"\"Computes Cohen's effect size for two groups.\n",
        "    \n",
        "    group1: Series or DataFrame\n",
        "    group2: Series or DataFrame\n",
        "    \n",
        "    returns: float if the arguments are Series;\n",
        "             Series if the arguments are DataFrames\n",
        "    \"\"\"\n",
        "    diff = group1.mean() - group2.mean()\n",
        "\n",
        "    var1 = group1.var()\n",
        "    var2 = group2.var()\n",
        "    n1, n2 = len(group1), len(group2)\n",
        "\n",
        "    pooled_var = (n1 * var1 + n2 * var2) / (n1 + n2)\n",
        "    d = diff / np.sqrt(pooled_var)\n",
        "    return d"
      ],
      "metadata": {
        "id": "ZHBsubjqf96z"
      },
      "execution_count": null,
      "outputs": []
    },
    {
      "cell_type": "code",
      "source": [
        "\n",
        "# Solution\n",
        "\n",
        "CohenEffectSize(firsts.prglngth, others.prglngth)"
      ],
      "metadata": {
        "id": "Hl-4zzWGfnc1",
        "outputId": "02aebcbb-e560-492d-8317-c07fbf38e6f0",
        "colab": {
          "base_uri": "https://localhost:8080/"
        }
      },
      "execution_count": null,
      "outputs": [
        {
          "output_type": "execute_result",
          "data": {
            "text/plain": [
              "0.028879044654449834"
            ]
          },
          "metadata": {},
          "execution_count": 31
        }
      ]
    },
    {
      "cell_type": "markdown",
      "source": [
        "# Exercises"
      ],
      "metadata": {
        "id": "1tm6WEX8Nr0v"
      }
    },
    {
      "cell_type": "markdown",
      "source": [
        "Using the variable totalwgt_lb, investigate whether first babies are lighter or heavier than others."
      ],
      "metadata": {
        "id": "KEBK9OjdNv26"
      }
    },
    {
      "cell_type": "markdown",
      "source": [
        "Compute Cohen’s effect size to quantify the difference between the groups. How does it compare to the difference in pregnancy length?"
      ],
      "metadata": {
        "id": "b8tVKeV-gKK7"
      }
    },
    {
      "cell_type": "code",
      "source": [
        "# Solution\n",
        "\n",
        "firsts.totalwgt_lb.mean(), others.totalwgt_lb.mean()"
      ],
      "metadata": {
        "id": "22nlihMGgLBE",
        "outputId": "4b493458-ef71-415b-abf6-5bbea8a5725f",
        "colab": {
          "base_uri": "https://localhost:8080/"
        }
      },
      "execution_count": null,
      "outputs": [
        {
          "output_type": "execute_result",
          "data": {
            "text/plain": [
              "(7.201094430437772, 7.325855614973262)"
            ]
          },
          "metadata": {},
          "execution_count": 32
        }
      ]
    },
    {
      "cell_type": "code",
      "source": [
        "# Solution\n",
        "\n",
        "CohenEffectSize(firsts.totalwgt_lb, others.totalwgt_lb)"
      ],
      "metadata": {
        "id": "1QYQjeFxgGOi",
        "outputId": "f4d38d15-a839-4c43-c9f6-b8cb34c9424a",
        "colab": {
          "base_uri": "https://localhost:8080/"
        }
      },
      "execution_count": null,
      "outputs": [
        {
          "output_type": "execute_result",
          "data": {
            "text/plain": [
              "-0.08867292707260174"
            ]
          },
          "metadata": {},
          "execution_count": 33
        }
      ]
    },
    {
      "cell_type": "markdown",
      "source": [
        "For the next few exercises, we'll load the respondent file:"
      ],
      "metadata": {
        "id": "XfGsLIvggV1m"
      }
    },
    {
      "cell_type": "code",
      "source": [
        "download(\"https://github.com/AllenDowney/ThinkStats2/raw/master/code/2002FemResp.dct\")\n",
        "download(\"https://github.com/AllenDowney/ThinkStats2/raw/master/code/2002FemResp.dat.gz\")"
      ],
      "metadata": {
        "id": "P6AHRQ6-gWQp",
        "outputId": "c54d3ddd-3acf-4eb9-b0b3-0e021409bd42",
        "colab": {
          "base_uri": "https://localhost:8080/"
        }
      },
      "execution_count": null,
      "outputs": [
        {
          "output_type": "stream",
          "name": "stdout",
          "text": [
            "Downloaded 2002FemResp.dct\n",
            "Downloaded 2002FemResp.dat.gz\n"
          ]
        }
      ]
    },
    {
      "cell_type": "code",
      "source": [
        "resp = nsfg.ReadFemResp()"
      ],
      "metadata": {
        "id": "t8I9TZ8sgR_h"
      },
      "execution_count": null,
      "outputs": []
    },
    {
      "cell_type": "markdown",
      "source": [
        "Make a histogram of totincr the total income for the respondent's family"
      ],
      "metadata": {
        "id": "TXyyfR4Igeaq"
      }
    },
    {
      "cell_type": "code",
      "source": [
        "# Solution\n",
        "\n",
        "hist = thinkstats2.Hist(resp.totincr)\n",
        "thinkplot.Hist(hist, label='totincr')\n",
        "thinkplot.Config(xlabel='income (category)', ylabel='Count')"
      ],
      "metadata": {
        "id": "DcsWg-8ngfT6",
        "outputId": "d66519d0-41b8-4a87-beb7-70f395927e4a",
        "colab": {
          "base_uri": "https://localhost:8080/",
          "height": 280
        }
      },
      "execution_count": null,
      "outputs": [
        {
          "output_type": "display_data",
          "data": {
            "text/plain": [
              "<Figure size 432x288 with 1 Axes>"
            ],
            "image/png": "[encoded data removed]"
          },
          "metadata": {
            "needs_background": "light"
          }
        }
      ]
    },
    {
      "cell_type": "markdown",
      "source": [
        "Make a histogram of age_r, the respondent's age at the time of interview."
      ],
      "metadata": {
        "id": "e_DZo4FhgmFd"
      }
    },
    {
      "cell_type": "code",
      "source": [
        "# Solution\n",
        "\n",
        "hist = thinkstats2.Hist(resp.ager)\n",
        "thinkplot.Hist(hist, label='ager')\n",
        "thinkplot.Config(xlabel='age (years)', ylabel='Count')"
      ],
      "metadata": {
        "id": "ix0UN28zgnMH",
        "outputId": "1afb2fb8-c32c-4db7-b4cb-58792e4ab876",
        "colab": {
          "base_uri": "https://localhost:8080/",
          "height": 279
        }
      },
      "execution_count": null,
      "outputs": [
        {
          "output_type": "display_data",
          "data": {
            "text/plain": [
              "<Figure size 432x288 with 1 Axes>"
            ],
            "image/png": "[encoded data removed]"
          },
          "metadata": {
            "needs_background": "light"
          }
        }
      ]
    },
    {
      "cell_type": "markdown",
      "source": [
        "Make a histogram of numfmhh, the number of people in the respondent's household."
      ],
      "metadata": {
        "id": "qTU_lMEigsJX"
      }
    },
    {
      "cell_type": "code",
      "source": [
        "# Solution\n",
        "\n",
        "hist = thinkstats2.Hist(resp.numfmhh)\n",
        "thinkplot.Hist(hist, label='numfmhh')\n",
        "thinkplot.Config(xlabel='number of people', ylabel='Count')\n"
      ],
      "metadata": {
        "id": "_hD1JsvTgsls",
        "outputId": "80515193-7db2-4c6e-93bb-d76bbf343708",
        "colab": {
          "base_uri": "https://localhost:8080/",
          "height": 279
        }
      },
      "execution_count": null,
      "outputs": [
        {
          "output_type": "display_data",
          "data": {
            "text/plain": [
              "<Figure size 432x288 with 1 Axes>"
            ],
            "image/png": "[encoded data removed]"
          },
          "metadata": {
            "needs_background": "light"
          }
        }
      ]
    },
    {
      "cell_type": "markdown",
      "source": [
        "Make a histogram of parity, the number of children borne by the respondent"
      ],
      "metadata": {
        "id": "FmPAeL2zg0Ll"
      }
    },
    {
      "cell_type": "code",
      "source": [
        "# Solution\n",
        "\n",
        "# This distribution is positive-valued and skewed to the right.\n",
        "\n",
        "hist = thinkstats2.Hist(resp.parity)\n",
        "thinkplot.Hist(hist, label='parity')\n",
        "thinkplot.Config(xlabel='parity', ylabel='Count')"
      ],
      "metadata": {
        "id": "rI57dNHrgZGw",
        "outputId": "108cf28f-fb1b-4f07-afcf-96805abde438",
        "colab": {
          "base_uri": "https://localhost:8080/",
          "height": 279
        }
      },
      "execution_count": null,
      "outputs": [
        {
          "output_type": "display_data",
          "data": {
            "text/plain": [
              "<Figure size 432x288 with 1 Axes>"
            ],
            "image/png": "[encoded data removed]"
          },
          "metadata": {
            "needs_background": "light"
          }
        }
      ]
    },
    {
      "cell_type": "markdown",
      "source": [
        "Use Hist.Largest to find the largest values of parity."
      ],
      "metadata": {
        "id": "WW7onSikhAto"
      }
    },
    {
      "cell_type": "code",
      "source": [
        "# Solution\n",
        "\n",
        "hist.Largest(10)"
      ],
      "metadata": {
        "id": "SC37b3DihBLA",
        "outputId": "e1053aee-86b8-496b-e194-2d26977df9e2",
        "colab": {
          "base_uri": "https://localhost:8080/"
        }
      },
      "execution_count": null,
      "outputs": [
        {
          "output_type": "execute_result",
          "data": {
            "text/plain": [
              "[(22, 1),\n",
              " (16, 1),\n",
              " (10, 3),\n",
              " (9, 2),\n",
              " (8, 8),\n",
              " (7, 15),\n",
              " (6, 29),\n",
              " (5, 95),\n",
              " (4, 309),\n",
              " (3, 828)]"
            ]
          },
          "metadata": {},
          "execution_count": 40
        }
      ]
    },
    {
      "cell_type": "markdown",
      "source": [
        "Let's investigate whether people with higher income have higher parity. Keep in mind that in this study, we are observing different people at different times during their lives, so this data is not the best choice for answering this question. But for now let's take it at face value."
      ],
      "metadata": {
        "id": "4szaX5tROL-q"
      }
    },
    {
      "cell_type": "markdown",
      "source": [
        "Use totincr to select the respondents with the highest income (level 14). Plot the histogram of parity for just the high income respondents."
      ],
      "metadata": {
        "id": "5CTx-50Lh5RG"
      }
    },
    {
      "cell_type": "code",
      "source": [
        "# Solution\n",
        "\n",
        "rich = resp[resp.totincr == 14]\n",
        "hist = thinkstats2.Hist(rich.parity)\n",
        "thinkplot.Hist(hist, label='parity')\n",
        "thinkplot.Config(xlabel='parity', ylabel='Count')\n"
      ],
      "metadata": {
        "id": "xV7_eVxeh5wp",
        "outputId": "ad2d1742-48b5-4b86-a1d7-c42b977efe92",
        "colab": {
          "base_uri": "https://localhost:8080/",
          "height": 279
        }
      },
      "execution_count": null,
      "outputs": [
        {
          "output_type": "display_data",
          "data": {
            "text/plain": [
              "<Figure size 432x288 with 1 Axes>"
            ],
            "image/png": "[encoded data removed]"
          },
          "metadata": {
            "needs_background": "light"
          }
        }
      ]
    },
    {
      "cell_type": "markdown",
      "source": [
        "Find the largest parities for high income respondents."
      ],
      "metadata": {
        "id": "fN2y3ouoiEKW"
      }
    },
    {
      "cell_type": "code",
      "source": [
        "\n",
        "\n",
        "# Solution\n",
        "\n",
        "hist.Largest(10)"
      ],
      "metadata": {
        "id": "9hAe_SbWiEne",
        "outputId": "62a0ae5e-75da-4629-ad32-b98dc3cc3f13",
        "colab": {
          "base_uri": "https://localhost:8080/"
        }
      },
      "execution_count": null,
      "outputs": [
        {
          "output_type": "execute_result",
          "data": {
            "text/plain": [
              "[(8, 1), (7, 1), (5, 5), (4, 19), (3, 123), (2, 267), (1, 229), (0, 515)]"
            ]
          },
          "metadata": {},
          "execution_count": 43
        }
      ]
    },
    {
      "cell_type": "markdown",
      "source": [
        "Compare the mean parity for high income respondents and others."
      ],
      "metadata": {
        "id": "f-MbV-VliL-z"
      }
    },
    {
      "cell_type": "code",
      "source": [
        "# Solution\n",
        "\n",
        "not_rich = resp[resp.totincr < 14]\n",
        "rich.parity.mean(), not_rich.parity.mean()"
      ],
      "metadata": {
        "id": "UvKiR9LViMc6",
        "outputId": "f865a37e-1a90-4a39-9acd-7f8e46c829c9",
        "colab": {
          "base_uri": "https://localhost:8080/"
        }
      },
      "execution_count": null,
      "outputs": [
        {
          "output_type": "execute_result",
          "data": {
            "text/plain": [
              "(1.0758620689655172, 1.2495758136665125)"
            ]
          },
          "metadata": {},
          "execution_count": 44
        }
      ]
    },
    {
      "cell_type": "code",
      "source": [
        "# Solution\n",
        "\n",
        "# This effect is about 10 times stronger than the difference in pregnancy length.\n",
        "# But remembering the design of the study, we should not make too much of this\n",
        "# apparent effect.\n",
        "\n",
        "CohenEffectSize(rich.parity, not_rich.parity)\n"
      ],
      "metadata": {
        "id": "EhaKYkuih7TS",
        "outputId": "f722f11c-27b4-47be-9d12-7ff7e8b619f8",
        "colab": {
          "base_uri": "https://localhost:8080/"
        }
      },
      "execution_count": null,
      "outputs": [
        {
          "output_type": "execute_result",
          "data": {
            "text/plain": [
              "-0.12511855314660367"
            ]
          },
          "metadata": {},
          "execution_count": 45
        }
      ]
    },
    {
      "cell_type": "code",
      "source": [],
      "metadata": {
        "id": "jbjA4wtIiQ9h"
      },
      "execution_count": null,
      "outputs": []
    }
  ]
}