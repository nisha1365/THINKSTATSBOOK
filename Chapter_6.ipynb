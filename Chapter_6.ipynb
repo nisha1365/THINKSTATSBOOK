{
  "nbformat": 4,
  "nbformat_minor": 0,
  "metadata": {
    "colab": {
      "provenance": [],
      "authorship_tag": "ABX9TyMJAW9unGf10b0JV9C88zZN",
      "include_colab_link": true
    },
    "kernelspec": {
      "name": "python3",
      "display_name": "Python 3"
    },
    "language_info": {
      "name": "python"
    }
  },
  "cells": [
    {
      "cell_type": "markdown",
      "metadata": {
        "id": "view-in-github",
        "colab_type": "text"
      },
      "source": [
        "<a href=\"https://colab.research.google.com/github/nisha1365/THINKSTATSBOOK/blob/main/Chapter_6.ipynb\" target=\"_parent\"><img src=\"https://colab.research.google.com/assets/colab-badge.svg\" alt=\"Open In Colab\"/></a>"
      ]
    },
    {
      "cell_type": "code",
      "execution_count": 1,
      "metadata": {
        "colab": {
          "base_uri": "https://localhost:8080/"
        },
        "id": "U1UQdaCiMjUZ",
        "outputId": "1fd9269d-18f6-4e73-8872-858a1c77ccb3"
      },
      "outputs": [
        {
          "output_type": "stream",
          "name": "stdout",
          "text": [
            "Downloaded thinkstats2.py\n",
            "Downloaded thinkplot.py\n"
          ]
        }
      ],
      "source": [
        "from os.path import basename, exists\n",
        "\n",
        "\n",
        "def download(url):\n",
        "    filename = basename(url)\n",
        "    if not exists(filename):\n",
        "        from urllib.request import urlretrieve\n",
        "\n",
        "        local, _ = urlretrieve(url, filename)\n",
        "        print(\"Downloaded \" + local)\n",
        "\n",
        "\n",
        "download(\"https://github.com/AllenDowney/ThinkStats2/raw/master/code/thinkstats2.py\")\n",
        "download(\"https://github.com/AllenDowney/ThinkStats2/raw/master/code/thinkplot.py\")"
      ]
    },
    {
      "cell_type": "code",
      "source": [
        "import numpy as np\n",
        "\n",
        "import thinkstats2\n",
        "import thinkplot"
      ],
      "metadata": {
        "id": "BjOW0D7FMqOc"
      },
      "execution_count": 2,
      "outputs": []
    },
    {
      "cell_type": "markdown",
      "source": [
        " data from the BRFSS"
      ],
      "metadata": {
        "id": "i2OH0qU2Mtde"
      }
    },
    {
      "cell_type": "code",
      "source": [
        "download(\"https://github.com/AllenDowney/ThinkStats2/raw/master/code/brfss.py\")\n",
        "download(\"https://github.com/AllenDowney/ThinkStats2/raw/master/code/CDBRFS08.ASC.gz\")"
      ],
      "metadata": {
        "colab": {
          "base_uri": "https://localhost:8080/"
        },
        "id": "8hfrVo_UMt-T",
        "outputId": "63e5d007-68ce-4327-b73e-fddc1460c767"
      },
      "execution_count": 3,
      "outputs": [
        {
          "output_type": "stream",
          "name": "stdout",
          "text": [
            "Downloaded brfss.py\n",
            "Downloaded CDBRFS08.ASC.gz\n"
          ]
        }
      ]
    },
    {
      "cell_type": "code",
      "source": [
        "import brfss\n",
        "\n",
        "df = brfss.ReadBrfss(nrows=None)"
      ],
      "metadata": {
        "id": "cI9cwMd5MyV4"
      },
      "execution_count": 4,
      "outputs": []
    },
    {
      "cell_type": "markdown",
      "source": [
        "Here are the mean and standard deviation of female height in cm."
      ],
      "metadata": {
        "id": "KMOKVqFvM3Gc"
      }
    },
    {
      "cell_type": "code",
      "source": [
        "female = df[df.sex==2]\n",
        "female_heights = female.htm3.dropna()\n",
        "mean, std = female_heights.mean(), female_heights.std()\n",
        "mean, std"
      ],
      "metadata": {
        "colab": {
          "base_uri": "https://localhost:8080/"
        },
        "id": "O4wqXOIKM3l8",
        "outputId": "0fc31bbb-0abd-4a44-d5bb-590dd9a81480"
      },
      "execution_count": 5,
      "outputs": [
        {
          "output_type": "execute_result",
          "data": {
            "text/plain": [
              "(163.22347500412215, 7.269156286642232)"
            ]
          },
          "metadata": {},
          "execution_count": 5
        }
      ]
    },
    {
      "cell_type": "markdown",
      "source": [
        "NormalPdf returns a Pdf object that represents the normal distribution with the given parameters.\n",
        "\n",
        "Density returns a probability density, which doesn't mean much by itself."
      ],
      "metadata": {
        "id": "V63q1Lk2NFEF"
      }
    },
    {
      "cell_type": "code",
      "source": [
        "pdf = thinkstats2.NormalPdf(mean, std)\n",
        "pdf.Density(mean + std)"
      ],
      "metadata": {
        "colab": {
          "base_uri": "https://localhost:8080/"
        },
        "id": "PV4ypfEcNFgs",
        "outputId": "68e0d3d2-6475-429b-d6e2-a56b3db72bc7"
      },
      "execution_count": 6,
      "outputs": [
        {
          "output_type": "execute_result",
          "data": {
            "text/plain": [
              "0.033287319047437085"
            ]
          },
          "metadata": {},
          "execution_count": 6
        }
      ]
    },
    {
      "cell_type": "markdown",
      "source": [
        "thinkplot provides Pdf, which plots the probability density with a smooth curve."
      ],
      "metadata": {
        "id": "AqBCM6JGNKKo"
      }
    },
    {
      "cell_type": "code",
      "source": [
        "thinkplot.Pdf(pdf, label='normal')\n",
        "thinkplot.Config(xlabel='x', ylabel='PDF', xlim=[140, 186])"
      ],
      "metadata": {
        "colab": {
          "base_uri": "https://localhost:8080/",
          "height": 279
        },
        "id": "SUhKk7IZNKrW",
        "outputId": "e7a6498e-f469-4a37-8781-ef614d6af681"
      },
      "execution_count": 7,
      "outputs": [
        {
          "output_type": "display_data",
          "data": {
            "text/plain": [
              "<Figure size 432x288 with 1 Axes>"
            ],
            "image/png": "[encoded data removed]"
          },
          "metadata": {
            "needs_background": "light"
          }
        }
      ]
    },
    {
      "cell_type": "markdown",
      "source": [
        "Pdf provides MakePmf, which returns a Pmf object that approximates the Pdf."
      ],
      "metadata": {
        "id": "OjjZbBJ9NQm-"
      }
    },
    {
      "cell_type": "code",
      "source": [
        "pmf = pdf.MakePmf()\n",
        "thinkplot.Pmf(pmf, label='normal')\n",
        "thinkplot.Config(xlabel='x', ylabel='PDF', xlim=[140, 186])"
      ],
      "metadata": {
        "colab": {
          "base_uri": "https://localhost:8080/",
          "height": 282
        },
        "id": "NwDgoDJkNRFw",
        "outputId": "5fb8a9e3-4a46-46c5-8338-2256cc771be0"
      },
      "execution_count": 8,
      "outputs": [
        {
          "output_type": "display_data",
          "data": {
            "text/plain": [
              "<Figure size 432x288 with 1 Axes>"
            ],
            "image/png": "[encoded data removed]"
          },
          "metadata": {
            "needs_background": "light"
          }
        }
      ]
    },
    {
      "cell_type": "markdown",
      "source": [
        "If you have a Pmf, you can also plot it using Pdf, if you have reason to think it should be represented as a smooth curve."
      ],
      "metadata": {
        "id": "A9kM7FVBNdWC"
      }
    },
    {
      "cell_type": "code",
      "source": [
        "thinkplot.Pdf(pmf, label='normal')\n",
        "thinkplot.Config(xlabel='x', ylabel='PDF', xlim=[140, 186])"
      ],
      "metadata": {
        "colab": {
          "base_uri": "https://localhost:8080/",
          "height": 282
        },
        "id": "ijl9TZgzNdwx",
        "outputId": "5d8ffab6-53a4-44f7-bfdb-58acc0f6a2a2"
      },
      "execution_count": 9,
      "outputs": [
        {
          "output_type": "display_data",
          "data": {
            "text/plain": [
              "<Figure size 432x288 with 1 Axes>"
            ],
            "image/png": "[encoded data removed]"
          },
          "metadata": {
            "needs_background": "light"
          }
        }
      ]
    },
    {
      "cell_type": "markdown",
      "source": [
        "Using a sample from the actual distribution, we can estimate the PDF using Kernel Density Estimation (KDE).\n",
        "\n",
        "If you run this a few times, you'll see how much variation there is in the estimate."
      ],
      "metadata": {
        "id": "C-b8p00pNkVP"
      }
    },
    {
      "cell_type": "code",
      "source": [
        "thinkplot.Pdf(pdf, label='normal')\n",
        "\n",
        "sample = np.random.normal(mean, std, 500)\n",
        "sample_pdf = thinkstats2.EstimatedPdf(sample, label='sample')\n",
        "thinkplot.Pdf(sample_pdf, label='sample KDE')\n",
        "thinkplot.Config(xlabel='x', ylabel='PDF', xlim=[140, 186])"
      ],
      "metadata": {
        "colab": {
          "base_uri": "https://localhost:8080/",
          "height": 279
        },
        "id": "neLl5nXWNkuo",
        "outputId": "fdc4b6f3-ce3e-490b-bcee-c50aa7558025"
      },
      "execution_count": 10,
      "outputs": [
        {
          "output_type": "display_data",
          "data": {
            "text/plain": [
              "<Figure size 432x288 with 1 Axes>"
            ],
            "image/png": "[encoded data removed]"
          },
          "metadata": {
            "needs_background": "light"
          }
        }
      ]
    },
    {
      "cell_type": "markdown",
      "source": [
        "Moments\n",
        "Raw moments are just sums of powers."
      ],
      "metadata": {
        "id": "DSo3r2qMN-z2"
      }
    },
    {
      "cell_type": "code",
      "source": [
        "def RawMoment(xs, k):\n",
        "    return sum(x**k for x in xs) / len(xs)"
      ],
      "metadata": {
        "id": "1RmWWPfoOAQk"
      },
      "execution_count": 11,
      "outputs": []
    },
    {
      "cell_type": "markdown",
      "source": [
        "The first raw moment is the mean. The other raw moments don't mean much."
      ],
      "metadata": {
        "id": "xZxH_2xeOC86"
      }
    },
    {
      "cell_type": "code",
      "source": [
        "RawMoment(female_heights, 1), RawMoment(female_heights, 2), RawMoment(female_heights, 3)"
      ],
      "metadata": {
        "colab": {
          "base_uri": "https://localhost:8080/"
        },
        "id": "BIckV6jQODW9",
        "outputId": "144230d7-b4ac-4395-e348-93ed07b3bb90"
      },
      "execution_count": 12,
      "outputs": [
        {
          "output_type": "execute_result",
          "data": {
            "text/plain": [
              "(163.22347500412215, 26694.74321809659, 4374411.46250422)"
            ]
          },
          "metadata": {},
          "execution_count": 12
        }
      ]
    },
    {
      "cell_type": "code",
      "source": [
        "def Mean(xs):\n",
        "    return RawMoment(xs, 1)\n",
        "\n",
        "Mean(female_heights)"
      ],
      "metadata": {
        "colab": {
          "base_uri": "https://localhost:8080/"
        },
        "id": "HaN9i281OawT",
        "outputId": "a01c9deb-df24-439a-b78c-a95398740a54"
      },
      "execution_count": 13,
      "outputs": [
        {
          "output_type": "execute_result",
          "data": {
            "text/plain": [
              "163.22347500412215"
            ]
          },
          "metadata": {},
          "execution_count": 13
        }
      ]
    },
    {
      "cell_type": "markdown",
      "source": [
        "The central moments are powers of distances from the mean."
      ],
      "metadata": {
        "id": "uTJIsKaeOdZg"
      }
    },
    {
      "cell_type": "code",
      "source": [
        "def CentralMoment(xs, k):\n",
        "    mean = RawMoment(xs, 1)\n",
        "    return sum((x - mean)**k for x in xs) / len(xs)"
      ],
      "metadata": {
        "id": "SldGGIJUOd2t"
      },
      "execution_count": 14,
      "outputs": []
    },
    {
      "cell_type": "markdown",
      "source": [
        "The first central moment is approximately 0. The second central moment is the variance."
      ],
      "metadata": {
        "id": "5w9aCfshOiI4"
      }
    },
    {
      "cell_type": "code",
      "source": [
        "CentralMoment(female_heights, 1), CentralMoment(female_heights, 2), CentralMoment(female_heights, 3)"
      ],
      "metadata": {
        "colab": {
          "base_uri": "https://localhost:8080/"
        },
        "id": "C2HStHOAOjEu",
        "outputId": "70d91f81-dd85-4456-b260-5970e5bfba8d"
      },
      "execution_count": 15,
      "outputs": [
        {
          "output_type": "execute_result",
          "data": {
            "text/plain": [
              "(-9.903557940122168e-14, 52.84042567529328, -46.88569506887073)"
            ]
          },
          "metadata": {},
          "execution_count": 15
        }
      ]
    },
    {
      "cell_type": "code",
      "source": [
        "def Var(xs):\n",
        "    return CentralMoment(xs, 2)\n",
        "\n",
        "Var(female_heights)"
      ],
      "metadata": {
        "colab": {
          "base_uri": "https://localhost:8080/"
        },
        "id": "O_K0cevOOndE",
        "outputId": "bf362360-e7b3-41ae-ecb5-b700f0c020de"
      },
      "execution_count": 17,
      "outputs": [
        {
          "output_type": "execute_result",
          "data": {
            "text/plain": [
              "52.84042567529328"
            ]
          },
          "metadata": {},
          "execution_count": 17
        }
      ]
    },
    {
      "cell_type": "markdown",
      "source": [
        "The standardized moments are ratios of central moments, with powers chosen to make the dimensions cancel."
      ],
      "metadata": {
        "id": "tcV4bzYUO6ok"
      }
    },
    {
      "cell_type": "code",
      "source": [
        "def StandardizedMoment(xs, k):\n",
        "    var = CentralMoment(xs, 2)\n",
        "    std = np.sqrt(var)\n",
        "    return CentralMoment(xs, k) / std**k"
      ],
      "metadata": {
        "id": "iIEOXSSTO-vm"
      },
      "execution_count": 18,
      "outputs": []
    },
    {
      "cell_type": "markdown",
      "source": [
        "The third standardized moment is skewness."
      ],
      "metadata": {
        "id": "ZRzfSiYoPA7n"
      }
    },
    {
      "cell_type": "code",
      "source": [
        "StandardizedMoment(female_heights, 1), StandardizedMoment(female_heights, 2), StandardizedMoment(female_heights, 3)"
      ],
      "metadata": {
        "colab": {
          "base_uri": "https://localhost:8080/"
        },
        "id": "WTAvbM3TPBWs",
        "outputId": "63a0b7ad-9b4a-4742-b4f2-5e14abeef520"
      },
      "execution_count": 19,
      "outputs": [
        {
          "output_type": "execute_result",
          "data": {
            "text/plain": [
              "(-1.3624108479155668e-14, 1.0, -0.1220649274510512)"
            ]
          },
          "metadata": {},
          "execution_count": 19
        }
      ]
    },
    {
      "cell_type": "code",
      "source": [
        "def Skewness(xs):\n",
        "    return StandardizedMoment(xs, 3)\n",
        "\n",
        "Skewness(female_heights)"
      ],
      "metadata": {
        "colab": {
          "base_uri": "https://localhost:8080/"
        },
        "id": "RDVk9qjHPE54",
        "outputId": "53660676-e9d5-4687-e32c-1bbfe6369d69"
      },
      "execution_count": 20,
      "outputs": [
        {
          "output_type": "execute_result",
          "data": {
            "text/plain": [
              "-0.1220649274510512"
            ]
          },
          "metadata": {},
          "execution_count": 20
        }
      ]
    },
    {
      "cell_type": "markdown",
      "source": [
        "Normally a negative skewness indicates that the distribution has a longer tail on the left. In that case, the mean is usually less than the median."
      ],
      "metadata": {
        "id": "kPs-AE8HPihk"
      }
    },
    {
      "cell_type": "code",
      "source": [
        "def Median(xs):\n",
        "    cdf = thinkstats2.Cdf(xs)\n",
        "    return cdf.Value(0.5)"
      ],
      "metadata": {
        "id": "vPalEJ9IPjBc"
      },
      "execution_count": 21,
      "outputs": []
    },
    {
      "cell_type": "markdown",
      "source": [
        "But in this case the mean is greater than the median, which indicates skew to the right."
      ],
      "metadata": {
        "id": "WbpabmQjPpl0"
      }
    },
    {
      "cell_type": "code",
      "source": [
        "Mean(female_heights), Median(female_heights)"
      ],
      "metadata": {
        "colab": {
          "base_uri": "https://localhost:8080/"
        },
        "id": "PfcAT3uaPqBb",
        "outputId": "00b92cb0-b00f-4c7c-d841-708a50aa679b"
      },
      "execution_count": 22,
      "outputs": [
        {
          "output_type": "execute_result",
          "data": {
            "text/plain": [
              "(163.22347500412215, 163.0)"
            ]
          },
          "metadata": {},
          "execution_count": 22
        }
      ]
    },
    {
      "cell_type": "markdown",
      "source": [
        "Because the skewness is based on the third moment, it is not robust; that is, it depends strongly on a few outliers. Pearson's median skewness is more robust."
      ],
      "metadata": {
        "id": "2lYSqSBbPw6Q"
      }
    },
    {
      "cell_type": "code",
      "source": [
        "def PearsonMedianSkewness(xs):\n",
        "    median = Median(xs)\n",
        "    mean = RawMoment(xs, 1)\n",
        "    var = CentralMoment(xs, 2)\n",
        "    std = np.sqrt(var)\n",
        "    gp = 3 * (mean - median) / std\n",
        "    return gp"
      ],
      "metadata": {
        "id": "aIJfqnXpPxZ9"
      },
      "execution_count": 23,
      "outputs": []
    },
    {
      "cell_type": "markdown",
      "source": [
        "Pearson's skewness is positive, indicating that the distribution of female heights is slightly skewed to the right."
      ],
      "metadata": {
        "id": "3BSZ2z9HP1IG"
      }
    },
    {
      "cell_type": "code",
      "source": [
        "PearsonMedianSkewness(female_heights)"
      ],
      "metadata": {
        "colab": {
          "base_uri": "https://localhost:8080/"
        },
        "id": "JOyuR2P2P2es",
        "outputId": "25390a52-2a45-44e6-fb19-c1f728d977ed"
      },
      "execution_count": 24,
      "outputs": [
        {
          "output_type": "execute_result",
          "data": {
            "text/plain": [
              "0.0922289055190516"
            ]
          },
          "metadata": {},
          "execution_count": 24
        }
      ]
    },
    {
      "cell_type": "markdown",
      "source": [
        "Birth weights\n",
        "Let's look at the distribution of birth weights again."
      ],
      "metadata": {
        "id": "HXWtTDT-P5T-"
      }
    },
    {
      "cell_type": "code",
      "source": [
        "download(\"https://github.com/AllenDowney/ThinkStats2/raw/master/code/nsfg.py\")\n",
        "download(\"https://github.com/AllenDowney/ThinkStats2/raw/master/code/first.py\")\n",
        "download(\"https://github.com/AllenDowney/ThinkStats2/raw/master/code/2002FemPreg.dct\")\n",
        "download(\n",
        "    \"https://github.com/AllenDowney/ThinkStats2/raw/master/code/2002FemPreg.dat.gz\"\n",
        ")"
      ],
      "metadata": {
        "colab": {
          "base_uri": "https://localhost:8080/"
        },
        "id": "JH0yeomnP5x3",
        "outputId": "b98953d2-4442-441a-df54-75323b9b9e9c"
      },
      "execution_count": 25,
      "outputs": [
        {
          "output_type": "stream",
          "name": "stdout",
          "text": [
            "Downloaded nsfg.py\n",
            "Downloaded first.py\n",
            "Downloaded 2002FemPreg.dct\n",
            "Downloaded 2002FemPreg.dat.gz\n"
          ]
        }
      ]
    },
    {
      "cell_type": "code",
      "source": [
        "import first\n",
        "\n",
        "live, firsts, others = first.MakeFrames()"
      ],
      "metadata": {
        "id": "e7aYa20FP80O"
      },
      "execution_count": 26,
      "outputs": []
    },
    {
      "cell_type": "markdown",
      "source": [
        "Based on KDE, it looks like the distribution is skewed to the left."
      ],
      "metadata": {
        "id": "uHastswlP_B1"
      }
    },
    {
      "cell_type": "code",
      "source": [
        "birth_weights = live.totalwgt_lb.dropna()\n",
        "pdf = thinkstats2.EstimatedPdf(birth_weights)\n",
        "thinkplot.Pdf(pdf, label='birth weight')\n",
        "thinkplot.Config(xlabel='Birth weight (pounds)', ylabel='PDF')"
      ],
      "metadata": {
        "colab": {
          "base_uri": "https://localhost:8080/",
          "height": 279
        },
        "id": "Ty5HiyNAP_bX",
        "outputId": "470124b8-7107-4a88-91f2-e89e413dadf7"
      },
      "execution_count": 27,
      "outputs": [
        {
          "output_type": "display_data",
          "data": {
            "text/plain": [
              "<Figure size 432x288 with 1 Axes>"
            ],
            "image/png": "[encoded data removed]"
          },
          "metadata": {
            "needs_background": "light"
          }
        }
      ]
    },
    {
      "cell_type": "markdown",
      "source": [
        "The mean is less than the median, which is consistent with left skew."
      ],
      "metadata": {
        "id": "a4cNaSLoQMfG"
      }
    },
    {
      "cell_type": "code",
      "source": [
        "Mean(birth_weights), Median(birth_weights)"
      ],
      "metadata": {
        "colab": {
          "base_uri": "https://localhost:8080/"
        },
        "id": "kcqL9jdpQOiw",
        "outputId": "b80ea814-b2f8-46ec-cdd6-df8e91663df2"
      },
      "execution_count": 28,
      "outputs": [
        {
          "output_type": "execute_result",
          "data": {
            "text/plain": [
              "(7.265628457623368, 7.375)"
            ]
          },
          "metadata": {},
          "execution_count": 28
        }
      ]
    },
    {
      "cell_type": "markdown",
      "source": [
        "And both ways of computing skew are negative, which is consistent with left skew."
      ],
      "metadata": {
        "id": "NlbqzSSBQTWo"
      }
    },
    {
      "cell_type": "code",
      "source": [
        "Skewness(birth_weights), PearsonMedianSkewness(birth_weights)"
      ],
      "metadata": {
        "colab": {
          "base_uri": "https://localhost:8080/"
        },
        "id": "a3jMMV0KQURt",
        "outputId": "cff98df0-178d-4993-ec75-2a13aa8f1228"
      },
      "execution_count": 29,
      "outputs": [
        {
          "output_type": "execute_result",
          "data": {
            "text/plain": [
              "(-0.5895062687577989, -0.23300028954731833)"
            ]
          },
          "metadata": {},
          "execution_count": 29
        }
      ]
    },
    {
      "cell_type": "markdown",
      "source": [
        "Adult weights\n",
        "\n",
        "\n",
        "Now let's look at adult weights from the BRFSS. The distribution looks skewed to the right."
      ],
      "metadata": {
        "id": "GJY9QJHEQYBw"
      }
    },
    {
      "cell_type": "code",
      "source": [
        "adult_weights = df.wtkg2.dropna()\n",
        "pdf = thinkstats2.EstimatedPdf(adult_weights)\n",
        "thinkplot.Pdf(pdf, label='Adult weight')\n",
        "thinkplot.Config(xlabel='Adult weight (kg)', ylabel='PDF')"
      ],
      "metadata": {
        "colab": {
          "base_uri": "https://localhost:8080/",
          "height": 279
        },
        "id": "yFHLGvE9QZdj",
        "outputId": "eecadfcd-c926-4512-a4ad-f77943a102d3"
      },
      "execution_count": 30,
      "outputs": [
        {
          "output_type": "display_data",
          "data": {
            "text/plain": [
              "<Figure size 432x288 with 1 Axes>"
            ],
            "image/png": "[encoded data removed]"
          },
          "metadata": {
            "needs_background": "light"
          }
        }
      ]
    },
    {
      "cell_type": "markdown",
      "source": [
        "The mean is greater than the median, which is consistent with skew to the right."
      ],
      "metadata": {
        "id": "tsDILPlWQe3k"
      }
    },
    {
      "cell_type": "code",
      "source": [
        "Mean(adult_weights), Median(adult_weights)"
      ],
      "metadata": {
        "colab": {
          "base_uri": "https://localhost:8080/"
        },
        "id": "1JtXaQx5QgyK",
        "outputId": "811fdae8-57e0-4ff3-f1b2-d58dcd771b1c"
      },
      "execution_count": 31,
      "outputs": [
        {
          "output_type": "execute_result",
          "data": {
            "text/plain": [
              "(78.99245299687198, 77.27)"
            ]
          },
          "metadata": {},
          "execution_count": 31
        }
      ]
    },
    {
      "cell_type": "markdown",
      "source": [
        "Exercises\n",
        "The distribution of income is famously skewed to the right. In this exercise, we’ll measure how strong that skew is. The Current Population Survey (CPS) is a joint effort of the Bureau of Labor Statistics and the Census Bureau to study income and related variables. Data collected in 2013 is available from http://www.census.gov/hhes/www/cpstables/032013/hhinc/toc.htm. I downloaded hinc06.xls, which is an Excel spreadsheet with information about household income, and converted it to hinc06.csv, a CSV file you will find in the repository for this book. You will also find hinc2.py, which reads this file and transforms the data.\n",
        "\n",
        "The dataset is in the form of a series of income ranges and the number of respondents who fell in each range. The lowest range includes respondents who reported annual household income “Under $5000.” The highest range includes respondents who made “$250,000 or more.”\n",
        "\n",
        "To estimate mean and other statistics from these data, we have to make some assumptions about the lower and upper bounds, and how the values are distributed in each range. hinc2.py provides InterpolateSample, which shows one way to model this data. It takes a DataFrame with a column, income, that contains the upper bound of each range, and freq, which contains the number of respondents in each frame.\n",
        "\n",
        "It also takes log_upper, which is an assumed upper bound on the highest range, expressed in log10 dollars. The default value, log_upper=6.0 represents the assumption that the largest income among the respondents is , or one million dollars.\n",
        "\n",
        "InterpolateSample generates a pseudo-sample; that is, a sample of household incomes that yields the same number of respondents in each range as the actual data. It assumes that incomes in each range are equally spaced on a log10 scale."
      ],
      "metadata": {
        "id": "o3lx2tTDQnzb"
      }
    },
    {
      "cell_type": "code",
      "source": [
        "def InterpolateSample(df, log_upper=6.0):\n",
        "    \"\"\"Makes a sample of log10 household income.\n",
        "\n",
        "    Assumes that log10 income is uniform in each range.\n",
        "\n",
        "    df: DataFrame with columns income and freq\n",
        "    log_upper: log10 of the assumed upper bound for the highest range\n",
        "\n",
        "    returns: NumPy array of log10 household income\n",
        "    \"\"\"\n",
        "    # compute the log10 of the upper bound for each range\n",
        "    df['log_upper'] = np.log10(df.income)\n",
        "\n",
        "    # get the lower bounds by shifting the upper bound and filling in\n",
        "    # the first element\n",
        "    df['log_lower'] = df.log_upper.shift(1)\n",
        "    df.loc[0, 'log_lower'] = 3.0\n",
        "\n",
        "    # plug in a value for the unknown upper bound of the highest range\n",
        "    df.loc[41, 'log_upper'] = log_upper\n",
        "    \n",
        "    # use the freq column to generate the right number of values in\n",
        "    # each range\n",
        "    arrays = []\n",
        "    for _, row in df.iterrows():\n",
        "        vals = np.linspace(row.log_lower, row.log_upper, int(row.freq))\n",
        "        arrays.append(vals)\n",
        "\n",
        "    # collect the arrays into a single sample\n",
        "    log_sample = np.concatenate(arrays)\n",
        "    return log_sample"
      ],
      "metadata": {
        "id": "etzCISbPQoau"
      },
      "execution_count": 32,
      "outputs": []
    },
    {
      "cell_type": "code",
      "source": [
        "download(\"https://github.com/AllenDowney/ThinkStats2/raw/master/code/hinc.py\")\n",
        "download(\"https://github.com/AllenDowney/ThinkStats2/raw/master/code/hinc06.csv\")"
      ],
      "metadata": {
        "colab": {
          "base_uri": "https://localhost:8080/"
        },
        "id": "Qc6td1jhQuXs",
        "outputId": "be05f499-51c1-43a4-c50f-b1ca0bcd0e4c"
      },
      "execution_count": 33,
      "outputs": [
        {
          "output_type": "stream",
          "name": "stdout",
          "text": [
            "Downloaded hinc.py\n",
            "Downloaded hinc06.csv\n"
          ]
        }
      ]
    },
    {
      "cell_type": "code",
      "source": [
        "import hinc\n",
        "income_df = hinc.ReadData()"
      ],
      "metadata": {
        "id": "ch9549tnQyXD"
      },
      "execution_count": 34,
      "outputs": []
    },
    {
      "cell_type": "code",
      "source": [
        "log_sample = InterpolateSample(income_df, log_upper=6.0)"
      ],
      "metadata": {
        "id": "r2EdooSnQ0MJ"
      },
      "execution_count": 35,
      "outputs": []
    },
    {
      "cell_type": "code",
      "source": [
        "log_cdf = thinkstats2.Cdf(log_sample)\n",
        "thinkplot.Cdf(log_cdf)\n",
        "thinkplot.Config(xlabel='Household income (log $)',\n",
        "               ylabel='CDF')"
      ],
      "metadata": {
        "colab": {
          "base_uri": "https://localhost:8080/",
          "height": 279
        },
        "id": "d7q95wA0Q2DH",
        "outputId": "91fa236d-24b4-4904-b886-562a4fba383b"
      },
      "execution_count": 36,
      "outputs": [
        {
          "output_type": "display_data",
          "data": {
            "text/plain": [
              "<Figure size 432x288 with 1 Axes>"
            ],
            "image/png": "[encoded data removed]"
          },
          "metadata": {
            "needs_background": "light"
          }
        }
      ]
    },
    {
      "cell_type": "code",
      "source": [
        "sample = np.power(10, log_sample)"
      ],
      "metadata": {
        "id": "WQ898JHUQ4Ob"
      },
      "execution_count": 37,
      "outputs": []
    },
    {
      "cell_type": "code",
      "source": [
        "cdf = thinkstats2.Cdf(sample)\n",
        "thinkplot.Cdf(cdf)\n",
        "thinkplot.Config(xlabel='Household income ($)',\n",
        "               ylabel='CDF')"
      ],
      "metadata": {
        "colab": {
          "base_uri": "https://localhost:8080/",
          "height": 279
        },
        "id": "UfnjtxbiQ6Ut",
        "outputId": "57669a33-c925-4ea5-a638-a7a717678a1b"
      },
      "execution_count": 38,
      "outputs": [
        {
          "output_type": "display_data",
          "data": {
            "text/plain": [
              "<Figure size 432x288 with 1 Axes>"
            ],
            "image/png": "[encoded data removed]"
          },
          "metadata": {
            "needs_background": "light"
          }
        }
      ]
    },
    {
      "cell_type": "markdown",
      "source": [
        "Compute the median, mean, skewness and Pearson’s skewness of the resulting sample. What fraction of households report a taxable income below the mean? How do the results depend on the assumed upper bound?"
      ],
      "metadata": {
        "id": "drfmv9zaQ8i4"
      }
    },
    {
      "cell_type": "code",
      "source": [
        "# Solution\n",
        "\n",
        "Mean(sample), Median(sample)"
      ],
      "metadata": {
        "colab": {
          "base_uri": "https://localhost:8080/"
        },
        "id": "l89hwxu_Q87F",
        "outputId": "306fa173-2586-4d49-ffd3-6e92ccde196b"
      },
      "execution_count": 39,
      "outputs": [
        {
          "output_type": "execute_result",
          "data": {
            "text/plain": [
              "(74278.70753118739, 51226.45447894046)"
            ]
          },
          "metadata": {},
          "execution_count": 39
        }
      ]
    },
    {
      "cell_type": "code",
      "source": [
        "# Solution\n",
        "\n",
        "Skewness(sample), PearsonMedianSkewness(sample)"
      ],
      "metadata": {
        "colab": {
          "base_uri": "https://localhost:8080/"
        },
        "id": "Q5EhNAzMRAts",
        "outputId": "c0e5b921-dc0f-444b-9614-0a7940a8ae3f"
      },
      "execution_count": 40,
      "outputs": [
        {
          "output_type": "execute_result",
          "data": {
            "text/plain": [
              "(4.949920244429579, 0.7361258019141795)"
            ]
          },
          "metadata": {},
          "execution_count": 40
        }
      ]
    },
    {
      "cell_type": "code",
      "source": [
        "# Solution\n",
        "\n",
        "# About 66% of the population makes less than the mean\n",
        "\n",
        "cdf.Prob(Mean(sample))"
      ],
      "metadata": {
        "colab": {
          "base_uri": "https://localhost:8080/"
        },
        "id": "g6MumuXvRC-1",
        "outputId": "0cae86c9-eebc-44b9-8fb1-c1ec1afac3a8"
      },
      "execution_count": 41,
      "outputs": [
        {
          "output_type": "execute_result",
          "data": {
            "text/plain": [
              "0.660005879566872"
            ]
          },
          "metadata": {},
          "execution_count": 41
        }
      ]
    }
  ]
}