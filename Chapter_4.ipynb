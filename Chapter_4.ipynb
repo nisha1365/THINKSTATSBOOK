{
  "nbformat": 4,
  "nbformat_minor": 0,
  "metadata": {
    "colab": {
      "provenance": [],
      "authorship_tag": "ABX9TyO/asm5CvL2DmLuL0mdMUmZ",
      "include_colab_link": true
    },
    "kernelspec": {
      "name": "python3",
      "display_name": "Python 3"
    },
    "language_info": {
      "name": "python"
    }
  },
  "cells": [
    {
      "cell_type": "markdown",
      "metadata": {
        "id": "view-in-github",
        "colab_type": "text"
      },
      "source": [
        "<a href=\"https://colab.research.google.com/github/nisha1365/THINKSTATSBOOK/blob/main/Chapter_4.ipynb\" target=\"_parent\"><img src=\"https://colab.research.google.com/assets/colab-badge.svg\" alt=\"Open In Colab\"/></a>"
      ]
    },
    {
      "cell_type": "code",
      "source": [
        "import numpy as np"
      ],
      "metadata": {
        "id": "AJLuzfUUgQfq"
      },
      "execution_count": 1,
      "outputs": []
    },
    {
      "cell_type": "code",
      "source": [
        "from os.path import basename, exists\n",
        "\n",
        "\n",
        "def download(url):\n",
        "    filename = basename(url)\n",
        "    if not exists(filename):\n",
        "        from urllib.request import urlretrieve\n",
        "\n",
        "        local, _ = urlretrieve(url, filename)\n",
        "        print(\"Downloaded \" + local)\n",
        "\n",
        "\n",
        "download(\"https://github.com/AllenDowney/ThinkStats2/raw/master/code/thinkstats2.py\")\n",
        "download(\"https://github.com/AllenDowney/ThinkStats2/raw/master/code/thinkplot.py\")\n",
        "download(\"https://github.com/AllenDowney/ThinkStats2/raw/master/code/nsfg.py\")\n",
        "download(\"https://github.com/AllenDowney/ThinkStats2/raw/master/code/first.py\")\n",
        "\n",
        "\n",
        "download(\"https://github.com/AllenDowney/ThinkStats2/raw/master/code/2002FemPreg.dct\")\n",
        "download(\n",
        "    \"https://github.com/AllenDowney/ThinkStats2/raw/master/code/2002FemPreg.dat.gz\"\n",
        ")"
      ],
      "metadata": {
        "colab": {
          "base_uri": "https://localhost:8080/"
        },
        "id": "qK9FswYHgRCY",
        "outputId": "70e040d0-a897-48f5-a50e-99681df83eb7"
      },
      "execution_count": 2,
      "outputs": [
        {
          "output_type": "stream",
          "name": "stdout",
          "text": [
            "Downloaded thinkstats2.py\n",
            "Downloaded thinkplot.py\n",
            "Downloaded nsfg.py\n",
            "Downloaded first.py\n",
            "Downloaded 2002FemPreg.dct\n",
            "Downloaded 2002FemPreg.dat.gz\n"
          ]
        }
      ]
    },
    {
      "cell_type": "code",
      "source": [
        "import thinkstats2\n",
        "import thinkplot"
      ],
      "metadata": {
        "id": "-WUX6oi-gYNx"
      },
      "execution_count": 3,
      "outputs": []
    },
    {
      "cell_type": "markdown",
      "source": [
        "I'll load the data from the NSFG."
      ],
      "metadata": {
        "id": "s5WgdcvygbX4"
      }
    },
    {
      "cell_type": "code",
      "source": [
        "import first\n",
        "\n",
        "live, firsts, others = first.MakeFrames()"
      ],
      "metadata": {
        "id": "oD_1iqFigdup"
      },
      "execution_count": 4,
      "outputs": []
    },
    {
      "cell_type": "markdown",
      "source": [
        "And compute the distribution of birth weight for first babies and others."
      ],
      "metadata": {
        "id": "m2wH7xY1gkE1"
      }
    },
    {
      "cell_type": "code",
      "source": [
        "first_wgt = firsts.totalwgt_lb\n",
        "first_wgt_dropna = first_wgt.dropna()\n",
        "print('Firsts', len(first_wgt), len(first_wgt_dropna))\n",
        " \n",
        "other_wgt = others.totalwgt_lb\n",
        "other_wgt_dropna = other_wgt.dropna()\n",
        "print('Others', len(other_wgt), len(other_wgt_dropna))\n",
        "\n",
        "first_pmf = thinkstats2.Pmf(first_wgt_dropna, label='first')\n",
        "other_pmf = thinkstats2.Pmf(other_wgt_dropna, label='other')"
      ],
      "metadata": {
        "colab": {
          "base_uri": "https://localhost:8080/"
        },
        "id": "xHDhtBGHglD0",
        "outputId": "2942ddc1-1dca-4326-bec3-16111dc64c48"
      },
      "execution_count": 5,
      "outputs": [
        {
          "output_type": "stream",
          "name": "stdout",
          "text": [
            "Firsts 4413 4363\n",
            "Others 4735 4675\n"
          ]
        }
      ]
    },
    {
      "cell_type": "markdown",
      "source": [
        "We can plot the PMFs on the same scale, but it is hard to see if there is a difference."
      ],
      "metadata": {
        "id": "urpji_rRgvkL"
      }
    },
    {
      "cell_type": "code",
      "source": [
        "width = 0.4 / 16\n",
        "\n",
        "# plot PMFs of birth weights for first babies and others\n",
        "thinkplot.PrePlot(2)\n",
        "thinkplot.Hist(first_pmf, align='right', width=width)\n",
        "thinkplot.Hist(other_pmf, align='left', width=width)\n",
        "thinkplot.Config(xlabel='Weight (pounds)', ylabel='PMF')"
      ],
      "metadata": {
        "colab": {
          "base_uri": "https://localhost:8080/",
          "height": 279
        },
        "id": "BZO6sM3zg-Bt",
        "outputId": "cb81690a-6d70-4718-ba16-6536e315d5a5"
      },
      "execution_count": 6,
      "outputs": [
        {
          "output_type": "display_data",
          "data": {
            "text/plain": [
              "<Figure size 432x288 with 1 Axes>"
            ],
            "image/png": "[encoded data removed]"
          },
          "metadata": {
            "needs_background": "light"
          }
        }
      ]
    },
    {
      "cell_type": "markdown",
      "source": [
        "PercentileRank computes the fraction of scores less than or equal to your_score."
      ],
      "metadata": {
        "id": "63y8-6MJhL4r"
      }
    },
    {
      "cell_type": "code",
      "source": [
        "def PercentileRank(scores, your_score):\n",
        "    count = 0\n",
        "    for score in scores:\n",
        "        if score <= your_score:\n",
        "            count += 1\n",
        "\n",
        "    percentile_rank = 100.0 * count / len(scores)\n",
        "    return percentile_rank"
      ],
      "metadata": {
        "id": "IHySQymrgYrP"
      },
      "execution_count": 7,
      "outputs": []
    },
    {
      "cell_type": "markdown",
      "source": [
        "If this is the list of scores."
      ],
      "metadata": {
        "id": "LyhP4hpShbGm"
      }
    },
    {
      "cell_type": "code",
      "source": [
        "t = [55, 66, 77, 88, 99]"
      ],
      "metadata": {
        "id": "nvapt3Uxhbm0"
      },
      "execution_count": 8,
      "outputs": []
    },
    {
      "cell_type": "markdown",
      "source": [
        "If you got the 88, your percentile rank is 80."
      ],
      "metadata": {
        "id": "-4zW8tvuhmod"
      }
    },
    {
      "cell_type": "code",
      "source": [
        "PercentileRank(t, 88)"
      ],
      "metadata": {
        "colab": {
          "base_uri": "https://localhost:8080/"
        },
        "id": "_5OZ8-D8hopr",
        "outputId": "fec6be4a-14cb-4be0-a425-ac70d83e7a70"
      },
      "execution_count": 9,
      "outputs": [
        {
          "output_type": "execute_result",
          "data": {
            "text/plain": [
              "80.0"
            ]
          },
          "metadata": {},
          "execution_count": 9
        }
      ]
    },
    {
      "cell_type": "markdown",
      "source": [
        "Percentile takes a percentile rank and computes the corresponding percentile."
      ],
      "metadata": {
        "id": "YxlxFza4huUq"
      }
    },
    {
      "cell_type": "code",
      "source": [
        "def Percentile(scores, percentile_rank):\n",
        "    scores.sort()\n",
        "    for score in scores:\n",
        "        if PercentileRank(scores, score) >= percentile_rank:\n",
        "            return score"
      ],
      "metadata": {
        "id": "KEAV8KCzhu6U"
      },
      "execution_count": 10,
      "outputs": []
    },
    {
      "cell_type": "markdown",
      "source": [
        "The median is the 50th percentile, which is 77."
      ],
      "metadata": {
        "id": "TjBstqlIh0pv"
      }
    },
    {
      "cell_type": "code",
      "source": [
        "Percentile(t, 50)"
      ],
      "metadata": {
        "colab": {
          "base_uri": "https://localhost:8080/"
        },
        "id": "l7vzS2Jdh1LB",
        "outputId": "9944f1e3-b2ee-458c-e42a-6e2fc68e5788"
      },
      "execution_count": 11,
      "outputs": [
        {
          "output_type": "execute_result",
          "data": {
            "text/plain": [
              "77"
            ]
          },
          "metadata": {},
          "execution_count": 11
        }
      ]
    },
    {
      "cell_type": "markdown",
      "source": [
        "Here's a more efficient way to compute percentiles."
      ],
      "metadata": {
        "id": "bbulTUXwh5FY"
      }
    },
    {
      "cell_type": "code",
      "source": [
        "def Percentile2(scores, percentile_rank):\n",
        "    scores.sort()\n",
        "    index = percentile_rank * (len(scores)-1) // 100\n",
        "    return scores[int(index)]"
      ],
      "metadata": {
        "id": "G7vUm9BLh5lE"
      },
      "execution_count": 12,
      "outputs": []
    },
    {
      "cell_type": "markdown",
      "source": [
        "The Cumulative Distribution Function (CDF) is almost the same as PercentileRank. The only difference is that the result is 0-1 instead of 0-100."
      ],
      "metadata": {
        "id": "O6vvIhSMh_95"
      }
    },
    {
      "cell_type": "code",
      "source": [
        "def EvalCdf(sample, x):\n",
        "    count = 0.0\n",
        "    for value in sample:\n",
        "        if value <= x:\n",
        "            count += 1\n",
        "\n",
        "    prob = count / len(sample)\n",
        "    return prob"
      ],
      "metadata": {
        "id": "RgdmNNcgiAdx"
      },
      "execution_count": 13,
      "outputs": []
    },
    {
      "cell_type": "code",
      "source": [
        "t = [1, 2, 2, 3, 5]"
      ],
      "metadata": {
        "id": "EltWho53iFxY"
      },
      "execution_count": 14,
      "outputs": []
    },
    {
      "cell_type": "markdown",
      "source": [
        "We can evaluate the CDF for various values:"
      ],
      "metadata": {
        "id": "q4oQ3OgZiI15"
      }
    },
    {
      "cell_type": "code",
      "source": [
        "EvalCdf(t, 0), EvalCdf(t, 1), EvalCdf(t, 2), EvalCdf(t, 3), EvalCdf(t, 4), EvalCdf(t, 5)"
      ],
      "metadata": {
        "colab": {
          "base_uri": "https://localhost:8080/"
        },
        "id": "dPJjUpgLiJWu",
        "outputId": "e090f943-401d-417b-8daa-9857b71eae76"
      },
      "execution_count": 15,
      "outputs": [
        {
          "output_type": "execute_result",
          "data": {
            "text/plain": [
              "(0.0, 0.2, 0.6, 0.8, 0.8, 1.0)"
            ]
          },
          "metadata": {},
          "execution_count": 15
        }
      ]
    },
    {
      "cell_type": "markdown",
      "source": [
        "Here's an example using real data, the distribution of pregnancy length for live births."
      ],
      "metadata": {
        "id": "1Df9neXOiNUx"
      }
    },
    {
      "cell_type": "code",
      "source": [
        "cdf = thinkstats2.Cdf(live.prglngth, label='prglngth')\n",
        "thinkplot.Cdf(cdf)\n",
        "thinkplot.Config(xlabel='Pregnancy length (weeks)', ylabel='CDF', loc='upper left')"
      ],
      "metadata": {
        "colab": {
          "base_uri": "https://localhost:8080/",
          "height": 279
        },
        "id": "nbh1f9VWiN18",
        "outputId": "80efe18d-1392-4823-fb1f-9a5e668e2914"
      },
      "execution_count": 16,
      "outputs": [
        {
          "output_type": "display_data",
          "data": {
            "text/plain": [
              "<Figure size 432x288 with 1 Axes>"
            ],
            "image/png": "[encoded data removed]"
          },
          "metadata": {
            "needs_background": "light"
          }
        }
      ]
    },
    {
      "cell_type": "code",
      "source": [
        "cdf.Prob(41)"
      ],
      "metadata": {
        "colab": {
          "base_uri": "https://localhost:8080/"
        },
        "id": "hKm6rGebiRsS",
        "outputId": "91a0e599-bba3-4907-fe0e-4856dd469535"
      },
      "execution_count": 17,
      "outputs": [
        {
          "output_type": "execute_result",
          "data": {
            "text/plain": [
              "0.9406427634455619"
            ]
          },
          "metadata": {},
          "execution_count": 17
        }
      ]
    },
    {
      "cell_type": "markdown",
      "source": [
        "Value evaluates the inverse CDF; given a fraction, it computes the corresponding value. For example, the median is the value that corresponds to 0.5."
      ],
      "metadata": {
        "id": "068_S7b0iUvS"
      }
    },
    {
      "cell_type": "code",
      "source": [
        "cdf.Value(0.5)\n"
      ],
      "metadata": {
        "colab": {
          "base_uri": "https://localhost:8080/"
        },
        "id": "CUM5HrEriVP_",
        "outputId": "e6743f57-9410-47ff-a8bd-026f9b19116a"
      },
      "execution_count": 18,
      "outputs": [
        {
          "output_type": "execute_result",
          "data": {
            "text/plain": [
              "39"
            ]
          },
          "metadata": {},
          "execution_count": 18
        }
      ]
    },
    {
      "cell_type": "markdown",
      "source": [
        "In general, CDFs are a good way to visualize distributions. They are not as noisy as PMFs, and if you plot several CDFs on the same axes, any differences between them are apparent."
      ],
      "metadata": {
        "id": "-_8eWspuiYtZ"
      }
    },
    {
      "cell_type": "code",
      "source": [
        "first_cdf = thinkstats2.Cdf(firsts.totalwgt_lb, label='first')\n",
        "other_cdf = thinkstats2.Cdf(others.totalwgt_lb, label='other')\n",
        "\n",
        "thinkplot.PrePlot(2)\n",
        "thinkplot.Cdfs([first_cdf, other_cdf])\n",
        "thinkplot.Config(xlabel='Weight (pounds)', ylabel='CDF')"
      ],
      "metadata": {
        "colab": {
          "base_uri": "https://localhost:8080/",
          "height": 279
        },
        "id": "-v_o8ID1iZLW",
        "outputId": "6240abf1-34c2-418c-e480-f6ee543e2095"
      },
      "execution_count": 19,
      "outputs": [
        {
          "output_type": "display_data",
          "data": {
            "text/plain": [
              "<Figure size 432x288 with 1 Axes>"
            ],
            "image/png": "[encoded data removed]"
          },
          "metadata": {
            "needs_background": "light"
          }
        }
      ]
    },
    {
      "cell_type": "markdown",
      "source": [
        "In this example, we can see that first babies are slightly, but consistently, lighter than others.\n",
        "\n",
        "We can use the CDF of birth weight to compute percentile-based statistics."
      ],
      "metadata": {
        "id": "mFTphaVQicof"
      }
    },
    {
      "cell_type": "code",
      "source": [
        "weights = live.totalwgt_lb\n",
        "live_cdf = thinkstats2.Cdf(weights, label='live')"
      ],
      "metadata": {
        "id": "G5IXak78idGY"
      },
      "execution_count": 20,
      "outputs": []
    },
    {
      "cell_type": "markdown",
      "source": [
        "Again, the median is the 50th percentile."
      ],
      "metadata": {
        "id": "6BZDGrKEigGU"
      }
    },
    {
      "cell_type": "code",
      "source": [
        "median = live_cdf.Percentile(50)\n",
        "median"
      ],
      "metadata": {
        "colab": {
          "base_uri": "https://localhost:8080/"
        },
        "id": "3MahHaJgiR-f",
        "outputId": "7ea2c80b-0939-4b31-f767-c4bb4b20756e"
      },
      "execution_count": 21,
      "outputs": [
        {
          "output_type": "execute_result",
          "data": {
            "text/plain": [
              "7.375"
            ]
          },
          "metadata": {},
          "execution_count": 21
        }
      ]
    },
    {
      "cell_type": "markdown",
      "source": [
        "The interquartile range is the interval from the 25th to 75th percentile."
      ],
      "metadata": {
        "id": "xHIgq4gSilHI"
      }
    },
    {
      "cell_type": "code",
      "source": [
        "iqr = (live_cdf.Percentile(25), live_cdf.Percentile(75))\n",
        "iqr"
      ],
      "metadata": {
        "colab": {
          "base_uri": "https://localhost:8080/"
        },
        "id": "tcsaKOd0ilnH",
        "outputId": "b74f387e-82df-4b34-c9b3-99c32bf5fd88"
      },
      "execution_count": 22,
      "outputs": [
        {
          "output_type": "execute_result",
          "data": {
            "text/plain": [
              "(6.5, 8.125)"
            ]
          },
          "metadata": {},
          "execution_count": 22
        }
      ]
    },
    {
      "cell_type": "markdown",
      "source": [
        "We can use the CDF to look up the percentile rank of a particular value. For example, my second daughter was 10.2 pounds at birth, which is near the 99th percentile."
      ],
      "metadata": {
        "id": "u7_nq2FMipHd"
      }
    },
    {
      "cell_type": "code",
      "source": [
        "live_cdf.PercentileRank(10.2)"
      ],
      "metadata": {
        "colab": {
          "base_uri": "https://localhost:8080/"
        },
        "id": "WHNvBE-1ipjQ",
        "outputId": "e0e504e0-3796-42f2-b707-fee1ede43c40"
      },
      "execution_count": 23,
      "outputs": [
        {
          "output_type": "execute_result",
          "data": {
            "text/plain": [
              "98.82717415357381"
            ]
          },
          "metadata": {},
          "execution_count": 23
        }
      ]
    },
    {
      "cell_type": "markdown",
      "source": [
        "If we draw a random sample from the observed weights and map each weigh to its percentile rank."
      ],
      "metadata": {
        "id": "bLwG93W7iswW"
      }
    },
    {
      "cell_type": "code",
      "source": [
        "sample = np.random.choice(weights, 100, replace=True)\n",
        "ranks = [live_cdf.PercentileRank(x) for x in sample]"
      ],
      "metadata": {
        "id": "v_5QIygiitTz"
      },
      "execution_count": 24,
      "outputs": []
    },
    {
      "cell_type": "code",
      "source": [
        "rank_cdf = thinkstats2.Cdf(ranks)\n",
        "thinkplot.Cdf(rank_cdf)\n",
        "thinkplot.Config(xlabel='Percentile rank', ylabel='CDF')"
      ],
      "metadata": {
        "colab": {
          "base_uri": "https://localhost:8080/",
          "height": 279
        },
        "id": "qloy3nkmiwvN",
        "outputId": "7385c0ed-9003-41c6-e51d-e0418b6d8cbe"
      },
      "execution_count": 25,
      "outputs": [
        {
          "output_type": "display_data",
          "data": {
            "text/plain": [
              "<Figure size 432x288 with 1 Axes>"
            ],
            "image/png": "[encoded data removed]"
          },
          "metadata": {
            "needs_background": "light"
          }
        }
      ]
    },
    {
      "cell_type": "markdown",
      "source": [
        "That observation is the basis of Cdf.Sample, which generates a random sample from a Cdf. Here's an example."
      ],
      "metadata": {
        "id": "NUSOTU20izUr"
      }
    },
    {
      "cell_type": "code",
      "source": [
        "resample = live_cdf.Sample(1000)\n",
        "thinkplot.Cdf(live_cdf)\n",
        "thinkplot.Cdf(thinkstats2.Cdf(resample, label='resample'))\n",
        "thinkplot.Config(xlabel='Birth weight (pounds)', ylabel='CDF')"
      ],
      "metadata": {
        "colab": {
          "base_uri": "https://localhost:8080/",
          "height": 279
        },
        "id": "KtZreq-jizxe",
        "outputId": "16c3b7d3-b777-43df-a0c7-841593235f64"
      },
      "execution_count": 26,
      "outputs": [
        {
          "output_type": "display_data",
          "data": {
            "text/plain": [
              "<Figure size 432x288 with 1 Axes>"
            ],
            "image/png": "[encoded data removed]"
          },
          "metadata": {
            "needs_background": "light"
          }
        }
      ]
    },
    {
      "cell_type": "markdown",
      "source": [
        "Exercise: How much did you weigh at birth? If you don’t know, call your mother or someone else who knows. Using the NSFG data (all live births), compute the distribution of birth weights and use it to find your percentile rank. If you were a first baby, find your percentile rank in the distribution for first babies. Otherwise use the distribution for others. If you are in the 90th percentile or higher, call your mother back and apologize."
      ],
      "metadata": {
        "id": "rD0w1wSui3r5"
      }
    },
    {
      "cell_type": "code",
      "source": [
        "# Solution\n",
        "\n",
        "first_cdf.PercentileRank(8.5)"
      ],
      "metadata": {
        "colab": {
          "base_uri": "https://localhost:8080/"
        },
        "id": "wCgH9a-8i4Ko",
        "outputId": "ce7698e1-5b22-4024-ff40-c93c30195c87"
      },
      "execution_count": 27,
      "outputs": [
        {
          "output_type": "execute_result",
          "data": {
            "text/plain": [
              "85.90419436167774"
            ]
          },
          "metadata": {},
          "execution_count": 27
        }
      ]
    },
    {
      "cell_type": "code",
      "source": [
        "# Solution\n",
        "\n",
        "other_cdf.PercentileRank(8.5)"
      ],
      "metadata": {
        "colab": {
          "base_uri": "https://localhost:8080/"
        },
        "id": "YHSdbuP2i63A",
        "outputId": "6c0a0ab7-c8c0-42da-cd7a-91337a5c4785"
      },
      "execution_count": 28,
      "outputs": [
        {
          "output_type": "execute_result",
          "data": {
            "text/plain": [
              "82.35294117647058"
            ]
          },
          "metadata": {},
          "execution_count": 28
        }
      ]
    },
    {
      "cell_type": "markdown",
      "source": [
        "Exercise: The numbers generated by numpy.random.random are supposed to be uniform between 0 and 1; that is, every value in the range should have the same probability.\n",
        "\n",
        "Generate 1000 numbers from numpy.random.random and plot their PMF. What goes wrong?\n",
        "\n",
        "Now plot the CDF. Is the distribution uniform?"
      ],
      "metadata": {
        "id": "bu8aC-wfi9jp"
      }
    },
    {
      "cell_type": "code",
      "source": [
        "# Solution\n",
        "\n",
        "t = np.random.random(1000)"
      ],
      "metadata": {
        "id": "gf4H5B3ki-EI"
      },
      "execution_count": 29,
      "outputs": []
    },
    {
      "cell_type": "code",
      "source": [
        "# Solution\n",
        "\n",
        "pmf = thinkstats2.Pmf(t)\n",
        "thinkplot.Pmf(pmf, linewidth=0.1)\n",
        "thinkplot.Config(xlabel='Random variate', ylabel='PMF')"
      ],
      "metadata": {
        "colab": {
          "base_uri": "https://localhost:8080/",
          "height": 279
        },
        "id": "aGJ7Cr4CjAyE",
        "outputId": "35e449a9-5209-443e-f52d-52a3851d7fed"
      },
      "execution_count": 30,
      "outputs": [
        {
          "output_type": "display_data",
          "data": {
            "text/plain": [
              "<Figure size 432x288 with 1 Axes>"
            ],
            "image/png": "[encoded data removed]"
          },
          "metadata": {
            "needs_background": "light"
          }
        }
      ]
    },
    {
      "cell_type": "code",
      "source": [
        "# Solution\n",
        "\n",
        "cdf = thinkstats2.Cdf(t)\n",
        "thinkplot.Cdf(cdf)\n",
        "thinkplot.Config(xlabel='Random variate', ylabel='CDF')"
      ],
      "metadata": {
        "id": "JBetc9EBjDax",
        "outputId": "66bcb00a-9297-4203-cf17-0b42cd536d13",
        "colab": {
          "base_uri": "https://localhost:8080/",
          "height": 279
        }
      },
      "execution_count": 31,
      "outputs": [
        {
          "output_type": "display_data",
          "data": {
            "text/plain": [
              "<Figure size 432x288 with 1 Axes>"
            ],
            "image/png": "[encoded data removed]"
          },
          "metadata": {
            "needs_background": "light"
          }
        }
      ]
    },
    {
      "cell_type": "code",
      "source": [],
      "metadata": {
        "id": "NmnI7EEyi7Gl"
      },
      "execution_count": null,
      "outputs": []
    }
  ]
}