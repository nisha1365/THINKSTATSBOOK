{
  "nbformat": 4,
  "nbformat_minor": 0,
  "metadata": {
    "colab": {
      "provenance": [],
      "authorship_tag": "ABX9TyNMjvL0jpcStlM84iWrZ6kD",
      "include_colab_link": true
    },
    "kernelspec": {
      "name": "python3",
      "display_name": "Python 3"
    },
    "language_info": {
      "name": "python"
    }
  },
  "cells": [
    {
      "cell_type": "markdown",
      "metadata": {
        "id": "view-in-github",
        "colab_type": "text"
      },
      "source": [
        "<a href=\"https://colab.research.google.com/github/nisha1365/THINKSTATSBOOK/blob/main/Chapter_9.ipynb\" target=\"_parent\"><img src=\"https://colab.research.google.com/assets/colab-badge.svg\" alt=\"Open In Colab\"/></a>"
      ]
    },
    {
      "cell_type": "code",
      "execution_count": 1,
      "metadata": {
        "colab": {
          "base_uri": "https://localhost:8080/"
        },
        "id": "h7-XE6aGAYwo",
        "outputId": "91099b63-9a1c-4125-fe88-828a61603869"
      },
      "outputs": [
        {
          "output_type": "stream",
          "name": "stdout",
          "text": [
            "Downloaded thinkstats2.py\n",
            "Downloaded thinkplot.py\n"
          ]
        }
      ],
      "source": [
        "from os.path import basename, exists\n",
        "\n",
        "\n",
        "def download(url):\n",
        "    filename = basename(url)\n",
        "    if not exists(filename):\n",
        "        from urllib.request import urlretrieve\n",
        "\n",
        "        local, _ = urlretrieve(url, filename)\n",
        "        print(\"Downloaded \" + local)\n",
        "\n",
        "\n",
        "download(\"https://github.com/AllenDowney/ThinkStats2/raw/master/code/thinkstats2.py\")\n",
        "download(\"https://github.com/AllenDowney/ThinkStats2/raw/master/code/thinkplot.py\")"
      ]
    },
    {
      "cell_type": "code",
      "source": [
        "import numpy as np\n",
        "\n",
        "import random\n",
        "\n",
        "import thinkstats2\n",
        "import thinkplot"
      ],
      "metadata": {
        "id": "oSfi9BD4AgFx"
      },
      "execution_count": 2,
      "outputs": []
    },
    {
      "cell_type": "markdown",
      "source": [
        "Hypothesis testing\n",
        "The following is a version of thinkstats2.HypothesisTest with just the essential methods:"
      ],
      "metadata": {
        "id": "JQ3-G4gOAjh0"
      }
    },
    {
      "cell_type": "code",
      "source": [],
      "metadata": {
        "id": "hjFJoFptAj8d"
      },
      "execution_count": null,
      "outputs": []
    },
    {
      "cell_type": "code",
      "source": [
        "class HypothesisTest(object):\n",
        "\n",
        "    def __init__(self, data):\n",
        "        self.data = data\n",
        "        self.MakeModel()\n",
        "        self.actual = self.TestStatistic(data)\n",
        "\n",
        "    def PValue(self, iters=1000):\n",
        "        self.test_stats = [self.TestStatistic(self.RunModel()) \n",
        "                           for _ in range(iters)]\n",
        "\n",
        "        count = sum(1 for x in self.test_stats if x >= self.actual)\n",
        "        return count / iters\n",
        "\n",
        "    def TestStatistic(self, data):\n",
        "        raise UnimplementedMethodException()\n",
        "\n",
        "    def MakeModel(self):\n",
        "        pass\n",
        "\n",
        "    def RunModel(self):\n",
        "        raise UnimplementedMethodException()"
      ],
      "metadata": {
        "id": "klnaxgEWAm_w"
      },
      "execution_count": 3,
      "outputs": []
    },
    {
      "cell_type": "markdown",
      "source": [
        "And here's an example that uses it to compute the p-value of an experiment where we toss a coin 250 times and get 140 heads."
      ],
      "metadata": {
        "id": "ZVUaD1nTAzYg"
      }
    },
    {
      "cell_type": "code",
      "source": [
        "class CoinTest(HypothesisTest):\n",
        "\n",
        "    def TestStatistic(self, data):\n",
        "        heads, tails = data\n",
        "        test_stat = abs(heads - tails)\n",
        "        return test_stat\n",
        "\n",
        "    def RunModel(self):\n",
        "        heads, tails = self.data\n",
        "        n = heads + tails\n",
        "        sample = [random.choice('HT') for _ in range(n)]\n",
        "        hist = thinkstats2.Hist(sample)\n",
        "        data = hist['H'], hist['T']\n",
        "        return data"
      ],
      "metadata": {
        "id": "3MNHW_bXAzwV"
      },
      "execution_count": 4,
      "outputs": []
    },
    {
      "cell_type": "markdown",
      "source": [
        "The p-value turns out to be about 7%, which is considered on the border of statistical significance."
      ],
      "metadata": {
        "id": "1TJbVYk2BLZT"
      }
    },
    {
      "cell_type": "code",
      "source": [
        "ct = CoinTest((140, 110))\n",
        "pvalue = ct.PValue()\n",
        "pvalue"
      ],
      "metadata": {
        "colab": {
          "base_uri": "https://localhost:8080/"
        },
        "id": "iNfkd3CMBLtl",
        "outputId": "e1149ca1-9a82-48b1-fa6a-c8eabf738e77"
      },
      "execution_count": 5,
      "outputs": [
        {
          "output_type": "execute_result",
          "data": {
            "text/plain": [
              "0.071"
            ]
          },
          "metadata": {},
          "execution_count": 5
        }
      ]
    },
    {
      "cell_type": "markdown",
      "source": [
        "Permutation test\n",
        "To compute the p-value of an observed difference in means, we can assume that there is no difference between the groups and generate simulated results by shuffling the data.\n",
        "\n"
      ],
      "metadata": {
        "id": "TECiPkZkBPVJ"
      }
    },
    {
      "cell_type": "code",
      "source": [
        "class DiffMeansPermute(thinkstats2.HypothesisTest):\n",
        "\n",
        "    def TestStatistic(self, data):\n",
        "        group1, group2 = data\n",
        "        test_stat = abs(group1.mean() - group2.mean())\n",
        "        return test_stat\n",
        "\n",
        "    def MakeModel(self):\n",
        "        group1, group2 = self.data\n",
        "        self.n, self.m = len(group1), len(group2)\n",
        "        self.pool = np.hstack((group1, group2))\n",
        "\n",
        "    def RunModel(self):\n",
        "        np.random.shuffle(self.pool)\n",
        "        data = self.pool[:self.n], self.pool[self.n:]\n",
        "        return data"
      ],
      "metadata": {
        "id": "8jHjgPOjBPvB"
      },
      "execution_count": 6,
      "outputs": []
    },
    {
      "cell_type": "markdown",
      "source": [
        "Here's an example where we test the observed difference in pregnancy length for first babies and others."
      ],
      "metadata": {
        "id": "-gzrNRgBBlUO"
      }
    },
    {
      "cell_type": "code",
      "source": [
        "download(\"https://github.com/AllenDowney/ThinkStats2/raw/master/code/nsfg.py\")\n",
        "download(\"https://github.com/AllenDowney/ThinkStats2/raw/master/code/first.py\")\n",
        "download(\"https://github.com/AllenDowney/ThinkStats2/raw/master/code/2002FemPreg.dct\")\n",
        "download(\n",
        "    \"https://github.com/AllenDowney/ThinkStats2/raw/master/code/2002FemPreg.dat.gz\"\n",
        ")"
      ],
      "metadata": {
        "colab": {
          "base_uri": "https://localhost:8080/"
        },
        "id": "D-lo2li-Blrg",
        "outputId": "35b5ee99-094a-446f-b255-a5df0aca13d7"
      },
      "execution_count": 7,
      "outputs": [
        {
          "output_type": "stream",
          "name": "stdout",
          "text": [
            "Downloaded nsfg.py\n",
            "Downloaded first.py\n",
            "Downloaded 2002FemPreg.dct\n",
            "Downloaded 2002FemPreg.dat.gz\n"
          ]
        }
      ]
    },
    {
      "cell_type": "code",
      "source": [
        "import first\n",
        "\n",
        "live, firsts, others = first.MakeFrames()\n",
        "data = firsts.prglngth.values, others.prglngth.values"
      ],
      "metadata": {
        "id": "Bz6qWaBqBpoZ"
      },
      "execution_count": 8,
      "outputs": []
    },
    {
      "cell_type": "markdown",
      "source": [
        "The p-value is about 17%, which means it is plausible that the observed difference is just the result of random sampling, and might not be generally true in the population."
      ],
      "metadata": {
        "id": "PeK3je6jBsd1"
      }
    },
    {
      "cell_type": "code",
      "source": [
        "ht = DiffMeansPermute(data)\n",
        "pvalue = ht.PValue()\n",
        "pvalue"
      ],
      "metadata": {
        "colab": {
          "base_uri": "https://localhost:8080/"
        },
        "id": "tI_aaSCWBs2q",
        "outputId": "f35ae6f0-51e4-4497-9720-d32420c44591"
      },
      "execution_count": 9,
      "outputs": [
        {
          "output_type": "execute_result",
          "data": {
            "text/plain": [
              "0.165"
            ]
          },
          "metadata": {},
          "execution_count": 9
        }
      ]
    },
    {
      "cell_type": "markdown",
      "source": [
        "Here's the distrubution of the test statistic (the difference in means) over many simulated samples:"
      ],
      "metadata": {
        "id": "x_ovDkVCB2px"
      }
    },
    {
      "cell_type": "code",
      "source": [
        "ht.PlotCdf()\n",
        "thinkplot.Config(xlabel='test statistic',\n",
        "                   ylabel='CDF')"
      ],
      "metadata": {
        "colab": {
          "base_uri": "https://localhost:8080/",
          "height": 279
        },
        "id": "xNimcq8bB3Ix",
        "outputId": "4a92ccc6-17cb-4cfb-9ff1-56fccdf40756"
      },
      "execution_count": 10,
      "outputs": [
        {
          "output_type": "display_data",
          "data": {
            "text/plain": [
              "<Figure size 432x288 with 1 Axes>"
            ],
            "image/png": "[encoded data removed]"
          },
          "metadata": {
            "needs_background": "light"
          }
        }
      ]
    },
    {
      "cell_type": "markdown",
      "source": [
        "Under the null hypothesis, we often see differences bigger than the observed difference."
      ],
      "metadata": {
        "id": "qo2JDSN2B6u6"
      }
    },
    {
      "cell_type": "code",
      "source": [
        "class DiffMeansOneSided(DiffMeansPermute):\n",
        "\n",
        "    def TestStatistic(self, data):\n",
        "        group1, group2 = data\n",
        "        test_stat = group1.mean() - group2.mean()\n",
        "        return test_stat"
      ],
      "metadata": {
        "id": "PJUhGwffB7F4"
      },
      "execution_count": 11,
      "outputs": []
    },
    {
      "cell_type": "markdown",
      "source": [
        "If the hypothesis under test is that first babies come late, the appropriate test statistic is the raw difference between first babies and others, rather than the absolute value of the difference. In that case, the p-value is smaller, because we are testing a more specific hypothesis."
      ],
      "metadata": {
        "id": "stQXu9dECAgn"
      }
    },
    {
      "cell_type": "code",
      "source": [
        "ht = DiffMeansOneSided(data)\n",
        "pvalue = ht.PValue()\n",
        "pvalue"
      ],
      "metadata": {
        "colab": {
          "base_uri": "https://localhost:8080/"
        },
        "id": "IQ0pMgZJCBCy",
        "outputId": "037ea146-971f-48b9-f823-b558b847515e"
      },
      "execution_count": 12,
      "outputs": [
        {
          "output_type": "execute_result",
          "data": {
            "text/plain": [
              "0.094"
            ]
          },
          "metadata": {},
          "execution_count": 12
        }
      ]
    },
    {
      "cell_type": "markdown",
      "source": [
        "Difference in standard deviation\n",
        "\n",
        "In this framework, it is easy to use other test statistics. For example, if we think the variance for first babies might be higher, we can run this test:\n",
        "\n"
      ],
      "metadata": {
        "id": "R0GfY_7bCLVx"
      }
    },
    {
      "cell_type": "code",
      "source": [
        "class DiffStdPermute(DiffMeansPermute):\n",
        "\n",
        "    def TestStatistic(self, data):\n",
        "        group1, group2 = data\n",
        "        test_stat = group1.std() - group2.std()\n",
        "        return test_stat"
      ],
      "metadata": {
        "id": "JUwC4vlvCMgm"
      },
      "execution_count": 13,
      "outputs": []
    },
    {
      "cell_type": "code",
      "source": [
        "ht = DiffStdPermute(data)\n",
        "pvalue = ht.PValue()\n",
        "pvalue"
      ],
      "metadata": {
        "colab": {
          "base_uri": "https://localhost:8080/"
        },
        "id": "sdS47FnPCR0j",
        "outputId": "1e924c29-d7a5-4264-a38d-84967262e465"
      },
      "execution_count": 14,
      "outputs": [
        {
          "output_type": "execute_result",
          "data": {
            "text/plain": [
              "0.065"
            ]
          },
          "metadata": {},
          "execution_count": 14
        }
      ]
    },
    {
      "cell_type": "markdown",
      "source": [
        "But that's not statistically significant either."
      ],
      "metadata": {
        "id": "O9KVfc5jCUMv"
      }
    },
    {
      "cell_type": "markdown",
      "source": [
        "Testing correlation\n",
        "To check whether an observed correlation is statistically significant, we can run a permutation test with a different test statistic."
      ],
      "metadata": {
        "id": "a-0aJ7fLCYfu"
      }
    },
    {
      "cell_type": "code",
      "source": [
        "class CorrelationPermute(thinkstats2.HypothesisTest):\n",
        "\n",
        "    def TestStatistic(self, data):\n",
        "        xs, ys = data\n",
        "        test_stat = abs(thinkstats2.Corr(xs, ys))\n",
        "        return test_stat\n",
        "\n",
        "    def RunModel(self):\n",
        "        xs, ys = self.data\n",
        "        xs = np.random.permutation(xs)\n",
        "        return xs, ys"
      ],
      "metadata": {
        "id": "hRFv0fmFCY9W"
      },
      "execution_count": 15,
      "outputs": []
    },
    {
      "cell_type": "markdown",
      "source": [
        "Here's an example testing the correlation between birth weight and mother's age."
      ],
      "metadata": {
        "id": "4Wv9mkfWCfAO"
      }
    },
    {
      "cell_type": "code",
      "source": [
        "cleaned = live.dropna(subset=['agepreg', 'totalwgt_lb'])\n",
        "data = cleaned.agepreg.values, cleaned.totalwgt_lb.values\n",
        "ht = CorrelationPermute(data)\n",
        "pvalue = ht.PValue()\n",
        "pvalue"
      ],
      "metadata": {
        "colab": {
          "base_uri": "https://localhost:8080/"
        },
        "id": "BiAgy35NCfVj",
        "outputId": "d4e9f77a-7cd7-433a-8897-b59d83ccaeea"
      },
      "execution_count": 16,
      "outputs": [
        {
          "output_type": "execute_result",
          "data": {
            "text/plain": [
              "0.0"
            ]
          },
          "metadata": {},
          "execution_count": 16
        }
      ]
    },
    {
      "cell_type": "markdown",
      "source": [
        "The reported p-value is 0, which means that in 1000 trials we didn't see a correlation, under the null hypothesis, that exceeded the observed correlation. That means that the p-value is probably smaller than 1/1000 , but it is not actually 0.\n",
        "\n",
        "To get a sense of how unexpected the observed value is under the null hypothesis, we can compare the actual correlation to the largest value we saw in the simulations."
      ],
      "metadata": {
        "id": "TNYJPDslCnYN"
      }
    },
    {
      "cell_type": "code",
      "source": [
        "\n",
        "ht.actual, ht.MaxTestStat()"
      ],
      "metadata": {
        "colab": {
          "base_uri": "https://localhost:8080/"
        },
        "id": "t1udlm-ACqnb",
        "outputId": "9217ceb1-8c49-4d02-f711-61e6fa55d497"
      },
      "execution_count": 17,
      "outputs": [
        {
          "output_type": "execute_result",
          "data": {
            "text/plain": [
              "(0.06883397035410904, 0.032873548866087475)"
            ]
          },
          "metadata": {},
          "execution_count": 17
        }
      ]
    },
    {
      "cell_type": "markdown",
      "source": [
        "Testing proportions\n",
        "\n",
        "Here's an example that tests whether the outcome of a rolling a six-sided die is suspicious, where the test statistic is the total absolute difference between the observed outcomes and the expected long-term averages."
      ],
      "metadata": {
        "id": "s7fgLexLC0Aa"
      }
    },
    {
      "cell_type": "code",
      "source": [
        "class DiceTest(thinkstats2.HypothesisTest):\n",
        "\n",
        "    def TestStatistic(self, data):\n",
        "        observed = data\n",
        "        n = sum(observed)\n",
        "        expected = np.ones(6) * n / 6\n",
        "        test_stat = sum(abs(observed - expected))\n",
        "        return test_stat\n",
        "\n",
        "    def RunModel(self):\n",
        "        n = sum(self.data)\n",
        "        values = [1, 2, 3, 4, 5, 6]\n",
        "        rolls = np.random.choice(values, n, replace=True)\n",
        "        hist = thinkstats2.Hist(rolls)\n",
        "        freqs = hist.Freqs(values)\n",
        "        return freqs"
      ],
      "metadata": {
        "id": "cs2YwZN6C1IH"
      },
      "execution_count": 18,
      "outputs": []
    },
    {
      "cell_type": "markdown",
      "source": [
        "Here's an example using the data from the book:"
      ],
      "metadata": {
        "id": "onYow0A-DA86"
      }
    },
    {
      "cell_type": "code",
      "source": [
        "data = [8, 9, 19, 5, 8, 11]\n",
        "dt = DiceTest(data)\n",
        "pvalue = dt.PValue(iters=10000)\n",
        "pvalue"
      ],
      "metadata": {
        "colab": {
          "base_uri": "https://localhost:8080/"
        },
        "id": "fcvsNi8ODBST",
        "outputId": "2d4cd37b-bc33-4757-f19b-a675a544bee6"
      },
      "execution_count": 19,
      "outputs": [
        {
          "output_type": "execute_result",
          "data": {
            "text/plain": [
              "0.1263"
            ]
          },
          "metadata": {},
          "execution_count": 19
        }
      ]
    },
    {
      "cell_type": "markdown",
      "source": [
        "The observed deviance from the expected values is not statistically significant.\n",
        "\n",
        "By convention, it is more common to test data like this using the chi-squared statistic:"
      ],
      "metadata": {
        "id": "uL3XnjXWDFsc"
      }
    },
    {
      "cell_type": "code",
      "source": [
        "class DiceChiTest(DiceTest):\n",
        "\n",
        "    def TestStatistic(self, data):\n",
        "        observed = data\n",
        "        n = sum(observed)\n",
        "        expected = np.ones(6) * n / 6\n",
        "        test_stat = sum((observed - expected)**2 / expected)\n",
        "        return test_stat"
      ],
      "metadata": {
        "id": "E4sGJYvyDGBG"
      },
      "execution_count": 20,
      "outputs": []
    },
    {
      "cell_type": "code",
      "source": [
        "dt = DiceChiTest(data)\n",
        "pvalue = dt.PValue(iters=10000)\n",
        "pvalue"
      ],
      "metadata": {
        "colab": {
          "base_uri": "https://localhost:8080/"
        },
        "id": "lvWmQ4pZDI6q",
        "outputId": "a66803f2-e343-4e00-9ba8-565bab9287dc"
      },
      "execution_count": 21,
      "outputs": [
        {
          "output_type": "execute_result",
          "data": {
            "text/plain": [
              "0.0394"
            ]
          },
          "metadata": {},
          "execution_count": 21
        }
      ]
    },
    {
      "cell_type": "markdown",
      "source": [
        "Taking this result at face value, we might consider the data statistically significant, but considering the results of both tests, I would not draw any strong conclusions."
      ],
      "metadata": {
        "id": "3V3BziFGDQgk"
      }
    },
    {
      "cell_type": "markdown",
      "source": [
        "\n",
        "Chi-square test of pregnancy length"
      ],
      "metadata": {
        "id": "iwMqhV3ADThS"
      }
    },
    {
      "cell_type": "code",
      "source": [
        "class PregLengthTest(thinkstats2.HypothesisTest):\n",
        "\n",
        "    def MakeModel(self):\n",
        "        firsts, others = self.data\n",
        "        self.n = len(firsts)\n",
        "        self.pool = np.hstack((firsts, others))\n",
        "\n",
        "        pmf = thinkstats2.Pmf(self.pool)\n",
        "        self.values = range(35, 44)\n",
        "        self.expected_probs = np.array(pmf.Probs(self.values))\n",
        "\n",
        "    def RunModel(self):\n",
        "        np.random.shuffle(self.pool)\n",
        "        data = self.pool[:self.n], self.pool[self.n:]\n",
        "        return data\n",
        "    \n",
        "    def TestStatistic(self, data):\n",
        "        firsts, others = data\n",
        "        stat = self.ChiSquared(firsts) + self.ChiSquared(others)\n",
        "        return stat\n",
        "\n",
        "    def ChiSquared(self, lengths):\n",
        "        hist = thinkstats2.Hist(lengths)\n",
        "        observed = np.array(hist.Freqs(self.values))\n",
        "        expected = self.expected_probs * len(lengths)\n",
        "        stat = sum((observed - expected)**2 / expected)\n",
        "        return stat"
      ],
      "metadata": {
        "id": "Ldxv6I4cDT0g"
      },
      "execution_count": 22,
      "outputs": []
    },
    {
      "cell_type": "markdown",
      "source": [
        "If we specifically test the deviations of first babies and others from the expected number of births in each week of pregnancy, the results are statistically significant with a very small p-value. But at this point we have run so many tests, we should not be surprised to find at least one that seems significant."
      ],
      "metadata": {
        "id": "AHhJcKeADhDg"
      }
    },
    {
      "cell_type": "code",
      "source": [
        "data = firsts.prglngth.values, others.prglngth.values\n",
        "ht = PregLengthTest(data)\n",
        "p_value = ht.PValue()\n",
        "print('p-value =', p_value)\n",
        "print('actual =', ht.actual)\n",
        "print('ts max =', ht.MaxTestStat())\n"
      ],
      "metadata": {
        "colab": {
          "base_uri": "https://localhost:8080/"
        },
        "id": "RnmX0MioDhf2",
        "outputId": "6e3f743d-7223-4661-dc23-2d16a0d48bac"
      },
      "execution_count": 23,
      "outputs": [
        {
          "output_type": "stream",
          "name": "stdout",
          "text": [
            "p-value = 0.0\n",
            "actual = 101.50141482893264\n",
            "ts max = 25.944797678982574\n"
          ]
        }
      ]
    },
    {
      "cell_type": "markdown",
      "source": [
        "Power\n",
        "Here's the function that estimates the probability of a non-significant p-value even is there really is a difference between the groups."
      ],
      "metadata": {
        "id": "vy9oeXamDqqm"
      }
    },
    {
      "cell_type": "code",
      "source": [
        "def FalseNegRate(data, num_runs=1000):\n",
        "    \"\"\"Computes the chance of a false negative based on resampling.\n",
        "\n",
        "    data: pair of sequences\n",
        "    num_runs: how many experiments to simulate\n",
        "\n",
        "    returns: float false negative rate\n",
        "    \"\"\"\n",
        "    group1, group2 = data\n",
        "    count = 0\n",
        "\n",
        "    for i in range(num_runs):\n",
        "        sample1 = thinkstats2.Resample(group1)\n",
        "        sample2 = thinkstats2.Resample(group2)\n",
        "        ht = DiffMeansPermute((sample1, sample2))\n",
        "        p_value = ht.PValue(iters=101)\n",
        "        if p_value > 0.05:\n",
        "            count += 1\n",
        "\n",
        "    return count / num_runs"
      ],
      "metadata": {
        "id": "aV6Igd1SDrMl"
      },
      "execution_count": 24,
      "outputs": []
    },
    {
      "cell_type": "code",
      "source": [
        "neg_rate = FalseNegRate(data)\n",
        "neg_rate"
      ],
      "metadata": {
        "colab": {
          "base_uri": "https://localhost:8080/"
        },
        "id": "zy3SOeYYDxWI",
        "outputId": "40d9de1a-27ee-43ae-b6a8-145bb71f3762"
      },
      "execution_count": 25,
      "outputs": [
        {
          "output_type": "execute_result",
          "data": {
            "text/plain": [
              "0.719"
            ]
          },
          "metadata": {},
          "execution_count": 25
        }
      ]
    },
    {
      "cell_type": "markdown",
      "source": [
        "0.706\n",
        "In this example, the false negative rate is 70%, which means that the power of the test (probability of statistical significance if the actual difference is 0.078 weeks) is only 30%."
      ],
      "metadata": {
        "id": "jpO5Si1MD1Ao"
      }
    },
    {
      "cell_type": "code",
      "source": [],
      "metadata": {
        "id": "tlJZC7RcD1Yp"
      },
      "execution_count": null,
      "outputs": []
    },
    {
      "cell_type": "markdown",
      "source": [
        "Exercises\n",
        "Exercise: As sample size increases, the power of a hypothesis test increases, which means it is more likely to be positive if the effect is real. Conversely, as sample size decreases, the test is less likely to be positive even if the effect is real.\n",
        "\n",
        "To investigate this behavior, run the tests in this chapter with different subsets of the NSFG data. You can use thinkstats2.SampleRows to select a random subset of the rows in a DataFrame.\n",
        "\n",
        "What happens to the p-values of these tests as sample size decreases? What is the smallest sample size that yields a positive test?"
      ],
      "metadata": {
        "id": "bTJC5wVOD4kC"
      }
    },
    {
      "cell_type": "code",
      "source": [
        "# Solution\n",
        "\n",
        "def RunTests(live, iters=1000):\n",
        "    \"\"\"Runs the tests from Chapter 9 with a subset of the data.\n",
        "\n",
        "    live: DataFrame\n",
        "    iters: how many iterations to run\n",
        "    \"\"\"\n",
        "    n = len(live)\n",
        "    firsts = live[live.birthord == 1]\n",
        "    others = live[live.birthord != 1]\n",
        "\n",
        "    # compare pregnancy lengths\n",
        "    data = firsts.prglngth.values, others.prglngth.values\n",
        "    ht = DiffMeansPermute(data)\n",
        "    p1 = ht.PValue(iters=iters)\n",
        "\n",
        "    data = (firsts.totalwgt_lb.dropna().values,\n",
        "            others.totalwgt_lb.dropna().values)\n",
        "    ht = DiffMeansPermute(data)\n",
        "    p2 = ht.PValue(iters=iters)\n",
        "\n",
        "    # test correlation\n",
        "    live2 = live.dropna(subset=['agepreg', 'totalwgt_lb'])\n",
        "    data = live2.agepreg.values, live2.totalwgt_lb.values\n",
        "    ht = CorrelationPermute(data)\n",
        "    p3 = ht.PValue(iters=iters)\n",
        "\n",
        "    # compare pregnancy lengths (chi-squared)\n",
        "    data = firsts.prglngth.values, others.prglngth.values\n",
        "    ht = PregLengthTest(data)\n",
        "    p4 = ht.PValue(iters=iters)\n",
        "\n",
        "    print('%d\\t%0.2f\\t%0.2f\\t%0.2f\\t%0.2f' % (n, p1, p2, p3, p4))"
      ],
      "metadata": {
        "id": "4omgxuCHD4_i"
      },
      "execution_count": 26,
      "outputs": []
    },
    {
      "cell_type": "code",
      "source": [
        "# Solution\n",
        "\n",
        "n = len(live)\n",
        "for _ in range(7):\n",
        "    sample = thinkstats2.SampleRows(live, n)\n",
        "    RunTests(sample)\n",
        "    n //= 2"
      ],
      "metadata": {
        "colab": {
          "base_uri": "https://localhost:8080/"
        },
        "id": "G9ID3RFFD-9e",
        "outputId": "73dc403e-30a2-4383-980e-e1facb853efe"
      },
      "execution_count": 27,
      "outputs": [
        {
          "output_type": "stream",
          "name": "stdout",
          "text": [
            "9148\t0.16\t0.00\t0.00\t0.00\n",
            "4574\t0.76\t0.00\t0.00\t0.00\n",
            "2287\t0.68\t0.21\t0.01\t0.00\n",
            "1143\t0.51\t0.07\t0.02\t0.02\n",
            "571\t0.36\t0.29\t0.59\t0.07\n",
            "285\t0.65\t0.48\t0.16\t0.56\n",
            "142\t0.49\t0.96\t0.30\t0.04\n"
          ]
        }
      ]
    },
    {
      "cell_type": "markdown",
      "source": [
        "Exercise: In Section 9.3, we simulated the null hypothesis by permutation; that is, we treated the observed values as if they represented the entire population, and randomly assigned the members of the population to the two groups.\n",
        "\n",
        "An alternative is to use the sample to estimate the distribution for the population, then draw a random sample from that distribution. This process is called resampling. There are several ways to implement resampling, but one of the simplest is to draw a sample with replacement from the observed values, as in Section 9.10.\n",
        "\n",
        "Write a class named DiffMeansResample that inherits from DiffMeansPermute and overrides RunModel to implement resampling, rather than permutation.\n",
        "\n",
        "Use this model to test the differences in pregnancy length and birth weight. How much does the model affect the results?"
      ],
      "metadata": {
        "id": "yOjKJIrsEDn1"
      }
    },
    {
      "cell_type": "code",
      "source": [
        "# Solution\n",
        "\n",
        "class DiffMeansResample(DiffMeansPermute):\n",
        "    \"\"\"Tests a difference in means using resampling.\"\"\"\n",
        "    \n",
        "    def RunModel(self):\n",
        "        \"\"\"Run the model of the null hypothesis.\n",
        "\n",
        "        returns: simulated data\n",
        "        \"\"\"\n",
        "        group1 = np.random.choice(self.pool, self.n, replace=True)\n",
        "        group2 = np.random.choice(self.pool, self.m, replace=True)\n",
        "        return group1, group2"
      ],
      "metadata": {
        "id": "3rol3YwqEEBg"
      },
      "execution_count": 28,
      "outputs": []
    },
    {
      "cell_type": "code",
      "source": [
        "# Solution\n",
        "\n",
        "def RunResampleTest(firsts, others):\n",
        "    \"\"\"Tests differences in means by resampling.\n",
        "\n",
        "    firsts: DataFrame\n",
        "    others: DataFrame\n",
        "    \"\"\"\n",
        "    data = firsts.prglngth.values, others.prglngth.values\n",
        "    ht = DiffMeansResample(data)\n",
        "    p_value = ht.PValue(iters=10000)\n",
        "    print('\\ndiff means resample preglength')\n",
        "    print('p-value =', p_value)\n",
        "    print('actual =', ht.actual)\n",
        "    print('ts max =', ht.MaxTestStat())\n",
        "\n",
        "    data = (firsts.totalwgt_lb.dropna().values,\n",
        "            others.totalwgt_lb.dropna().values)\n",
        "    ht = DiffMeansPermute(data)\n",
        "    p_value = ht.PValue(iters=10000)\n",
        "    print('\\ndiff means resample birthweight')\n",
        "    print('p-value =', p_value)\n",
        "    print('actual =', ht.actual)\n",
        "    print('ts max =', ht.MaxTestStat())"
      ],
      "metadata": {
        "id": "4neUHdEJEK0H"
      },
      "execution_count": 29,
      "outputs": []
    },
    {
      "cell_type": "code",
      "source": [
        "# Solution\n",
        "\n",
        "RunResampleTest(firsts, others)"
      ],
      "metadata": {
        "colab": {
          "base_uri": "https://localhost:8080/"
        },
        "id": "DM5ElgWnEOHz",
        "outputId": "3e52a137-04be-439d-c736-e91416153a1b"
      },
      "execution_count": 30,
      "outputs": [
        {
          "output_type": "stream",
          "name": "stdout",
          "text": [
            "\n",
            "diff means resample preglength\n",
            "p-value = 0.1679\n",
            "actual = 0.07803726677754952\n",
            "ts max = 0.23188649452001187\n",
            "\n",
            "diff means resample birthweight\n",
            "p-value = 0.0\n",
            "actual = 0.12476118453549034\n",
            "ts max = 0.11797663507300626\n"
          ]
        }
      ]
    },
    {
      "cell_type": "code",
      "source": [],
      "metadata": {
        "id": "_u_xnbypDQ3u"
      },
      "execution_count": null,
      "outputs": []
    }
  ]
}