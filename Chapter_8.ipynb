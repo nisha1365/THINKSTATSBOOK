{
  "nbformat": 4,
  "nbformat_minor": 0,
  "metadata": {
    "colab": {
      "provenance": [],
      "authorship_tag": "ABX9TyPyCivbwI5mg6H3EUPkX8MQ",
      "include_colab_link": true
    },
    "kernelspec": {
      "name": "python3",
      "display_name": "Python 3"
    },
    "language_info": {
      "name": "python"
    }
  },
  "cells": [
    {
      "cell_type": "markdown",
      "metadata": {
        "id": "view-in-github",
        "colab_type": "text"
      },
      "source": [
        "<a href=\"https://colab.research.google.com/github/nisha1365/THINKSTATSBOOK/blob/main/Chapter_8.ipynb\" target=\"_parent\"><img src=\"https://colab.research.google.com/assets/colab-badge.svg\" alt=\"Open In Colab\"/></a>"
      ]
    },
    {
      "cell_type": "code",
      "execution_count": 1,
      "metadata": {
        "colab": {
          "base_uri": "https://localhost:8080/"
        },
        "id": "xApgVv5M3rLr",
        "outputId": "487e3ddb-a060-401b-92fd-e901f9551482"
      },
      "outputs": [
        {
          "output_type": "stream",
          "name": "stdout",
          "text": [
            "Downloaded thinkstats2.py\n",
            "Downloaded thinkplot.py\n"
          ]
        }
      ],
      "source": [
        "from os.path import basename, exists\n",
        "\n",
        "\n",
        "def download(url):\n",
        "    filename = basename(url)\n",
        "    if not exists(filename):\n",
        "        from urllib.request import urlretrieve\n",
        "\n",
        "        local, _ = urlretrieve(url, filename)\n",
        "        print(\"Downloaded \" + local)\n",
        "\n",
        "\n",
        "download(\"https://github.com/AllenDowney/ThinkStats2/raw/master/code/thinkstats2.py\")\n",
        "download(\"https://github.com/AllenDowney/ThinkStats2/raw/master/code/thinkplot.py\")"
      ]
    },
    {
      "cell_type": "code",
      "source": [
        "import numpy as np\n",
        "\n",
        "import thinkstats2\n",
        "import thinkplot"
      ],
      "metadata": {
        "id": "3HQ2oSK331Ni"
      },
      "execution_count": 2,
      "outputs": []
    },
    {
      "cell_type": "markdown",
      "source": [
        "The estimation game\n",
        "\n",
        "Root mean squared error is one of several ways to summarize the average error of an estimation process."
      ],
      "metadata": {
        "id": "WsIOKUl834KU"
      }
    },
    {
      "cell_type": "code",
      "source": [
        "def RMSE(estimates, actual):\n",
        "    \"\"\"Computes the root mean squared error of a sequence of estimates.\n",
        "\n",
        "    estimate: sequence of numbers\n",
        "    actual: actual value\n",
        "\n",
        "    returns: float RMSE\n",
        "    \"\"\"\n",
        "    e2 = [(estimate-actual)**2 for estimate in estimates]\n",
        "    mse = np.mean(e2)\n",
        "    return np.sqrt(mse)"
      ],
      "metadata": {
        "id": "gsr3Cs5F35My"
      },
      "execution_count": 3,
      "outputs": []
    },
    {
      "cell_type": "markdown",
      "source": [
        "The following function simulates experiments where we try to estimate the mean of a population based on a sample with size n=7. We run iters=1000 experiments and collect the mean and median of each sample."
      ],
      "metadata": {
        "id": "AvtvnlaS4BbU"
      }
    },
    {
      "cell_type": "code",
      "source": [
        "import random\n",
        "\n",
        "def Estimate1(n=7, iters=1000):\n",
        "    \"\"\"Evaluates RMSE of sample mean and median as estimators.\n",
        "\n",
        "    n: sample size\n",
        "    iters: number of iterations\n",
        "    \"\"\"\n",
        "    mu = 0\n",
        "    sigma = 1\n",
        "\n",
        "    means = []\n",
        "    medians = []\n",
        "    for _ in range(iters):\n",
        "        xs = [random.gauss(mu, sigma) for _ in range(n)]\n",
        "        xbar = np.mean(xs)\n",
        "        median = np.median(xs)\n",
        "        means.append(xbar)\n",
        "        medians.append(median)\n",
        "\n",
        "    print('Experiment 1')\n",
        "    print('rmse xbar', RMSE(means, mu))\n",
        "    print('rmse median', RMSE(medians, mu))\n",
        "    \n",
        "Estimate1()"
      ],
      "metadata": {
        "colab": {
          "base_uri": "https://localhost:8080/"
        },
        "id": "x95jvMtu4Byk",
        "outputId": "298bb81e-9518-44f8-a74d-503746a5c079"
      },
      "execution_count": 4,
      "outputs": [
        {
          "output_type": "stream",
          "name": "stdout",
          "text": [
            "Experiment 1\n",
            "rmse xbar 0.39096382336947005\n",
            "rmse median 0.47054527919897643\n"
          ]
        }
      ]
    },
    {
      "cell_type": "markdown",
      "source": [
        "Estimating variance\n",
        "\n",
        "\n",
        "The obvious way to estimate the variance of a population is to compute the variance of the sample, \n",
        ", but that turns out to be a biased estimator; that is, in the long run, the average error doesn't converge to 0."
      ],
      "metadata": {
        "id": "0RTpxhpH4xN-"
      }
    },
    {
      "cell_type": "code",
      "source": [
        "def MeanError(estimates, actual):\n",
        "    \"\"\"Computes the mean error of a sequence of estimates.\n",
        "\n",
        "    estimate: sequence of numbers\n",
        "    actual: actual value\n",
        "\n",
        "    returns: float mean error\n",
        "    \"\"\"\n",
        "    errors = [estimate-actual for estimate in estimates]\n",
        "    return np.mean(errors)"
      ],
      "metadata": {
        "id": "Rt8eyb8o40Hh"
      },
      "execution_count": 5,
      "outputs": []
    },
    {
      "cell_type": "markdown",
      "source": [
        "The following function simulates experiments where we try to estimate the variance of a population based on a sample with size n=7. We run iters=1000 experiments and two estimates for each sample, \n",
        " and \n",
        "."
      ],
      "metadata": {
        "id": "fygviiKd45jx"
      }
    },
    {
      "cell_type": "code",
      "source": [
        "def Estimate2(n=7, iters=1000):\n",
        "    mu = 0\n",
        "    sigma = 1\n",
        "\n",
        "    estimates1 = []\n",
        "    estimates2 = []\n",
        "    for _ in range(iters):\n",
        "        xs = [random.gauss(mu, sigma) for i in range(n)]\n",
        "        biased = np.var(xs)\n",
        "        unbiased = np.var(xs, ddof=1)\n",
        "        estimates1.append(biased)\n",
        "        estimates2.append(unbiased)\n",
        "\n",
        "    print('mean error biased', MeanError(estimates1, sigma**2))\n",
        "    print('mean error unbiased', MeanError(estimates2, sigma**2))\n",
        "    \n",
        "Estimate2()"
      ],
      "metadata": {
        "colab": {
          "base_uri": "https://localhost:8080/"
        },
        "id": "4i_yzt-o47MM",
        "outputId": "8f9e2884-e8d4-4fc5-a614-560c7755da35"
      },
      "execution_count": 6,
      "outputs": [
        {
          "output_type": "stream",
          "name": "stdout",
          "text": [
            "mean error biased -0.16073236275481023\n",
            "mean error unbiased -0.020854423213945268\n"
          ]
        }
      ]
    },
    {
      "cell_type": "markdown",
      "source": [
        "The mean error for S^2\n",
        " is non-zero, which suggests that it is biased. The mean error for S^2n-1\n",
        " is close to zero, and gets even smaller if we increase iters."
      ],
      "metadata": {
        "id": "kaR7dqx05J5d"
      }
    },
    {
      "cell_type": "markdown",
      "source": [
        "The sampling distribution\n",
        "The following function simulates experiments where we estimate the mean of a population using \n",
        ", and returns a list of estimates, one from each experiment."
      ],
      "metadata": {
        "id": "909FM8gB5ZfQ"
      }
    },
    {
      "cell_type": "code",
      "source": [
        "def SimulateSample(mu=90, sigma=7.5, n=9, iters=1000):\n",
        "    xbars = []\n",
        "    for j in range(iters):\n",
        "        xs = np.random.normal(mu, sigma, n)\n",
        "        xbar = np.mean(xs)\n",
        "        xbars.append(xbar)\n",
        "    return xbars\n",
        "\n",
        "xbars = SimulateSample()"
      ],
      "metadata": {
        "id": "w5v-4QBZ5Z72"
      },
      "execution_count": 7,
      "outputs": []
    },
    {
      "cell_type": "markdown",
      "source": [
        "Here's the \"sampling distribution of the mean\" which shows how much we should expect \n",
        " to vary from one experiment to the next."
      ],
      "metadata": {
        "id": "r6B17A1O5q7y"
      }
    },
    {
      "cell_type": "code",
      "source": [
        "cdf = thinkstats2.Cdf(xbars)\n",
        "thinkplot.Cdf(cdf)\n",
        "thinkplot.Config(xlabel='Sample mean',\n",
        "                 ylabel='CDF')"
      ],
      "metadata": {
        "colab": {
          "base_uri": "https://localhost:8080/",
          "height": 279
        },
        "id": "2F7i3KOw5rWm",
        "outputId": "b02f4797-8e9a-4e60-993c-126cc9955028"
      },
      "execution_count": 8,
      "outputs": [
        {
          "output_type": "display_data",
          "data": {
            "text/plain": [
              "<Figure size 432x288 with 1 Axes>"
            ],
            "image/png": "[encoded data removed]"
          },
          "metadata": {
            "needs_background": "light"
          }
        }
      ]
    },
    {
      "cell_type": "markdown",
      "source": [
        "The mean of the sample means is close to the actual value of ."
      ],
      "metadata": {
        "id": "kLfym1ht5zFj"
      }
    },
    {
      "cell_type": "code",
      "source": [
        "np.mean(xbars)"
      ],
      "metadata": {
        "colab": {
          "base_uri": "https://localhost:8080/"
        },
        "id": "nKB7mupy5z4V",
        "outputId": "29493fe3-bdf6-4fe3-ca9a-d90108093bed"
      },
      "execution_count": 9,
      "outputs": [
        {
          "output_type": "execute_result",
          "data": {
            "text/plain": [
              "89.98320082801018"
            ]
          },
          "metadata": {},
          "execution_count": 9
        }
      ]
    },
    {
      "cell_type": "markdown",
      "source": [
        "An interval that contains 90% of the values in the sampling disrtribution is called a 90% confidence interval."
      ],
      "metadata": {
        "id": "KSE7UTOx53gA"
      }
    },
    {
      "cell_type": "code",
      "source": [
        "ci = cdf.Percentile(5), cdf.Percentile(95)\n",
        "ci"
      ],
      "metadata": {
        "colab": {
          "base_uri": "https://localhost:8080/"
        },
        "id": "SDgAde74531M",
        "outputId": "58edf85b-499f-4108-cc82-4fcf1f73ad0e"
      },
      "execution_count": 10,
      "outputs": [
        {
          "output_type": "execute_result",
          "data": {
            "text/plain": [
              "(85.77063861978527, 94.15640288871687)"
            ]
          },
          "metadata": {},
          "execution_count": 10
        }
      ]
    },
    {
      "cell_type": "markdown",
      "source": [
        "And the RMSE of the sample means is called the standard error."
      ],
      "metadata": {
        "id": "CI3RdDDR6IhR"
      }
    },
    {
      "cell_type": "code",
      "source": [
        "stderr = RMSE(xbars, 90)\n",
        "stderr"
      ],
      "metadata": {
        "colab": {
          "base_uri": "https://localhost:8080/"
        },
        "id": "2HCxmoqj6I_8",
        "outputId": "c95fe5e6-2e72-4b11-e1ea-ef9f40560d42"
      },
      "execution_count": 11,
      "outputs": [
        {
          "output_type": "execute_result",
          "data": {
            "text/plain": [
              "2.519772978236635"
            ]
          },
          "metadata": {},
          "execution_count": 11
        }
      ]
    },
    {
      "cell_type": "markdown",
      "source": [
        "Confidence intervals and standard errors quantify the variability in the estimate due to random sampling"
      ],
      "metadata": {
        "id": "7FaGYtWX6NCD"
      }
    },
    {
      "cell_type": "markdown",
      "source": [
        "Estimating rates\n",
        "The following function simulates experiments where we try to estimate the mean of an exponential distribution using the mean and median of a sample."
      ],
      "metadata": {
        "id": "9JfnENEX6R40"
      }
    },
    {
      "cell_type": "code",
      "source": [
        "def Estimate3(n=7, iters=1000):\n",
        "    lam = 2\n",
        "\n",
        "    means = []\n",
        "    medians = []\n",
        "    for _ in range(iters):\n",
        "        xs = np.random.exponential(1.0/lam, n)\n",
        "        L = 1 / np.mean(xs)\n",
        "        Lm = np.log(2) / thinkstats2.Median(xs)\n",
        "        means.append(L)\n",
        "        medians.append(Lm)\n",
        "\n",
        "    print('rmse L', RMSE(means, lam))\n",
        "    print('rmse Lm', RMSE(medians, lam))\n",
        "    print('mean error L', MeanError(means, lam))\n",
        "    print('mean error Lm', MeanError(medians, lam))\n",
        "    \n",
        "Estimate3()"
      ],
      "metadata": {
        "colab": {
          "base_uri": "https://localhost:8080/"
        },
        "id": "IxjeVgRE6SOQ",
        "outputId": "e4800f90-7431-4980-f277-8061e0d91149"
      },
      "execution_count": 12,
      "outputs": [
        {
          "output_type": "stream",
          "name": "stdout",
          "text": [
            "rmse L 1.0651690198325396\n",
            "rmse Lm 1.8373274326612676\n",
            "mean error L 0.3322288987718754\n",
            "mean error Lm 0.44791405258135797\n"
          ]
        }
      ]
    },
    {
      "cell_type": "markdown",
      "source": [
        "The RMSE is smaller for the sample mean than for the sample median.\n",
        "\n",
        "But neither estimator is unbiased.\n",
        "\n"
      ],
      "metadata": {
        "id": "kZrcbrQk6cpf"
      }
    },
    {
      "cell_type": "markdown",
      "source": [
        "Exercises\n",
        "Exercise: Suppose you draw a sample with size n=10 from an exponential distribution with λ=2. Simulate this experiment 1000 times and plot the sampling distribution of the estimate L. Compute the standard error of the estimate and the 90% confidence interval.\n",
        "\n",
        "Repeat the experiment with a few different values of n and make a plot of standard error versus n."
      ],
      "metadata": {
        "id": "1euDdVjT6fSP"
      }
    },
    {
      "cell_type": "code",
      "source": [
        "# Solution\n",
        "\n",
        "def SimulateSample(lam=2, n=10, iters=1000):\n",
        "    \"\"\"Sampling distribution of L as an estimator of exponential parameter.\n",
        "\n",
        "    lam: parameter of an exponential distribution\n",
        "    n: sample size\n",
        "    iters: number of iterations\n",
        "    \"\"\"\n",
        "    def VertLine(x, y=1):\n",
        "        thinkplot.Plot([x, x], [0, y], color='0.8', linewidth=3)\n",
        "\n",
        "    estimates = []\n",
        "    for _ in range(iters):\n",
        "        xs = np.random.exponential(1.0/lam, n)\n",
        "        lamhat = 1.0 / np.mean(xs)\n",
        "        estimates.append(lamhat)\n",
        "\n",
        "    stderr = RMSE(estimates, lam)\n",
        "    print('standard error', stderr)\n",
        "\n",
        "    cdf = thinkstats2.Cdf(estimates)\n",
        "    ci = cdf.Percentile(5), cdf.Percentile(95)\n",
        "    print('confidence interval', ci)\n",
        "    VertLine(ci[0])\n",
        "    VertLine(ci[1])\n",
        "\n",
        "    # plot the CDF\n",
        "    thinkplot.Cdf(cdf)\n",
        "    thinkplot.Config(xlabel='estimate',\n",
        "                     ylabel='CDF',\n",
        "                     title='Sampling distribution')\n",
        "\n",
        "    return stderr\n",
        "\n",
        "SimulateSample()"
      ],
      "metadata": {
        "colab": {
          "base_uri": "https://localhost:8080/",
          "height": 347
        },
        "id": "jqd1IKHM6NW2",
        "outputId": "4e3ffce1-ea45-4059-c458-9639add0a6f8"
      },
      "execution_count": 13,
      "outputs": [
        {
          "output_type": "stream",
          "name": "stdout",
          "text": [
            "standard error 0.8694403256751461\n",
            "confidence interval (1.3022490308306254, 3.784230880395089)\n"
          ]
        },
        {
          "output_type": "execute_result",
          "data": {
            "text/plain": [
              "0.8694403256751461"
            ]
          },
          "metadata": {},
          "execution_count": 13
        },
        {
          "output_type": "display_data",
          "data": {
            "text/plain": [
              "<Figure size 432x288 with 1 Axes>"
            ],
            "image/png": "[encoded data removed]"
          },
          "metadata": {
            "needs_background": "light"
          }
        }
      ]
    },
    {
      "cell_type": "markdown",
      "source": [
        "Exercise: In games like hockey and soccer, the time between goals is roughly exponential. So you could estimate a team’s goal-scoring rate by observing the number of goals they score in a game. This estimation process is a little different from sampling the time between goals, so let’s see how it works.\n",
        "\n",
        "Write a function that takes a goal-scoring rate, lam, in goals per game, and simulates a game by generating the time between goals until the total time exceeds 1 game, then returns the number of goals scored.\n",
        "\n",
        "Write another function that simulates many games, stores the estimates of lam, then computes their mean error and RMSE.\n",
        "\n",
        "Is this way of making an estimate biased?"
      ],
      "metadata": {
        "id": "pGmnQ3c47G85"
      }
    },
    {
      "cell_type": "code",
      "source": [
        "def SimulateGame(lam):\n",
        "    \"\"\"Simulates a game and returns the estimated goal-scoring rate.\n",
        "\n",
        "    lam: actual goal scoring rate in goals per game\n",
        "    \"\"\"\n",
        "    goals = 0\n",
        "    t = 0\n",
        "    while True:\n",
        "        time_between_goals = random.expovariate(lam)\n",
        "        t += time_between_goals\n",
        "        if t > 1:\n",
        "            break\n",
        "        goals += 1\n",
        "\n",
        "    # estimated goal-scoring rate is the actual number of goals scored\n",
        "    L = goals\n",
        "    return L"
      ],
      "metadata": {
        "id": "OnR9qxF67HX_"
      },
      "execution_count": 14,
      "outputs": []
    },
    {
      "cell_type": "code",
      "source": [
        "# Solution\n",
        "\n",
        "# The following function simulates many games, then uses the\n",
        "# number of goals scored as an estimate of the true long-term\n",
        "# goal-scoring rate.\n",
        "\n",
        "def Estimate6(lam=2, m=1000000):\n",
        "\n",
        "    estimates = []\n",
        "    for i in range(m):\n",
        "        L = SimulateGame(lam)\n",
        "        estimates.append(L)\n",
        "\n",
        "    print('Experiment 4')\n",
        "    print('rmse L', RMSE(estimates, lam))\n",
        "    print('mean error L', MeanError(estimates, lam))\n",
        "    \n",
        "    pmf = thinkstats2.Pmf(estimates)\n",
        "    thinkplot.Hist(pmf)\n",
        "    thinkplot.Config(xlabel='Goals scored', ylabel='PMF')\n",
        "    \n",
        "Estimate6()"
      ],
      "metadata": {
        "colab": {
          "base_uri": "https://localhost:8080/",
          "height": 331
        },
        "id": "lxt3kpeO7R49",
        "outputId": "fe0c8f0b-d08f-419f-968c-6d347d1c1ce0"
      },
      "execution_count": 15,
      "outputs": [
        {
          "output_type": "stream",
          "name": "stdout",
          "text": [
            "Experiment 4\n",
            "rmse L 1.4131967308198814\n",
            "mean error L -0.000225\n"
          ]
        },
        {
          "output_type": "display_data",
          "data": {
            "text/plain": [
              "<Figure size 432x288 with 1 Axes>"
            ],
            "image/png": "[encoded data removed]"
          },
          "metadata": {
            "needs_background": "light"
          }
        }
      ]
    },
    {
      "cell_type": "code",
      "source": [
        "# Solution\n",
        "\n",
        "def Estimate4(n=7, iters=100000):\n",
        "    \"\"\"Mean error for xbar and median as estimators of population mean.\n",
        "\n",
        "    n: sample size\n",
        "    iters: number of iterations\n",
        "    \"\"\"\n",
        "    mu = 0\n",
        "    sigma = 1\n",
        "\n",
        "    means = []\n",
        "    medians = []\n",
        "    for _ in range(iters):\n",
        "        xs = [random.gauss(mu, sigma) for i in range(n)]\n",
        "        xbar = np.mean(xs)\n",
        "        median = np.median(xs)\n",
        "        means.append(xbar)\n",
        "        medians.append(median)\n",
        "\n",
        "    print('Experiment 1')\n",
        "    print('mean error xbar', MeanError(means, mu))\n",
        "    print('mean error median', MeanError(medians, mu))\n",
        "    \n",
        "Estimate4()"
      ],
      "metadata": {
        "colab": {
          "base_uri": "https://localhost:8080/"
        },
        "id": "U7EnZK7Q7bg8",
        "outputId": "3ae40c65-fe94-422b-96be-0bf6268c42d6"
      },
      "execution_count": 16,
      "outputs": [
        {
          "output_type": "stream",
          "name": "stdout",
          "text": [
            "Experiment 1\n",
            "mean error xbar 0.0013094243005081674\n",
            "mean error median 0.0011178757794883117\n"
          ]
        }
      ]
    },
    {
      "cell_type": "code",
      "source": [
        "# Solution\n",
        "\n",
        "def Estimate5(n=7, iters=100000):\n",
        "    \"\"\"RMSE for biased and unbiased estimators of population variance.\n",
        "\n",
        "    n: sample size\n",
        "    iters: number of iterations\n",
        "    \"\"\"\n",
        "    mu = 0\n",
        "    sigma = 1\n",
        "\n",
        "    estimates1 = []\n",
        "    estimates2 = []\n",
        "    for _ in range(iters):\n",
        "        xs = [random.gauss(mu, sigma) for i in range(n)]\n",
        "        biased = np.var(xs)\n",
        "        unbiased = np.var(xs, ddof=1)\n",
        "        estimates1.append(biased)\n",
        "        estimates2.append(unbiased)\n",
        "\n",
        "    print('Experiment 2')\n",
        "    print('RMSE biased', RMSE(estimates1, sigma**2))\n",
        "    print('RMSE unbiased', RMSE(estimates2, sigma**2))\n",
        "\n",
        "Estimate5()"
      ],
      "metadata": {
        "id": "YAqLS2Wg7pgh",
        "outputId": "0de534cf-5da5-438e-befe-9e8882b65cd5",
        "colab": {
          "base_uri": "https://localhost:8080/"
        }
      },
      "execution_count": 17,
      "outputs": [
        {
          "output_type": "stream",
          "name": "stdout",
          "text": [
            "Experiment 2\n",
            "RMSE biased 0.5151973045372182\n",
            "RMSE unbiased 0.577456981663952\n"
          ]
        }
      ]
    },
    {
      "cell_type": "code",
      "source": [],
      "metadata": {
        "id": "HmDUXcJ_5T3f"
      },
      "execution_count": null,
      "outputs": []
    }
  ]
}