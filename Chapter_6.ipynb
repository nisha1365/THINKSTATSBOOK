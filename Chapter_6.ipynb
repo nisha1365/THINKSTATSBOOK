{
  "nbformat": 4,
  "nbformat_minor": 0,
  "metadata": {
    "colab": {
      "provenance": [],
      "authorship_tag": "ABX9TyMLU/475puWBl/+8mRtYZzU",
      "include_colab_link": true
    },
    "kernelspec": {
      "name": "python3",
      "display_name": "Python 3"
    },
    "language_info": {
      "name": "python"
    }
  },
  "cells": [
    {
      "cell_type": "markdown",
      "metadata": {
        "id": "view-in-github",
        "colab_type": "text"
      },
      "source": [
        "<a href=\"https://colab.research.google.com/github/nisha1365/THINKSTATSBOOK/blob/main/Chapter_6.ipynb\" target=\"_parent\"><img src=\"https://colab.research.google.com/assets/colab-badge.svg\" alt=\"Open In Colab\"/></a>"
      ]
    },
    {
      "cell_type": "code",
      "source": [
        "from os.path import basename, exists\n",
        "\n",
        "\n",
        "def download(url):\n",
        "    filename = basename(url)\n",
        "    if not exists(filename):\n",
        "        from urllib.request import urlretrieve\n",
        "\n",
        "        local, _ = urlretrieve(url, filename)\n",
        "        print(\"Downloaded \" + local)\n",
        "\n",
        "\n",
        "download(\"https://github.com/AllenDowney/ThinkStats2/raw/master/code/thinkstats2.py\")\n",
        "download(\"https://github.com/AllenDowney/ThinkStats2/raw/master/code/thinkplot.py\")"
      ],
      "metadata": {
        "id": "7quTbzsUk99-",
        "outputId": "4f4ec827-c098-4e39-9b0c-8f771f962ff4",
        "colab": {
          "base_uri": "https://localhost:8080/"
        }
      },
      "execution_count": 1,
      "outputs": [
        {
          "output_type": "stream",
          "name": "stdout",
          "text": [
            "Downloaded thinkstats2.py\n",
            "Downloaded thinkplot.py\n"
          ]
        }
      ]
    },
    {
      "cell_type": "code",
      "source": [
        "import numpy as np\n",
        "\n",
        "import thinkstats2\n",
        "import thinkplot"
      ],
      "metadata": {
        "id": "rKCVHbcoltVh"
      },
      "execution_count": 2,
      "outputs": []
    },
    {
      "cell_type": "markdown",
      "source": [
        "I'll start with the data from the BRFSS again."
      ],
      "metadata": {
        "id": "grC53JAily8D"
      }
    },
    {
      "cell_type": "code",
      "source": [
        "download(\"https://github.com/AllenDowney/ThinkStats2/raw/master/code/brfss.py\")\n",
        "download(\"https://github.com/AllenDowney/ThinkStats2/raw/master/code/CDBRFS08.ASC.gz\")"
      ],
      "metadata": {
        "id": "EAWpjR7-lzS8",
        "outputId": "78fa0119-0fb5-4125-b5fb-b500080313f0",
        "colab": {
          "base_uri": "https://localhost:8080/"
        }
      },
      "execution_count": 3,
      "outputs": [
        {
          "output_type": "stream",
          "name": "stdout",
          "text": [
            "Downloaded brfss.py\n",
            "Downloaded CDBRFS08.ASC.gz\n"
          ]
        }
      ]
    },
    {
      "cell_type": "code",
      "source": [
        "import brfss\n",
        "\n",
        "df = brfss.ReadBrfss(nrows=None)"
      ],
      "metadata": {
        "id": "x7IxyB2bl3j7"
      },
      "execution_count": 4,
      "outputs": []
    },
    {
      "cell_type": "markdown",
      "source": [
        "Here are the mean and standard deviation of female height in cm."
      ],
      "metadata": {
        "id": "H867RCf-l59o"
      }
    },
    {
      "cell_type": "code",
      "source": [
        "female = df[df.sex==2]\n",
        "female_heights = female.htm3.dropna()\n",
        "mean, std = female_heights.mean(), female_heights.std()\n",
        "mean, std"
      ],
      "metadata": {
        "id": "yGoupFgPl6UE",
        "outputId": "5f9bfe9d-73ca-4d52-83c3-537f025d6a38",
        "colab": {
          "base_uri": "https://localhost:8080/"
        }
      },
      "execution_count": 5,
      "outputs": [
        {
          "output_type": "execute_result",
          "data": {
            "text/plain": [
              "(163.22347500412215, 7.269156286642232)"
            ]
          },
          "metadata": {},
          "execution_count": 5
        }
      ]
    },
    {
      "cell_type": "markdown",
      "source": [
        "NormalPdf returns a Pdf object that represents the normal distribution with the given parameters.\n",
        "\n",
        "Density returns a probability density, which doesn't mean much by itself."
      ],
      "metadata": {
        "id": "w2f8vOI0mC-q"
      }
    },
    {
      "cell_type": "code",
      "source": [
        "pdf = thinkstats2.NormalPdf(mean, std)\n",
        "pdf.Density(mean + std)"
      ],
      "metadata": {
        "id": "b9_ZWgANmDWt",
        "outputId": "5f81367a-2c0a-467e-c4f8-6543a9134577",
        "colab": {
          "base_uri": "https://localhost:8080/"
        }
      },
      "execution_count": 6,
      "outputs": [
        {
          "output_type": "execute_result",
          "data": {
            "text/plain": [
              "0.033287319047437085"
            ]
          },
          "metadata": {},
          "execution_count": 6
        }
      ]
    },
    {
      "cell_type": "markdown",
      "source": [
        "thinkplot provides Pdf, which plots the probability density with a smooth curve."
      ],
      "metadata": {
        "id": "d8spPgKBmJA1"
      }
    },
    {
      "cell_type": "code",
      "source": [
        "thinkplot.Pdf(pdf, label='normal')\n",
        "thinkplot.Config(xlabel='x', ylabel='PDF', xlim=[140, 186])"
      ],
      "metadata": {
        "id": "pWrgZiH_mJY3",
        "outputId": "56808dcd-76e3-4853-9d15-14c38b757fb9",
        "colab": {
          "base_uri": "https://localhost:8080/",
          "height": 279
        }
      },
      "execution_count": 7,
      "outputs": [
        {
          "output_type": "display_data",
          "data": {
            "text/plain": [
              "<Figure size 432x288 with 1 Axes>"
            ],
            "image/png": "[encoded data removed]"
          },
          "metadata": {
            "needs_background": "light"
          }
        }
      ]
    },
    {
      "cell_type": "markdown",
      "source": [
        "Pdf provides MakePmf, which returns a Pmf object that approximates the Pdf."
      ],
      "metadata": {
        "id": "B9gL081nmTOD"
      }
    },
    {
      "cell_type": "code",
      "source": [
        "pmf = pdf.MakePmf()\n",
        "thinkplot.Pmf(pmf, label='normal')\n",
        "thinkplot.Config(xlabel='x', ylabel='PDF', xlim=[140, 186])"
      ],
      "metadata": {
        "id": "XW2KHi-jmTiq",
        "outputId": "c4d4a7eb-ab2d-41ed-dea6-d63070bfb714",
        "colab": {
          "base_uri": "https://localhost:8080/",
          "height": 282
        }
      },
      "execution_count": 8,
      "outputs": [
        {
          "output_type": "display_data",
          "data": {
            "text/plain": [
              "<Figure size 432x288 with 1 Axes>"
            ],
            "image/png": "[encoded data removed]"
          },
          "metadata": {
            "needs_background": "light"
          }
        }
      ]
    },
    {
      "cell_type": "markdown",
      "source": [
        "If you have a Pmf, you can also plot it using Pdf, if you have reason to think it should be represented as a smooth curve."
      ],
      "metadata": {
        "id": "j47zEsmJm4jT"
      }
    },
    {
      "cell_type": "code",
      "source": [
        "thinkplot.Pdf(pmf, label='normal')\n",
        "thinkplot.Config(xlabel='x', ylabel='PDF', xlim=[140, 186])"
      ],
      "metadata": {
        "id": "cTjW1CNqm43n",
        "outputId": "29950d1f-2763-48ee-fe47-3674d67deb8d",
        "colab": {
          "base_uri": "https://localhost:8080/",
          "height": 282
        }
      },
      "execution_count": 9,
      "outputs": [
        {
          "output_type": "display_data",
          "data": {
            "text/plain": [
              "<Figure size 432x288 with 1 Axes>"
            ],
            "image/png": "[encoded data removed]"
          },
          "metadata": {
            "needs_background": "light"
          }
        }
      ]
    },
    {
      "cell_type": "markdown",
      "source": [
        "Using a sample from the actual distribution, we can estimate the PDF using Kernel Density Estimation (KDE).\n",
        "\n",
        "If you run this a few times, you'll see how much variation there is in the estimate."
      ],
      "metadata": {
        "id": "slF0pvJcm-gG"
      }
    },
    {
      "cell_type": "code",
      "source": [
        "thinkplot.Pdf(pdf, label='normal')\n",
        "\n",
        "sample = np.random.normal(mean, std, 500)\n",
        "sample_pdf = thinkstats2.EstimatedPdf(sample, label='sample')\n",
        "thinkplot.Pdf(sample_pdf, label='sample KDE')\n",
        "thinkplot.Config(xlabel='x', ylabel='PDF', xlim=[140, 186])"
      ],
      "metadata": {
        "id": "hBF4Q6eIm-3D",
        "outputId": "9ae924d3-313f-45b0-b226-c053db2c0c68",
        "colab": {
          "base_uri": "https://localhost:8080/",
          "height": 279
        }
      },
      "execution_count": 10,
      "outputs": [
        {
          "output_type": "display_data",
          "data": {
            "text/plain": [
              "<Figure size 432x288 with 1 Axes>"
            ],
            "image/png": "[encoded data removed]"
          },
          "metadata": {
            "needs_background": "light"
          }
        }
      ]
    },
    {
      "cell_type": "markdown",
      "source": [
        "# Moments\n",
        "\n",
        "Raw moments are just sums of powers."
      ],
      "metadata": {
        "id": "cpmTBCp4nL8x"
      }
    },
    {
      "cell_type": "code",
      "source": [
        "def RawMoment(xs, k):\n",
        "    return sum(x**k for x in xs) / len(xs)"
      ],
      "metadata": {
        "id": "qqycaYdcnZCh"
      },
      "execution_count": 11,
      "outputs": []
    },
    {
      "cell_type": "markdown",
      "source": [
        "The first raw moment is the mean. The other raw moments don't mean much."
      ],
      "metadata": {
        "id": "eZEhcxwYnbpI"
      }
    },
    {
      "cell_type": "code",
      "source": [
        "RawMoment(female_heights, 1), RawMoment(female_heights, 2), RawMoment(female_heights, 3)"
      ],
      "metadata": {
        "id": "7gHKuvNGndlS",
        "outputId": "d45df4bf-cc27-428f-fa5e-7f0ee5bc4c5a",
        "colab": {
          "base_uri": "https://localhost:8080/"
        }
      },
      "execution_count": 12,
      "outputs": [
        {
          "output_type": "execute_result",
          "data": {
            "text/plain": [
              "(163.22347500412215, 26694.74321809659, 4374411.46250422)"
            ]
          },
          "metadata": {},
          "execution_count": 12
        }
      ]
    },
    {
      "cell_type": "code",
      "source": [
        "def Mean(xs):\n",
        "    return RawMoment(xs, 1)\n",
        "\n",
        "Mean(female_heights)"
      ],
      "metadata": {
        "id": "T7waXD_4nhcm",
        "outputId": "6324e3e2-48e3-4ddd-fd6d-eef130f05665",
        "colab": {
          "base_uri": "https://localhost:8080/"
        }
      },
      "execution_count": 13,
      "outputs": [
        {
          "output_type": "execute_result",
          "data": {
            "text/plain": [
              "163.22347500412215"
            ]
          },
          "metadata": {},
          "execution_count": 13
        }
      ]
    },
    {
      "cell_type": "markdown",
      "source": [
        "The central moments are powers of distances from the mean."
      ],
      "metadata": {
        "id": "9bQnSaUcnjtn"
      }
    },
    {
      "cell_type": "code",
      "source": [
        "def CentralMoment(xs, k):\n",
        "    mean = RawMoment(xs, 1)\n",
        "    return sum((x - mean)**k for x in xs) / len(xs)"
      ],
      "metadata": {
        "id": "z4IfeN_snj-I"
      },
      "execution_count": 14,
      "outputs": []
    },
    {
      "cell_type": "markdown",
      "source": [
        "The first central moment is approximately 0. The second central moment is the variance."
      ],
      "metadata": {
        "id": "lftWrAOKnq6_"
      }
    },
    {
      "cell_type": "code",
      "source": [
        "CentralMoment(female_heights, 1), CentralMoment(female_heights, 2), CentralMoment(female_heights, 3)"
      ],
      "metadata": {
        "id": "O3-h3lBjnrQt",
        "outputId": "8e8544f3-92a9-4129-ef22-73538544502f",
        "colab": {
          "base_uri": "https://localhost:8080/"
        }
      },
      "execution_count": 15,
      "outputs": [
        {
          "output_type": "execute_result",
          "data": {
            "text/plain": [
              "(-9.903557940122168e-14, 52.84042567529328, -46.88569506887073)"
            ]
          },
          "metadata": {},
          "execution_count": 15
        }
      ]
    },
    {
      "cell_type": "code",
      "source": [
        "def Var(xs):\n",
        "    return CentralMoment(xs, 2)\n",
        "\n",
        "Var(female_heights)"
      ],
      "metadata": {
        "id": "MY0wQ7nOnvyS",
        "outputId": "be64ad7d-4bdb-4676-e9e2-9172645066e0",
        "colab": {
          "base_uri": "https://localhost:8080/"
        }
      },
      "execution_count": 16,
      "outputs": [
        {
          "output_type": "execute_result",
          "data": {
            "text/plain": [
              "52.84042567529328"
            ]
          },
          "metadata": {},
          "execution_count": 16
        }
      ]
    },
    {
      "cell_type": "markdown",
      "source": [
        "The standardized moments are ratios of central moments, with powers chosen to make the dimensions cancel."
      ],
      "metadata": {
        "id": "t1_dYonWnzaa"
      }
    },
    {
      "cell_type": "code",
      "source": [
        "def StandardizedMoment(xs, k):\n",
        "    var = CentralMoment(xs, 2)\n",
        "    std = np.sqrt(var)\n",
        "    return CentralMoment(xs, k) / std**k"
      ],
      "metadata": {
        "id": "TMSg_aDgnz2v"
      },
      "execution_count": 17,
      "outputs": []
    },
    {
      "cell_type": "markdown",
      "source": [
        "The third standardized moment is skewness."
      ],
      "metadata": {
        "id": "aIyeoTyMn900"
      }
    },
    {
      "cell_type": "code",
      "source": [
        "StandardizedMoment(female_heights, 1), StandardizedMoment(female_heights, 2), StandardizedMoment(female_heights, 3)"
      ],
      "metadata": {
        "id": "YiKMcoyzn-KX",
        "outputId": "0c1f1918-6a5c-48cf-872c-e1bf8c8f8fc4",
        "colab": {
          "base_uri": "https://localhost:8080/"
        }
      },
      "execution_count": 18,
      "outputs": [
        {
          "output_type": "execute_result",
          "data": {
            "text/plain": [
              "(-1.3624108479155668e-14, 1.0, -0.1220649274510512)"
            ]
          },
          "metadata": {},
          "execution_count": 18
        }
      ]
    },
    {
      "cell_type": "code",
      "source": [
        "def Skewness(xs):\n",
        "    return StandardizedMoment(xs, 3)\n",
        "\n",
        "Skewness(female_heights)"
      ],
      "metadata": {
        "id": "W96sy6AmoRnL",
        "outputId": "71a47730-5732-426a-9b89-9690dd9cd6c0",
        "colab": {
          "base_uri": "https://localhost:8080/"
        }
      },
      "execution_count": 19,
      "outputs": [
        {
          "output_type": "execute_result",
          "data": {
            "text/plain": [
              "-0.1220649274510512"
            ]
          },
          "metadata": {},
          "execution_count": 19
        }
      ]
    },
    {
      "cell_type": "markdown",
      "source": [
        "Normally a negative skewness indicates that the distribution has a longer tail on the left. In that case, the mean is usually less than the median."
      ],
      "metadata": {
        "id": "7cRaq5WnoUSc"
      }
    },
    {
      "cell_type": "code",
      "source": [
        "def Median(xs):\n",
        "    cdf = thinkstats2.Cdf(xs)\n",
        "    return cdf.Value(0.5)"
      ],
      "metadata": {
        "id": "lJWeLp35oUkT"
      },
      "execution_count": 20,
      "outputs": []
    },
    {
      "cell_type": "markdown",
      "source": [
        "But in this case the mean is greater than the median, which indicates skew to the right."
      ],
      "metadata": {
        "id": "LiTnXiKbocto"
      }
    },
    {
      "cell_type": "code",
      "source": [
        "Mean(female_heights), Median(female_heights)"
      ],
      "metadata": {
        "id": "PdXpVB63ogsI",
        "outputId": "74feb314-90ee-4eec-b402-596b53199cbe",
        "colab": {
          "base_uri": "https://localhost:8080/"
        }
      },
      "execution_count": 21,
      "outputs": [
        {
          "output_type": "execute_result",
          "data": {
            "text/plain": [
              "(163.22347500412215, 163.0)"
            ]
          },
          "metadata": {},
          "execution_count": 21
        }
      ]
    },
    {
      "cell_type": "markdown",
      "source": [
        "Because the skewness is based on the third moment, it is not robust; that is, it depends strongly on a few outliers. Pearson's median skewness is more robust."
      ],
      "metadata": {
        "id": "iepWiOploqwG"
      }
    },
    {
      "cell_type": "code",
      "source": [
        "def PearsonMedianSkewness(xs):\n",
        "    median = Median(xs)\n",
        "    mean = RawMoment(xs, 1)\n",
        "    var = CentralMoment(xs, 2)\n",
        "    std = np.sqrt(var)\n",
        "    gp = 3 * (mean - median) / std\n",
        "    return gp"
      ],
      "metadata": {
        "id": "VZU4pqJbotG1"
      },
      "execution_count": 22,
      "outputs": []
    },
    {
      "cell_type": "markdown",
      "source": [
        "Pearson's skewness is positive, indicating that the distribution of female heights is slightly skewed to the right."
      ],
      "metadata": {
        "id": "YiaJKONSpTxN"
      }
    },
    {
      "cell_type": "code",
      "source": [
        "PearsonMedianSkewness(female_heights)"
      ],
      "metadata": {
        "id": "huNLe8-jpUIm",
        "outputId": "f390de74-2d31-481d-dc1d-8e62f0866683",
        "colab": {
          "base_uri": "https://localhost:8080/"
        }
      },
      "execution_count": 23,
      "outputs": [
        {
          "output_type": "execute_result",
          "data": {
            "text/plain": [
              "0.0922289055190516"
            ]
          },
          "metadata": {},
          "execution_count": 23
        }
      ]
    },
    {
      "cell_type": "markdown",
      "source": [
        "# Birth weights\n",
        "\n",
        "\n",
        "Let's look at the distribution of birth weights again."
      ],
      "metadata": {
        "id": "dqkUtCJ5pXWw"
      }
    },
    {
      "cell_type": "code",
      "source": [
        "download(\"https://github.com/AllenDowney/ThinkStats2/raw/master/code/nsfg.py\")\n",
        "download(\"https://github.com/AllenDowney/ThinkStats2/raw/master/code/first.py\")\n",
        "download(\"https://github.com/AllenDowney/ThinkStats2/raw/master/code/2002FemPreg.dct\")\n",
        "download(\n",
        "    \"https://github.com/AllenDowney/ThinkStats2/raw/master/code/2002FemPreg.dat.gz\"\n",
        ")"
      ],
      "metadata": {
        "id": "NGGUDxDkpdcT",
        "outputId": "31651a43-7bfc-485b-e592-5e33da4f7424",
        "colab": {
          "base_uri": "https://localhost:8080/"
        }
      },
      "execution_count": 24,
      "outputs": [
        {
          "output_type": "stream",
          "name": "stdout",
          "text": [
            "Downloaded nsfg.py\n",
            "Downloaded first.py\n",
            "Downloaded 2002FemPreg.dct\n",
            "Downloaded 2002FemPreg.dat.gz\n"
          ]
        }
      ]
    },
    {
      "cell_type": "code",
      "source": [
        "import first\n",
        "\n",
        "live, firsts, others = first.MakeFrames()"
      ],
      "metadata": {
        "id": "arlTB-qnph3E"
      },
      "execution_count": 25,
      "outputs": []
    },
    {
      "cell_type": "markdown",
      "source": [
        "Based on KDE, it looks like the distribution is skewed to the left."
      ],
      "metadata": {
        "id": "044phhTapljW"
      }
    },
    {
      "cell_type": "code",
      "source": [
        "birth_weights = live.totalwgt_lb.dropna()\n",
        "pdf = thinkstats2.EstimatedPdf(birth_weights)\n",
        "thinkplot.Pdf(pdf, label='birth weight')\n",
        "thinkplot.Config(xlabel='Birth weight (pounds)', ylabel='PDF')"
      ],
      "metadata": {
        "id": "mVCYL7elpl4I",
        "outputId": "90382212-ff65-4df8-aefa-ca64df9670b4",
        "colab": {
          "base_uri": "https://localhost:8080/",
          "height": 279
        }
      },
      "execution_count": 26,
      "outputs": [
        {
          "output_type": "display_data",
          "data": {
            "text/plain": [
              "<Figure size 432x288 with 1 Axes>"
            ],
            "image/png": "[encoded data removed]"
          },
          "metadata": {
            "needs_background": "light"
          }
        }
      ]
    },
    {
      "cell_type": "markdown",
      "source": [
        "The mean is less than the median, which is consistent with left skew."
      ],
      "metadata": {
        "id": "-LCdOLvypskd"
      }
    },
    {
      "cell_type": "code",
      "source": [
        "Mean(birth_weights), Median(birth_weights)"
      ],
      "metadata": {
        "id": "3I8-aiKZptAO",
        "outputId": "b2117a67-71c1-4f9d-b6e2-d8a6c74acc4f",
        "colab": {
          "base_uri": "https://localhost:8080/"
        }
      },
      "execution_count": 27,
      "outputs": [
        {
          "output_type": "execute_result",
          "data": {
            "text/plain": [
              "(7.265628457623368, 7.375)"
            ]
          },
          "metadata": {},
          "execution_count": 27
        }
      ]
    },
    {
      "cell_type": "markdown",
      "source": [
        "And both ways of computing skew are negative, which is consistent with left skew."
      ],
      "metadata": {
        "id": "8YjC2MumpyXY"
      }
    },
    {
      "cell_type": "code",
      "source": [
        "Skewness(birth_weights), PearsonMedianSkewness(birth_weights)"
      ],
      "metadata": {
        "id": "XIomSCwwpypV"
      },
      "execution_count": 27,
      "outputs": []
    },
    {
      "cell_type": "markdown",
      "source": [
        "# Adult weights\n",
        "\n",
        "Now let's look at adult weights from the BRFSS. The distribution looks skewed to the right."
      ],
      "metadata": {
        "id": "rRccvA_UIhAU"
      }
    },
    {
      "cell_type": "code",
      "source": [
        "adult_weights = df.wtkg2.dropna()\n",
        "pdf = thinkstats2.EstimatedPdf(adult_weights)\n",
        "thinkplot.Pdf(pdf, label='Adult weight')\n",
        "thinkplot.Config(xlabel='Adult weight (kg)', ylabel='PDF')"
      ],
      "metadata": {
        "id": "ZOTe3QO2ltfQ",
        "outputId": "6eb24754-200c-442f-9936-7fb6cc54b0c1",
        "colab": {
          "base_uri": "https://localhost:8080/",
          "height": 279
        }
      },
      "execution_count": 28,
      "outputs": [
        {
          "output_type": "display_data",
          "data": {
            "text/plain": [
              "<Figure size 432x288 with 1 Axes>"
            ],
            "image/png": "[encoded data removed]"
          },
          "metadata": {
            "needs_background": "light"
          }
        }
      ]
    },
    {
      "cell_type": "markdown",
      "source": [
        "The mean is greater than the median, which is consistent with skew to the right."
      ],
      "metadata": {
        "id": "5foOcXnIIoJL"
      }
    },
    {
      "cell_type": "code",
      "source": [
        "Mean(adult_weights), Median(adult_weights)\n"
      ],
      "metadata": {
        "id": "nAjwMRZrIrEU",
        "outputId": "2b7739b7-0ebe-4d8e-f307-4e13e98a35a9",
        "colab": {
          "base_uri": "https://localhost:8080/"
        }
      },
      "execution_count": 29,
      "outputs": [
        {
          "output_type": "execute_result",
          "data": {
            "text/plain": [
              "(78.99245299687198, 77.27)"
            ]
          },
          "metadata": {},
          "execution_count": 29
        }
      ]
    },
    {
      "cell_type": "markdown",
      "source": [
        "And both ways of computing skewness are positive."
      ],
      "metadata": {
        "id": "NgYBpuE8I7cx"
      }
    },
    {
      "cell_type": "code",
      "source": [
        "Skewness(adult_weights), PearsonMedianSkewness(adult_weights)"
      ],
      "metadata": {
        "id": "KaffJ9_BI9qJ",
        "outputId": "b9a9c57f-69eb-4348-cff5-e8f6ef3a80e0",
        "colab": {
          "base_uri": "https://localhost:8080/"
        }
      },
      "execution_count": 30,
      "outputs": [
        {
          "output_type": "execute_result",
          "data": {
            "text/plain": [
              "(1.054840012109306, 0.2643673381618039)"
            ]
          },
          "metadata": {},
          "execution_count": 30
        }
      ]
    },
    {
      "cell_type": "markdown",
      "source": [
        "# Exercises\n",
        "\n",
        "The distribution of income is famously skewed to the right. In this exercise, we’ll measure how strong that skew is. The Current Population Survey (CPS) is a joint effort of the Bureau of Labor Statistics and the Census Bureau to study income and related variables. Data collected in 2013 is available from http://www.census.gov/hhes/www/cpstables/032013/hhinc/toc.htm. I downloaded hinc06.xls, which is an Excel spreadsheet with information about household income, and converted it to hinc06.csv, a CSV file you will find in the repository for this book. You will also find hinc2.py, which reads this file and transforms the data."
      ],
      "metadata": {
        "id": "qvZT8JH0JCej"
      }
    },
    {
      "cell_type": "markdown",
      "source": [
        "To estimate mean and other statistics from these data, we have to make some assumptions about the lower and upper bounds, and how the values are distributed in each range. hinc2.py provides InterpolateSample, which shows one way to model this data. It takes a DataFrame with a column, income, that contains the upper bound of each range, and freq, which contains the number of respondents in each frame.\n",
        "\n",
        "It also takes log_upper, which is an assumed upper bound on the highest range, expressed in log10 dollars. The default value, log_upper=6.0 represents the assumption that the largest income among the respondents is 10^6, or one million dollars.\n",
        "\n",
        "InterpolateSample generates a pseudo-sample; that is, a sample of household incomes that yields the same number of respondents in each range as the actual data. It assumes that incomes in each range are equally spaced on a log10 scale."
      ],
      "metadata": {
        "id": "yyLcdZGHJIa8"
      }
    },
    {
      "cell_type": "code",
      "source": [
        "def InterpolateSample(df, log_upper=6.0):\n",
        "    \"\"\"Makes a sample of log10 household income.\n",
        "\n",
        "    Assumes that log10 income is uniform in each range.\n",
        "\n",
        "    df: DataFrame with columns income and freq\n",
        "    log_upper: log10 of the assumed upper bound for the highest range\n",
        "\n",
        "    returns: NumPy array of log10 household income\n",
        "    \"\"\"\n",
        "    # compute the log10 of the upper bound for each range\n",
        "    df['log_upper'] = np.log10(df.income)\n",
        "\n",
        "    # get the lower bounds by shifting the upper bound and filling in\n",
        "    # the first element\n",
        "    df['log_lower'] = df.log_upper.shift(1)\n",
        "    df.loc[0, 'log_lower'] = 3.0\n",
        "\n",
        "    # plug in a value for the unknown upper bound of the highest range\n",
        "    df.loc[41, 'log_upper'] = log_upper\n",
        "    \n",
        "    # use the freq column to generate the right number of values in\n",
        "    # each range\n",
        "    arrays = []\n",
        "    for _, row in df.iterrows():\n",
        "        vals = np.linspace(row.log_lower, row.log_upper, int(row.freq))\n",
        "        arrays.append(vals)\n",
        "\n",
        "    # collect the arrays into a single sample\n",
        "    log_sample = np.concatenate(arrays)\n",
        "    return log_sample"
      ],
      "metadata": {
        "id": "08baC5yzJSk9"
      },
      "execution_count": 31,
      "outputs": []
    },
    {
      "cell_type": "code",
      "source": [
        "download(\"https://github.com/AllenDowney/ThinkStats2/raw/master/code/hinc.py\")\n",
        "download(\"https://github.com/AllenDowney/ThinkStats2/raw/master/code/hinc06.csv\")"
      ],
      "metadata": {
        "id": "y2BcnAYQKKle",
        "outputId": "37d9c3a0-ded4-45b0-df23-8b8fbe7179d7",
        "colab": {
          "base_uri": "https://localhost:8080/"
        }
      },
      "execution_count": 32,
      "outputs": [
        {
          "output_type": "stream",
          "name": "stdout",
          "text": [
            "Downloaded hinc.py\n",
            "Downloaded hinc06.csv\n"
          ]
        }
      ]
    },
    {
      "cell_type": "code",
      "source": [
        "import hinc\n",
        "income_df = hinc.ReadData()"
      ],
      "metadata": {
        "id": "E8lUzYTjKNe4"
      },
      "execution_count": 33,
      "outputs": []
    },
    {
      "cell_type": "code",
      "source": [
        "log_sample = InterpolateSample(income_df, log_upper=6.0)"
      ],
      "metadata": {
        "id": "a5KjTdYwKPjQ"
      },
      "execution_count": 34,
      "outputs": []
    },
    {
      "cell_type": "code",
      "source": [
        "log_cdf = thinkstats2.Cdf(log_sample)\n",
        "thinkplot.Cdf(log_cdf)\n",
        "thinkplot.Config(xlabel='Household income (log $)',\n",
        "               ylabel='CDF')"
      ],
      "metadata": {
        "id": "8yUDbqP4KRoc",
        "outputId": "d717ff4d-3722-4893-b630-64701b2c9893",
        "colab": {
          "base_uri": "https://localhost:8080/",
          "height": 279
        }
      },
      "execution_count": 35,
      "outputs": [
        {
          "output_type": "display_data",
          "data": {
            "text/plain": [
              "<Figure size 432x288 with 1 Axes>"
            ],
            "image/png": "[encoded data removed]"
          },
          "metadata": {
            "needs_background": "light"
          }
        }
      ]
    },
    {
      "cell_type": "code",
      "source": [
        "sample = np.power(10, log_sample)"
      ],
      "metadata": {
        "id": "5p6ZfGjMKZV8"
      },
      "execution_count": 36,
      "outputs": []
    },
    {
      "cell_type": "code",
      "source": [
        "cdf = thinkstats2.Cdf(sample)\n",
        "thinkplot.Cdf(cdf)\n",
        "thinkplot.Config(xlabel='Household income ($)',\n",
        "               ylabel='CDF')"
      ],
      "metadata": {
        "id": "QalmWq03KbtI",
        "outputId": "7c1b566f-c335-4a6e-fec7-c020e5e6f2ac",
        "colab": {
          "base_uri": "https://localhost:8080/",
          "height": 279
        }
      },
      "execution_count": 37,
      "outputs": [
        {
          "output_type": "display_data",
          "data": {
            "text/plain": [
              "<Figure size 432x288 with 1 Axes>"
            ],
            "image/png": "[encoded data removed]"
          },
          "metadata": {
            "needs_background": "light"
          }
        }
      ]
    },
    {
      "cell_type": "markdown",
      "source": [
        "Compute the median, mean, skewness and Pearson’s skewness of the resulting sample. What fraction of households report a taxable income below the mean? How do the results depend on the assumed upper bound?"
      ],
      "metadata": {
        "id": "-l78sVf2KmE-"
      }
    },
    {
      "cell_type": "code",
      "source": [
        "# Solution\n",
        "\n",
        "Mean(sample), Median(sample)"
      ],
      "metadata": {
        "id": "D8eSUdGIKmvo",
        "outputId": "8a3160d6-6238-408d-cedc-a180f852193a",
        "colab": {
          "base_uri": "https://localhost:8080/"
        }
      },
      "execution_count": 38,
      "outputs": [
        {
          "output_type": "execute_result",
          "data": {
            "text/plain": [
              "(74278.70753118739, 51226.45447894046)"
            ]
          },
          "metadata": {},
          "execution_count": 38
        }
      ]
    },
    {
      "cell_type": "code",
      "source": [
        "# Solution\n",
        "\n",
        "Skewness(sample), PearsonMedianSkewness(sample)"
      ],
      "metadata": {
        "id": "3qE4vqiQKsC0",
        "outputId": "09b4d219-bf9e-4a61-d818-de9aff115c99",
        "colab": {
          "base_uri": "https://localhost:8080/"
        }
      },
      "execution_count": 39,
      "outputs": [
        {
          "output_type": "execute_result",
          "data": {
            "text/plain": [
              "(4.949920244429579, 0.7361258019141795)"
            ]
          },
          "metadata": {},
          "execution_count": 39
        }
      ]
    },
    {
      "cell_type": "code",
      "source": [
        "# Solution\n",
        "\n",
        "# About 66% of the population makes less than the mean\n",
        "\n",
        "cdf.Prob(Mean(sample))"
      ],
      "metadata": {
        "id": "EY98m6puKvvT",
        "outputId": "9b2818b2-4acc-49bf-a13d-2d0710f4d91b",
        "colab": {
          "base_uri": "https://localhost:8080/"
        }
      },
      "execution_count": 40,
      "outputs": [
        {
          "output_type": "execute_result",
          "data": {
            "text/plain": [
              "0.660005879566872"
            ]
          },
          "metadata": {},
          "execution_count": 40
        }
      ]
    },
    {
      "cell_type": "markdown",
      "source": [
        "All of this is based on an assumption that the highest income is one million dollars, but that's certainly not correct. What happens to the skew if the upper bound is 10 million?\n",
        "\n",
        "Without better information about the top of this distribution, we can't say much about the skewness of the distribution."
      ],
      "metadata": {
        "id": "TVSyIZ0vK52F"
      }
    }
  ]
}