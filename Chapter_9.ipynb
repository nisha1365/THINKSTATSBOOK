{
  "nbformat": 4,
  "nbformat_minor": 0,
  "metadata": {
    "colab": {
      "provenance": [],
      "authorship_tag": "ABX9TyNPz8zwZGqbpnxgkpgJnGLL",
      "include_colab_link": true
    },
    "kernelspec": {
      "name": "python3",
      "display_name": "Python 3"
    },
    "language_info": {
      "name": "python"
    }
  },
  "cells": [
    {
      "cell_type": "markdown",
      "metadata": {
        "id": "view-in-github",
        "colab_type": "text"
      },
      "source": [
        "<a href=\"https://colab.research.google.com/github/nisha1365/THINKSTATSBOOK/blob/main/Chapter_9.ipynb\" target=\"_parent\"><img src=\"https://colab.research.google.com/assets/colab-badge.svg\" alt=\"Open In Colab\"/></a>"
      ]
    },
    {
      "cell_type": "code",
      "source": [
        "from os.path import basename, exists\n",
        "\n",
        "\n",
        "def download(url):\n",
        "    filename = basename(url)\n",
        "    if not exists(filename):\n",
        "        from urllib.request import urlretrieve\n",
        "\n",
        "        local, _ = urlretrieve(url, filename)\n",
        "        print(\"Downloaded \" + local)\n",
        "\n",
        "\n",
        "download(\"https://github.com/AllenDowney/ThinkStats2/raw/master/code/thinkstats2.py\")\n",
        "download(\"https://github.com/AllenDowney/ThinkStats2/raw/master/code/thinkplot.py\")"
      ],
      "metadata": {
        "id": "vcEAI9URJX2L"
      },
      "execution_count": 3,
      "outputs": []
    },
    {
      "cell_type": "code",
      "source": [
        "import numpy as np\n",
        "\n",
        "import random\n",
        "\n",
        "import thinkstats2\n",
        "import thinkplot"
      ],
      "metadata": {
        "id": "B61z5SvnJa7n"
      },
      "execution_count": 4,
      "outputs": []
    },
    {
      "cell_type": "markdown",
      "source": [
        "# Hypothesis testing\n",
        "\n",
        "The following is a version of thinkstats2.HypothesisTest with just the essential methods:"
      ],
      "metadata": {
        "id": "YqZBH2rGRVHf"
      }
    },
    {
      "cell_type": "code",
      "source": [
        "class HypothesisTest(object):\n",
        "\n",
        "    def __init__(self, data):\n",
        "        self.data = data\n",
        "        self.MakeModel()\n",
        "        self.actual = self.TestStatistic(data)\n",
        "\n",
        "    def PValue(self, iters=1000):\n",
        "        self.test_stats = [self.TestStatistic(self.RunModel()) \n",
        "                           for _ in range(iters)]\n",
        "\n",
        "        count = sum(1 for x in self.test_stats if x >= self.actual)\n",
        "        return count / iters\n",
        "\n",
        "    def TestStatistic(self, data):\n",
        "        raise UnimplementedMethodException()\n",
        "\n",
        "    def MakeModel(self):\n",
        "        pass\n",
        "\n",
        "    def RunModel(self):\n",
        "        raise UnimplementedMethodException()"
      ],
      "metadata": {
        "id": "4yBj4ySJRXAI"
      },
      "execution_count": 5,
      "outputs": []
    },
    {
      "cell_type": "markdown",
      "source": [
        "And here's an example that uses it to compute the p-value of an experiment where we toss a coin 250 times and get 140 heads."
      ],
      "metadata": {
        "id": "jjY2vhifSwDp"
      }
    },
    {
      "cell_type": "code",
      "source": [
        "class CoinTest(HypothesisTest):\n",
        "\n",
        "    def TestStatistic(self, data):\n",
        "        heads, tails = data\n",
        "        test_stat = abs(heads - tails)\n",
        "        return test_stat\n",
        "\n",
        "    def RunModel(self):\n",
        "        heads, tails = self.data\n",
        "        n = heads + tails\n",
        "        sample = [random.choice('HT') for _ in range(n)]\n",
        "        hist = thinkstats2.Hist(sample)\n",
        "        data = hist['H'], hist['T']\n",
        "        return data"
      ],
      "metadata": {
        "id": "64d3_mxFSyOQ"
      },
      "execution_count": 6,
      "outputs": []
    },
    {
      "cell_type": "markdown",
      "source": [
        "The p-value turns out to be about 7%, which is considered on the border of statistical significance."
      ],
      "metadata": {
        "id": "9D5hHCPQS7pt"
      }
    },
    {
      "cell_type": "code",
      "source": [
        "ct = CoinTest((140, 110))\n",
        "pvalue = ct.PValue()\n",
        "pvalue"
      ],
      "metadata": {
        "id": "rmGfs9SUS8b0",
        "outputId": "e3e44741-7729-4b85-adcc-e2db81e53c70",
        "colab": {
          "base_uri": "https://localhost:8080/"
        }
      },
      "execution_count": 7,
      "outputs": [
        {
          "output_type": "execute_result",
          "data": {
            "text/plain": [
              "0.065"
            ]
          },
          "metadata": {},
          "execution_count": 7
        }
      ]
    },
    {
      "cell_type": "markdown",
      "source": [
        "# Permutation test\n",
        "\n",
        "To compute the p-value of an observed difference in means, we can assume that there is no difference between the groups and generate simulated results by shuffling the data."
      ],
      "metadata": {
        "id": "DA56ePUSTLKM"
      }
    },
    {
      "cell_type": "code",
      "source": [
        "class DiffMeansPermute(thinkstats2.HypothesisTest):\n",
        "\n",
        "    def TestStatistic(self, data):\n",
        "        group1, group2 = data\n",
        "        test_stat = abs(group1.mean() - group2.mean())\n",
        "        return test_stat\n",
        "\n",
        "    def MakeModel(self):\n",
        "        group1, group2 = self.data\n",
        "        self.n, self.m = len(group1), len(group2)\n",
        "        self.pool = np.hstack((group1, group2))\n",
        "\n",
        "    def RunModel(self):\n",
        "        np.random.shuffle(self.pool)\n",
        "        data = self.pool[:self.n], self.pool[self.n:]\n",
        "        return data"
      ],
      "metadata": {
        "id": "DpGmX-dCTNUe"
      },
      "execution_count": 8,
      "outputs": []
    },
    {
      "cell_type": "markdown",
      "source": [
        "Here's an example where we test the observed difference in pregnancy length for first babies and others."
      ],
      "metadata": {
        "id": "NH6f7OZlYl_M"
      }
    },
    {
      "cell_type": "code",
      "source": [
        "download(\"https://github.com/AllenDowney/ThinkStats2/raw/master/code/nsfg.py\")\n",
        "download(\"https://github.com/AllenDowney/ThinkStats2/raw/master/code/first.py\")\n",
        "download(\"https://github.com/AllenDowney/ThinkStats2/raw/master/code/2002FemPreg.dct\")\n",
        "download(\n",
        "    \"https://github.com/AllenDowney/ThinkStats2/raw/master/code/2002FemPreg.dat.gz\"\n",
        ")"
      ],
      "metadata": {
        "id": "hPn2aNI4YmVL",
        "outputId": "ff0a2657-d42b-4cfc-f9e3-96fac8d3353a",
        "colab": {
          "base_uri": "https://localhost:8080/"
        }
      },
      "execution_count": 9,
      "outputs": [
        {
          "output_type": "stream",
          "name": "stdout",
          "text": [
            "Downloaded nsfg.py\n",
            "Downloaded first.py\n",
            "Downloaded 2002FemPreg.dct\n",
            "Downloaded 2002FemPreg.dat.gz\n"
          ]
        }
      ]
    },
    {
      "cell_type": "code",
      "source": [
        "import first\n",
        "\n",
        "live, firsts, others = first.MakeFrames()\n",
        "data = firsts.prglngth.values, others.prglngth.values"
      ],
      "metadata": {
        "id": "LPpDwS78Yp5u"
      },
      "execution_count": 10,
      "outputs": []
    },
    {
      "cell_type": "markdown",
      "source": [
        "The p-value is about 17%, which means it is plausible that the observed difference is just the result of random sampling, and might not be generally true in the population."
      ],
      "metadata": {
        "id": "D_MpjdfFYwVo"
      }
    },
    {
      "cell_type": "code",
      "source": [
        "ht = DiffMeansPermute(data)\n",
        "pvalue = ht.PValue()\n",
        "pvalue"
      ],
      "metadata": {
        "id": "DXjpEnZBYwrh",
        "outputId": "c3ac743a-4213-481d-fab1-7807724254c1",
        "colab": {
          "base_uri": "https://localhost:8080/"
        }
      },
      "execution_count": 11,
      "outputs": [
        {
          "output_type": "execute_result",
          "data": {
            "text/plain": [
              "0.172"
            ]
          },
          "metadata": {},
          "execution_count": 11
        }
      ]
    },
    {
      "cell_type": "markdown",
      "source": [
        "Here's the distrubution of the test statistic (the difference in means) over many simulated samples:"
      ],
      "metadata": {
        "id": "X6H1RDR6Y1KV"
      }
    },
    {
      "cell_type": "code",
      "source": [
        "ht.PlotCdf()\n",
        "thinkplot.Config(xlabel='test statistic',\n",
        "                   ylabel='CDF')"
      ],
      "metadata": {
        "id": "5x_7KbAfY1iO",
        "outputId": "b1bdb4cd-d4c4-45f9-b1a1-188ef3d0b1e9",
        "colab": {
          "base_uri": "https://localhost:8080/",
          "height": 279
        }
      },
      "execution_count": 12,
      "outputs": [
        {
          "output_type": "display_data",
          "data": {
            "text/plain": [
              "<Figure size 432x288 with 1 Axes>"
            ],
            "image/png": "[encoded data removed]"
          },
          "metadata": {
            "needs_background": "light"
          }
        }
      ]
    },
    {
      "cell_type": "markdown",
      "source": [
        "Under the null hypothesis, we often see differences bigger than the observed difference."
      ],
      "metadata": {
        "id": "bTb8pl-uY7-y"
      }
    },
    {
      "cell_type": "code",
      "source": [
        "class DiffMeansOneSided(DiffMeansPermute):\n",
        "\n",
        "    def TestStatistic(self, data):\n",
        "        group1, group2 = data\n",
        "        test_stat = group1.mean() - group2.mean()\n",
        "        return test_stat"
      ],
      "metadata": {
        "id": "50soK6G3Y8r-"
      },
      "execution_count": 13,
      "outputs": []
    },
    {
      "cell_type": "markdown",
      "source": [
        "If the hypothesis under test is that first babies come late, the appropriate test statistic is the raw difference between first babies and others, rather than the absolute value of the difference. In that case, the p-value is smaller, because we are testing a more specific hypothesis."
      ],
      "metadata": {
        "id": "hb0hx-TSZFYG"
      }
    },
    {
      "cell_type": "code",
      "source": [
        "ht = DiffMeansOneSided(data)\n",
        "pvalue = ht.PValue()\n",
        "pvalue"
      ],
      "metadata": {
        "id": "e1CXxESbZFs2",
        "outputId": "e50490cf-8898-40d2-9b90-524e4014bbdd",
        "colab": {
          "base_uri": "https://localhost:8080/"
        }
      },
      "execution_count": 14,
      "outputs": [
        {
          "output_type": "execute_result",
          "data": {
            "text/plain": [
              "0.082"
            ]
          },
          "metadata": {},
          "execution_count": 14
        }
      ]
    },
    {
      "cell_type": "markdown",
      "source": [
        "But in this example, the result is still not statistically significant."
      ],
      "metadata": {
        "id": "RH0QPNQbZJPe"
      }
    },
    {
      "cell_type": "markdown",
      "source": [
        "# Difference in standard deviation\n",
        "\n",
        "In this framework, it is easy to use other test statistics. For example, if we think the variance for first babies might be higher, we can run this test:"
      ],
      "metadata": {
        "id": "iH-9cZRHZL8V"
      }
    },
    {
      "cell_type": "code",
      "source": [
        "class DiffStdPermute(DiffMeansPermute):\n",
        "\n",
        "    def TestStatistic(self, data):\n",
        "        group1, group2 = data\n",
        "        test_stat = group1.std() - group2.std()\n",
        "        return test_stat"
      ],
      "metadata": {
        "id": "_jMzqtKNZNjR"
      },
      "execution_count": 15,
      "outputs": []
    },
    {
      "cell_type": "code",
      "source": [
        "ht = DiffStdPermute(data)\n",
        "pvalue = ht.PValue()\n",
        "pvalue"
      ],
      "metadata": {
        "id": "fK-V9CsdZTx3",
        "outputId": "a3f708e4-64d3-4c1a-b3f2-f7a977bc63ad",
        "colab": {
          "base_uri": "https://localhost:8080/"
        }
      },
      "execution_count": 16,
      "outputs": [
        {
          "output_type": "execute_result",
          "data": {
            "text/plain": [
              "0.086"
            ]
          },
          "metadata": {},
          "execution_count": 16
        }
      ]
    },
    {
      "cell_type": "markdown",
      "source": [
        "But that's not statistically significant either."
      ],
      "metadata": {
        "id": "YEkJ_y4ZZWAj"
      }
    },
    {
      "cell_type": "markdown",
      "source": [
        "# Testing correlation\n",
        "\n",
        "To check whether an observed correlation is statistically significant, we can run a permutation test with a different test statistic."
      ],
      "metadata": {
        "id": "w4sKA7DlZb-v"
      }
    },
    {
      "cell_type": "code",
      "source": [
        "class CorrelationPermute(thinkstats2.HypothesisTest):\n",
        "\n",
        "    def TestStatistic(self, data):\n",
        "        xs, ys = data\n",
        "        test_stat = abs(thinkstats2.Corr(xs, ys))\n",
        "        return test_stat\n",
        "\n",
        "    def RunModel(self):\n",
        "        xs, ys = self.data\n",
        "        xs = np.random.permutation(xs)\n",
        "        return xs, ys"
      ],
      "metadata": {
        "id": "2jDanuO4ZfyC"
      },
      "execution_count": 17,
      "outputs": []
    },
    {
      "cell_type": "markdown",
      "source": [
        "Here's an example testing the correlation between birth weight and mother's age."
      ],
      "metadata": {
        "id": "uulRax7_ZjGD"
      }
    },
    {
      "cell_type": "code",
      "source": [
        "cleaned = live.dropna(subset=['agepreg', 'totalwgt_lb'])\n",
        "data = cleaned.agepreg.values, cleaned.totalwgt_lb.values\n",
        "ht = CorrelationPermute(data)\n",
        "pvalue = ht.PValue()\n",
        "pvalue"
      ],
      "metadata": {
        "id": "vcT5CCgEZjYv",
        "outputId": "95ea2547-4528-4048-8434-ceaffd4991eb",
        "colab": {
          "base_uri": "https://localhost:8080/"
        }
      },
      "execution_count": 18,
      "outputs": [
        {
          "output_type": "execute_result",
          "data": {
            "text/plain": [
              "0.0"
            ]
          },
          "metadata": {},
          "execution_count": 18
        }
      ]
    },
    {
      "cell_type": "markdown",
      "source": [
        "The reported p-value is 0, which means that in 1000 trials we didn't see a correlation, under the null hypothesis, that exceeded the observed correlation. That means that the p-value is probably smaller than 1/1000, but it is not actually 0.\n",
        "\n",
        "To get a sense of how unexpected the observed value is under the null hypothesis, we can compare the actual correlation to the largest value we saw in the simulations."
      ],
      "metadata": {
        "id": "a72MzL25Znzy"
      }
    },
    {
      "cell_type": "code",
      "source": [
        "ht.actual, ht.MaxTestStat()"
      ],
      "metadata": {
        "id": "jvaaNGyyZr6h",
        "outputId": "b30f87a5-4c32-47e5-e4c9-3d9c29810e6f",
        "colab": {
          "base_uri": "https://localhost:8080/"
        }
      },
      "execution_count": 19,
      "outputs": [
        {
          "output_type": "execute_result",
          "data": {
            "text/plain": [
              "(0.06883397035410904, 0.034653844018743274)"
            ]
          },
          "metadata": {},
          "execution_count": 19
        }
      ]
    },
    {
      "cell_type": "markdown",
      "source": [
        "# Testing proportions\n",
        "\n",
        "Here's an example that tests whether the outcome of a rolling a six-sided die is suspicious, where the test statistic is the total absolute difference between the observed outcomes and the expected long-term averages."
      ],
      "metadata": {
        "id": "KFt7xcOxZzWX"
      }
    },
    {
      "cell_type": "code",
      "source": [
        "class DiceTest(thinkstats2.HypothesisTest):\n",
        "\n",
        "    def TestStatistic(self, data):\n",
        "        observed = data\n",
        "        n = sum(observed)\n",
        "        expected = np.ones(6) * n / 6\n",
        "        test_stat = sum(abs(observed - expected))\n",
        "        return test_stat\n",
        "\n",
        "    def RunModel(self):\n",
        "        n = sum(self.data)\n",
        "        values = [1, 2, 3, 4, 5, 6]\n",
        "        rolls = np.random.choice(values, n, replace=True)\n",
        "        hist = thinkstats2.Hist(rolls)\n",
        "        freqs = hist.Freqs(values)\n",
        "        return freqs"
      ],
      "metadata": {
        "id": "GtICFzR5Z4TE"
      },
      "execution_count": 20,
      "outputs": []
    },
    {
      "cell_type": "markdown",
      "source": [
        "Here's an example using the data from the book:"
      ],
      "metadata": {
        "id": "AHWB4HxPaKvV"
      }
    },
    {
      "cell_type": "code",
      "source": [
        "data = [8, 9, 19, 5, 8, 11]\n",
        "dt = DiceTest(data)\n",
        "pvalue = dt.PValue(iters=10000)\n",
        "pvalue"
      ],
      "metadata": {
        "id": "rcw0x1NXaLCk",
        "outputId": "63ca4795-a0c2-4940-9cff-e1f6bf1e9c56",
        "colab": {
          "base_uri": "https://localhost:8080/"
        }
      },
      "execution_count": 21,
      "outputs": [
        {
          "output_type": "execute_result",
          "data": {
            "text/plain": [
              "0.13"
            ]
          },
          "metadata": {},
          "execution_count": 21
        }
      ]
    },
    {
      "cell_type": "markdown",
      "source": [
        "The observed deviance from the expected values is not statistically significant.\n",
        "\n",
        "By convention, it is more common to test data like this using the chi-squared statistic"
      ],
      "metadata": {
        "id": "tRlTbiMFaSPs"
      }
    },
    {
      "cell_type": "code",
      "source": [
        "class DiceChiTest(DiceTest):\n",
        "\n",
        "    def TestStatistic(self, data):\n",
        "        observed = data\n",
        "        n = sum(observed)\n",
        "        expected = np.ones(6) * n / 6\n",
        "        test_stat = sum((observed - expected)**2 / expected)\n",
        "        return test_stat"
      ],
      "metadata": {
        "id": "nSKV4QYGaULg"
      },
      "execution_count": 22,
      "outputs": []
    },
    {
      "cell_type": "markdown",
      "source": [
        "\n",
        "Using this test, we get a smaller p-value:"
      ],
      "metadata": {
        "id": "LzTgF02lafUq"
      }
    },
    {
      "cell_type": "code",
      "source": [
        "dt = DiceChiTest(data)\n",
        "pvalue = dt.PValue(iters=10000)\n",
        "pvalue"
      ],
      "metadata": {
        "id": "edcEgl8bahLe",
        "outputId": "3c3a596c-29d4-4ec9-e412-d7ef75c1d8d1",
        "colab": {
          "base_uri": "https://localhost:8080/"
        }
      },
      "execution_count": 23,
      "outputs": [
        {
          "output_type": "execute_result",
          "data": {
            "text/plain": [
              "0.0413"
            ]
          },
          "metadata": {},
          "execution_count": 23
        }
      ]
    },
    {
      "cell_type": "markdown",
      "source": [
        "Taking this result at face value, we might consider the data statistically significant, but considering the results of both tests, I would not draw any strong conclusions."
      ],
      "metadata": {
        "id": "1S_YahJQaj5L"
      }
    },
    {
      "cell_type": "markdown",
      "source": [
        "# Chi-square test of pregnancy length"
      ],
      "metadata": {
        "id": "EZldQjCHan68"
      }
    },
    {
      "cell_type": "code",
      "source": [
        "class PregLengthTest(thinkstats2.HypothesisTest):\n",
        "\n",
        "    def MakeModel(self):\n",
        "        firsts, others = self.data\n",
        "        self.n = len(firsts)\n",
        "        self.pool = np.hstack((firsts, others))\n",
        "\n",
        "        pmf = thinkstats2.Pmf(self.pool)\n",
        "        self.values = range(35, 44)\n",
        "        self.expected_probs = np.array(pmf.Probs(self.values))\n",
        "\n",
        "    def RunModel(self):\n",
        "        np.random.shuffle(self.pool)\n",
        "        data = self.pool[:self.n], self.pool[self.n:]\n",
        "        return data\n",
        "    \n",
        "    def TestStatistic(self, data):\n",
        "        firsts, others = data\n",
        "        stat = self.ChiSquared(firsts) + self.ChiSquared(others)\n",
        "        return stat\n",
        "\n",
        "    def ChiSquared(self, lengths):\n",
        "        hist = thinkstats2.Hist(lengths)\n",
        "        observed = np.array(hist.Freqs(self.values))\n",
        "        expected = self.expected_probs * len(lengths)\n",
        "        stat = sum((observed - expected)**2 / expected)\n",
        "        return stat"
      ],
      "metadata": {
        "id": "ojREMuIEao3x"
      },
      "execution_count": 24,
      "outputs": []
    },
    {
      "cell_type": "markdown",
      "source": [
        "If we specifically test the deviations of first babies and others from the expected number of births in each week of pregnancy, the results are statistically significant with a very small p-value. But at this point we have run so many tests, we should not be surprised to find at least one that seems significant."
      ],
      "metadata": {
        "id": "yFoCPTfAaurl"
      }
    },
    {
      "cell_type": "code",
      "source": [
        "data = firsts.prglngth.values, others.prglngth.values\n",
        "ht = PregLengthTest(data)\n",
        "p_value = ht.PValue()\n",
        "print('p-value =', p_value)\n",
        "print('actual =', ht.actual)\n",
        "print('ts max =', ht.MaxTestStat())"
      ],
      "metadata": {
        "id": "_ZMYQR0javcz",
        "outputId": "6efb2757-3e8c-4e48-e91e-43f818239b82",
        "colab": {
          "base_uri": "https://localhost:8080/"
        }
      },
      "execution_count": 25,
      "outputs": [
        {
          "output_type": "stream",
          "name": "stdout",
          "text": [
            "p-value = 0.0\n",
            "actual = 101.50141482893264\n",
            "ts max = 23.84354563154766\n"
          ]
        }
      ]
    },
    {
      "cell_type": "markdown",
      "source": [
        "\n",
        "# Power\n",
        "\n",
        "Here's the function that estimates the probability of a non-significant p-value even is there really is a difference between the groups."
      ],
      "metadata": {
        "id": "68ngpl9Ma4FK"
      }
    },
    {
      "cell_type": "code",
      "source": [
        "def FalseNegRate(data, num_runs=1000):\n",
        "    \"\"\"Computes the chance of a false negative based on resampling.\n",
        "\n",
        "    data: pair of sequences\n",
        "    num_runs: how many experiments to simulate\n",
        "\n",
        "    returns: float false negative rate\n",
        "    \"\"\"\n",
        "    group1, group2 = data\n",
        "    count = 0\n",
        "\n",
        "    for i in range(num_runs):\n",
        "        sample1 = thinkstats2.Resample(group1)\n",
        "        sample2 = thinkstats2.Resample(group2)\n",
        "        ht = DiffMeansPermute((sample1, sample2))\n",
        "        p_value = ht.PValue(iters=101)\n",
        "        if p_value > 0.05:\n",
        "            count += 1\n",
        "\n",
        "    return count / num_runs"
      ],
      "metadata": {
        "id": "LOtOfSGoa_3D"
      },
      "execution_count": 26,
      "outputs": []
    },
    {
      "cell_type": "code",
      "source": [
        "neg_rate = FalseNegRate(data)\n",
        "neg_rate"
      ],
      "metadata": {
        "id": "Gl8sV38ibCDE",
        "outputId": "aec79419-bbb7-4022-d223-4148066cd12f",
        "colab": {
          "base_uri": "https://localhost:8080/"
        }
      },
      "execution_count": 27,
      "outputs": [
        {
          "output_type": "execute_result",
          "data": {
            "text/plain": [
              "0.693"
            ]
          },
          "metadata": {},
          "execution_count": 27
        }
      ]
    },
    {
      "cell_type": "markdown",
      "source": [
        "In this example, the false negative rate is 70%, which means that the power of the test (probability of statistical significance if the actual difference is 0.078 weeks) is only 30%."
      ],
      "metadata": {
        "id": "0EZQC9tUbEgq"
      }
    },
    {
      "cell_type": "markdown",
      "source": [
        "# Exercises\n",
        "\n",
        "**Exercise**: As sample size increases, the power of a hypothesis test increases, which means it is more likely to be positive if the effect is real. Conversely, as sample size decreases, the test is less likely to be positive even if the effect is real.\n",
        "\n",
        "To investigate this behavior, run the tests in this chapter with different subsets of the NSFG data. You can use thinkstats2.SampleRows to select a random subset of the rows in a DataFrame.\n",
        "\n",
        "What happens to the p-values of these tests as sample size decreases? What is the smallest sample size that yields a positive test?"
      ],
      "metadata": {
        "id": "QJsB-g05bJgR"
      }
    },
    {
      "cell_type": "code",
      "source": [
        "# Solution\n",
        "\n",
        "def RunTests(live, iters=1000):\n",
        "    \"\"\"Runs the tests from Chapter 9 with a subset of the data.\n",
        "\n",
        "    live: DataFrame\n",
        "    iters: how many iterations to run\n",
        "    \"\"\"\n",
        "    n = len(live)\n",
        "    firsts = live[live.birthord == 1]\n",
        "    others = live[live.birthord != 1]\n",
        "\n",
        "    # compare pregnancy lengths\n",
        "    data = firsts.prglngth.values, others.prglngth.values\n",
        "    ht = DiffMeansPermute(data)\n",
        "    p1 = ht.PValue(iters=iters)\n",
        "\n",
        "    data = (firsts.totalwgt_lb.dropna().values,\n",
        "            others.totalwgt_lb.dropna().values)\n",
        "    ht = DiffMeansPermute(data)\n",
        "    p2 = ht.PValue(iters=iters)\n",
        "\n",
        "    # test correlation\n",
        "    live2 = live.dropna(subset=['agepreg', 'totalwgt_lb'])\n",
        "    data = live2.agepreg.values, live2.totalwgt_lb.values\n",
        "    ht = CorrelationPermute(data)\n",
        "    p3 = ht.PValue(iters=iters)\n",
        "\n",
        "    # compare pregnancy lengths (chi-squared)\n",
        "    data = firsts.prglngth.values, others.prglngth.values\n",
        "    ht = PregLengthTest(data)\n",
        "    p4 = ht.PValue(iters=iters)\n",
        "\n",
        "    print('%d\\t%0.2f\\t%0.2f\\t%0.2f\\t%0.2f' % (n, p1, p2, p3, p4))"
      ],
      "metadata": {
        "id": "ajR0vj77bL7n"
      },
      "execution_count": 28,
      "outputs": []
    },
    {
      "cell_type": "code",
      "source": [
        "# Solution\n",
        "\n",
        "n = len(live)\n",
        "for _ in range(7):\n",
        "    sample = thinkstats2.SampleRows(live, n)\n",
        "    RunTests(sample)\n",
        "    n //= 2"
      ],
      "metadata": {
        "id": "JEYHF6yxbU_Q",
        "outputId": "db9ef8d5-2651-4cd2-d351-662c3c524e7b",
        "colab": {
          "base_uri": "https://localhost:8080/"
        }
      },
      "execution_count": 29,
      "outputs": [
        {
          "output_type": "stream",
          "name": "stdout",
          "text": [
            "9148\t0.16\t0.00\t0.00\t0.00\n",
            "4574\t0.17\t0.01\t0.00\t0.00\n",
            "2287\t0.37\t0.06\t0.01\t0.00\n",
            "1143\t0.34\t0.07\t0.03\t0.01\n",
            "571\t0.93\t0.01\t0.33\t0.53\n",
            "285\t0.35\t0.38\t0.00\t0.64\n",
            "142\t0.31\t0.15\t0.99\t0.08\n"
          ]
        }
      ]
    },
    {
      "cell_type": "code",
      "source": [
        "# Solution\n",
        "\n",
        "# My results:\n",
        "\n",
        "# test1: difference in mean pregnancy length\n",
        "# test2: difference in mean birth weight\n",
        "# test3: correlation of mother's age and birth weight\n",
        "# test4: chi-square test of pregnancy length\n",
        "\n",
        "# n       test1   test2   test2   test4\n",
        "# 9148\t0.16\t0.00\t0.00\t0.00\n",
        "# 4574\t0.10\t0.01\t0.00\t0.00\n",
        "# 2287\t0.25\t0.06\t0.00\t0.00\n",
        "# 1143\t0.24\t0.03\t0.39\t0.03\n",
        "# 571\t0.81\t0.00\t0.04\t0.04\n",
        "# 285\t0.57\t0.41\t0.48\t0.83\n",
        "# 142\t0.45\t0.08\t0.60\t0.04\n",
        "\n",
        "# Conclusion: As expected, tests that are positive with large sample\n",
        "# sizes become negative as we take away data.  But the pattern is\n",
        "# erratic, with some positive tests even at small sample sizes."
      ],
      "metadata": {
        "id": "ALBZhFiCbc_U"
      },
      "execution_count": null,
      "outputs": []
    },
    {
      "cell_type": "markdown",
      "source": [
        "**Exercise**: In Section 9.3, we simulated the null hypothesis by permutation; that is, we treated the observed values as if they represented the entire population, and randomly assigned the members of the population to the two groups.\n",
        "\n",
        "An alternative is to use the sample to estimate the distribution for the population, then draw a random sample from that distribution. This process is called resampling. There are several ways to implement resampling, but one of the simplest is to draw a sample with replacement from the observed values, as in Section 9.10.\n",
        "\n",
        "Write a class named DiffMeansResample that inherits from DiffMeansPermute and overrides RunModel to implement resampling, rather than permutation.\n",
        "\n",
        "Use this model to test the differences in pregnancy length and birth weight. How much does the model affect the results?"
      ],
      "metadata": {
        "id": "nhsukBgIbky1"
      }
    },
    {
      "cell_type": "code",
      "source": [
        "# Solution\n",
        "\n",
        "class DiffMeansResample(DiffMeansPermute):\n",
        "    \"\"\"Tests a difference in means using resampling.\"\"\"\n",
        "    \n",
        "    def RunModel(self):\n",
        "        \"\"\"Run the model of the null hypothesis.\n",
        "\n",
        "        returns: simulated data\n",
        "        \"\"\"\n",
        "        group1 = np.random.choice(self.pool, self.n, replace=True)\n",
        "        group2 = np.random.choice(self.pool, self.m, replace=True)\n",
        "        return group1, group2"
      ],
      "metadata": {
        "id": "w-i4mnAobmBY"
      },
      "execution_count": 30,
      "outputs": []
    },
    {
      "cell_type": "code",
      "source": [
        "# Solution\n",
        "\n",
        "def RunResampleTest(firsts, others):\n",
        "    \"\"\"Tests differences in means by resampling.\n",
        "\n",
        "    firsts: DataFrame\n",
        "    others: DataFrame\n",
        "    \"\"\"\n",
        "    data = firsts.prglngth.values, others.prglngth.values\n",
        "    ht = DiffMeansResample(data)\n",
        "    p_value = ht.PValue(iters=10000)\n",
        "    print('\\ndiff means resample preglength')\n",
        "    print('p-value =', p_value)\n",
        "    print('actual =', ht.actual)\n",
        "    print('ts max =', ht.MaxTestStat())\n",
        "\n",
        "    data = (firsts.totalwgt_lb.dropna().values,\n",
        "            others.totalwgt_lb.dropna().values)\n",
        "    ht = DiffMeansPermute(data)\n",
        "    p_value = ht.PValue(iters=10000)\n",
        "    print('\\ndiff means resample birthweight')\n",
        "    print('p-value =', p_value)\n",
        "    print('actual =', ht.actual)\n",
        "    print('ts max =', ht.MaxTestStat())"
      ],
      "metadata": {
        "id": "55yMaB6kakS5"
      },
      "execution_count": 32,
      "outputs": []
    },
    {
      "cell_type": "code",
      "source": [
        "# Solution\n",
        "\n",
        "RunResampleTest(firsts, others)"
      ],
      "metadata": {
        "id": "crIKehAMb4Dt",
        "outputId": "6b904842-1d5d-4644-f3c3-b65771063775",
        "colab": {
          "base_uri": "https://localhost:8080/"
        }
      },
      "execution_count": 33,
      "outputs": [
        {
          "output_type": "stream",
          "name": "stdout",
          "text": [
            "\n",
            "diff means resample preglength\n",
            "p-value = 0.1655\n",
            "actual = 0.07803726677754952\n",
            "ts max = 0.247426354552438\n",
            "\n",
            "diff means resample birthweight\n",
            "p-value = 0.0\n",
            "actual = 0.12476118453549034\n",
            "ts max = 0.10687134520843156\n"
          ]
        }
      ]
    },
    {
      "cell_type": "code",
      "source": [
        "# Solution\n",
        "\n",
        "# Conclusions: Using resampling instead of permutation has very\n",
        "# little effect on the results.\n",
        "\n",
        "# The two models are based on slightly difference assumptions, and in\n",
        "# this example there is no compelling reason to choose one or the other.\n",
        "# But in general p-values depend on the choice of the null hypothesis;\n",
        "# different models can yield very different results."
      ],
      "metadata": {
        "id": "1TCc8uVsb7-9"
      },
      "execution_count": 34,
      "outputs": []
    },
    {
      "cell_type": "code",
      "source": [],
      "metadata": {
        "id": "48cQfkyEZJsd"
      },
      "execution_count": null,
      "outputs": []
    }
  ]
}