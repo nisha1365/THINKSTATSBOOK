{
  "nbformat": 4,
  "nbformat_minor": 0,
  "metadata": {
    "colab": {
      "provenance": [],
      "authorship_tag": "ABX9TyPKa2P7u9ghHfHPRIIpO+pK",
      "include_colab_link": true
    },
    "kernelspec": {
      "name": "python3",
      "display_name": "Python 3"
    },
    "language_info": {
      "name": "python"
    }
  },
  "cells": [
    {
      "cell_type": "markdown",
      "metadata": {
        "id": "view-in-github",
        "colab_type": "text"
      },
      "source": [
        "<a href=\"https://colab.research.google.com/github/nisha1365/THINKSTATSBOOK/blob/main/Chapter_14.ipynb\" target=\"_parent\"><img src=\"https://colab.research.google.com/assets/colab-badge.svg\" alt=\"Open In Colab\"/></a>"
      ]
    },
    {
      "cell_type": "code",
      "execution_count": 1,
      "metadata": {
        "colab": {
          "base_uri": "https://localhost:8080/"
        },
        "id": "rHL-sCX4Zcj1",
        "outputId": "a21a2c8b-96b8-4d3d-ba2c-008f48e47040"
      },
      "outputs": [
        {
          "output_type": "stream",
          "name": "stdout",
          "text": [
            "Downloaded thinkstats2.py\n",
            "Downloaded thinkplot.py\n"
          ]
        }
      ],
      "source": [
        "from os.path import basename, exists\n",
        "\n",
        "\n",
        "def download(url):\n",
        "    filename = basename(url)\n",
        "    if not exists(filename):\n",
        "        from urllib.request import urlretrieve\n",
        "\n",
        "        local, _ = urlretrieve(url, filename)\n",
        "        print(\"Downloaded \" + local)\n",
        "\n",
        "\n",
        "download(\"https://github.com/AllenDowney/ThinkStats2/raw/master/code/thinkstats2.py\")\n",
        "download(\"https://github.com/AllenDowney/ThinkStats2/raw/master/code/thinkplot.py\")"
      ]
    },
    {
      "cell_type": "code",
      "source": [
        "import numpy as np\n",
        "import pandas as pd\n",
        "\n",
        "import random\n",
        "\n",
        "import thinkstats2\n",
        "import thinkplot"
      ],
      "metadata": {
        "id": "m7T_sc0tZoKV"
      },
      "execution_count": 2,
      "outputs": []
    },
    {
      "cell_type": "markdown",
      "source": [
        "Analytic methods\n",
        "If we know the parameters of the sampling distribution, we can compute confidence intervals and p-values analytically, which is computationally faster than resampling."
      ],
      "metadata": {
        "id": "kMrhbaUBZrQd"
      }
    },
    {
      "cell_type": "code",
      "source": [
        "import scipy.stats\n",
        "\n",
        "\n",
        "def EvalNormalCdfInverse(p, mu=0, sigma=1):\n",
        "    return scipy.stats.norm.ppf(p, loc=mu, scale=sigma)"
      ],
      "metadata": {
        "id": "9M1eCuVTZrkR"
      },
      "execution_count": 3,
      "outputs": []
    },
    {
      "cell_type": "markdown",
      "source": [
        "Here's the confidence interval for the estimated mean."
      ],
      "metadata": {
        "id": "T-KKq2GwZwP0"
      }
    },
    {
      "cell_type": "code",
      "source": [
        "EvalNormalCdfInverse(0.05, mu=90, sigma=2.5)"
      ],
      "metadata": {
        "colab": {
          "base_uri": "https://localhost:8080/"
        },
        "id": "TNmuUed0ZwzV",
        "outputId": "f93cc5f5-276f-41db-be7a-1cef8e9bbc18"
      },
      "execution_count": 4,
      "outputs": [
        {
          "output_type": "execute_result",
          "data": {
            "text/plain": [
              "85.88786593262132"
            ]
          },
          "metadata": {},
          "execution_count": 4
        }
      ]
    },
    {
      "cell_type": "code",
      "source": [
        "EvalNormalCdfInverse(0.95, mu=90, sigma=2.5)"
      ],
      "metadata": {
        "colab": {
          "base_uri": "https://localhost:8080/"
        },
        "id": "z2VogA95Zz5L",
        "outputId": "c222792c-e300-4aee-8c86-81c6bf83302c"
      },
      "execution_count": 5,
      "outputs": [
        {
          "output_type": "execute_result",
          "data": {
            "text/plain": [
              "94.11213406737868"
            ]
          },
          "metadata": {},
          "execution_count": 5
        }
      ]
    },
    {
      "cell_type": "markdown",
      "source": [
        "\n",
        "normal.py provides a Normal class that encapsulates what we know about arithmetic operations on normal distributions."
      ],
      "metadata": {
        "id": "eKF89L_IZ19n"
      }
    },
    {
      "cell_type": "code",
      "source": [
        "download(\"https://github.com/AllenDowney/ThinkStats2/raw/master/code/normal.py\")\n",
        "download(\"https://github.com/AllenDowney/ThinkStats2/raw/master/code/hypothesis.py\")\n",
        "download(\"https://github.com/AllenDowney/ThinkStats2/raw/master/code/nsfg2.py\")\n",
        "\n",
        "download(\"https://github.com/AllenDowney/ThinkStats2/raw/master/code/nsfg.py\")\n",
        "download(\"https://github.com/AllenDowney/ThinkStats2/raw/master/code/first.py\")"
      ],
      "metadata": {
        "colab": {
          "base_uri": "https://localhost:8080/"
        },
        "id": "2dsYPOA_Z2Oo",
        "outputId": "7641d44c-5ee1-42ad-b53a-d24901ba7524"
      },
      "execution_count": 6,
      "outputs": [
        {
          "output_type": "stream",
          "name": "stdout",
          "text": [
            "Downloaded normal.py\n",
            "Downloaded hypothesis.py\n",
            "Downloaded nsfg2.py\n",
            "Downloaded nsfg.py\n",
            "Downloaded first.py\n"
          ]
        }
      ]
    },
    {
      "cell_type": "code",
      "source": [
        "from normal import Normal\n",
        "\n",
        "dist = Normal(90, 7.5**2)\n",
        "dist"
      ],
      "metadata": {
        "colab": {
          "base_uri": "https://localhost:8080/"
        },
        "id": "KLpkTxQ6Z8Xy",
        "outputId": "6602c591-b970-42b8-b7bd-b690bd17cf4d"
      },
      "execution_count": 7,
      "outputs": [
        {
          "output_type": "execute_result",
          "data": {
            "text/plain": [
              "Normal(90, 56.25)"
            ]
          },
          "metadata": {},
          "execution_count": 7
        }
      ]
    },
    {
      "cell_type": "markdown",
      "source": [
        "We can use it to compute the sampling distribution of the mean."
      ],
      "metadata": {
        "id": "yJw2JO1yZ-3h"
      }
    },
    {
      "cell_type": "code",
      "source": [
        "dist_xbar = dist.Sum(9) / 9\n",
        "dist_xbar.sigma"
      ],
      "metadata": {
        "colab": {
          "base_uri": "https://localhost:8080/"
        },
        "id": "giiPI214Z_Kf",
        "outputId": "645ff0d5-f652-497b-dc7a-649464c6cdc1"
      },
      "execution_count": 8,
      "outputs": [
        {
          "output_type": "execute_result",
          "data": {
            "text/plain": [
              "2.5"
            ]
          },
          "metadata": {},
          "execution_count": 8
        }
      ]
    },
    {
      "cell_type": "markdown",
      "source": [
        "And then compute a confidence interval."
      ],
      "metadata": {
        "id": "iAVDJBd-aCEY"
      }
    },
    {
      "cell_type": "code",
      "source": [
        "dist_xbar.Percentile(5), dist_xbar.Percentile(95)"
      ],
      "metadata": {
        "id": "YI_5FWTKaCiE",
        "outputId": "6a4de546-03a3-4947-e238-6e795f3b7dea",
        "colab": {
          "base_uri": "https://localhost:8080/"
        }
      },
      "execution_count": 9,
      "outputs": [
        {
          "output_type": "execute_result",
          "data": {
            "text/plain": [
              "(85.88786593262132, 94.11213406737868)"
            ]
          },
          "metadata": {},
          "execution_count": 9
        }
      ]
    },
    {
      "cell_type": "markdown",
      "source": [
        "Central Limit Theorem\n",
        "If you add up independent variates from a distribution with finite mean and variance, the sum converges on a normal distribution.\n",
        "\n",
        "The following function generates samples with difference sizes from an exponential distribution."
      ],
      "metadata": {
        "id": "7ioVjN0raFk8"
      }
    },
    {
      "cell_type": "code",
      "source": [
        "def MakeExpoSamples(beta=2.0, iters=1000):\n",
        "    \"\"\"Generates samples from an exponential distribution.\n",
        "\n",
        "    beta: parameter\n",
        "    iters: number of samples to generate for each size\n",
        "\n",
        "    returns: list of samples\n",
        "    \"\"\"\n",
        "    samples = []\n",
        "    for n in [1, 10, 100]:\n",
        "        sample = [np.sum(np.random.exponential(beta, n)) for _ in range(iters)]\n",
        "        samples.append((n, sample))\n",
        "    return samples"
      ],
      "metadata": {
        "id": "u1e5ckZFaF9j"
      },
      "execution_count": 10,
      "outputs": []
    },
    {
      "cell_type": "markdown",
      "source": [
        "This function generates normal probability plots for samples with various sizes."
      ],
      "metadata": {
        "id": "_rMi2btLaNBs"
      }
    },
    {
      "cell_type": "code",
      "source": [
        "def NormalPlotSamples(samples, plot=1, ylabel=\"\"):\n",
        "    \"\"\"Makes normal probability plots for samples.\n",
        "\n",
        "    samples: list of samples\n",
        "    label: string\n",
        "    \"\"\"\n",
        "    for n, sample in samples:\n",
        "        thinkplot.SubPlot(plot)\n",
        "        thinkstats2.NormalProbabilityPlot(sample)\n",
        "\n",
        "        thinkplot.Config(\n",
        "            title=\"n=%d\" % n,\n",
        "            legend=False,\n",
        "            xticks=[],\n",
        "            yticks=[],\n",
        "            xlabel=\"random normal variate\",\n",
        "            ylabel=ylabel,\n",
        "        )\n",
        "        plot += 1"
      ],
      "metadata": {
        "id": "E_pnXo71aNV0"
      },
      "execution_count": 11,
      "outputs": []
    },
    {
      "cell_type": "markdown",
      "source": [
        "\n",
        "The following plot shows how the sum of exponential variates converges to normal as sample size increases.\n",
        "\n"
      ],
      "metadata": {
        "id": "O64tckQAaWwI"
      }
    },
    {
      "cell_type": "code",
      "source": [
        "thinkplot.PrePlot(num=3, rows=2, cols=3)\n",
        "samples = MakeExpoSamples()\n",
        "NormalPlotSamples(samples, plot=1, ylabel=\"sum of expo values\")"
      ],
      "metadata": {
        "id": "DtxG1l7naXBb",
        "outputId": "959fd486-40e6-49f9-aeee-79e78544e9d8",
        "colab": {
          "base_uri": "https://localhost:8080/",
          "height": 363
        }
      },
      "execution_count": 12,
      "outputs": [
        {
          "output_type": "stream",
          "name": "stderr",
          "text": [
            "/content/thinkplot.py:182: MatplotlibDeprecationWarning: Adding an axes using the same arguments as a previous axes currently reuses the earlier instance.  In a future version, a new instance will always be created and returned.  Meanwhile, this warning can be suppressed, and the future behavior ensured, by passing a unique label to each axes instance.\n",
            "  return plt.subplot(rows, cols, plot_number, **options)\n"
          ]
        },
        {
          "output_type": "display_data",
          "data": {
            "text/plain": [
              "<Figure size 1152x720 with 3 Axes>"
            ],
            "image/png": "[encoded data removed]"
          },
          "metadata": {}
        }
      ]
    },
    {
      "cell_type": "markdown",
      "source": [
        "The lognormal distribution has higher variance, so it requires a larger sample size before it converges to normal."
      ],
      "metadata": {
        "id": "gpPqFTxLabY7"
      }
    },
    {
      "cell_type": "code",
      "source": [
        "def MakeLognormalSamples(mu=1.0, sigma=1.0, iters=1000):\n",
        "    \"\"\"Generates samples from a lognormal distribution.\n",
        "\n",
        "    mu: parmeter\n",
        "    sigma: parameter\n",
        "    iters: number of samples to generate for each size\n",
        "\n",
        "    returns: list of samples\n",
        "    \"\"\"\n",
        "    samples = []\n",
        "    for n in [1, 10, 100]:\n",
        "        sample = [np.sum(np.random.lognormal(mu, sigma, n)) for _ in range(iters)]\n",
        "        samples.append((n, sample))\n",
        "    return samples"
      ],
      "metadata": {
        "id": "B3o1FfubabqG"
      },
      "execution_count": 13,
      "outputs": []
    },
    {
      "cell_type": "code",
      "source": [
        "thinkplot.PrePlot(num=3, rows=2, cols=3)\n",
        "samples = MakeLognormalSamples()\n",
        "NormalPlotSamples(samples, ylabel=\"sum of lognormal values\")"
      ],
      "metadata": {
        "id": "KfgZacFZaeux",
        "outputId": "93a06b55-4673-4133-c3db-d9fce192465c",
        "colab": {
          "base_uri": "https://localhost:8080/",
          "height": 363
        }
      },
      "execution_count": 14,
      "outputs": [
        {
          "output_type": "stream",
          "name": "stderr",
          "text": [
            "/content/thinkplot.py:182: MatplotlibDeprecationWarning: Adding an axes using the same arguments as a previous axes currently reuses the earlier instance.  In a future version, a new instance will always be created and returned.  Meanwhile, this warning can be suppressed, and the future behavior ensured, by passing a unique label to each axes instance.\n",
            "  return plt.subplot(rows, cols, plot_number, **options)\n"
          ]
        },
        {
          "output_type": "display_data",
          "data": {
            "text/plain": [
              "<Figure size 1152x720 with 3 Axes>"
            ],
            "image/png": "[encoded data removed]"
          },
          "metadata": {}
        }
      ]
    },
    {
      "cell_type": "markdown",
      "source": [
        "The Pareto distribution has infinite variance, and sometimes infinite mean, depending on the parameters. It violates the requirements of the CLT and does not generally converge to normal."
      ],
      "metadata": {
        "id": "mWN7VMe6ai7N"
      }
    },
    {
      "cell_type": "code",
      "source": [
        "def MakeParetoSamples(alpha=1.0, iters=1000):\n",
        "    \"\"\"Generates samples from a Pareto distribution.\n",
        "\n",
        "    alpha: parameter\n",
        "    iters: number of samples to generate for each size\n",
        "\n",
        "    returns: list of samples\n",
        "    \"\"\"\n",
        "    samples = []\n",
        "\n",
        "    for n in [1, 10, 100]:\n",
        "        sample = [np.sum(np.random.pareto(alpha, n)) for _ in range(iters)]\n",
        "        samples.append((n, sample))\n",
        "    return samples"
      ],
      "metadata": {
        "id": "zC1ESUrDalYG"
      },
      "execution_count": 15,
      "outputs": []
    },
    {
      "cell_type": "code",
      "source": [
        "thinkplot.PrePlot(num=3, rows=2, cols=3)\n",
        "samples = MakeParetoSamples()\n",
        "NormalPlotSamples(samples, ylabel=\"sum of Pareto values\")"
      ],
      "metadata": {
        "colab": {
          "base_uri": "https://localhost:8080/",
          "height": 363
        },
        "id": "poObV6c7Zs-a",
        "outputId": "f7232d33-fc60-4555-e66a-7b45602f7fbc"
      },
      "execution_count": 16,
      "outputs": [
        {
          "output_type": "stream",
          "name": "stderr",
          "text": [
            "/content/thinkplot.py:182: MatplotlibDeprecationWarning: Adding an axes using the same arguments as a previous axes currently reuses the earlier instance.  In a future version, a new instance will always be created and returned.  Meanwhile, this warning can be suppressed, and the future behavior ensured, by passing a unique label to each axes instance.\n",
            "  return plt.subplot(rows, cols, plot_number, **options)\n"
          ]
        },
        {
          "output_type": "display_data",
          "data": {
            "text/plain": [
              "<Figure size 1152x720 with 3 Axes>"
            ],
            "image/png": "[encoded data removed]"
          },
          "metadata": {}
        }
      ]
    },
    {
      "cell_type": "markdown",
      "source": [
        "If the random variates are correlated, that also violates the CLT, so the sums don't generally converge.\n",
        "\n",
        "To generate correlated values, we generate correlated normal values and then transform to whatever distribution we want."
      ],
      "metadata": {
        "id": "h80c7x7Natrv"
      }
    },
    {
      "cell_type": "code",
      "source": [
        "def GenerateCorrelated(rho, n):\n",
        "    \"\"\"Generates a sequence of correlated values from a standard normal dist.\n",
        "\n",
        "    rho: coefficient of correlation\n",
        "    n: length of sequence\n",
        "\n",
        "    returns: iterator\n",
        "    \"\"\"\n",
        "    x = random.gauss(0, 1)\n",
        "    yield x\n",
        "\n",
        "    sigma = np.sqrt(1 - rho**2)\n",
        "    for _ in range(n - 1):\n",
        "        x = random.gauss(x * rho, sigma)\n",
        "        yield x"
      ],
      "metadata": {
        "id": "WkfX_XIjauEE"
      },
      "execution_count": 17,
      "outputs": []
    },
    {
      "cell_type": "code",
      "source": [
        "\n",
        "def GenerateExpoCorrelated(rho, n):\n",
        "    \"\"\"Generates a sequence of correlated values from an exponential dist.\n",
        "\n",
        "    rho: coefficient of correlation\n",
        "    n: length of sequence\n",
        "\n",
        "    returns: NumPy array\n",
        "    \"\"\"\n",
        "    normal = list(GenerateCorrelated(rho, n))\n",
        "    uniform = scipy.stats.norm.cdf(normal)\n",
        "    expo = scipy.stats.expon.ppf(uniform)\n",
        "    return expo"
      ],
      "metadata": {
        "id": "LX0uilhSayCl"
      },
      "execution_count": 18,
      "outputs": []
    },
    {
      "cell_type": "code",
      "source": [
        "def MakeCorrelatedSamples(rho=0.9, iters=1000):\n",
        "    \"\"\"Generates samples from a correlated exponential distribution.\n",
        "\n",
        "    rho: correlation\n",
        "    iters: number of samples to generate for each size\n",
        "\n",
        "    returns: list of samples\n",
        "    \"\"\"\n",
        "    samples = []\n",
        "    for n in [1, 10, 100]:\n",
        "        sample = [np.sum(GenerateExpoCorrelated(rho, n)) for _ in range(iters)]\n",
        "        samples.append((n, sample))\n",
        "    return samples"
      ],
      "metadata": {
        "id": "03N2vNdka0W7"
      },
      "execution_count": 19,
      "outputs": []
    },
    {
      "cell_type": "code",
      "source": [
        "thinkplot.PrePlot(num=3, rows=2, cols=3)\n",
        "samples = MakeCorrelatedSamples()\n",
        "NormalPlotSamples(samples, ylabel=\"sum of correlated exponential values\")"
      ],
      "metadata": {
        "id": "41VpJhY3a2XC",
        "outputId": "dd51c277-010c-4c7c-9a0e-b5116c431632",
        "colab": {
          "base_uri": "https://localhost:8080/",
          "height": 363
        }
      },
      "execution_count": 20,
      "outputs": [
        {
          "output_type": "stream",
          "name": "stderr",
          "text": [
            "/content/thinkplot.py:182: MatplotlibDeprecationWarning: Adding an axes using the same arguments as a previous axes currently reuses the earlier instance.  In a future version, a new instance will always be created and returned.  Meanwhile, this warning can be suppressed, and the future behavior ensured, by passing a unique label to each axes instance.\n",
            "  return plt.subplot(rows, cols, plot_number, **options)\n"
          ]
        },
        {
          "output_type": "display_data",
          "data": {
            "text/plain": [
              "<Figure size 1152x720 with 3 Axes>"
            ],
            "image/png": "[encoded data removed]"
          },
          "metadata": {}
        }
      ]
    },
    {
      "cell_type": "markdown",
      "source": [
        "Difference in means\n",
        "Let's use analytic methods to compute a CI and p-value for an observed difference in means.\n",
        "\n",
        "The distribution of pregnancy length is not normal, but it has finite mean and variance, so the sum (or mean) of a few thousand samples is very close to normal."
      ],
      "metadata": {
        "id": "mLjwXYjda5HJ"
      }
    },
    {
      "cell_type": "code",
      "source": [
        "download(\"https://github.com/AllenDowney/ThinkStats2/raw/master/code/2002FemPreg.dct\")\n",
        "download(\n",
        "    \"https://github.com/AllenDowney/ThinkStats2/raw/master/code/2002FemPreg.dat.gz\"\n",
        ")"
      ],
      "metadata": {
        "id": "u9AaZUKDa5bk",
        "outputId": "f99017e6-f980-43fd-fd99-e180d19c5573",
        "colab": {
          "base_uri": "https://localhost:8080/"
        }
      },
      "execution_count": 21,
      "outputs": [
        {
          "output_type": "stream",
          "name": "stdout",
          "text": [
            "Downloaded 2002FemPreg.dct\n",
            "Downloaded 2002FemPreg.dat.gz\n"
          ]
        }
      ]
    },
    {
      "cell_type": "code",
      "source": [
        "import first\n",
        "\n",
        "live, firsts, others = first.MakeFrames()\n",
        "delta = firsts.prglngth.mean() - others.prglngth.mean()\n",
        "delta"
      ],
      "metadata": {
        "id": "FHzLIFHca8sf",
        "outputId": "77e1999e-ca8b-46af-db80-a6bb34712b6d",
        "colab": {
          "base_uri": "https://localhost:8080/"
        }
      },
      "execution_count": 22,
      "outputs": [
        {
          "output_type": "execute_result",
          "data": {
            "text/plain": [
              "0.07803726677754952"
            ]
          },
          "metadata": {},
          "execution_count": 22
        }
      ]
    },
    {
      "cell_type": "markdown",
      "source": [
        "The following function computes the sampling distribution of the mean for a set of values and a given sample size."
      ],
      "metadata": {
        "id": "VInYzavOa_DU"
      }
    },
    {
      "cell_type": "code",
      "source": [
        "def SamplingDistMean(data, n):\n",
        "    \"\"\"Computes the sampling distribution of the mean.\n",
        "\n",
        "    data: sequence of values representing the population\n",
        "    n: sample size\n",
        "\n",
        "    returns: Normal object\n",
        "    \"\"\"\n",
        "    mean, var = data.mean(), data.var()\n",
        "    dist = Normal(mean, var)\n",
        "    return dist.Sum(n) / n"
      ],
      "metadata": {
        "id": "fOSxpTO8a_TY"
      },
      "execution_count": 23,
      "outputs": []
    },
    {
      "cell_type": "markdown",
      "source": [
        "Here are the sampling distributions for the means of the two groups under the null hypothesis."
      ],
      "metadata": {
        "id": "rdxjLfHMbCpR"
      }
    },
    {
      "cell_type": "code",
      "source": [
        "dist1 = SamplingDistMean(live.prglngth, len(firsts))\n",
        "dist2 = SamplingDistMean(live.prglngth, len(others))"
      ],
      "metadata": {
        "id": "jm_f8sJSbC6Q"
      },
      "execution_count": 24,
      "outputs": []
    },
    {
      "cell_type": "markdown",
      "source": [
        "And the sampling distribution for the difference in means.\n",
        "\n"
      ],
      "metadata": {
        "id": "MavX3ojNbG_J"
      }
    },
    {
      "cell_type": "code",
      "source": [
        "dist_diff = dist1 - dist2\n",
        "dist"
      ],
      "metadata": {
        "id": "juR2UErabHPM",
        "outputId": "5b0a3fa2-630a-4836-bc1e-6c3ef9ba9310",
        "colab": {
          "base_uri": "https://localhost:8080/"
        }
      },
      "execution_count": 25,
      "outputs": [
        {
          "output_type": "execute_result",
          "data": {
            "text/plain": [
              "Normal(90, 56.25)"
            ]
          },
          "metadata": {},
          "execution_count": 25
        }
      ]
    },
    {
      "cell_type": "markdown",
      "source": [
        "Under the null hypothesis, here's the chance of exceeding the observed difference."
      ],
      "metadata": {
        "id": "ZmqtZzXYbKXf"
      }
    },
    {
      "cell_type": "code",
      "source": [
        "1 - dist_diff.Prob(delta)"
      ],
      "metadata": {
        "id": "jtREk2nQbKob",
        "outputId": "0536ba0b-dff1-459c-f2b6-a01df2d82b7d",
        "colab": {
          "base_uri": "https://localhost:8080/"
        }
      },
      "execution_count": 26,
      "outputs": [
        {
          "output_type": "execute_result",
          "data": {
            "text/plain": [
              "0.08377070425543787"
            ]
          },
          "metadata": {},
          "execution_count": 26
        }
      ]
    },
    {
      "cell_type": "markdown",
      "source": [
        "And the chance of falling below the negated difference."
      ],
      "metadata": {
        "id": "TNBtNZcBbOO5"
      }
    },
    {
      "cell_type": "code",
      "source": [
        "dist_diff.Prob(-delta)"
      ],
      "metadata": {
        "id": "k7SS9XvvbOiD",
        "outputId": "7b720397-9254-4bd3-e02d-09d6268b9e10",
        "colab": {
          "base_uri": "https://localhost:8080/"
        }
      },
      "execution_count": 27,
      "outputs": [
        {
          "output_type": "execute_result",
          "data": {
            "text/plain": [
              "0.08377070425543781"
            ]
          },
          "metadata": {},
          "execution_count": 27
        }
      ]
    },
    {
      "cell_type": "markdown",
      "source": [
        "Testing a correlation\n",
        "\n",
        "Under the null hypothesis (that there is no correlation), the sampling distribution of the observed correlation (suitably transformed) is a \"Student t\" distribution."
      ],
      "metadata": {
        "id": "55jeOHxsbSt6"
      }
    },
    {
      "cell_type": "code",
      "source": [
        "def StudentCdf(n):\n",
        "    \"\"\"Computes the CDF correlations from uncorrelated variables.\n",
        "\n",
        "    n: sample size\n",
        "\n",
        "    returns: Cdf\n",
        "    \"\"\"\n",
        "    ts = np.linspace(-3, 3, 101)\n",
        "    ps = scipy.stats.t.cdf(ts, df=n - 2)\n",
        "    rs = ts / np.sqrt(n - 2 + ts**2)\n",
        "    return thinkstats2.Cdf(rs, ps)"
      ],
      "metadata": {
        "id": "YjTCSTk0bTqh"
      },
      "execution_count": 28,
      "outputs": []
    },
    {
      "cell_type": "markdown",
      "source": [
        "The following is a HypothesisTest that uses permutation to estimate the sampling distribution of a correlation."
      ],
      "metadata": {
        "id": "s8fB2krgbWoK"
      }
    },
    {
      "cell_type": "code",
      "source": [
        "import hypothesis\n",
        "\n",
        "\n",
        "class CorrelationPermute(hypothesis.CorrelationPermute):\n",
        "    \"\"\"Tests correlations by permutation.\"\"\"\n",
        "\n",
        "    def TestStatistic(self, data):\n",
        "        \"\"\"Computes the test statistic.\n",
        "\n",
        "        data: tuple of xs and ys\n",
        "        \"\"\"\n",
        "        xs, ys = data\n",
        "        return np.corrcoef(xs, ys)[0][1]"
      ],
      "metadata": {
        "id": "togfHe1XbW5G"
      },
      "execution_count": 29,
      "outputs": []
    },
    {
      "cell_type": "markdown",
      "source": [
        "\n",
        "Now we can estimate the sampling distribution by permutation and compare it to the Student t distribution."
      ],
      "metadata": {
        "id": "FXXw1R4ebaGM"
      }
    },
    {
      "cell_type": "code",
      "source": [
        "def ResampleCorrelations(live):\n",
        "    \"\"\"Tests the correlation between birth weight and mother's age.\n",
        "\n",
        "    live: DataFrame for live births\n",
        "\n",
        "    returns: sample size, observed correlation, CDF of resampled correlations\n",
        "    \"\"\"\n",
        "    live2 = live.dropna(subset=[\"agepreg\", \"totalwgt_lb\"])\n",
        "    data = live2.agepreg.values, live2.totalwgt_lb.values\n",
        "    ht = CorrelationPermute(data)\n",
        "    p_value = ht.PValue()\n",
        "    return len(live2), ht.actual, ht.test_cdf"
      ],
      "metadata": {
        "id": "9LcVvspEbaXF"
      },
      "execution_count": 30,
      "outputs": []
    },
    {
      "cell_type": "code",
      "source": [
        "n, r, cdf = ResampleCorrelations(live)\n",
        "\n",
        "model = StudentCdf(n)\n",
        "thinkplot.Plot(model.xs, model.ps, color=\"gray\", alpha=0.5, label=\"Student t\")\n",
        "thinkplot.Cdf(cdf, label=\"sample\")\n",
        "\n",
        "thinkplot.Config(xlabel=\"correlation\", ylabel=\"CDF\", legend=True, loc=\"lower right\")"
      ],
      "metadata": {
        "id": "D7u4llTebdTd",
        "outputId": "a6786acc-bf5d-4bcc-87be-727a48f965a2",
        "colab": {
          "base_uri": "https://localhost:8080/",
          "height": 279
        }
      },
      "execution_count": 31,
      "outputs": [
        {
          "output_type": "display_data",
          "data": {
            "text/plain": [
              "<Figure size 432x288 with 1 Axes>"
            ],
            "image/png": "[encoded data removed]"
          },
          "metadata": {
            "needs_background": "light"
          }
        }
      ]
    },
    {
      "cell_type": "markdown",
      "source": [
        "That confirms the analytic result. Now we can use the CDF of the Student t distribution to compute a p-value."
      ],
      "metadata": {
        "id": "fHfCQdzSbfWq"
      }
    },
    {
      "cell_type": "code",
      "source": [
        "t = r * np.sqrt((n - 2) / (1 - r**2))\n",
        "p_value = 1 - scipy.stats.t.cdf(t, df=n - 2)\n",
        "print(r, p_value)"
      ],
      "metadata": {
        "id": "h5ziLKLybfpg",
        "outputId": "c35fcdf4-0c2f-4b3a-8f25-9787ef58fac7",
        "colab": {
          "base_uri": "https://localhost:8080/"
        }
      },
      "execution_count": 32,
      "outputs": [
        {
          "output_type": "stream",
          "name": "stdout",
          "text": [
            "0.0688339703541091 2.861466619208386e-11\n"
          ]
        }
      ]
    },
    {
      "cell_type": "markdown",
      "source": [
        "Chi-squared test\n",
        "The reason the chi-squared statistic is useful is that we can compute its distribution under the null hypothesis analytically."
      ],
      "metadata": {
        "id": "zkABuczgbihU"
      }
    },
    {
      "cell_type": "code",
      "source": [
        "def ChiSquaredCdf(n):\n",
        "    \"\"\"Discrete approximation of the chi-squared CDF with df=n-1.\n",
        "\n",
        "    n: sample size\n",
        "\n",
        "    returns: Cdf\n",
        "    \"\"\"\n",
        "    xs = np.linspace(0, 25, 101)\n",
        "    ps = scipy.stats.chi2.cdf(xs, df=n - 1)\n",
        "    return thinkstats2.Cdf(xs, ps)"
      ],
      "metadata": {
        "id": "_c2K9iSDbjB2"
      },
      "execution_count": 33,
      "outputs": []
    },
    {
      "cell_type": "code",
      "source": [
        "data = [8, 9, 19, 5, 8, 11]\n",
        "dt = hypothesis.DiceChiTest(data)\n",
        "p_value = dt.PValue(iters=1000)\n",
        "n, chi2, cdf = len(data), dt.actual, dt.test_cdf\n",
        "\n",
        "model = ChiSquaredCdf(n)\n",
        "thinkplot.Plot(model.xs, model.ps, color=\"gray\", alpha=0.3, label=\"chi squared\")\n",
        "thinkplot.Cdf(cdf, label=\"sample\")\n",
        "\n",
        "thinkplot.Config(xlabel=\"chi-squared statistic\", ylabel=\"CDF\", loc=\"lower right\")"
      ],
      "metadata": {
        "id": "XH1glm3JbmWJ",
        "outputId": "a8d47604-8614-4ccd-c207-15763a76f73b",
        "colab": {
          "base_uri": "https://localhost:8080/",
          "height": 279
        }
      },
      "execution_count": 34,
      "outputs": [
        {
          "output_type": "display_data",
          "data": {
            "text/plain": [
              "<Figure size 432x288 with 1 Axes>"
            ],
            "image/png": "[encoded data removed]"
          },
          "metadata": {
            "needs_background": "light"
          }
        }
      ]
    },
    {
      "cell_type": "code",
      "source": [
        "p_value = 1 - scipy.stats.chi2.cdf(chi2, df=n - 1)\n",
        "print(chi2, p_value)"
      ],
      "metadata": {
        "id": "5pbe4pnibo_o",
        "outputId": "4c805d0a-255c-4eeb-80f1-cee975f5210e",
        "colab": {
          "base_uri": "https://localhost:8080/"
        }
      },
      "execution_count": 35,
      "outputs": [
        {
          "output_type": "stream",
          "name": "stdout",
          "text": [
            "11.6 0.04069938850404997\n"
          ]
        }
      ]
    },
    {
      "cell_type": "markdown",
      "source": [
        "w = w0 f1 f2 ... fn\n",
        "\n",
        "where w is adult weight, w0 is birth weight, and fi is the weight gain factor for year i.\n",
        "\n",
        "The log of a product is the sum of the logs of the factors:\n",
        "\n",
        "logw = logw0 + logf1 + logf2 + ... + logfn\n",
        "\n",
        "So by the Central Limit Theorem, the distribution of logw is approximately normal for large n, which implies that the distribution of w is lognormal.\n",
        "\n",
        "To model this phenomenon, choose a distribution for f that seems reasonable, then generate a sample of adult weights by choosing a random value from the distribution of birth weights, choosing a sequence of factors from the distribution of f, and computing the product. What value of n is needed to converge to a lognormal distribution?"
      ],
      "metadata": {
        "id": "CWe-ekpobuG9"
      }
    },
    {
      "cell_type": "code",
      "source": [
        "# Solution\n",
        "\n",
        "\n",
        "def GenerateAdultWeight(birth_weights, n):\n",
        "    \"\"\"Generate a random adult weight by simulating annual gain.\n",
        "\n",
        "    birth_weights: sequence of birth weights in lbs\n",
        "    n: number of years to simulate\n",
        "\n",
        "    returns: adult weight in lbs\n",
        "    \"\"\"\n",
        "    bw = random.choice(birth_weights)\n",
        "    factors = np.random.normal(1.09, 0.03, n)\n",
        "    aw = bw * np.prod(factors)\n",
        "    return aw"
      ],
      "metadata": {
        "id": "ifB5nwlnbuaF"
      },
      "execution_count": 36,
      "outputs": []
    },
    {
      "cell_type": "code",
      "source": [
        "\n",
        "# Solution\n",
        "\n",
        "\n",
        "def PlotAdultWeights(live):\n",
        "    \"\"\"Makes a normal probability plot of log10 adult weight.\n",
        "\n",
        "    live: DataFrame of live births\n",
        "\n",
        "\n",
        "    \"\"\"\n",
        "    birth_weights = live.totalwgt_lb.dropna().values\n",
        "    aws = [GenerateAdultWeight(birth_weights, 40) for _ in range(1000)]\n",
        "    log_aws = np.log10(aws)\n",
        "    thinkstats2.NormalProbabilityPlot(log_aws)\n",
        "    thinkplot.Config(\n",
        "        xlabel=\"standard normal values\",\n",
        "        ylabel=\"adult weight (log10 lbs)\",\n",
        "        loc=\"lower right\",\n",
        "    )"
      ],
      "metadata": {
        "id": "Jel3SS2IbyF3"
      },
      "execution_count": 37,
      "outputs": []
    },
    {
      "cell_type": "code",
      "source": [
        "# Solution\n",
        "\n",
        "PlotAdultWeights(live)"
      ],
      "metadata": {
        "id": "4HFtGD-Ab0K1",
        "outputId": "dc12e911-6f8e-4142-826f-0aa24f630803",
        "colab": {
          "base_uri": "https://localhost:8080/",
          "height": 279
        }
      },
      "execution_count": 38,
      "outputs": [
        {
          "output_type": "display_data",
          "data": {
            "text/plain": [
              "<Figure size 432x288 with 1 Axes>"
            ],
            "image/png": "[encoded data removed]"
          },
          "metadata": {
            "needs_background": "light"
          }
        }
      ]
    },
    {
      "cell_type": "code",
      "source": [
        "# Solution\n",
        "\n",
        "# Here's the observed difference in means\n",
        "\n",
        "delta = firsts.prglngth.mean() - others.prglngth.mean()\n",
        "print(delta)"
      ],
      "metadata": {
        "id": "SUIDtZUZb5HZ",
        "outputId": "f439bb57-5e46-47c7-e013-91b51f710d0a",
        "colab": {
          "base_uri": "https://localhost:8080/"
        }
      },
      "execution_count": 39,
      "outputs": [
        {
          "output_type": "stream",
          "name": "stdout",
          "text": [
            "0.07803726677754952\n"
          ]
        }
      ]
    },
    {
      "cell_type": "code",
      "source": [
        "# Solution\n",
        "\n",
        "# Under the null hypothesis, both sampling distributions are based\n",
        "# on all live births.\n",
        "\n",
        "dist1 = SamplingDistMean(live.prglngth, len(firsts))\n",
        "dist2 = SamplingDistMean(live.prglngth, len(others))\n",
        "dist_diff_null = dist1 - dist2\n",
        "print(\"null hypothesis\", dist_diff_null)\n",
        "print(dist_diff_null.Prob(-delta), 1 - dist_diff_null.Prob(delta))"
      ],
      "metadata": {
        "id": "kwJpZwh-b7Sc",
        "outputId": "c5b1cd52-e01a-4a8c-8c4a-ac6628585769",
        "colab": {
          "base_uri": "https://localhost:8080/"
        }
      },
      "execution_count": 40,
      "outputs": [
        {
          "output_type": "stream",
          "name": "stdout",
          "text": [
            "null hypothesis Normal(0, 0.00319708)\n",
            "0.08377070425543781 0.08377070425543787\n"
          ]
        }
      ]
    },
    {
      "cell_type": "code",
      "source": [
        "# Solution\n",
        "\n",
        "# Under the alternate hypothesis, each sampling distribution is\n",
        "# based on the observed parameters.\n",
        "\n",
        "dist1 = SamplingDistMean(firsts.prglngth, len(firsts))\n",
        "dist2 = SamplingDistMean(others.prglngth, len(others))\n",
        "dist_diff_alt = dist1 - dist2\n",
        "print(\"estimated params\", dist_diff_alt)\n",
        "print(dist_diff_alt.Percentile(5), dist_diff_alt.Percentile(95))"
      ],
      "metadata": {
        "id": "HM06ACjzb9f9",
        "outputId": "cab5b7f8-e642-41d7-fab3-7a608c21a160",
        "colab": {
          "base_uri": "https://localhost:8080/"
        }
      },
      "execution_count": 41,
      "outputs": [
        {
          "output_type": "stream",
          "name": "stdout",
          "text": [
            "estimated params Normal(0.0780373, 0.00321144)\n",
            "-0.015175815869865758 0.17125034942497896\n"
          ]
        }
      ]
    },
    {
      "cell_type": "code",
      "source": [
        "# Solution\n",
        "\n",
        "# The distribution of the difference under the null hypothesis is\n",
        "# centered at 0.\n",
        "\n",
        "# The distribution of the difference using the estimated parameters\n",
        "# is centered around the observed difference.\n",
        "\n",
        "thinkplot.PrePlot(2)\n",
        "thinkplot.Plot(dist_diff_null, label=\"null hypothesis\")\n",
        "\n",
        "thinkplot.Plot(dist_diff_alt, label=\"estimated params\")\n",
        "thinkplot.Config(xlabel=\"Difference in means (weeks)\", ylabel=\"CDF\", loc=\"lower right\")"
      ],
      "metadata": {
        "id": "7rKRlA76b_7H",
        "outputId": "013dc7e4-18fb-4b49-f5f6-5475da49673c",
        "colab": {
          "base_uri": "https://localhost:8080/",
          "height": 279
        }
      },
      "execution_count": 42,
      "outputs": [
        {
          "output_type": "display_data",
          "data": {
            "text/plain": [
              "<Figure size 432x288 with 1 Axes>"
            ],
            "image/png": "[encoded data removed]"
          },
          "metadata": {
            "needs_background": "light"
          }
        }
      ]
    },
    {
      "cell_type": "markdown",
      "source": [
        "Exercise: In a recent paper, Stein et al. investigate the effects of an intervention intended to mitigate gender-stereotypical task allocation within student engineering teams.\n",
        "\n",
        "Before and after the intervention, students responded to a survey that asked them to rate their contribution to each aspect of class projects on a 7-point scale.\n",
        "\n",
        "Before the intervention, male students reported higher scores for the programming aspect of the project than female students; on average men reported a score of 3.57 with standard error 0.28. Women reported 1.91, on average, with standard error 0.32.\n",
        "\n",
        "Compute the sampling distribution of the gender gap (the difference in means), and test whether it is statistically significant. Because you are given standard errors for the estimated means, you don’t need to know the sample size to figure out the sampling distributions.\n",
        "\n",
        "After the intervention, the gender gap was smaller: the average score for men was 3.44 (SE 0.16); the average score for women was 3.18 (SE 0.16). Again, compute the sampling distribution of the gender gap and test it.\n",
        "\n",
        "Finally, estimate the change in gender gap; what is the sampling distribution of this change, and is it statistically significant?"
      ],
      "metadata": {
        "id": "iLh8fBv6cDp1"
      }
    },
    {
      "cell_type": "code",
      "source": [
        "# Solution\n",
        "\n",
        "male_before = Normal(3.57, 0.28**2)\n",
        "male_after = Normal(3.44, 0.16**2)\n",
        "\n",
        "female_before = Normal(1.91, 0.32**2)\n",
        "female_after = Normal(3.18, 0.16**2)"
      ],
      "metadata": {
        "id": "wB9mBV5HcD-f"
      },
      "execution_count": 43,
      "outputs": []
    },
    {
      "cell_type": "code",
      "source": [
        "# Solution\n",
        "\n",
        "diff_before = female_before - male_before\n",
        "print(\"mean, p-value\", diff_before.mu, 1 - diff_before.Prob(0))\n",
        "print(\"CI\", diff_before.Percentile(5), diff_before.Percentile(95))\n",
        "print(\"stderr\", diff_before.sigma)"
      ],
      "metadata": {
        "id": "6DxbFk4vcHc2",
        "outputId": "b5f49292-dcf1-41a7-b0a4-d73baac3224f",
        "colab": {
          "base_uri": "https://localhost:8080/"
        }
      },
      "execution_count": 44,
      "outputs": [
        {
          "output_type": "stream",
          "name": "stdout",
          "text": [
            "mean, p-value -1.66 4.7309532320793934e-05\n",
            "CI -2.3594013558039837 -0.9605986441960161\n",
            "stderr 0.425205832509386\n"
          ]
        }
      ]
    },
    {
      "cell_type": "code",
      "source": [
        "# Solution\n",
        "\n",
        "diff_after = female_after - male_after\n",
        "print(\"mean, p-value\", diff_after.mu, 1 - diff_after.Prob(0))\n",
        "print(\"CI\", diff_after.Percentile(5), diff_after.Percentile(95))\n",
        "print(\"stderr\", diff_after.sigma)"
      ],
      "metadata": {
        "id": "QViaiiERcJZn",
        "outputId": "5e9397ee-83cf-4199-fdfc-423590434cdd",
        "colab": {
          "base_uri": "https://localhost:8080/"
        }
      },
      "execution_count": 45,
      "outputs": [
        {
          "output_type": "stream",
          "name": "stdout",
          "text": [
            "mean, p-value -0.2599999999999998 0.1252679872068192\n",
            "CI -0.6321878891765356 0.11218788917653583\n",
            "stderr 0.2262741699796952\n"
          ]
        }
      ]
    },
    {
      "cell_type": "code",
      "source": [
        "# Solution\n",
        "\n",
        "diff = diff_after - diff_before\n",
        "print(\"mean, p-value\", diff.mu, diff.Prob(0))\n",
        "print(\"CI\", diff.Percentile(5), diff.Percentile(95))\n",
        "print(\"stderr\", diff.sigma)"
      ],
      "metadata": {
        "id": "ogcP6E0YcLLk",
        "outputId": "c45ea208-ed23-411c-91d6-6f29728779d0",
        "colab": {
          "base_uri": "https://localhost:8080/"
        }
      },
      "execution_count": 46,
      "outputs": [
        {
          "output_type": "stream",
          "name": "stdout",
          "text": [
            "mean, p-value 1.4000000000000001 0.0018269483689769925\n",
            "CI 0.6077335793117721 2.192266420688228\n",
            "stderr 0.48166378315169184\n"
          ]
        }
      ]
    }
  ]
}