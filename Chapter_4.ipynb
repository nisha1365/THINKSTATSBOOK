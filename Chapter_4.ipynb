{
  "nbformat": 4,
  "nbformat_minor": 0,
  "metadata": {
    "colab": {
      "provenance": [],
      "authorship_tag": "ABX9TyOGmVU90tP6Cq/aPp/7bfgx",
      "include_colab_link": true
    },
    "kernelspec": {
      "name": "python3",
      "display_name": "Python 3"
    },
    "language_info": {
      "name": "python"
    }
  },
  "cells": [
    {
      "cell_type": "markdown",
      "metadata": {
        "id": "view-in-github",
        "colab_type": "text"
      },
      "source": [
        "<a href=\"https://colab.research.google.com/github/nisha1365/THINKSTATSBOOK/blob/main/Chapter_4.ipynb\" target=\"_parent\"><img src=\"https://colab.research.google.com/assets/colab-badge.svg\" alt=\"Open In Colab\"/></a>"
      ]
    },
    {
      "cell_type": "code",
      "source": [
        "import numpy as np"
      ],
      "metadata": {
        "id": "yBtrYwJBMMs1"
      },
      "execution_count": 1,
      "outputs": []
    },
    {
      "cell_type": "code",
      "source": [
        "from os.path import basename, exists\n",
        "\n",
        "\n",
        "def download(url):\n",
        "    filename = basename(url)\n",
        "    if not exists(filename):\n",
        "        from urllib.request import urlretrieve\n",
        "\n",
        "        local, _ = urlretrieve(url, filename)\n",
        "        print(\"Downloaded \" + local)\n",
        "\n",
        "\n",
        "download(\"https://github.com/AllenDowney/ThinkStats2/raw/master/code/thinkstats2.py\")\n",
        "download(\"https://github.com/AllenDowney/ThinkStats2/raw/master/code/thinkplot.py\")\n",
        "download(\"https://github.com/AllenDowney/ThinkStats2/raw/master/code/nsfg.py\")\n",
        "download(\"https://github.com/AllenDowney/ThinkStats2/raw/master/code/first.py\")\n",
        "\n",
        "\n",
        "download(\"https://github.com/AllenDowney/ThinkStats2/raw/master/code/2002FemPreg.dct\")\n",
        "download(\n",
        "    \"https://github.com/AllenDowney/ThinkStats2/raw/master/code/2002FemPreg.dat.gz\"\n",
        ")"
      ],
      "metadata": {
        "id": "bjR4JBJEMN56",
        "outputId": "d2ca1435-9432-421a-d122-c6584a361c1f",
        "colab": {
          "base_uri": "https://localhost:8080/"
        }
      },
      "execution_count": 2,
      "outputs": [
        {
          "output_type": "stream",
          "name": "stdout",
          "text": [
            "Downloaded thinkstats2.py\n",
            "Downloaded thinkplot.py\n",
            "Downloaded nsfg.py\n",
            "Downloaded first.py\n",
            "Downloaded 2002FemPreg.dct\n",
            "Downloaded 2002FemPreg.dat.gz\n"
          ]
        }
      ]
    },
    {
      "cell_type": "code",
      "source": [
        "import thinkstats2\n",
        "import thinkplot"
      ],
      "metadata": {
        "id": "mXA0TT-yMRwr"
      },
      "execution_count": 3,
      "outputs": []
    },
    {
      "cell_type": "markdown",
      "source": [
        "# Examples\n",
        "\n",
        "One more time, I'll load the data from the NSFG."
      ],
      "metadata": {
        "id": "61wjxe2IMUgM"
      }
    },
    {
      "cell_type": "code",
      "source": [
        "import first\n",
        "\n",
        "live, firsts, others = first.MakeFrames()"
      ],
      "metadata": {
        "id": "SK8IUBMMMWUI"
      },
      "execution_count": 4,
      "outputs": []
    },
    {
      "cell_type": "markdown",
      "source": [
        "And compute the distribution of birth weight for first babies and others."
      ],
      "metadata": {
        "id": "dLtuJ7LFMcMK"
      }
    },
    {
      "cell_type": "code",
      "source": [
        "first_wgt = firsts.totalwgt_lb\n",
        "first_wgt_dropna = first_wgt.dropna()\n",
        "print('Firsts', len(first_wgt), len(first_wgt_dropna))\n",
        " \n",
        "other_wgt = others.totalwgt_lb\n",
        "other_wgt_dropna = other_wgt.dropna()\n",
        "print('Others', len(other_wgt), len(other_wgt_dropna))\n",
        "\n",
        "first_pmf = thinkstats2.Pmf(first_wgt_dropna, label='first')\n",
        "other_pmf = thinkstats2.Pmf(other_wgt_dropna, label='other')"
      ],
      "metadata": {
        "id": "_XG1Xzm4McjL",
        "outputId": "605bd10d-0279-4ab2-c8e7-edd0e586bd90",
        "colab": {
          "base_uri": "https://localhost:8080/"
        }
      },
      "execution_count": 5,
      "outputs": [
        {
          "output_type": "stream",
          "name": "stdout",
          "text": [
            "Firsts 4413 4363\n",
            "Others 4735 4675\n"
          ]
        }
      ]
    },
    {
      "cell_type": "markdown",
      "source": [
        "We can plot the PMFs on the same scale, but it is hard to see if there is a difference"
      ],
      "metadata": {
        "id": "cV68708RMs7a"
      }
    },
    {
      "cell_type": "code",
      "source": [
        "width = 0.4 / 16\n",
        "\n",
        "# plot PMFs of birth weights for first babies and others\n",
        "thinkplot.PrePlot(2)\n",
        "thinkplot.Hist(first_pmf, align='right', width=width)\n",
        "thinkplot.Hist(other_pmf, align='left', width=width)\n",
        "thinkplot.Config(xlabel='Weight (pounds)', ylabel='PMF')"
      ],
      "metadata": {
        "id": "UALtarAsMtVT",
        "outputId": "7d136732-ac59-46e5-971f-5039585ee5ca",
        "colab": {
          "base_uri": "https://localhost:8080/",
          "height": 279
        }
      },
      "execution_count": 6,
      "outputs": [
        {
          "output_type": "display_data",
          "data": {
            "text/plain": [
              "<Figure size 432x288 with 1 Axes>"
            ],
            "image/png": "[encoded data removed]"
          },
          "metadata": {
            "needs_background": "light"
          }
        }
      ]
    },
    {
      "cell_type": "markdown",
      "source": [
        "PercentileRank computes the fraction of scores less than or equal to your_score."
      ],
      "metadata": {
        "id": "SuRG2_EEM0CU"
      }
    },
    {
      "cell_type": "code",
      "source": [
        "def PercentileRank(scores, your_score):\n",
        "    count = 0\n",
        "    for score in scores:\n",
        "        if score <= your_score:\n",
        "            count += 1\n",
        "\n",
        "    percentile_rank = 100.0 * count / len(scores)\n",
        "    return percentile_rank"
      ],
      "metadata": {
        "id": "tsJUhhL1M0Xm"
      },
      "execution_count": 7,
      "outputs": []
    },
    {
      "cell_type": "markdown",
      "source": [
        "If this is the list of scores."
      ],
      "metadata": {
        "id": "newqSEI2M92X"
      }
    },
    {
      "cell_type": "code",
      "source": [
        "t = [55, 66, 77, 88, 99]"
      ],
      "metadata": {
        "id": "dLvihgB6M-ND"
      },
      "execution_count": 8,
      "outputs": []
    },
    {
      "cell_type": "markdown",
      "source": [
        "If you got the 88, your percentile rank is 80."
      ],
      "metadata": {
        "id": "721CEmzKNBYU"
      }
    },
    {
      "cell_type": "code",
      "source": [
        "PercentileRank(t, 88)"
      ],
      "metadata": {
        "id": "7Qlz6pziNKVs",
        "outputId": "5163016d-ee8b-406e-d4f0-3a84379108c4",
        "colab": {
          "base_uri": "https://localhost:8080/"
        }
      },
      "execution_count": 9,
      "outputs": [
        {
          "output_type": "execute_result",
          "data": {
            "text/plain": [
              "80.0"
            ]
          },
          "metadata": {},
          "execution_count": 9
        }
      ]
    },
    {
      "cell_type": "markdown",
      "source": [
        "Percentile takes a percentile rank and computes the corresponding percentile."
      ],
      "metadata": {
        "id": "AXx_NZ4QNSZS"
      }
    },
    {
      "cell_type": "code",
      "source": [
        "def Percentile(scores, percentile_rank):\n",
        "    scores.sort()\n",
        "    for score in scores:\n",
        "        if PercentileRank(scores, score) >= percentile_rank:\n",
        "            return score"
      ],
      "metadata": {
        "id": "LQQxpGIiNSrF"
      },
      "execution_count": 10,
      "outputs": []
    },
    {
      "cell_type": "markdown",
      "source": [
        "The median is the 50th percentile, which is 77."
      ],
      "metadata": {
        "id": "E4SZQh_CNeDB"
      }
    },
    {
      "cell_type": "code",
      "source": [
        "Percentile(t, 50)"
      ],
      "metadata": {
        "id": "LBbxgls3NeUE",
        "outputId": "77768720-8a32-41c8-8e11-6cadc9868ec8",
        "colab": {
          "base_uri": "https://localhost:8080/"
        }
      },
      "execution_count": 11,
      "outputs": [
        {
          "output_type": "execute_result",
          "data": {
            "text/plain": [
              "77"
            ]
          },
          "metadata": {},
          "execution_count": 11
        }
      ]
    },
    {
      "cell_type": "markdown",
      "source": [
        "Here's a more efficient way to compute percentiles."
      ],
      "metadata": {
        "id": "qmfow0RQNjtr"
      }
    },
    {
      "cell_type": "code",
      "source": [
        "def Percentile2(scores, percentile_rank):\n",
        "    scores.sort()\n",
        "    index = percentile_rank * (len(scores)-1) // 100\n",
        "    return scores[int(index)]"
      ],
      "metadata": {
        "id": "wiCsoTHeNkDi"
      },
      "execution_count": 12,
      "outputs": []
    },
    {
      "cell_type": "markdown",
      "source": [
        "Let's hope we get the same answer."
      ],
      "metadata": {
        "id": "f_ddZ44LNtZ7"
      }
    },
    {
      "cell_type": "code",
      "source": [
        "Percentile2(t, 50)"
      ],
      "metadata": {
        "id": "5I6NUsjlNtpW",
        "outputId": "e41092bc-71a7-49db-a127-80e603fd141c",
        "colab": {
          "base_uri": "https://localhost:8080/"
        }
      },
      "execution_count": 13,
      "outputs": [
        {
          "output_type": "execute_result",
          "data": {
            "text/plain": [
              "77"
            ]
          },
          "metadata": {},
          "execution_count": 13
        }
      ]
    },
    {
      "cell_type": "markdown",
      "source": [
        "The Cumulative Distribution Function (CDF) is almost the same as PercentileRank. The only difference is that the result is 0-1 instead of 0-100."
      ],
      "metadata": {
        "id": "mWjbMDefNx6x"
      }
    },
    {
      "cell_type": "code",
      "source": [
        "def EvalCdf(sample, x):\n",
        "    count = 0.0\n",
        "    for value in sample:\n",
        "        if value <= x:\n",
        "            count += 1\n",
        "\n",
        "    prob = count / len(sample)\n",
        "    return prob"
      ],
      "metadata": {
        "id": "oOZft1UxNyWc"
      },
      "execution_count": 14,
      "outputs": []
    },
    {
      "cell_type": "code",
      "source": [
        "t = [1, 2, 2, 3, 5]"
      ],
      "metadata": {
        "id": "-8AnOOPKOCWh"
      },
      "execution_count": 15,
      "outputs": []
    },
    {
      "cell_type": "markdown",
      "source": [
        "We can evaluate the CDF for various values:"
      ],
      "metadata": {
        "id": "kO72d4HWOE5X"
      }
    },
    {
      "cell_type": "code",
      "source": [
        "EvalCdf(t, 0), EvalCdf(t, 1), EvalCdf(t, 2), EvalCdf(t, 3), EvalCdf(t, 4), EvalCdf(t, 5)"
      ],
      "metadata": {
        "id": "2rlKf6OPOFIq",
        "outputId": "7c303a3e-5870-44d1-cb95-aa06db4eed8c",
        "colab": {
          "base_uri": "https://localhost:8080/"
        }
      },
      "execution_count": 16,
      "outputs": [
        {
          "output_type": "execute_result",
          "data": {
            "text/plain": [
              "(0.0, 0.2, 0.6, 0.8, 0.8, 1.0)"
            ]
          },
          "metadata": {},
          "execution_count": 16
        }
      ]
    },
    {
      "cell_type": "markdown",
      "source": [
        "Here's an example using real data, the distribution of pregnancy length for live births."
      ],
      "metadata": {
        "id": "qz0wE452OQAA"
      }
    },
    {
      "cell_type": "code",
      "source": [
        "cdf = thinkstats2.Cdf(live.prglngth, label='prglngth')\n",
        "thinkplot.Cdf(cdf)\n",
        "thinkplot.Config(xlabel='Pregnancy length (weeks)', ylabel='CDF', loc='upper left')"
      ],
      "metadata": {
        "id": "kFMOoATfOQVu",
        "outputId": "52fc019b-37bf-4adc-f5dd-2bbddc836c54",
        "colab": {
          "base_uri": "https://localhost:8080/",
          "height": 279
        }
      },
      "execution_count": 17,
      "outputs": [
        {
          "output_type": "display_data",
          "data": {
            "text/plain": [
              "<Figure size 432x288 with 1 Axes>"
            ],
            "image/png": "[encoded data removed]"
          },
          "metadata": {
            "needs_background": "light"
          }
        }
      ]
    },
    {
      "cell_type": "markdown",
      "source": [
        "Cdf provides Prob, which evaluates the CDF; that is, it computes the fraction of values less than or equal to the given value. For example, 94% of pregnancy lengths are less than or equal to 41"
      ],
      "metadata": {
        "id": "729cCazWOdHT"
      }
    },
    {
      "cell_type": "code",
      "source": [
        "cdf.Prob(41)"
      ],
      "metadata": {
        "id": "fpeuxVAtOdXY",
        "outputId": "34469a82-9128-44ec-e9fc-7eacfad0b979",
        "colab": {
          "base_uri": "https://localhost:8080/"
        }
      },
      "execution_count": 18,
      "outputs": [
        {
          "output_type": "execute_result",
          "data": {
            "text/plain": [
              "0.9406427634455619"
            ]
          },
          "metadata": {},
          "execution_count": 18
        }
      ]
    },
    {
      "cell_type": "markdown",
      "source": [
        "Value evaluates the inverse CDF; given a fraction, it computes the corresponding value. For example, the median is the value that corresponds to 0.5."
      ],
      "metadata": {
        "id": "mlBo6WAFOnMk"
      }
    },
    {
      "cell_type": "code",
      "source": [
        "cdf.Value(0.5)"
      ],
      "metadata": {
        "id": "ho6Ivb5MOncv",
        "outputId": "19a8b305-34ec-473b-ac8f-f7405b03fcd0",
        "colab": {
          "base_uri": "https://localhost:8080/"
        }
      },
      "execution_count": 19,
      "outputs": [
        {
          "output_type": "execute_result",
          "data": {
            "text/plain": [
              "39"
            ]
          },
          "metadata": {},
          "execution_count": 19
        }
      ]
    },
    {
      "cell_type": "markdown",
      "source": [
        "In general, CDFs are a good way to visualize distributions. They are not as noisy as PMFs, and if you plot several CDFs on the same axes, any differences between them are apparent."
      ],
      "metadata": {
        "id": "LzW_3RVLOxpP"
      }
    },
    {
      "cell_type": "code",
      "source": [
        "first_cdf = thinkstats2.Cdf(firsts.totalwgt_lb, label='first')\n",
        "other_cdf = thinkstats2.Cdf(others.totalwgt_lb, label='other')\n",
        "\n",
        "thinkplot.PrePlot(2)\n",
        "thinkplot.Cdfs([first_cdf, other_cdf])\n",
        "thinkplot.Config(xlabel='Weight (pounds)', ylabel='CDF')"
      ],
      "metadata": {
        "id": "aJx0KaAnOyP-",
        "outputId": "517f443e-4339-4237-c37a-85fdf8ca4dfc",
        "colab": {
          "base_uri": "https://localhost:8080/",
          "height": 279
        }
      },
      "execution_count": 20,
      "outputs": [
        {
          "output_type": "display_data",
          "data": {
            "text/plain": [
              "<Figure size 432x288 with 1 Axes>"
            ],
            "image/png": "[encoded data removed]"
          },
          "metadata": {
            "needs_background": "light"
          }
        }
      ]
    },
    {
      "cell_type": "markdown",
      "source": [
        "In this example, we can see that first babies are slightly, but consistently, lighter than others.\n",
        "\n",
        "We can use the CDF of birth weight to compute percentile-based statistics."
      ],
      "metadata": {
        "id": "99i6HG8DO9a9"
      }
    },
    {
      "cell_type": "code",
      "source": [
        "weights = live.totalwgt_lb\n",
        "live_cdf = thinkstats2.Cdf(weights, label='live')"
      ],
      "metadata": {
        "id": "gxJo5Q4GPCT8"
      },
      "execution_count": 21,
      "outputs": []
    },
    {
      "cell_type": "markdown",
      "source": [
        "Again, the median is the 50th percentile."
      ],
      "metadata": {
        "id": "0HkmBXTaPFyd"
      }
    },
    {
      "cell_type": "code",
      "source": [
        "median = live_cdf.Percentile(50)\n",
        "median"
      ],
      "metadata": {
        "id": "Po_2QVuUPGU-",
        "outputId": "43e521bb-5aa8-4b8f-fe9c-50f6eb939ca4",
        "colab": {
          "base_uri": "https://localhost:8080/"
        }
      },
      "execution_count": 22,
      "outputs": [
        {
          "output_type": "execute_result",
          "data": {
            "text/plain": [
              "7.375"
            ]
          },
          "metadata": {},
          "execution_count": 22
        }
      ]
    },
    {
      "cell_type": "markdown",
      "source": [
        "The interquartile range is the interval from the 25th to 75th percentile"
      ],
      "metadata": {
        "id": "kEYTIX79PLEH"
      }
    },
    {
      "cell_type": "code",
      "source": [
        "iqr = (live_cdf.Percentile(25), live_cdf.Percentile(75))\n",
        "iqr"
      ],
      "metadata": {
        "id": "0He3yggIPLhO",
        "outputId": "46f038ba-f0b9-4b04-c35d-b76743db664b",
        "colab": {
          "base_uri": "https://localhost:8080/"
        }
      },
      "execution_count": 23,
      "outputs": [
        {
          "output_type": "execute_result",
          "data": {
            "text/plain": [
              "(6.5, 8.125)"
            ]
          },
          "metadata": {},
          "execution_count": 23
        }
      ]
    },
    {
      "cell_type": "markdown",
      "source": [
        "We can use the CDF to look up the percentile rank of a particular value. For example, my second daughter was 10.2 pounds at birth, which is near the 99th percentile."
      ],
      "metadata": {
        "id": "TnzzUb-NPXLh"
      }
    },
    {
      "cell_type": "code",
      "source": [
        "live_cdf.PercentileRank(10.2)"
      ],
      "metadata": {
        "id": "XGh6vudhPXj-",
        "outputId": "c572975d-1447-47fc-e208-e09a4c89377f",
        "colab": {
          "base_uri": "https://localhost:8080/"
        }
      },
      "execution_count": 24,
      "outputs": [
        {
          "output_type": "execute_result",
          "data": {
            "text/plain": [
              "98.82717415357381"
            ]
          },
          "metadata": {},
          "execution_count": 24
        }
      ]
    },
    {
      "cell_type": "markdown",
      "source": [
        "If we draw a random sample from the observed weights and map each weigh to its percentile rank."
      ],
      "metadata": {
        "id": "IvSaAwdWPehr"
      }
    },
    {
      "cell_type": "code",
      "source": [
        "sample = np.random.choice(weights, 100, replace=True)\n",
        "ranks = [live_cdf.PercentileRank(x) for x in sample]"
      ],
      "metadata": {
        "id": "sKZGVyxRPe-M"
      },
      "execution_count": 25,
      "outputs": []
    },
    {
      "cell_type": "markdown",
      "source": [
        "The resulting list of ranks should be approximately uniform from 0-1."
      ],
      "metadata": {
        "id": "3mmc9f1APlLO"
      }
    },
    {
      "cell_type": "code",
      "source": [
        "rank_cdf = thinkstats2.Cdf(ranks)\n",
        "thinkplot.Cdf(rank_cdf)\n",
        "thinkplot.Config(xlabel='Percentile rank', ylabel='CDF')"
      ],
      "metadata": {
        "id": "pkBKY3N5PlkX",
        "outputId": "7842d9bd-7f40-48b4-cf8c-68ebb8ab74d6",
        "colab": {
          "base_uri": "https://localhost:8080/",
          "height": 279
        }
      },
      "execution_count": 26,
      "outputs": [
        {
          "output_type": "display_data",
          "data": {
            "text/plain": [
              "<Figure size 432x288 with 1 Axes>"
            ],
            "image/png": "[encoded data removed]"
          },
          "metadata": {
            "needs_background": "light"
          }
        }
      ]
    },
    {
      "cell_type": "markdown",
      "source": [
        "That observation is the basis of Cdf.Sample, which generates a random sample from a Cdf. Here's an example."
      ],
      "metadata": {
        "id": "dXKpNlcnPsFB"
      }
    },
    {
      "cell_type": "code",
      "source": [
        "resample = live_cdf.Sample(1000)\n",
        "thinkplot.Cdf(live_cdf)\n",
        "thinkplot.Cdf(thinkstats2.Cdf(resample, label='resample'))\n",
        "thinkplot.Config(xlabel='Birth weight (pounds)', ylabel='CDF')"
      ],
      "metadata": {
        "id": "exAoxWkLPsj1",
        "outputId": "83eb9801-7eda-49e4-a83c-e6fa55cf8d68",
        "colab": {
          "base_uri": "https://localhost:8080/",
          "height": 279
        }
      },
      "execution_count": 27,
      "outputs": [
        {
          "output_type": "display_data",
          "data": {
            "text/plain": [
              "<Figure size 432x288 with 1 Axes>"
            ],
            "image/png": "[encoded data removed]"
          },
          "metadata": {
            "needs_background": "light"
          }
        }
      ]
    },
    {
      "cell_type": "markdown",
      "source": [
        "This confirms that the random sample has the same distribution as the original data."
      ],
      "metadata": {
        "id": "wOSqBbtGP2PS"
      }
    },
    {
      "cell_type": "markdown",
      "source": [
        "# Exercises\n",
        "\n",
        "\n",
        "Exercise: How much did you weigh at birth? If you don’t know, call your mother or someone else who knows. Using the NSFG data (all live births), compute the distribution of birth weights and use it to find your percentile rank. If you were a first baby, find your percentile rank in the distribution for first babies. Otherwise use the distribution for others. If you are in the 90th percentile or higher, call your mother back and apologize."
      ],
      "metadata": {
        "id": "yu3f9P-nP5FU"
      }
    },
    {
      "cell_type": "code",
      "source": [
        "# Solution\n",
        "\n",
        "first_cdf.PercentileRank(8.5)"
      ],
      "metadata": {
        "id": "8JSHRunLP8c8",
        "outputId": "1a8303aa-4e3a-4844-9d64-e3449d2023e1",
        "colab": {
          "base_uri": "https://localhost:8080/"
        }
      },
      "execution_count": 28,
      "outputs": [
        {
          "output_type": "execute_result",
          "data": {
            "text/plain": [
              "85.90419436167774"
            ]
          },
          "metadata": {},
          "execution_count": 28
        }
      ]
    },
    {
      "cell_type": "code",
      "source": [
        "# Solution\n",
        "\n",
        "other_cdf.PercentileRank(8.5)"
      ],
      "metadata": {
        "id": "yHBE-ggqQHys",
        "outputId": "a0c94a1d-6824-4fa0-b3dc-546bcf6d0fae",
        "colab": {
          "base_uri": "https://localhost:8080/"
        }
      },
      "execution_count": 29,
      "outputs": [
        {
          "output_type": "execute_result",
          "data": {
            "text/plain": [
              "82.35294117647058"
            ]
          },
          "metadata": {},
          "execution_count": 29
        }
      ]
    },
    {
      "cell_type": "markdown",
      "source": [
        "**Exercise:** The numbers generated by numpy.random.random are supposed to be uniform between 0 and 1; that is, every value in the range should have the same probability.\n",
        "\n",
        "Generate 1000 numbers from numpy.random.random and plot their PMF. What goes wrong?\n",
        "\n",
        "Now plot the CDF. Is the distribution uniform?"
      ],
      "metadata": {
        "id": "JN0pgepiQK1T"
      }
    },
    {
      "cell_type": "code",
      "source": [
        "# Solution\n",
        "\n",
        "t = np.random.random(1000)"
      ],
      "metadata": {
        "id": "GdV3Do4HQMWG"
      },
      "execution_count": 30,
      "outputs": []
    },
    {
      "cell_type": "code",
      "source": [
        "# Solution\n",
        "\n",
        "pmf = thinkstats2.Pmf(t)\n",
        "thinkplot.Pmf(pmf, linewidth=0.1)\n",
        "thinkplot.Config(xlabel='Random variate', ylabel='PMF')"
      ],
      "metadata": {
        "id": "vdocqz8tQTUv",
        "outputId": "d60cea4b-9c64-41e9-c37c-96f2b5103c4e",
        "colab": {
          "base_uri": "https://localhost:8080/",
          "height": 279
        }
      },
      "execution_count": 31,
      "outputs": [
        {
          "output_type": "display_data",
          "data": {
            "text/plain": [
              "<Figure size 432x288 with 1 Axes>"
            ],
            "image/png": "[encoded data removed]"
          },
          "metadata": {
            "needs_background": "light"
          }
        }
      ]
    },
    {
      "cell_type": "code",
      "source": [
        "# Solution\n",
        "\n",
        "cdf = thinkstats2.Cdf(t)\n",
        "thinkplot.Cdf(cdf)\n",
        "thinkplot.Config(xlabel='Random variate', ylabel='CDF')"
      ],
      "metadata": {
        "id": "ZsxKoFogQWWK",
        "outputId": "bfb56145-ad02-4381-ca01-3fec37241137",
        "colab": {
          "base_uri": "https://localhost:8080/",
          "height": 279
        }
      },
      "execution_count": 32,
      "outputs": [
        {
          "output_type": "display_data",
          "data": {
            "text/plain": [
              "<Figure size 432x288 with 1 Axes>"
            ],
            "image/png": "[encoded data removed]"
          },
          "metadata": {
            "needs_background": "light"
          }
        }
      ]
    },
    {
      "cell_type": "code",
      "source": [],
      "metadata": {
        "id": "Oix0r70gP245"
      },
      "execution_count": null,
      "outputs": []
    }
  ]
}