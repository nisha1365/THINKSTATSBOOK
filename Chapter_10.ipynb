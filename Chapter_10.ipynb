{
  "nbformat": 4,
  "nbformat_minor": 0,
  "metadata": {
    "colab": {
      "provenance": [],
      "authorship_tag": "ABX9TyNy4QFdcu53gQ+CsemYtlOr",
      "include_colab_link": true
    },
    "kernelspec": {
      "name": "python3",
      "display_name": "Python 3"
    },
    "language_info": {
      "name": "python"
    }
  },
  "cells": [
    {
      "cell_type": "markdown",
      "metadata": {
        "id": "view-in-github",
        "colab_type": "text"
      },
      "source": [
        "<a href=\"https://colab.research.google.com/github/nisha1365/THINKSTATSBOOK/blob/main/Chapter_10.ipynb\" target=\"_parent\"><img src=\"https://colab.research.google.com/assets/colab-badge.svg\" alt=\"Open In Colab\"/></a>"
      ]
    },
    {
      "cell_type": "code",
      "execution_count": 1,
      "metadata": {
        "colab": {
          "base_uri": "https://localhost:8080/"
        },
        "id": "J_WY8064ZlK9",
        "outputId": "f4c45841-d8b2-41c5-f5d1-9ddf751938df"
      },
      "outputs": [
        {
          "output_type": "stream",
          "name": "stdout",
          "text": [
            "Downloaded thinkstats2.py\n",
            "Downloaded thinkplot.py\n"
          ]
        }
      ],
      "source": [
        "from os.path import basename, exists\n",
        "\n",
        "\n",
        "def download(url):\n",
        "    filename = basename(url)\n",
        "    if not exists(filename):\n",
        "        from urllib.request import urlretrieve\n",
        "\n",
        "        local, _ = urlretrieve(url, filename)\n",
        "        print(\"Downloaded \" + local)\n",
        "\n",
        "\n",
        "download(\"https://github.com/AllenDowney/ThinkStats2/raw/master/code/thinkstats2.py\")\n",
        "download(\"https://github.com/AllenDowney/ThinkStats2/raw/master/code/thinkplot.py\")"
      ]
    },
    {
      "cell_type": "code",
      "source": [
        "import numpy as np\n",
        "\n",
        "import random\n",
        "\n",
        "import thinkstats2\n",
        "import thinkplot"
      ],
      "metadata": {
        "id": "2qipCNIPZs4X"
      },
      "execution_count": 2,
      "outputs": []
    },
    {
      "cell_type": "markdown",
      "source": [
        "Least squares\n",
        "One more time, let's load up the NSFG data."
      ],
      "metadata": {
        "id": "1j2yiWsGZwOI"
      }
    },
    {
      "cell_type": "code",
      "source": [
        "download(\"https://github.com/AllenDowney/ThinkStats2/raw/master/code/nsfg.py\")\n",
        "download(\"https://github.com/AllenDowney/ThinkStats2/raw/master/code/first.py\")\n",
        "download(\"https://github.com/AllenDowney/ThinkStats2/raw/master/code/2002FemPreg.dct\")\n",
        "download(\n",
        "    \"https://github.com/AllenDowney/ThinkStats2/raw/master/code/2002FemPreg.dat.gz\"\n",
        ")"
      ],
      "metadata": {
        "colab": {
          "base_uri": "https://localhost:8080/"
        },
        "id": "pxLksYP9Zy1t",
        "outputId": "04c80a41-e502-4ee2-8f39-e822a8841b59"
      },
      "execution_count": 3,
      "outputs": [
        {
          "output_type": "stream",
          "name": "stdout",
          "text": [
            "Downloaded nsfg.py\n",
            "Downloaded first.py\n",
            "Downloaded 2002FemPreg.dct\n",
            "Downloaded 2002FemPreg.dat.gz\n"
          ]
        }
      ]
    },
    {
      "cell_type": "code",
      "source": [
        "import first\n",
        "live, firsts, others = first.MakeFrames()\n",
        "live = live.dropna(subset=['agepreg', 'totalwgt_lb'])\n",
        "ages = live.agepreg\n",
        "weights = live.totalwgt_lb"
      ],
      "metadata": {
        "id": "4sCDWOktZ23g"
      },
      "execution_count": 4,
      "outputs": []
    },
    {
      "cell_type": "markdown",
      "source": [
        "The following function computes the intercept and slope of the least squares fit."
      ],
      "metadata": {
        "id": "-BafGZXAaEvq"
      }
    },
    {
      "cell_type": "code",
      "source": [
        "from thinkstats2 import Mean, MeanVar, Var, Std, Cov\n",
        "\n",
        "def LeastSquares(xs, ys):\n",
        "    meanx, varx = MeanVar(xs)\n",
        "    meany = Mean(ys)\n",
        "\n",
        "    slope = Cov(xs, ys, meanx, meany) / varx\n",
        "    inter = meany - slope * meanx\n",
        "\n",
        "    return inter, slope"
      ],
      "metadata": {
        "id": "VSXhxuvQaFRH"
      },
      "execution_count": 5,
      "outputs": []
    },
    {
      "cell_type": "markdown",
      "source": [
        "Here's the least squares fit to birth weight as a function of mother's age."
      ],
      "metadata": {
        "id": "409VTKIway8I"
      }
    },
    {
      "cell_type": "code",
      "source": [
        "inter, slope = LeastSquares(ages, weights)\n",
        "inter, slope"
      ],
      "metadata": {
        "id": "JVUwXEfhazVv",
        "outputId": "7a5db4fb-1d14-4179-d22a-5bd33d640a3d",
        "colab": {
          "base_uri": "https://localhost:8080/"
        }
      },
      "execution_count": 6,
      "outputs": [
        {
          "output_type": "execute_result",
          "data": {
            "text/plain": [
              "(6.830396973311053, 0.017453851471802746)"
            ]
          },
          "metadata": {},
          "execution_count": 6
        }
      ]
    },
    {
      "cell_type": "markdown",
      "source": [
        "The intercept is often easier to interpret if we evaluate it at the mean of the independent variable."
      ],
      "metadata": {
        "id": "nSt99ah4ba6S"
      }
    },
    {
      "cell_type": "code",
      "source": [
        "inter + slope * 25"
      ],
      "metadata": {
        "id": "Nsy2qdI2bbUT",
        "outputId": "954499ec-389e-4f90-855e-4f1cc7758b38",
        "colab": {
          "base_uri": "https://localhost:8080/"
        }
      },
      "execution_count": 7,
      "outputs": [
        {
          "output_type": "execute_result",
          "data": {
            "text/plain": [
              "7.266743260106122"
            ]
          },
          "metadata": {},
          "execution_count": 7
        }
      ]
    },
    {
      "cell_type": "markdown",
      "source": [
        "And the slope is easier to interpret if we express it in pounds per decade (or ounces per year)."
      ],
      "metadata": {
        "id": "6R-HmHlmbgqV"
      }
    },
    {
      "cell_type": "code",
      "source": [
        "slope * 10"
      ],
      "metadata": {
        "id": "jPvP7Ua1bg_w",
        "outputId": "7284d828-8b02-4023-8bf6-a6efa9b33450",
        "colab": {
          "base_uri": "https://localhost:8080/"
        }
      },
      "execution_count": 8,
      "outputs": [
        {
          "output_type": "execute_result",
          "data": {
            "text/plain": [
              "0.17453851471802745"
            ]
          },
          "metadata": {},
          "execution_count": 8
        }
      ]
    },
    {
      "cell_type": "markdown",
      "source": [
        "The following function evaluates the fitted line at the given xs."
      ],
      "metadata": {
        "id": "7ctbYe5Ybtn5"
      }
    },
    {
      "cell_type": "code",
      "source": [
        "def FitLine(xs, inter, slope):\n",
        "    fit_xs = np.sort(xs)\n",
        "    fit_ys = inter + slope * fit_xs\n",
        "    return fit_xs, fit_ys"
      ],
      "metadata": {
        "id": "9E87np7zbuD_"
      },
      "execution_count": 9,
      "outputs": []
    },
    {
      "cell_type": "markdown",
      "source": [
        "And here's an example."
      ],
      "metadata": {
        "id": "MbG8CPtkb0Ma"
      }
    },
    {
      "cell_type": "code",
      "source": [
        "fit_xs, fit_ys = FitLine(ages, inter, slope)"
      ],
      "metadata": {
        "id": "TGmZQntxb0va"
      },
      "execution_count": 10,
      "outputs": []
    },
    {
      "cell_type": "markdown",
      "source": [
        "Here's a scatterplot of the data with the fitted line."
      ],
      "metadata": {
        "id": "zI-0vYcZb4PL"
      }
    },
    {
      "cell_type": "code",
      "source": [
        "thinkplot.Scatter(ages, weights, color='blue', alpha=0.1, s=10)\n",
        "thinkplot.Plot(fit_xs, fit_ys, color='white', linewidth=3)\n",
        "thinkplot.Plot(fit_xs, fit_ys, color='red', linewidth=2)\n",
        "thinkplot.Config(xlabel=\"Mother's age (years)\",\n",
        "                 ylabel='Birth weight (lbs)',\n",
        "                 axis=[10, 45, 0, 15],\n",
        "                 legend=False)"
      ],
      "metadata": {
        "id": "mh7wpe11b4sc",
        "outputId": "3318dcd3-537a-4997-cadc-bfcdf4441419",
        "colab": {
          "base_uri": "https://localhost:8080/",
          "height": 279
        }
      },
      "execution_count": 11,
      "outputs": [
        {
          "output_type": "display_data",
          "data": {
            "text/plain": [
              "<Figure size 432x288 with 1 Axes>"
            ],
            "image/png": "[encoded data removed]"
          },
          "metadata": {
            "needs_background": "light"
          }
        }
      ]
    },
    {
      "cell_type": "markdown",
      "source": [
        "Residuals\n",
        "The following functon computes the residuals."
      ],
      "metadata": {
        "id": "FxFDMqtKb80D"
      }
    },
    {
      "cell_type": "code",
      "source": [
        "def Residuals(xs, ys, inter, slope):\n",
        "    xs = np.asarray(xs)\n",
        "    ys = np.asarray(ys)\n",
        "    res = ys - (inter + slope * xs)\n",
        "    return res"
      ],
      "metadata": {
        "id": "jeB8_L06b-L6"
      },
      "execution_count": 12,
      "outputs": []
    },
    {
      "cell_type": "markdown",
      "source": [
        "Now we can add the residuals as a column in the DataFrame.\n",
        "\n"
      ],
      "metadata": {
        "id": "1LTYhxYOcCTt"
      }
    },
    {
      "cell_type": "code",
      "source": [
        "live['residual'] = Residuals(ages, weights, inter, slope)"
      ],
      "metadata": {
        "id": "cZIaV10icD3g"
      },
      "execution_count": 13,
      "outputs": []
    },
    {
      "cell_type": "markdown",
      "source": [
        "To visualize the residuals, I'll split the respondents into groups by age, then plot the percentiles of the residuals versus the average age in each group.\n",
        "\n",
        "First I'll make the groups and compute the average age in each group."
      ],
      "metadata": {
        "id": "6xvKuD2jcJTs"
      }
    },
    {
      "cell_type": "code",
      "source": [
        "bins = np.arange(10, 48, 3)\n",
        "indices = np.digitize(live.agepreg, bins)\n",
        "groups = live.groupby(indices)\n",
        "\n",
        "age_means = [group.agepreg.mean() for _, group in groups][1:-1]\n",
        "age_means"
      ],
      "metadata": {
        "id": "iuD-Q4TLcJwj",
        "outputId": "3c11ff04-a51d-41a8-c109-f5fc2e12ac5a",
        "colab": {
          "base_uri": "https://localhost:8080/"
        }
      },
      "execution_count": 14,
      "outputs": [
        {
          "output_type": "execute_result",
          "data": {
            "text/plain": [
              "[15.212333333333335,\n",
              " 17.740359281437126,\n",
              " 20.506304824561404,\n",
              " 23.455752212389378,\n",
              " 26.435156146179406,\n",
              " 29.411177432542924,\n",
              " 32.30232530120482,\n",
              " 35.240273631840786,\n",
              " 38.10876470588235,\n",
              " 40.91205882352941]"
            ]
          },
          "metadata": {},
          "execution_count": 14
        }
      ]
    },
    {
      "cell_type": "markdown",
      "source": [
        "Next I'll compute the CDF of the residuals in each group."
      ],
      "metadata": {
        "id": "hZhJtoRCcQvp"
      }
    },
    {
      "cell_type": "code",
      "source": [
        "cdfs = [thinkstats2.Cdf(group.residual) for _, group in groups][1:-1]"
      ],
      "metadata": {
        "id": "mA8Pv2dWcRJ4"
      },
      "execution_count": 15,
      "outputs": []
    },
    {
      "cell_type": "markdown",
      "source": [
        "The following function plots percentiles of the residuals against the average age in each group."
      ],
      "metadata": {
        "id": "4J1VmkkecWFA"
      }
    },
    {
      "cell_type": "code",
      "source": [
        "def PlotPercentiles(age_means, cdfs):\n",
        "    thinkplot.PrePlot(3)\n",
        "    for percent in [75, 50, 25]:\n",
        "        weight_percentiles = [cdf.Percentile(percent) for cdf in cdfs]\n",
        "        label = '%dth' % percent\n",
        "        thinkplot.Plot(age_means, weight_percentiles, label=label)"
      ],
      "metadata": {
        "id": "BQApNtLwcWkt"
      },
      "execution_count": 16,
      "outputs": []
    },
    {
      "cell_type": "markdown",
      "source": [
        "The following figure shows the 25th, 50th, and 75th percentiles.\n",
        "\n",
        "Curvature in the residuals suggests a non-linear relationship"
      ],
      "metadata": {
        "id": "BTdRIjnUcgkG"
      }
    },
    {
      "cell_type": "code",
      "source": [
        "PlotPercentiles(age_means, cdfs)\n",
        "\n",
        "thinkplot.Config(xlabel=\"Mother's age (years)\",\n",
        "                 ylabel='Residual (lbs)',\n",
        "                 xlim=[10, 45])"
      ],
      "metadata": {
        "id": "KRm6Es06cg6d",
        "outputId": "fdfe88f7-64ba-4108-d902-67d20632e521",
        "colab": {
          "base_uri": "https://localhost:8080/",
          "height": 280
        }
      },
      "execution_count": 17,
      "outputs": [
        {
          "output_type": "display_data",
          "data": {
            "text/plain": [
              "<Figure size 432x288 with 1 Axes>"
            ],
            "image/png": "[encoded data removed]"
          },
          "metadata": {
            "needs_background": "light"
          }
        }
      ]
    },
    {
      "cell_type": "markdown",
      "source": [
        "Sampling distribution\n",
        "To estimate the sampling distribution of inter and slope, I'll use resampling."
      ],
      "metadata": {
        "id": "Tfx_FAvsclIP"
      }
    },
    {
      "cell_type": "code",
      "source": [
        "def SampleRows(df, nrows, replace=False):\n",
        "    \"\"\"Choose a sample of rows from a DataFrame.\n",
        "\n",
        "    df: DataFrame\n",
        "    nrows: number of rows\n",
        "    replace: whether to sample with replacement\n",
        "\n",
        "    returns: DataDf\n",
        "    \"\"\"\n",
        "    indices = np.random.choice(df.index, nrows, replace=replace)\n",
        "    sample = df.loc[indices]\n",
        "    return sample\n",
        "\n",
        "def ResampleRows(df):\n",
        "    \"\"\"Resamples rows from a DataFrame.\n",
        "\n",
        "    df: DataFrame\n",
        "\n",
        "    returns: DataFrame\n",
        "    \"\"\"\n",
        "    return SampleRows(df, len(df), replace=True)"
      ],
      "metadata": {
        "id": "URpSqhCeclYu"
      },
      "execution_count": 18,
      "outputs": []
    },
    {
      "cell_type": "markdown",
      "source": [
        "The following function resamples the given dataframe and returns lists of estimates for inter and slope."
      ],
      "metadata": {
        "id": "NlwqsC2tc1nK"
      }
    },
    {
      "cell_type": "code",
      "source": [
        "def SamplingDistributions(live, iters=101):\n",
        "    t = []\n",
        "    for _ in range(iters):\n",
        "        sample = ResampleRows(live)\n",
        "        ages = sample.agepreg\n",
        "        weights = sample.totalwgt_lb\n",
        "        estimates = LeastSquares(ages, weights)\n",
        "        t.append(estimates)\n",
        "\n",
        "    inters, slopes = zip(*t)\n",
        "    return inters, slopes"
      ],
      "metadata": {
        "id": "7eS7cvugc_jI"
      },
      "execution_count": 19,
      "outputs": []
    },
    {
      "cell_type": "markdown",
      "source": [
        "Here's an example."
      ],
      "metadata": {
        "id": "RMX7JJTodHk6"
      }
    },
    {
      "cell_type": "code",
      "source": [
        "inters, slopes = SamplingDistributions(live, iters=1001)"
      ],
      "metadata": {
        "id": "AJqHvyGsdKNB"
      },
      "execution_count": 20,
      "outputs": []
    },
    {
      "cell_type": "markdown",
      "source": [
        "The following function takes a list of estimates and prints the mean, standard error, and 90% confidence interval."
      ],
      "metadata": {
        "id": "5JF5l_0_dOBw"
      }
    },
    {
      "cell_type": "code",
      "source": [
        "def Summarize(estimates, actual=None):\n",
        "    mean = Mean(estimates)\n",
        "    stderr = Std(estimates, mu=actual)\n",
        "    cdf = thinkstats2.Cdf(estimates)\n",
        "    ci = cdf.ConfidenceInterval(90)\n",
        "    print('mean, SE, CI', mean, stderr, ci)"
      ],
      "metadata": {
        "id": "1cMd3ytgdPPW"
      },
      "execution_count": 21,
      "outputs": []
    },
    {
      "cell_type": "markdown",
      "source": [
        "Here's the summary for inter.\n",
        "\n"
      ],
      "metadata": {
        "id": "csxFYY4odSub"
      }
    },
    {
      "cell_type": "code",
      "source": [
        "Summarize(inters)"
      ],
      "metadata": {
        "id": "uAj1H_LxdTNt",
        "outputId": "64e04498-a7f2-4e10-d1c9-1b9b3d8bb897",
        "colab": {
          "base_uri": "https://localhost:8080/"
        }
      },
      "execution_count": 22,
      "outputs": [
        {
          "output_type": "stream",
          "name": "stdout",
          "text": [
            "mean, SE, CI 6.82812990250379 0.07359417909060958 (6.70426409250442, 6.945101726987932)\n"
          ]
        }
      ]
    },
    {
      "cell_type": "code",
      "source": [
        "Summarize(slopes)"
      ],
      "metadata": {
        "id": "sOxiC2Z4dWpb",
        "outputId": "98e114e2-c55a-4c7d-fa68-1258f563bd5b",
        "colab": {
          "base_uri": "https://localhost:8080/"
        }
      },
      "execution_count": 23,
      "outputs": [
        {
          "output_type": "stream",
          "name": "stdout",
          "text": [
            "mean, SE, CI 0.017524021121050098 0.0029004545209231486 (0.01291770382988862, 0.022270269742432177)\n"
          ]
        }
      ]
    },
    {
      "cell_type": "markdown",
      "source": [
        "Exercise: Use ResampleRows and generate a list of estimates for the mean birth weight. Use Summarize to compute the SE and CI for these estimates."
      ],
      "metadata": {
        "id": "yqYAWE2bdZj2"
      }
    },
    {
      "cell_type": "code",
      "source": [
        "# Solution\n",
        "\n",
        "iters = 1000\n",
        "estimates = [ResampleRows(live).totalwgt_lb.mean()\n",
        "             for _ in range(iters)]\n",
        "Summarize(estimates)"
      ],
      "metadata": {
        "id": "RIt8xQNvdaEX",
        "outputId": "3d6df0a0-99c4-4a88-f2d3-34853caccbe6",
        "colab": {
          "base_uri": "https://localhost:8080/"
        }
      },
      "execution_count": 24,
      "outputs": [
        {
          "output_type": "stream",
          "name": "stdout",
          "text": [
            "mean, SE, CI 7.267057873699933 0.014375801272535906 (7.243375193626909, 7.290239820756804)\n"
          ]
        }
      ]
    },
    {
      "cell_type": "markdown",
      "source": [
        "Visualizing uncertainty\n",
        "\n",
        "\n",
        "To show the uncertainty of the estimated slope and intercept, we can generate a fitted line for each resampled estimate and plot them on top of each other."
      ],
      "metadata": {
        "id": "LgZNhLV7dhDx"
      }
    },
    {
      "cell_type": "code",
      "source": [
        "for slope, inter in zip(slopes, inters):\n",
        "    fxs, fys = FitLine(age_means, inter, slope)\n",
        "    thinkplot.Plot(fxs, fys, color='gray', alpha=0.01)\n",
        "    \n",
        "thinkplot.Config(xlabel=\"Mother's age (years)\",\n",
        "                 ylabel='Residual (lbs)',\n",
        "                 xlim=[10, 45])"
      ],
      "metadata": {
        "id": "2eVHQlQ4diMP",
        "outputId": "13e76280-40b5-454c-f684-e35d4ace468c",
        "colab": {
          "base_uri": "https://localhost:8080/",
          "height": 279
        }
      },
      "execution_count": 25,
      "outputs": [
        {
          "output_type": "display_data",
          "data": {
            "text/plain": [
              "<Figure size 432x288 with 1 Axes>"
            ],
            "image/png": "[encoded data removed]"
          },
          "metadata": {
            "needs_background": "light"
          }
        }
      ]
    },
    {
      "cell_type": "markdown",
      "source": [
        "Or we can make a neater (and more efficient plot) by computing fitted lines and finding percentiles of the fits for each value of the dependent variable."
      ],
      "metadata": {
        "id": "H50GlhoQd39D"
      }
    },
    {
      "cell_type": "code",
      "source": [
        "def PlotConfidenceIntervals(xs, inters, slopes, percent=90, **options):\n",
        "    fys_seq = []\n",
        "    for inter, slope in zip(inters, slopes):\n",
        "        fxs, fys = FitLine(xs, inter, slope)\n",
        "        fys_seq.append(fys)\n",
        "\n",
        "    p = (100 - percent) / 2\n",
        "    percents = p, 100 - p\n",
        "    low, high = thinkstats2.PercentileRows(fys_seq, percents)\n",
        "    thinkplot.FillBetween(fxs, low, high, **options)"
      ],
      "metadata": {
        "id": "UflL58yud4Y5"
      },
      "execution_count": 26,
      "outputs": []
    },
    {
      "cell_type": "markdown",
      "source": [
        "This example shows the confidence interval for the fitted values at each mother's age."
      ],
      "metadata": {
        "id": "J-J0pxjAd81d"
      }
    },
    {
      "cell_type": "code",
      "source": [
        "PlotConfidenceIntervals(age_means, inters, slopes, percent=90, \n",
        "                        color='gray', alpha=0.3, label='90% CI')\n",
        "PlotConfidenceIntervals(age_means, inters, slopes, percent=50,\n",
        "                        color='gray', alpha=0.5, label='50% CI')\n",
        "\n",
        "thinkplot.Config(xlabel=\"Mother's age (years)\",\n",
        "                 ylabel='Residual (lbs)',\n",
        "                 xlim=[10, 45])"
      ],
      "metadata": {
        "id": "Ibk6Bksqd9Vf",
        "outputId": "8d13817c-e1d2-4ad4-e4a9-1beb0c5b2396",
        "colab": {
          "base_uri": "https://localhost:8080/",
          "height": 279
        }
      },
      "execution_count": 27,
      "outputs": [
        {
          "output_type": "display_data",
          "data": {
            "text/plain": [
              "<Figure size 432x288 with 1 Axes>"
            ],
            "image/png": "[encoded data removed]"
          },
          "metadata": {
            "needs_background": "light"
          }
        }
      ]
    },
    {
      "cell_type": "markdown",
      "source": [
        "Coefficient of determination\n",
        "\n",
        "The coefficient compares the variance of the residuals to the variance of the dependent variable."
      ],
      "metadata": {
        "id": "JulIAvOremcs"
      }
    },
    {
      "cell_type": "code",
      "source": [
        "def CoefDetermination(ys, res):\n",
        "    return 1 - Var(res) / Var(ys)"
      ],
      "metadata": {
        "id": "FkQDKMcefvG9"
      },
      "execution_count": 28,
      "outputs": []
    },
    {
      "cell_type": "markdown",
      "source": [
        "For birth weight and mother's age R^2 is very small, indicating that the mother's age predicts a small part of the variance in birth weight."
      ],
      "metadata": {
        "id": "gxYQLRaof047"
      }
    },
    {
      "cell_type": "code",
      "source": [
        "inter, slope = LeastSquares(ages, weights)\n",
        "res = Residuals(ages, weights, inter, slope)\n",
        "r2 = CoefDetermination(weights, res)\n",
        "r2"
      ],
      "metadata": {
        "id": "JLAOYjNHf55T",
        "outputId": "f6b22266-e959-47d7-e24f-f4b0fd42d827",
        "colab": {
          "base_uri": "https://localhost:8080/"
        }
      },
      "execution_count": 29,
      "outputs": [
        {
          "output_type": "execute_result",
          "data": {
            "text/plain": [
              "0.004738115474710258"
            ]
          },
          "metadata": {},
          "execution_count": 29
        }
      ]
    },
    {
      "cell_type": "code",
      "source": [
        "print('rho', thinkstats2.Corr(ages, weights))\n",
        "print('R', np.sqrt(r2))    "
      ],
      "metadata": {
        "id": "pltplXlaf9yF",
        "outputId": "61a56f5c-19ac-4b60-af9b-dc9a312aad7d",
        "colab": {
          "base_uri": "https://localhost:8080/"
        }
      },
      "execution_count": 30,
      "outputs": [
        {
          "output_type": "stream",
          "name": "stdout",
          "text": [
            "rho 0.06883397035410904\n",
            "R 0.06883397035410828\n"
          ]
        }
      ]
    },
    {
      "cell_type": "markdown",
      "source": [
        "To express predictive power, I think it's useful to compare the standard deviation of the residuals to the standard deviation of the dependent variable, as a measure RMSE if you try to guess birth weight with and without taking into account mother's age."
      ],
      "metadata": {
        "id": "OH2UMhPygA6r"
      }
    },
    {
      "cell_type": "code",
      "source": [
        "print('Std(ys)', Std(weights))\n",
        "print('Std(res)', Std(res))"
      ],
      "metadata": {
        "id": "N-LaPQC0gBY-",
        "outputId": "8d3993b8-61c9-4589-a3cc-6e84120b3899",
        "colab": {
          "base_uri": "https://localhost:8080/"
        }
      },
      "execution_count": 31,
      "outputs": [
        {
          "output_type": "stream",
          "name": "stdout",
          "text": [
            "Std(ys) 1.40821553384062\n",
            "Std(res) 1.4048754287857834\n"
          ]
        }
      ]
    },
    {
      "cell_type": "markdown",
      "source": [
        "As another example of the same idea, here's how much we can improve guesses about IQ if we know someone's SAT scores."
      ],
      "metadata": {
        "id": "Odb0VeFIgiIU"
      }
    },
    {
      "cell_type": "code",
      "source": [
        "var_ys = 15**2\n",
        "rho = 0.72\n",
        "r2 = rho**2\n",
        "var_res = (1 - r2) * var_ys\n",
        "std_res = np.sqrt(var_res)\n",
        "std_res"
      ],
      "metadata": {
        "id": "0Sf_DQapgilQ",
        "outputId": "227fb006-dae4-4523-c480-50f1c4453755",
        "colab": {
          "base_uri": "https://localhost:8080/"
        }
      },
      "execution_count": 32,
      "outputs": [
        {
          "output_type": "execute_result",
          "data": {
            "text/plain": [
              "10.409610943738484"
            ]
          },
          "metadata": {},
          "execution_count": 32
        }
      ]
    },
    {
      "cell_type": "markdown",
      "source": [
        "Hypothesis testing with slopes\n",
        "Here's a HypothesisTest that uses permutation to test whether the observed slope is statistically significant."
      ],
      "metadata": {
        "id": "ISZeTs6wgoWw"
      }
    },
    {
      "cell_type": "code",
      "source": [
        "class SlopeTest(thinkstats2.HypothesisTest):\n",
        "\n",
        "    def TestStatistic(self, data):\n",
        "        ages, weights = data\n",
        "        _, slope = thinkstats2.LeastSquares(ages, weights)\n",
        "        return slope\n",
        "\n",
        "    def MakeModel(self):\n",
        "        _, weights = self.data\n",
        "        self.ybar = weights.mean()\n",
        "        self.res = weights - self.ybar\n",
        "\n",
        "    def RunModel(self):\n",
        "        ages, _ = self.data\n",
        "        weights = self.ybar + np.random.permutation(self.res)\n",
        "        return ages, weights"
      ],
      "metadata": {
        "id": "6ASjkGgGgpkt"
      },
      "execution_count": 33,
      "outputs": []
    },
    {
      "cell_type": "code",
      "source": [
        "ht = SlopeTest((ages, weights))\n",
        "pvalue = ht.PValue()\n",
        "pvalue"
      ],
      "metadata": {
        "id": "WGAdMvUHguIt",
        "outputId": "a4d168be-48e8-4d57-f00d-fcebdeb5c438",
        "colab": {
          "base_uri": "https://localhost:8080/"
        }
      },
      "execution_count": 35,
      "outputs": [
        {
          "output_type": "execute_result",
          "data": {
            "text/plain": [
              "0.0"
            ]
          },
          "metadata": {},
          "execution_count": 35
        }
      ]
    },
    {
      "cell_type": "markdown",
      "source": [
        "Under the null hypothesis, the largest slope we observe after 1000 tries is substantially less than the observed value."
      ],
      "metadata": {
        "id": "j9IxzxRrgzI2"
      }
    },
    {
      "cell_type": "code",
      "source": [
        "ht.actual, ht.MaxTestStat()"
      ],
      "metadata": {
        "id": "xyfJ_GwqgzrM",
        "outputId": "47a8f2f6-5e2f-4852-a461-cba98d805bd8",
        "colab": {
          "base_uri": "https://localhost:8080/"
        }
      },
      "execution_count": 36,
      "outputs": [
        {
          "output_type": "execute_result",
          "data": {
            "text/plain": [
              "(0.017453851471802746, 0.007971576104108747)"
            ]
          },
          "metadata": {},
          "execution_count": 36
        }
      ]
    },
    {
      "cell_type": "markdown",
      "source": [
        "We can also use resampling to estimate the sampling distribution of the slope."
      ],
      "metadata": {
        "id": "KECPuzqFg6YZ"
      }
    },
    {
      "cell_type": "code",
      "source": [
        "sampling_cdf = thinkstats2.Cdf(slopes)"
      ],
      "metadata": {
        "id": "maqW5fXPg6yY"
      },
      "execution_count": 37,
      "outputs": []
    },
    {
      "cell_type": "markdown",
      "source": [
        "The distribution of slopes under the null hypothesis, and the sampling distribution of the slope under resampling, have the same shape, but one has mean at 0 and the other has mean at the observed slope.\n",
        "\n",
        "To compute a p-value, we can count how often the estimated slope under the null hypothesis exceeds the observed slope, or how often the estimated slope under resampling falls below 0."
      ],
      "metadata": {
        "id": "iRo7rEZ-hA5g"
      }
    },
    {
      "cell_type": "code",
      "source": [
        "thinkplot.PrePlot(2)\n",
        "thinkplot.Plot([0, 0], [0, 1], color='0.8')\n",
        "ht.PlotCdf(label='null hypothesis')\n",
        "\n",
        "thinkplot.Cdf(sampling_cdf, label='sampling distribution')\n",
        "\n",
        "thinkplot.Config(xlabel='slope (lbs / year)',\n",
        "                   ylabel='CDF',\n",
        "                   xlim=[-0.03, 0.03],\n",
        "                   legend=True, loc='upper left')"
      ],
      "metadata": {
        "id": "hbo2Hjk8hBWo",
        "outputId": "4b2b1691-44de-4fad-9c62-e137044bc689",
        "colab": {
          "base_uri": "https://localhost:8080/",
          "height": 279
        }
      },
      "execution_count": 38,
      "outputs": [
        {
          "output_type": "display_data",
          "data": {
            "text/plain": [
              "<Figure size 432x288 with 1 Axes>"
            ],
            "image/png": "[encoded data removed]"
          },
          "metadata": {
            "needs_background": "light"
          }
        }
      ]
    },
    {
      "cell_type": "markdown",
      "source": [
        "Here's how to get a p-value from the sampling distribution."
      ],
      "metadata": {
        "id": "9R_RpB2shMGe"
      }
    },
    {
      "cell_type": "code",
      "source": [
        "pvalue = sampling_cdf[0]\n",
        "pvalue"
      ],
      "metadata": {
        "id": "m1gizGSphMdY",
        "outputId": "ebb482b3-9a2d-4dc5-e462-ebb40d7b1ce7",
        "colab": {
          "base_uri": "https://localhost:8080/"
        }
      },
      "execution_count": 39,
      "outputs": [
        {
          "output_type": "execute_result",
          "data": {
            "text/plain": [
              "0"
            ]
          },
          "metadata": {},
          "execution_count": 39
        }
      ]
    },
    {
      "cell_type": "markdown",
      "source": [
        "Resampling with weights\n",
        "\n",
        "\n",
        "Resampling provides a convenient way to take into account the sampling weights associated with respondents in a stratified survey design.\n",
        "\n",
        "The following function resamples rows with probabilities proportional to weights."
      ],
      "metadata": {
        "id": "rhyUlbnChQoL"
      }
    },
    {
      "cell_type": "code",
      "source": [
        "def ResampleRowsWeighted(df, column='finalwgt'):\n",
        "    weights = df[column]\n",
        "    cdf = thinkstats2.Cdf(dict(weights))\n",
        "    indices = cdf.Sample(len(weights))\n",
        "    sample = df.loc[indices]\n",
        "    return sample"
      ],
      "metadata": {
        "id": "EVBMpImyhSja"
      },
      "execution_count": 40,
      "outputs": []
    },
    {
      "cell_type": "markdown",
      "source": [
        "We can use it to estimate the mean birthweight and compute SE and CI."
      ],
      "metadata": {
        "id": "zrI0fLXQhX6a"
      }
    },
    {
      "cell_type": "code",
      "source": [
        "iters = 100\n",
        "estimates = [ResampleRowsWeighted(live).totalwgt_lb.mean()\n",
        "             for _ in range(iters)]\n",
        "Summarize(estimates)"
      ],
      "metadata": {
        "id": "SlvQYQqGhYMv",
        "outputId": "fbdb4560-daab-46ea-92d4-d375c8721aae",
        "colab": {
          "base_uri": "https://localhost:8080/"
        }
      },
      "execution_count": 41,
      "outputs": [
        {
          "output_type": "stream",
          "name": "stdout",
          "text": [
            "mean, SE, CI 7.349081240318655 0.01497023623906671 (7.32393781810135, 7.374813288338128)\n"
          ]
        }
      ]
    },
    {
      "cell_type": "markdown",
      "source": [
        "Exercise: Using the data from the BRFSS, compute the linear least squares fit for log(weight) versus height. How would you best present the estimated parameters for a model like this where one of the variables is log-transformed? If you were trying to guess someone’s weight, how much would it help to know their height?\n",
        "\n",
        "Like the NSFG, the BRFSS oversamples some groups and provides a sampling weight for each respondent. In the BRFSS data, the variable name for these weights is totalwt. Use resampling, with and without weights, to estimate the mean height of respondents in the BRFSS, the standard error of the mean, and a 90% confidence interval. How much does correct weighting affect the estimates?\n",
        "\n",
        "Read the BRFSS data and extract heights and log weights."
      ],
      "metadata": {
        "id": "RNV3AJkrhdJB"
      }
    },
    {
      "cell_type": "code",
      "source": [
        "download(\"https://github.com/AllenDowney/ThinkStats2/raw/master/code/brfss.py\")\n",
        "download(\"https://github.com/AllenDowney/ThinkStats2/raw/master/code/CDBRFS08.ASC.gz\")"
      ],
      "metadata": {
        "id": "OWbWIobyhd4u",
        "outputId": "d0016edf-0ff0-499a-c47d-9173482f7ec9",
        "colab": {
          "base_uri": "https://localhost:8080/"
        }
      },
      "execution_count": 42,
      "outputs": [
        {
          "output_type": "stream",
          "name": "stdout",
          "text": [
            "Downloaded brfss.py\n",
            "Downloaded CDBRFS08.ASC.gz\n"
          ]
        }
      ]
    },
    {
      "cell_type": "code",
      "source": [
        "import brfss\n",
        "\n",
        "df = brfss.ReadBrfss(nrows=None)\n",
        "df = df.dropna(subset=['htm3', 'wtkg2'])\n",
        "heights, weights = df.htm3, df.wtkg2\n",
        "log_weights = np.log10(weights)"
      ],
      "metadata": {
        "id": "kSJ8iXgdhpTL"
      },
      "execution_count": 43,
      "outputs": []
    },
    {
      "cell_type": "code",
      "source": [
        "# Solution\n",
        "\n",
        "inter, slope = thinkstats2.LeastSquares(heights, log_weights)\n",
        "inter, slope"
      ],
      "metadata": {
        "id": "LGeETKhehsGF",
        "outputId": "bbec69f6-4e21-4beb-bc53-3de5a9f6b238",
        "colab": {
          "base_uri": "https://localhost:8080/"
        }
      },
      "execution_count": 44,
      "outputs": [
        {
          "output_type": "execute_result",
          "data": {
            "text/plain": [
              "(0.9930804163932235, 0.005281454169418156)"
            ]
          },
          "metadata": {},
          "execution_count": 44
        }
      ]
    },
    {
      "cell_type": "markdown",
      "source": [
        "Make a scatter plot of the data and show the fitted line."
      ],
      "metadata": {
        "id": "H5XmUMQ4hu1o"
      }
    },
    {
      "cell_type": "code",
      "source": [
        "# Solution\n",
        "\n",
        "thinkplot.Scatter(heights, log_weights, alpha=0.01, s=5)\n",
        "fxs, fys = thinkstats2.FitLine(heights, inter, slope)\n",
        "thinkplot.Plot(fxs, fys, color='red')\n",
        "thinkplot.Config(xlabel='Height (cm)', ylabel='log10 weight (kg)', legend=False)"
      ],
      "metadata": {
        "id": "tJcpYlsAhvMA",
        "outputId": "8cc9e83b-0dcf-4c37-805a-c314f2642b0d",
        "colab": {
          "base_uri": "https://localhost:8080/",
          "height": 279
        }
      },
      "execution_count": 45,
      "outputs": [
        {
          "output_type": "display_data",
          "data": {
            "text/plain": [
              "<Figure size 432x288 with 1 Axes>"
            ],
            "image/png": "[encoded data removed]"
          },
          "metadata": {
            "needs_background": "light"
          }
        }
      ]
    },
    {
      "cell_type": "markdown",
      "source": [
        "Make the same plot but apply the inverse transform to show weights on a linear (not log) scale."
      ],
      "metadata": {
        "id": "W71_E0PCh0FW"
      }
    },
    {
      "cell_type": "code",
      "source": [
        "# Solution\n",
        "\n",
        "thinkplot.Scatter(heights, weights, alpha=0.01, s=5)\n",
        "fxs, fys = thinkstats2.FitLine(heights, inter, slope)\n",
        "thinkplot.Plot(fxs, 10**fys, color='red')\n",
        "thinkplot.Config(xlabel='Height (cm)', ylabel='Weight (kg)', legend=False)"
      ],
      "metadata": {
        "id": "5wiu9PTMh0h1",
        "outputId": "47981e3a-a203-4773-c1f3-2101d488c204",
        "colab": {
          "base_uri": "https://localhost:8080/",
          "height": 279
        }
      },
      "execution_count": 46,
      "outputs": [
        {
          "output_type": "display_data",
          "data": {
            "text/plain": [
              "<Figure size 432x288 with 1 Axes>"
            ],
            "image/png": "[encoded data removed]"
          },
          "metadata": {
            "needs_background": "light"
          }
        }
      ]
    },
    {
      "cell_type": "code",
      "source": [
        "# Solution\n",
        "\n",
        "# The lines are flat over most of the range, \n",
        "# indicating that the relationship is linear.\n",
        "\n",
        "# The lines are mostly parallel, indicating \n",
        "# that the variance of the residuals is the \n",
        "# same over the range.\n",
        "\n",
        "res = thinkstats2.Residuals(heights, log_weights, inter, slope)\n",
        "df['residual'] = res\n",
        "\n",
        "bins = np.arange(130, 210, 5)\n",
        "indices = np.digitize(df.htm3, bins)\n",
        "groups = df.groupby(indices)\n",
        "\n",
        "means = [group.htm3.mean() for i, group in groups][1:-1]\n",
        "cdfs = [thinkstats2.Cdf(group.residual) for i, group in groups][1:-1]\n",
        "\n",
        "thinkplot.PrePlot(3)\n",
        "for percent in [75, 50, 25]:\n",
        "    ys = [cdf.Percentile(percent) for cdf in cdfs]\n",
        "    label = '%dth' % percent\n",
        "    thinkplot.Plot(means, ys, label=label)\n",
        "    \n",
        "thinkplot.Config(xlabel='height (cm)', ylabel='residual weight (kg)', legend=False)"
      ],
      "metadata": {
        "id": "xo7RK7fyh67H",
        "outputId": "66226a24-e4a5-4c40-d007-51471da88fac",
        "colab": {
          "base_uri": "https://localhost:8080/",
          "height": 279
        }
      },
      "execution_count": 47,
      "outputs": [
        {
          "output_type": "display_data",
          "data": {
            "text/plain": [
              "<Figure size 432x288 with 1 Axes>"
            ],
            "image/png": "[encoded data removed]"
          },
          "metadata": {
            "needs_background": "light"
          }
        }
      ]
    },
    {
      "cell_type": "markdown",
      "source": [
        "Compute correlation."
      ],
      "metadata": {
        "id": "ayBOrirIiEU3"
      }
    },
    {
      "cell_type": "code",
      "source": [
        "# Solution\n",
        "\n",
        "rho = thinkstats2.Corr(heights, log_weights)\n",
        "rho"
      ],
      "metadata": {
        "id": "2s48FjXIiE1l",
        "outputId": "106f13f2-24f0-45fb-c6a9-367b63e1b15e",
        "colab": {
          "base_uri": "https://localhost:8080/"
        }
      },
      "execution_count": 48,
      "outputs": [
        {
          "output_type": "execute_result",
          "data": {
            "text/plain": [
              "0.5317282605983583"
            ]
          },
          "metadata": {},
          "execution_count": 48
        }
      ]
    },
    {
      "cell_type": "code",
      "source": [
        "# Solution\n",
        "\n",
        "r2 = thinkstats2.CoefDetermination(log_weights, res)\n",
        "r2"
      ],
      "metadata": {
        "id": "j9nzDEnjiJvG",
        "outputId": "f4d13ae4-920f-4fcb-b610-a83c75a1acb8",
        "colab": {
          "base_uri": "https://localhost:8080/"
        }
      },
      "execution_count": 49,
      "outputs": [
        {
          "output_type": "execute_result",
          "data": {
            "text/plain": [
              "0.2827349431189441"
            ]
          },
          "metadata": {},
          "execution_count": 49
        }
      ]
    },
    {
      "cell_type": "code",
      "source": [
        "# Solution\n",
        "\n",
        "np.isclose(rho**2, r2)"
      ],
      "metadata": {
        "id": "VjVS4enLiNlL",
        "outputId": "a74aa483-c95f-4c2e-8aed-e785ad5e6a9b",
        "colab": {
          "base_uri": "https://localhost:8080/"
        }
      },
      "execution_count": 50,
      "outputs": [
        {
          "output_type": "execute_result",
          "data": {
            "text/plain": [
              "True"
            ]
          },
          "metadata": {},
          "execution_count": 50
        }
      ]
    },
    {
      "cell_type": "markdown",
      "source": [
        "Compute Std(ys), which is the RMSE of predictions that don't use height."
      ],
      "metadata": {
        "id": "bNmBvXHeiSU5"
      }
    },
    {
      "cell_type": "code",
      "source": [
        "# Solution\n",
        "\n",
        "std_ys = thinkstats2.Std(log_weights)\n",
        "std_ys"
      ],
      "metadata": {
        "id": "g7_XHCnQiS04",
        "outputId": "b25948c6-30cd-4443-bba0-5f82692ff873",
        "colab": {
          "base_uri": "https://localhost:8080/"
        }
      },
      "execution_count": 51,
      "outputs": [
        {
          "output_type": "execute_result",
          "data": {
            "text/plain": [
              "0.10320725030004982"
            ]
          },
          "metadata": {},
          "execution_count": 51
        }
      ]
    },
    {
      "cell_type": "markdown",
      "source": [
        "Compute Std(res), the RMSE of predictions that do use height."
      ],
      "metadata": {
        "id": "Ud_TTVXPiXok"
      }
    },
    {
      "cell_type": "code",
      "source": [
        "# Solution\n",
        "\n",
        "std_res = thinkstats2.Std(res)\n",
        "std_res"
      ],
      "metadata": {
        "id": "4OXMW2gOiYD2",
        "outputId": "ea967d0f-f8d5-4ac5-ba5d-295a467245d6",
        "colab": {
          "base_uri": "https://localhost:8080/"
        }
      },
      "execution_count": 52,
      "outputs": [
        {
          "output_type": "execute_result",
          "data": {
            "text/plain": [
              "0.08740777080416139"
            ]
          },
          "metadata": {},
          "execution_count": 52
        }
      ]
    },
    {
      "cell_type": "markdown",
      "source": [
        "How much does height information reduce RMSE?"
      ],
      "metadata": {
        "id": "-ndj5Xh-idhk"
      }
    },
    {
      "cell_type": "code",
      "source": [
        "# Solution\n",
        "\n",
        "1 - std_res / std_ys"
      ],
      "metadata": {
        "id": "LmDZv2-8id7w",
        "outputId": "b677165c-f8fb-4663-db98-f74f25774bd3",
        "colab": {
          "base_uri": "https://localhost:8080/"
        }
      },
      "execution_count": 53,
      "outputs": [
        {
          "output_type": "execute_result",
          "data": {
            "text/plain": [
              "0.15308497658793652"
            ]
          },
          "metadata": {},
          "execution_count": 53
        }
      ]
    },
    {
      "cell_type": "markdown",
      "source": [
        "Use resampling to compute sampling distributions for inter and slope."
      ],
      "metadata": {
        "id": "wLQi8h33iorO"
      }
    },
    {
      "cell_type": "code",
      "source": [
        "# Solution\n",
        "\n",
        "t = []\n",
        "for _ in range(100):\n",
        "    sample = thinkstats2.ResampleRows(df)\n",
        "    estimates = thinkstats2.LeastSquares(sample.htm3, np.log10(sample.wtkg2))\n",
        "    t.append(estimates)\n",
        "\n",
        "inters, slopes = zip(*t)"
      ],
      "metadata": {
        "id": "cJxrIhYJipHH"
      },
      "execution_count": 54,
      "outputs": []
    },
    {
      "cell_type": "markdown",
      "source": [
        "Plot the sampling distribution of slope."
      ],
      "metadata": {
        "id": "KCFXwqYDiuCC"
      }
    },
    {
      "cell_type": "code",
      "source": [
        "# Solution\n",
        "\n",
        "cdf = thinkstats2.Cdf(slopes)\n",
        "thinkplot.Cdf(cdf)"
      ],
      "metadata": {
        "id": "opoxO4COiucd",
        "outputId": "ae6070d3-057a-4be2-d5fd-aaff5232bd21",
        "colab": {
          "base_uri": "https://localhost:8080/",
          "height": 283
        }
      },
      "execution_count": 55,
      "outputs": [
        {
          "output_type": "execute_result",
          "data": {
            "text/plain": [
              "{'xscale': 'linear', 'yscale': 'linear'}"
            ]
          },
          "metadata": {},
          "execution_count": 55
        },
        {
          "output_type": "display_data",
          "data": {
            "text/plain": [
              "<Figure size 432x288 with 1 Axes>"
            ],
            "image/png": "[encoded data removed]"
          },
          "metadata": {
            "needs_background": "light"
          }
        }
      ]
    },
    {
      "cell_type": "code",
      "source": [
        "# Solution\n",
        "\n",
        "pvalue = cdf[0]\n",
        "pvalue"
      ],
      "metadata": {
        "id": "3pm2lvBcizMa",
        "outputId": "1bed325f-dbf1-4d0a-c0b0-fa88b1e61b88",
        "colab": {
          "base_uri": "https://localhost:8080/"
        }
      },
      "execution_count": 56,
      "outputs": [
        {
          "output_type": "execute_result",
          "data": {
            "text/plain": [
              "0"
            ]
          },
          "metadata": {},
          "execution_count": 56
        }
      ]
    },
    {
      "cell_type": "markdown",
      "source": [
        "Compute the 90% confidence interval of slope."
      ],
      "metadata": {
        "id": "JEXMRzNKi3JU"
      }
    },
    {
      "cell_type": "code",
      "source": [
        "# Solution\n",
        "\n",
        "ci = cdf.Percentile(5), cdf.Percentile(95)\n",
        "ci"
      ],
      "metadata": {
        "id": "0mqJs6i9i3o_",
        "outputId": "249cf6ff-fabb-4590-8cbe-3a7b28a5f418",
        "colab": {
          "base_uri": "https://localhost:8080/"
        }
      },
      "execution_count": 57,
      "outputs": [
        {
          "output_type": "execute_result",
          "data": {
            "text/plain": [
              "(0.005262203713408496, 0.005306216812360276)"
            ]
          },
          "metadata": {},
          "execution_count": 57
        }
      ]
    },
    {
      "cell_type": "markdown",
      "source": [
        "Compute the mean of the sampling distribution."
      ],
      "metadata": {
        "id": "KSgpfRCPi8Uh"
      }
    },
    {
      "cell_type": "code",
      "source": [
        "# Solution\n",
        "\n",
        "mean = thinkstats2.Mean(slopes)\n",
        "mean"
      ],
      "metadata": {
        "id": "jwEh1-78i8v-",
        "outputId": "041ec309-5f45-47e9-9a9a-89c8033a821d",
        "colab": {
          "base_uri": "https://localhost:8080/"
        }
      },
      "execution_count": 58,
      "outputs": [
        {
          "output_type": "execute_result",
          "data": {
            "text/plain": [
              "0.005283777344828751"
            ]
          },
          "metadata": {},
          "execution_count": 58
        }
      ]
    },
    {
      "cell_type": "markdown",
      "source": [
        "Compute the standard deviation of the sampling distribution, which is the standard error"
      ],
      "metadata": {
        "id": "745biKnPjB8Z"
      }
    },
    {
      "cell_type": "code",
      "source": [
        "# Solution\n",
        "\n",
        "stderr = thinkstats2.Std(slopes)\n",
        "stderr"
      ],
      "metadata": {
        "id": "kKIwBeoxjCUv",
        "outputId": "46e5019d-8690-4a96-fdd6-1302fba28b16",
        "colab": {
          "base_uri": "https://localhost:8080/"
        }
      },
      "execution_count": 59,
      "outputs": [
        {
          "output_type": "execute_result",
          "data": {
            "text/plain": [
              "1.3885724585277524e-05"
            ]
          },
          "metadata": {},
          "execution_count": 59
        }
      ]
    }
  ]
}