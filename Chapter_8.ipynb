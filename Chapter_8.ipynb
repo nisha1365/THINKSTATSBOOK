{
  "nbformat": 4,
  "nbformat_minor": 0,
  "metadata": {
    "colab": {
      "provenance": [],
      "authorship_tag": "ABX9TyOvLaVRcZSthhoVCBRrWnVX",
      "include_colab_link": true
    },
    "kernelspec": {
      "name": "python3",
      "display_name": "Python 3"
    },
    "language_info": {
      "name": "python"
    }
  },
  "cells": [
    {
      "cell_type": "markdown",
      "metadata": {
        "id": "view-in-github",
        "colab_type": "text"
      },
      "source": [
        "<a href=\"https://colab.research.google.com/github/nisha1365/THINKSTATSBOOK/blob/main/Chapter_8.ipynb\" target=\"_parent\"><img src=\"https://colab.research.google.com/assets/colab-badge.svg\" alt=\"Open In Colab\"/></a>"
      ]
    },
    {
      "cell_type": "code",
      "source": [
        "from os.path import basename, exists\n",
        "\n",
        "\n",
        "def download(url):\n",
        "    filename = basename(url)\n",
        "    if not exists(filename):\n",
        "        from urllib.request import urlretrieve\n",
        "\n",
        "        local, _ = urlretrieve(url, filename)\n",
        "        print(\"Downloaded \" + local)\n",
        "\n",
        "\n",
        "download(\"https://github.com/AllenDowney/ThinkStats2/raw/master/code/thinkstats2.py\")\n",
        "download(\"https://github.com/AllenDowney/ThinkStats2/raw/master/code/thinkplot.py\")"
      ],
      "metadata": {
        "id": "7cLHDOzu99b-",
        "outputId": "7fd1dd73-1b7b-4687-9212-2200990271a5",
        "colab": {
          "base_uri": "https://localhost:8080/"
        }
      },
      "execution_count": 1,
      "outputs": [
        {
          "output_type": "stream",
          "name": "stdout",
          "text": [
            "Downloaded thinkstats2.py\n",
            "Downloaded thinkplot.py\n"
          ]
        }
      ]
    },
    {
      "cell_type": "code",
      "source": [
        "\n",
        "import numpy as np\n",
        "\n",
        "import thinkstats2\n",
        "import thinkplot"
      ],
      "metadata": {
        "id": "6opswsEY-B83"
      },
      "execution_count": 2,
      "outputs": []
    },
    {
      "cell_type": "markdown",
      "source": [
        "# The estimation game\n",
        "\n",
        "Root mean squared error is one of several ways to summarize the average error of an estimation process."
      ],
      "metadata": {
        "id": "Kld00HzL-Kf6"
      }
    },
    {
      "cell_type": "code",
      "source": [
        "def RMSE(estimates, actual):\n",
        "    \"\"\"Computes the root mean squared error of a sequence of estimates.\n",
        "\n",
        "    estimate: sequence of numbers\n",
        "    actual: actual value\n",
        "\n",
        "    returns: float RMSE\n",
        "    \"\"\"\n",
        "    e2 = [(estimate-actual)**2 for estimate in estimates]\n",
        "    mse = np.mean(e2)\n",
        "    return np.sqrt(mse)"
      ],
      "metadata": {
        "id": "V2J_pPvu-OAS"
      },
      "execution_count": 3,
      "outputs": []
    },
    {
      "cell_type": "markdown",
      "source": [
        "The following function simulates experiments where we try to estimate the mean of a population based on a sample with size n=7. We run iters=1000 experiments and collect the mean and median of each sample."
      ],
      "metadata": {
        "id": "HEdHVg9O-Ulk"
      }
    },
    {
      "cell_type": "code",
      "source": [
        "import random\n",
        "\n",
        "def Estimate1(n=7, iters=1000):\n",
        "    \"\"\"Evaluates RMSE of sample mean and median as estimators.\n",
        "\n",
        "    n: sample size\n",
        "    iters: number of iterations\n",
        "    \"\"\"\n",
        "    mu = 0\n",
        "    sigma = 1\n",
        "\n",
        "    means = []\n",
        "    medians = []\n",
        "    for _ in range(iters):\n",
        "        xs = [random.gauss(mu, sigma) for _ in range(n)]\n",
        "        xbar = np.mean(xs)\n",
        "        median = np.median(xs)\n",
        "        means.append(xbar)\n",
        "        medians.append(median)\n",
        "\n",
        "    print('Experiment 1')\n",
        "    print('rmse xbar', RMSE(means, mu))\n",
        "    print('rmse median', RMSE(medians, mu))\n",
        "    \n",
        "Estimate1()"
      ],
      "metadata": {
        "id": "0VRRmKIF-U9D",
        "outputId": "6c7a5cbf-daa2-4a91-89ed-53df22da1d43",
        "colab": {
          "base_uri": "https://localhost:8080/"
        }
      },
      "execution_count": 4,
      "outputs": [
        {
          "output_type": "stream",
          "name": "stdout",
          "text": [
            "Experiment 1\n",
            "rmse xbar 0.3805565246077372\n",
            "rmse median 0.46046061142623734\n"
          ]
        }
      ]
    },
    {
      "cell_type": "markdown",
      "source": [
        "Using x bar to estimate the mean works a little better than using the median; in the long run, it minimizes RMSE. But using the median is more robust in the presence of outliers or large errors."
      ],
      "metadata": {
        "id": "KcPQAZYt-lvU"
      }
    },
    {
      "cell_type": "markdown",
      "source": [
        "# Estimating variance\n",
        "\n",
        "The obvious way to estimate the variance of a population is to compute the variance of the sample, \n",
        ", but that turns out to be a biased estimator; that is, in the long run, the average error doesn't converge to 0.\n",
        "\n",
        "The following function computes the mean error for a collection of estimates."
      ],
      "metadata": {
        "id": "LQJBkn9C-yL6"
      }
    },
    {
      "cell_type": "code",
      "source": [
        "def MeanError(estimates, actual):\n",
        "    \"\"\"Computes the mean error of a sequence of estimates.\n",
        "\n",
        "    estimate: sequence of numbers\n",
        "    actual: actual value\n",
        "\n",
        "    returns: float mean error\n",
        "    \"\"\"\n",
        "    errors = [estimate-actual for estimate in estimates]\n",
        "    return np.mean(errors)"
      ],
      "metadata": {
        "id": "DyL2pJiC-0na"
      },
      "execution_count": 5,
      "outputs": []
    },
    {
      "cell_type": "markdown",
      "source": [
        "The following function simulates experiments where we try to estimate the variance of a population based on a sample with size n=7. We run iters=1000 experiments and two estimates for each sample, S^2\n",
        " and S^2(n-1)\n",
        "."
      ],
      "metadata": {
        "id": "ctQLNalS-_q7"
      }
    },
    {
      "cell_type": "code",
      "source": [
        "def Estimate2(n=7, iters=1000):\n",
        "    mu = 0\n",
        "    sigma = 1\n",
        "\n",
        "    estimates1 = []\n",
        "    estimates2 = []\n",
        "    for _ in range(iters):\n",
        "        xs = [random.gauss(mu, sigma) for i in range(n)]\n",
        "        biased = np.var(xs)\n",
        "        unbiased = np.var(xs, ddof=1)\n",
        "        estimates1.append(biased)\n",
        "        estimates2.append(unbiased)\n",
        "\n",
        "    print('mean error biased', MeanError(estimates1, sigma**2))\n",
        "    print('mean error unbiased', MeanError(estimates2, sigma**2))\n",
        "    \n",
        "Estimate2()"
      ],
      "metadata": {
        "id": "AaT3kiZN_EKF",
        "outputId": "1e6c311d-4d18-4416-e47d-f6ddeaf28386",
        "colab": {
          "base_uri": "https://localhost:8080/"
        }
      },
      "execution_count": 6,
      "outputs": [
        {
          "output_type": "stream",
          "name": "stdout",
          "text": [
            "mean error biased -0.13940604200017276\n",
            "mean error unbiased 0.004026284333131757\n"
          ]
        }
      ]
    },
    {
      "cell_type": "markdown",
      "source": [
        "The mean error for S^2 is non-zero, which suggests that it is biased. The mean error for S^2(n-1) is close to zero, and gets even smaller if we increase iters."
      ],
      "metadata": {
        "id": "qnNdROs0_T3Z"
      }
    },
    {
      "cell_type": "markdown",
      "source": [
        "# The sampling distribution\n",
        "\n",
        "The following function simulates experiments where we estimate the mean of a population using x bar, and returns a list of estimates, one from each experiment."
      ],
      "metadata": {
        "id": "nHxcXt2H_cEy"
      }
    },
    {
      "cell_type": "code",
      "source": [
        "def SimulateSample(mu=90, sigma=7.5, n=9, iters=1000):\n",
        "    xbars = []\n",
        "    for j in range(iters):\n",
        "        xs = np.random.normal(mu, sigma, n)\n",
        "        xbar = np.mean(xs)\n",
        "        xbars.append(xbar)\n",
        "    return xbars\n",
        "\n",
        "xbars = SimulateSample()"
      ],
      "metadata": {
        "id": "BJgYcLh6_hrW"
      },
      "execution_count": 7,
      "outputs": []
    },
    {
      "cell_type": "markdown",
      "source": [
        "Here's the \"sampling distribution of the mean\" which shows how much we should expect \n",
        " to vary from one experiment to the next."
      ],
      "metadata": {
        "id": "6aLKIE9d_pZZ"
      }
    },
    {
      "cell_type": "code",
      "source": [
        "cdf = thinkstats2.Cdf(xbars)\n",
        "thinkplot.Cdf(cdf)\n",
        "thinkplot.Config(xlabel='Sample mean',\n",
        "                 ylabel='CDF')"
      ],
      "metadata": {
        "id": "Jb7MqbY1_p2d",
        "outputId": "93edb659-2328-4645-dabe-3e62ccde7582",
        "colab": {
          "base_uri": "https://localhost:8080/",
          "height": 279
        }
      },
      "execution_count": 8,
      "outputs": [
        {
          "output_type": "display_data",
          "data": {
            "text/plain": [
              "<Figure size 432x288 with 1 Axes>"
            ],
            "image/png": "[encoded data removed]"
          },
          "metadata": {
            "needs_background": "light"
          }
        }
      ]
    },
    {
      "cell_type": "markdown",
      "source": [
        "The mean of the sample means is close to the actual value of mu."
      ],
      "metadata": {
        "id": "dAKF-8Z0_vWr"
      }
    },
    {
      "cell_type": "code",
      "source": [
        "np.mean(xbars)"
      ],
      "metadata": {
        "id": "iZECroWA_xQN",
        "outputId": "3b67a8fb-b52b-4bfc-953f-e098823f99cc",
        "colab": {
          "base_uri": "https://localhost:8080/"
        }
      },
      "execution_count": 9,
      "outputs": [
        {
          "output_type": "execute_result",
          "data": {
            "text/plain": [
              "89.87747563182906"
            ]
          },
          "metadata": {},
          "execution_count": 9
        }
      ]
    },
    {
      "cell_type": "markdown",
      "source": [
        "An interval that contains 90% of the values in the sampling disrtribution is called a 90% confidence interval."
      ],
      "metadata": {
        "id": "cwZEIHmW_2-n"
      }
    },
    {
      "cell_type": "code",
      "source": [
        "ci = cdf.Percentile(5), cdf.Percentile(95)\n",
        "ci"
      ],
      "metadata": {
        "id": "efoiSfuF_48h",
        "outputId": "dfff0fb9-99a3-4c33-a45e-858275b11b93",
        "colab": {
          "base_uri": "https://localhost:8080/"
        }
      },
      "execution_count": 10,
      "outputs": [
        {
          "output_type": "execute_result",
          "data": {
            "text/plain": [
              "(85.87512416060741, 94.00318315052914)"
            ]
          },
          "metadata": {},
          "execution_count": 10
        }
      ]
    },
    {
      "cell_type": "markdown",
      "source": [
        "And the RMSE of the sample means is called the standard error."
      ],
      "metadata": {
        "id": "BkuDBq8K_8km"
      }
    },
    {
      "cell_type": "code",
      "source": [
        "stderr = RMSE(xbars, 90)\n",
        "stderr"
      ],
      "metadata": {
        "id": "HTrF4r-G_-VI",
        "outputId": "eee4f436-6354-4abf-df64-ff7b5abc6657",
        "colab": {
          "base_uri": "https://localhost:8080/"
        }
      },
      "execution_count": 11,
      "outputs": [
        {
          "output_type": "execute_result",
          "data": {
            "text/plain": [
              "2.445209068545691"
            ]
          },
          "metadata": {},
          "execution_count": 11
        }
      ]
    },
    {
      "cell_type": "markdown",
      "source": [
        "Confidence intervals and standard errors quantify the variability in the estimate due to random sampling."
      ],
      "metadata": {
        "id": "_FhGGSKzAAlA"
      }
    },
    {
      "cell_type": "markdown",
      "source": [
        "# Estimating rates\n",
        "\n",
        "The following function simulates experiments where we try to estimate the mean of an exponential distribution using the mean and median of a sample."
      ],
      "metadata": {
        "id": "W3SKA7HhADED"
      }
    },
    {
      "cell_type": "code",
      "source": [
        "def Estimate3(n=7, iters=1000):\n",
        "    lam = 2\n",
        "\n",
        "    means = []\n",
        "    medians = []\n",
        "    for _ in range(iters):\n",
        "        xs = np.random.exponential(1.0/lam, n)\n",
        "        L = 1 / np.mean(xs)\n",
        "        Lm = np.log(2) / thinkstats2.Median(xs)\n",
        "        means.append(L)\n",
        "        medians.append(Lm)\n",
        "\n",
        "    print('rmse L', RMSE(means, lam))\n",
        "    print('rmse Lm', RMSE(medians, lam))\n",
        "    print('mean error L', MeanError(means, lam))\n",
        "    print('mean error Lm', MeanError(medians, lam))\n",
        "    \n",
        "Estimate3()"
      ],
      "metadata": {
        "id": "-enqGl5VAKEe",
        "outputId": "de02e083-fb3c-417e-ff04-abb1998147a4",
        "colab": {
          "base_uri": "https://localhost:8080/"
        }
      },
      "execution_count": 12,
      "outputs": [
        {
          "output_type": "stream",
          "name": "stdout",
          "text": [
            "rmse L 1.084510500361542\n",
            "rmse Lm 1.8461295393975143\n",
            "mean error L 0.32410300048136065\n",
            "mean error Lm 0.41860899434825594\n"
          ]
        }
      ]
    },
    {
      "cell_type": "markdown",
      "source": [
        "The RMSE is smaller for the sample mean than for the sample median.\n",
        "\n",
        "But neither estimator is unbiased."
      ],
      "metadata": {
        "id": "J8jrqZo3AON1"
      }
    },
    {
      "cell_type": "markdown",
      "source": [
        "# Exercises\n",
        "\n",
        "**Exercise:** Suppose you draw a sample with size n=10 from an exponential distribution with λ=2. Simulate this experiment 1000 times and plot the sampling distribution of the estimate L. Compute the standard error of the estimate and the 90% confidence interval.\n",
        "\n",
        "Repeat the experiment with a few different values of n and make a plot of standard error versus n."
      ],
      "metadata": {
        "id": "yv3ahnYbAYQj"
      }
    },
    {
      "cell_type": "code",
      "source": [
        "# Solution\n",
        "\n",
        "def SimulateSample(lam=2, n=10, iters=1000):\n",
        "    \"\"\"Sampling distribution of L as an estimator of exponential parameter.\n",
        "\n",
        "    lam: parameter of an exponential distribution\n",
        "    n: sample size\n",
        "    iters: number of iterations\n",
        "    \"\"\"\n",
        "    def VertLine(x, y=1):\n",
        "        thinkplot.Plot([x, x], [0, y], color='0.8', linewidth=3)\n",
        "\n",
        "    estimates = []\n",
        "    for _ in range(iters):\n",
        "        xs = np.random.exponential(1.0/lam, n)\n",
        "        lamhat = 1.0 / np.mean(xs)\n",
        "        estimates.append(lamhat)\n",
        "\n",
        "    stderr = RMSE(estimates, lam)\n",
        "    print('standard error', stderr)\n",
        "\n",
        "    cdf = thinkstats2.Cdf(estimates)\n",
        "    ci = cdf.Percentile(5), cdf.Percentile(95)\n",
        "    print('confidence interval', ci)\n",
        "    VertLine(ci[0])\n",
        "    VertLine(ci[1])\n",
        "\n",
        "    # plot the CDF\n",
        "    thinkplot.Cdf(cdf)\n",
        "    thinkplot.Config(xlabel='estimate',\n",
        "                     ylabel='CDF',\n",
        "                     title='Sampling distribution')\n",
        "\n",
        "    return stderr\n",
        "\n",
        "SimulateSample()"
      ],
      "metadata": {
        "id": "B7sZI2fHAbDz",
        "outputId": "b89806f7-3292-4e44-ca01-1be4d24a7ec0",
        "colab": {
          "base_uri": "https://localhost:8080/",
          "height": 347
        }
      },
      "execution_count": 13,
      "outputs": [
        {
          "output_type": "stream",
          "name": "stdout",
          "text": [
            "standard error 0.8044955887995088\n",
            "confidence interval (1.3017417465308325, 3.626369794179699)\n"
          ]
        },
        {
          "output_type": "execute_result",
          "data": {
            "text/plain": [
              "0.8044955887995088"
            ]
          },
          "metadata": {},
          "execution_count": 13
        },
        {
          "output_type": "display_data",
          "data": {
            "text/plain": [
              "<Figure size 432x288 with 1 Axes>"
            ],
            "image/png": "[encoded data removed]"
          },
          "metadata": {
            "needs_background": "light"
          }
        }
      ]
    },
    {
      "cell_type": "code",
      "source": [
        "# Solution\n",
        "\n",
        "# My conclusions:\n",
        "\n",
        "# 1) With sample size 10:\n",
        "\n",
        "# standard error 0.762510819389\n",
        "# confidence interval (1.2674054394352277, 3.5377353792673705)\n",
        "\n",
        "# 2) As sample size increases, standard error and the width of\n",
        "#    the CI decrease:\n",
        "\n",
        "# 10      0.90    (1.3, 3.9)\n",
        "# 100     0.21    (1.7, 2.4)\n",
        "# 1000    0.06    (1.9, 2.1)\n",
        "\n",
        "# All three confidence intervals contain the actual value, 2."
      ],
      "metadata": {
        "id": "kZPSlkTrAnyV"
      },
      "execution_count": null,
      "outputs": []
    },
    {
      "cell_type": "markdown",
      "source": [
        "**Exercise:** In games like hockey and soccer, the time between goals is roughly exponential. So you could estimate a team’s goal-scoring rate by observing the number of goals they score in a game. This estimation process is a little different from sampling the time between goals, so let’s see how it works.\n",
        "\n",
        "Write a function that takes a goal-scoring rate, lam, in goals per game, and simulates a game by generating the time between goals until the total time exceeds 1 game, then returns the number of goals scored.\n",
        "\n",
        "Write another function that simulates many games, stores the estimates of lam, then computes their mean error and RMSE.\n",
        "\n",
        "Is this way of making an estimate biased?"
      ],
      "metadata": {
        "id": "XQIMo0zzAtYz"
      }
    },
    {
      "cell_type": "code",
      "source": [
        "def SimulateGame(lam):\n",
        "    \"\"\"Simulates a game and returns the estimated goal-scoring rate.\n",
        "\n",
        "    lam: actual goal scoring rate in goals per game\n",
        "    \"\"\"\n",
        "    goals = 0\n",
        "    t = 0\n",
        "    while True:\n",
        "        time_between_goals = random.expovariate(lam)\n",
        "        t += time_between_goals\n",
        "        if t > 1:\n",
        "            break\n",
        "        goals += 1\n",
        "\n",
        "    # estimated goal-scoring rate is the actual number of goals scored\n",
        "    L = goals\n",
        "    return L"
      ],
      "metadata": {
        "id": "LYXxpf5OAwGw"
      },
      "execution_count": 14,
      "outputs": []
    },
    {
      "cell_type": "code",
      "source": [
        "# Solution\n",
        "\n",
        "# The following function simulates many games, then uses the\n",
        "# number of goals scored as an estimate of the true long-term\n",
        "# goal-scoring rate.\n",
        "\n",
        "def Estimate6(lam=2, m=1000000):\n",
        "\n",
        "    estimates = []\n",
        "    for i in range(m):\n",
        "        L = SimulateGame(lam)\n",
        "        estimates.append(L)\n",
        "\n",
        "    print('Experiment 4')\n",
        "    print('rmse L', RMSE(estimates, lam))\n",
        "    print('mean error L', MeanError(estimates, lam))\n",
        "    \n",
        "    pmf = thinkstats2.Pmf(estimates)\n",
        "    thinkplot.Hist(pmf)\n",
        "    thinkplot.Config(xlabel='Goals scored', ylabel='PMF')\n",
        "    \n",
        "Estimate6()"
      ],
      "metadata": {
        "id": "qi9GIcmxA98U",
        "outputId": "e26bbec3-b9f8-4ffe-c51d-1218d26ad3e7",
        "colab": {
          "base_uri": "https://localhost:8080/",
          "height": 331
        }
      },
      "execution_count": 15,
      "outputs": [
        {
          "output_type": "stream",
          "name": "stdout",
          "text": [
            "Experiment 4\n",
            "rmse L 1.4142298257355486\n",
            "mean error L -0.001058\n"
          ]
        },
        {
          "output_type": "display_data",
          "data": {
            "text/plain": [
              "<Figure size 432x288 with 1 Axes>"
            ],
            "image/png": "[encoded data removed]"
          },
          "metadata": {
            "needs_background": "light"
          }
        }
      ]
    },
    {
      "cell_type": "code",
      "source": [
        "# Solution\n",
        "\n",
        "# My conclusions:\n",
        "\n",
        "# 1) RMSE for this way of estimating lambda is 1.4\n",
        "\n",
        "# 2) The mean error is small and decreases with m, so this estimator\n",
        "#    appears to be unbiased.\n",
        "\n",
        "# One note: If the time between goals is exponential, the distribution\n",
        "# of goals scored in a game is Poisson.\n",
        "\n",
        "# See https://en.wikipedia.org/wiki/Poisson_distribution"
      ],
      "metadata": {
        "id": "FvH8ti9hBCkK"
      },
      "execution_count": 16,
      "outputs": []
    },
    {
      "cell_type": "markdown",
      "source": [
        "**Exercise:** In this chapter we used x bar\n",
        " and median to estimate µ, and found that x bar\n",
        " yields lower MSE. Also, we used S^2\n",
        " and S^2(n-1)\n",
        " to estimate σ, and found that S^2\n",
        " is biased and S^2 (n-1)\n",
        " unbiased. Run similar experiments to see if X bar\n",
        " and median are biased estimates of µ. Also check whether S^2\n",
        " or S^2(n-1)\n",
        " yields a lower MSE."
      ],
      "metadata": {
        "id": "uit8-P41BM2b"
      }
    },
    {
      "cell_type": "code",
      "source": [
        "# Solution\n",
        "\n",
        "def Estimate4(n=7, iters=100000):\n",
        "    \"\"\"Mean error for xbar and median as estimators of population mean.\n",
        "\n",
        "    n: sample size\n",
        "    iters: number of iterations\n",
        "    \"\"\"\n",
        "    mu = 0\n",
        "    sigma = 1\n",
        "\n",
        "    means = []\n",
        "    medians = []\n",
        "    for _ in range(iters):\n",
        "        xs = [random.gauss(mu, sigma) for i in range(n)]\n",
        "        xbar = np.mean(xs)\n",
        "        median = np.median(xs)\n",
        "        means.append(xbar)\n",
        "        medians.append(median)\n",
        "\n",
        "    print('Experiment 1')\n",
        "    print('mean error xbar', MeanError(means, mu))\n",
        "    print('mean error median', MeanError(medians, mu))\n",
        "    \n",
        "Estimate4()"
      ],
      "metadata": {
        "id": "WdHM0doMBoN1",
        "outputId": "9b5da455-688c-4799-a9c6-8173dd7b1e7e",
        "colab": {
          "base_uri": "https://localhost:8080/"
        }
      },
      "execution_count": 17,
      "outputs": [
        {
          "output_type": "stream",
          "name": "stdout",
          "text": [
            "Experiment 1\n",
            "mean error xbar 0.0006237489899414301\n",
            "mean error median -0.0002319140895096654\n"
          ]
        }
      ]
    },
    {
      "cell_type": "code",
      "source": [
        "# Solution\n",
        "\n",
        "def Estimate5(n=7, iters=100000):\n",
        "    \"\"\"RMSE for biased and unbiased estimators of population variance.\n",
        "\n",
        "    n: sample size\n",
        "    iters: number of iterations\n",
        "    \"\"\"\n",
        "    mu = 0\n",
        "    sigma = 1\n",
        "\n",
        "    estimates1 = []\n",
        "    estimates2 = []\n",
        "    for _ in range(iters):\n",
        "        xs = [random.gauss(mu, sigma) for i in range(n)]\n",
        "        biased = np.var(xs)\n",
        "        unbiased = np.var(xs, ddof=1)\n",
        "        estimates1.append(biased)\n",
        "        estimates2.append(unbiased)\n",
        "\n",
        "    print('Experiment 2')\n",
        "    print('RMSE biased', RMSE(estimates1, sigma**2))\n",
        "    print('RMSE unbiased', RMSE(estimates2, sigma**2))\n",
        "\n",
        "Estimate5()\n"
      ],
      "metadata": {
        "id": "f3--DW9JBttT",
        "outputId": "ae4c5245-95d2-4795-f0be-84c16c4cbbad",
        "colab": {
          "base_uri": "https://localhost:8080/"
        }
      },
      "execution_count": 19,
      "outputs": [
        {
          "output_type": "stream",
          "name": "stdout",
          "text": [
            "Experiment 2\n",
            "RMSE biased 0.5140442903685379\n",
            "RMSE unbiased 0.5768546465605155\n"
          ]
        }
      ]
    },
    {
      "cell_type": "code",
      "source": [
        "# Solution\n",
        "\n",
        "# My conclusions:\n",
        "\n",
        "# 1) xbar and median yield lower mean error as m increases, so neither\n",
        "# one is obviously biased, as far as we can tell from the experiment.\n",
        "\n",
        "# 2) The biased estimator of variance yields lower RMSE than the unbiased\n",
        "# estimator, by about 10%.  And the difference holds up as m increases."
      ],
      "metadata": {
        "id": "WwdXhitKB0de"
      },
      "execution_count": null,
      "outputs": []
    },
    {
      "cell_type": "markdown",
      "source": [],
      "metadata": {
        "id": "T2rggWLuAthp"
      }
    }
  ]
}