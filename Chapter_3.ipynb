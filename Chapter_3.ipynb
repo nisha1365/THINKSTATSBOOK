{
  "nbformat": 4,
  "nbformat_minor": 0,
  "metadata": {
    "colab": {
      "provenance": [],
      "authorship_tag": "ABX9TyMmR/w3KN5iyJ186nRVKYAl",
      "include_colab_link": true
    },
    "kernelspec": {
      "name": "python3",
      "display_name": "Python 3"
    },
    "language_info": {
      "name": "python"
    }
  },
  "cells": [
    {
      "cell_type": "markdown",
      "metadata": {
        "id": "view-in-github",
        "colab_type": "text"
      },
      "source": [
        "<a href=\"https://colab.research.google.com/github/nisha1365/THINKSTATSBOOK/blob/main/Chapter_3.ipynb\" target=\"_parent\"><img src=\"https://colab.research.google.com/assets/colab-badge.svg\" alt=\"Open In Colab\"/></a>"
      ]
    },
    {
      "cell_type": "markdown",
      "source": [
        "Load files"
      ],
      "metadata": {
        "id": "vNU9lEU1DA5j"
      }
    },
    {
      "cell_type": "code",
      "source": [
        "from os.path import basename, exists\n",
        "\n",
        "\n",
        "def download(url):\n",
        "    filename = basename(url)\n",
        "    if not exists(filename):\n",
        "        from urllib.request import urlretrieve\n",
        "\n",
        "        local, _ = urlretrieve(url, filename)\n",
        "        print(\"Downloaded \" + local)\n",
        "\n",
        "\n",
        "download(\"https://github.com/AllenDowney/ThinkStats2/raw/master/code/thinkstats2.py\")\n",
        "download(\"https://github.com/AllenDowney/ThinkStats2/raw/master/code/thinkplot.py\")\n",
        "download(\"https://github.com/AllenDowney/ThinkStats2/raw/master/code/nsfg.py\")\n",
        "download(\"https://github.com/AllenDowney/ThinkStats2/raw/master/code/first.py\")\n",
        "\n",
        "\n",
        "download(\"https://github.com/AllenDowney/ThinkStats2/raw/master/code/2002FemPreg.dct\")\n",
        "download(\n",
        "    \"https://github.com/AllenDowney/ThinkStats2/raw/master/code/2002FemPreg.dat.gz\"\n",
        ")"
      ],
      "metadata": {
        "id": "FTRRVANmDB8-",
        "outputId": "b6635b23-e0f2-4da0-fec8-40dd0496b96f",
        "colab": {
          "base_uri": "https://localhost:8080/"
        }
      },
      "execution_count": 1,
      "outputs": [
        {
          "output_type": "stream",
          "name": "stdout",
          "text": [
            "Downloaded thinkstats2.py\n",
            "Downloaded thinkplot.py\n",
            "Downloaded nsfg.py\n",
            "Downloaded first.py\n",
            "Downloaded 2002FemPreg.dct\n",
            "Downloaded 2002FemPreg.dat.gz\n"
          ]
        }
      ]
    },
    {
      "cell_type": "code",
      "source": [
        "import numpy as np"
      ],
      "metadata": {
        "id": "S6nc_l5CDMKn"
      },
      "execution_count": 2,
      "outputs": []
    },
    {
      "cell_type": "markdown",
      "source": [
        "Again, I'll load the NSFG pregnancy file and select live births:"
      ],
      "metadata": {
        "id": "nAY-ukk-DO9L"
      }
    },
    {
      "cell_type": "code",
      "source": [
        "import nsfg\n",
        "import first\n",
        "import thinkstats2\n",
        "import thinkplot"
      ],
      "metadata": {
        "id": "ZI3XtXTQDYvx"
      },
      "execution_count": 4,
      "outputs": []
    },
    {
      "cell_type": "code",
      "source": [
        "preg = nsfg.ReadFemPreg()\n",
        "live = preg[preg.outcome == 1]"
      ],
      "metadata": {
        "id": "FK5FPKPrDf2S"
      },
      "execution_count": 5,
      "outputs": []
    },
    {
      "cell_type": "markdown",
      "source": [
        "Here's the histogram of birth weights:"
      ],
      "metadata": {
        "id": "z004C0-hDntE"
      }
    },
    {
      "cell_type": "code",
      "source": [
        "hist = thinkstats2.Hist(live.birthwgt_lb, label=\"birthwgt_lb\")\n",
        "thinkplot.Hist(hist)\n",
        "thinkplot.Config(xlabel=\"Birth weight (pounds)\", ylabel=\"Count\")"
      ],
      "metadata": {
        "id": "E5Ybt_msDqp5",
        "outputId": "269c5b2c-bcca-4880-992f-f40a1e4813b5",
        "colab": {
          "base_uri": "https://localhost:8080/",
          "height": 279
        }
      },
      "execution_count": 6,
      "outputs": [
        {
          "output_type": "display_data",
          "data": {
            "text/plain": [
              "<Figure size 432x288 with 1 Axes>"
            ],
            "image/png": "[encoded data removed]"
          },
          "metadata": {
            "needs_background": "light"
          }
        }
      ]
    },
    {
      "cell_type": "markdown",
      "source": [
        "To normalize the disrtibution, we could divide through by the total count:"
      ],
      "metadata": {
        "id": "6MB7nn3zD02H"
      }
    },
    {
      "cell_type": "code",
      "source": [
        "n = hist.Total()\n",
        "pmf = hist.Copy()\n",
        "for x, freq in hist.Items():\n",
        "    pmf[x] = freq / n"
      ],
      "metadata": {
        "id": "I2vpZUmQD1NQ"
      },
      "execution_count": 7,
      "outputs": []
    },
    {
      "cell_type": "markdown",
      "source": [
        "The result is a Probability Mass Function (PMF)."
      ],
      "metadata": {
        "id": "v1EHeCq0EAFH"
      }
    },
    {
      "cell_type": "code",
      "source": [
        "thinkplot.Hist(pmf)\n",
        "thinkplot.Config(xlabel=\"Birth weight (pounds)\", ylabel=\"PMF\")"
      ],
      "metadata": {
        "id": "NZrqKj7TEDhI",
        "outputId": "d84837e3-d7fa-4366-df7e-1d60f6859a5f",
        "colab": {
          "base_uri": "https://localhost:8080/",
          "height": 282
        }
      },
      "execution_count": 8,
      "outputs": [
        {
          "output_type": "display_data",
          "data": {
            "text/plain": [
              "<Figure size 432x288 with 1 Axes>"
            ],
            "image/png": "[encoded data removed]"
          },
          "metadata": {
            "needs_background": "light"
          }
        }
      ]
    },
    {
      "cell_type": "markdown",
      "source": [
        "More directly, we can create a Pmf object."
      ],
      "metadata": {
        "id": "v5lK9jnXEJy8"
      }
    },
    {
      "cell_type": "code",
      "source": [
        "pmf = thinkstats2.Pmf([1, 2, 2, 3, 5])\n",
        "pmf"
      ],
      "metadata": {
        "id": "_bBoi6s-EKbN",
        "outputId": "c2e92322-1278-4b82-91c1-8afcc325bbb3",
        "colab": {
          "base_uri": "https://localhost:8080/"
        }
      },
      "execution_count": 9,
      "outputs": [
        {
          "output_type": "execute_result",
          "data": {
            "text/plain": [
              "Pmf({1: 0.2, 2: 0.4, 3: 0.2, 5: 0.2})"
            ]
          },
          "metadata": {},
          "execution_count": 9
        }
      ]
    },
    {
      "cell_type": "markdown",
      "source": [
        "Pmf provides Prob, which looks up a value and returns its probability:"
      ],
      "metadata": {
        "id": "uGg-DiPFETE6"
      }
    },
    {
      "cell_type": "code",
      "source": [
        "pmf.Prob(2)"
      ],
      "metadata": {
        "id": "DpaNYfl4EUBh",
        "outputId": "91bf04fb-439b-4a1a-f9de-4da80b718857",
        "colab": {
          "base_uri": "https://localhost:8080/"
        }
      },
      "execution_count": 10,
      "outputs": [
        {
          "output_type": "execute_result",
          "data": {
            "text/plain": [
              "0.4"
            ]
          },
          "metadata": {},
          "execution_count": 10
        }
      ]
    },
    {
      "cell_type": "markdown",
      "source": [
        "The bracket operator does the same thing."
      ],
      "metadata": {
        "id": "EwCKeJdYEir3"
      }
    },
    {
      "cell_type": "code",
      "source": [
        "pmf[2]"
      ],
      "metadata": {
        "id": "yI-vQirWEjNQ",
        "outputId": "ccdd803f-d61f-4cbe-f596-85bd34d8ce3e",
        "colab": {
          "base_uri": "https://localhost:8080/"
        }
      },
      "execution_count": 11,
      "outputs": [
        {
          "output_type": "execute_result",
          "data": {
            "text/plain": [
              "0.4"
            ]
          },
          "metadata": {},
          "execution_count": 11
        }
      ]
    },
    {
      "cell_type": "markdown",
      "source": [
        "The Incr method adds to the probability associated with a given values."
      ],
      "metadata": {
        "id": "lDW3VozHEt_u"
      }
    },
    {
      "cell_type": "code",
      "source": [
        "pmf.Incr(2, 0.2)\n",
        "pmf[2]\n"
      ],
      "metadata": {
        "id": "XG4hkS9NEuhU",
        "outputId": "32321042-e043-4e0f-fb86-e1c33fa2ab78",
        "colab": {
          "base_uri": "https://localhost:8080/"
        }
      },
      "execution_count": 12,
      "outputs": [
        {
          "output_type": "execute_result",
          "data": {
            "text/plain": [
              "0.6000000000000001"
            ]
          },
          "metadata": {},
          "execution_count": 12
        }
      ]
    },
    {
      "cell_type": "markdown",
      "source": [
        "The Mult method multiplies the probability associated with a value."
      ],
      "metadata": {
        "id": "FznOMxvAE2Fs"
      }
    },
    {
      "cell_type": "code",
      "source": [
        "pmf.Mult(2, 0.5)\n",
        "pmf[2]"
      ],
      "metadata": {
        "id": "MXLitqWBE2oX",
        "outputId": "13805eb5-b499-4f65-a077-d6a95b76b5ae",
        "colab": {
          "base_uri": "https://localhost:8080/"
        }
      },
      "execution_count": 13,
      "outputs": [
        {
          "output_type": "execute_result",
          "data": {
            "text/plain": [
              "0.30000000000000004"
            ]
          },
          "metadata": {},
          "execution_count": 13
        }
      ]
    },
    {
      "cell_type": "markdown",
      "source": [
        "Total returns the total probability (which is no longer 1, because we changed one of the probabilities)."
      ],
      "metadata": {
        "id": "D5PSpUc7E_X1"
      }
    },
    {
      "cell_type": "code",
      "source": [
        "pmf.Total()"
      ],
      "metadata": {
        "id": "c8NpJudcFAEh",
        "outputId": "d788bcb9-c9fb-4a7a-9515-7c3e6d44ead5",
        "colab": {
          "base_uri": "https://localhost:8080/"
        }
      },
      "execution_count": 14,
      "outputs": [
        {
          "output_type": "execute_result",
          "data": {
            "text/plain": [
              "0.8999999999999999"
            ]
          },
          "metadata": {},
          "execution_count": 14
        }
      ]
    },
    {
      "cell_type": "markdown",
      "source": [
        "Normalize divides through by the total probability, making it 1 again."
      ],
      "metadata": {
        "id": "sOAN8gMtFG9w"
      }
    },
    {
      "cell_type": "code",
      "source": [
        "pmf.Normalize()\n",
        "pmf.Total()"
      ],
      "metadata": {
        "id": "iNEEoxNBFHlv",
        "outputId": "8c6a6532-f516-4b93-b463-1816a6a3d94d",
        "colab": {
          "base_uri": "https://localhost:8080/"
        }
      },
      "execution_count": 15,
      "outputs": [
        {
          "output_type": "execute_result",
          "data": {
            "text/plain": [
              "1.0"
            ]
          },
          "metadata": {},
          "execution_count": 15
        }
      ]
    },
    {
      "cell_type": "markdown",
      "source": [
        "Here's the PMF of pregnancy length for live births."
      ],
      "metadata": {
        "id": "fHZjaCOxFVgo"
      }
    },
    {
      "cell_type": "code",
      "source": [
        "pmf = thinkstats2.Pmf(live.prglngth, label=\"prglngth\")"
      ],
      "metadata": {
        "id": "a0N47TA8FWS_"
      },
      "execution_count": 16,
      "outputs": []
    },
    {
      "cell_type": "markdown",
      "source": [
        "Here's what it looks like plotted with Hist, which makes a bar graph."
      ],
      "metadata": {
        "id": "SSWT--fLFbja"
      }
    },
    {
      "cell_type": "code",
      "source": [
        "thinkplot.Hist(pmf)\n",
        "thinkplot.Config(xlabel=\"Pregnancy length (weeks)\", ylabel=\"Pmf\")"
      ],
      "metadata": {
        "id": "GpLhw9GOFcNE",
        "outputId": "79f48f64-347c-456d-be3e-5083fa06328d",
        "colab": {
          "base_uri": "https://localhost:8080/",
          "height": 279
        }
      },
      "execution_count": 17,
      "outputs": [
        {
          "output_type": "display_data",
          "data": {
            "text/plain": [
              "<Figure size 432x288 with 1 Axes>"
            ],
            "image/png": "[encoded data removed]"
          },
          "metadata": {
            "needs_background": "light"
          }
        }
      ]
    },
    {
      "cell_type": "markdown",
      "source": [
        "Here's what it looks like plotted with Pmf, which makes a step function"
      ],
      "metadata": {
        "id": "0QGib0dIFtVJ"
      }
    },
    {
      "cell_type": "code",
      "source": [
        "thinkplot.Pmf(pmf)\n",
        "thinkplot.Config(xlabel=\"Pregnancy length (weeks)\", ylabel=\"Pmf\")"
      ],
      "metadata": {
        "id": "RmdlHjtsFukD",
        "outputId": "9850f85a-caae-4054-8ec4-1e9ed5c0f5d3",
        "colab": {
          "base_uri": "https://localhost:8080/",
          "height": 279
        }
      },
      "execution_count": 18,
      "outputs": [
        {
          "output_type": "display_data",
          "data": {
            "text/plain": [
              "<Figure size 432x288 with 1 Axes>"
            ],
            "image/png": "[encoded data removed]"
          },
          "metadata": {
            "needs_background": "light"
          }
        }
      ]
    },
    {
      "cell_type": "markdown",
      "source": [
        "We can use MakeFrames to return DataFrames for all live births, first babies, and others."
      ],
      "metadata": {
        "id": "NaLnvDgsGCEg"
      }
    },
    {
      "cell_type": "code",
      "source": [
        "live, firsts, others = first.MakeFrames()"
      ],
      "metadata": {
        "id": "JEExGXCjGCwN"
      },
      "execution_count": 19,
      "outputs": []
    },
    {
      "cell_type": "markdown",
      "source": [
        "Here are the distributions of pregnancy length."
      ],
      "metadata": {
        "id": "-jJwB25GGLo6"
      }
    },
    {
      "cell_type": "code",
      "source": [
        "first_pmf = thinkstats2.Pmf(firsts.prglngth, label=\"firsts\")\n",
        "other_pmf = thinkstats2.Pmf(others.prglngth, label=\"others\")"
      ],
      "metadata": {
        "id": "F42NJLrTGMFm"
      },
      "execution_count": 20,
      "outputs": []
    },
    {
      "cell_type": "markdown",
      "source": [
        "\n",
        "And here's the code that replicates one of the figures in the chapter."
      ],
      "metadata": {
        "id": "X7YCOYf6GSrJ"
      }
    },
    {
      "cell_type": "code",
      "source": [
        "width = 0.45\n",
        "axis = [27, 46, 0, 0.6]\n",
        "thinkplot.PrePlot(2, cols=2)\n",
        "thinkplot.Hist(first_pmf, align=\"right\", width=width)\n",
        "thinkplot.Hist(other_pmf, align=\"left\", width=width)\n",
        "thinkplot.Config(xlabel=\"Pregnancy length(weeks)\", ylabel=\"PMF\", axis=axis)\n",
        "\n",
        "thinkplot.PrePlot(2)\n",
        "thinkplot.SubPlot(2)\n",
        "thinkplot.Pmfs([first_pmf, other_pmf])\n",
        "thinkplot.Config(xlabel=\"Pregnancy length(weeks)\", axis=axis)"
      ],
      "metadata": {
        "id": "jEh66I-nGTLX",
        "outputId": "41323199-c119-4bda-d865-f66f8e939020",
        "colab": {
          "base_uri": "https://localhost:8080/",
          "height": 392
        }
      },
      "execution_count": 21,
      "outputs": [
        {
          "output_type": "display_data",
          "data": {
            "text/plain": [
              "<Figure size 864x432 with 2 Axes>"
            ],
            "image/png": "[encoded data removed]"
          },
          "metadata": {
            "needs_background": "light"
          }
        }
      ]
    },
    {
      "cell_type": "markdown",
      "source": [
        "Here's the code that generates a plot of the difference in probability (in percentage points) between first babies and others, for each week of pregnancy (showing only pregnancies considered \"full term\")."
      ],
      "metadata": {
        "id": "Mj9zZi6LGgZ8"
      }
    },
    {
      "cell_type": "code",
      "source": [
        "weeks = range(35, 46)\n",
        "diffs = []\n",
        "for week in weeks:\n",
        "    p1 = first_pmf.Prob(week)\n",
        "    p2 = other_pmf.Prob(week)\n",
        "    diff = 100 * (p1 - p2)\n",
        "    diffs.append(diff)\n",
        "\n",
        "thinkplot.Bar(weeks, diffs)\n",
        "thinkplot.Config(xlabel='Pregnancy length(weeks)', ylabel='Difference (percentage points)')"
      ],
      "metadata": {
        "id": "a-FK-INrGhNZ",
        "outputId": "b480b035-fd35-45fa-ca09-1c78fac23857",
        "colab": {
          "base_uri": "https://localhost:8080/",
          "height": 279
        }
      },
      "execution_count": 22,
      "outputs": [
        {
          "output_type": "display_data",
          "data": {
            "text/plain": [
              "<Figure size 432x288 with 1 Axes>"
            ],
            "image/png": "[encoded data removed]"
          },
          "metadata": {
            "needs_background": "light"
          }
        }
      ]
    },
    {
      "cell_type": "markdown",
      "source": [
        "# Biasing and unbiasing PMFs\n",
        "\n",
        "Here's the example in the book showing operations we can perform with Pmf objects.\n",
        "\n",
        "Suppose we have the following distribution of class sizes."
      ],
      "metadata": {
        "id": "tx5QmpQvGvP8"
      }
    },
    {
      "cell_type": "code",
      "source": [
        "d = {7: 8, 12: 8, 17: 14, 22: 4, 27: 6, 32: 12, 37: 8, 42: 3, 47: 2}\n",
        "\n",
        "pmf = thinkstats2.Pmf(d, label=\"actual\")"
      ],
      "metadata": {
        "id": "t5U4TZ44Gx0s"
      },
      "execution_count": 23,
      "outputs": []
    },
    {
      "cell_type": "markdown",
      "source": [
        "This function computes the biased PMF we would get if we surveyed students and asked about the size of the classes they are in."
      ],
      "metadata": {
        "id": "pFjx0GN8G5xO"
      }
    },
    {
      "cell_type": "code",
      "source": [
        "def BiasPmf(pmf, label):\n",
        "    new_pmf = pmf.Copy(label=label)\n",
        "\n",
        "    for x, p in pmf.Items():\n",
        "        new_pmf.Mult(x, x)\n",
        "\n",
        "    new_pmf.Normalize()\n",
        "    return new_pmf"
      ],
      "metadata": {
        "id": "zNnvo3hpG6QY"
      },
      "execution_count": 24,
      "outputs": []
    },
    {
      "cell_type": "markdown",
      "source": [
        "The following graph shows the difference between the actual and observed distributions."
      ],
      "metadata": {
        "id": "25UBJRlhHA7K"
      }
    },
    {
      "cell_type": "code",
      "source": [
        "biased_pmf = BiasPmf(pmf, label=\"observed\")\n",
        "thinkplot.PrePlot(2)\n",
        "thinkplot.Pmfs([pmf, biased_pmf])\n",
        "thinkplot.Config(xlabel=\"Class size\", ylabel=\"PMF\")"
      ],
      "metadata": {
        "id": "gyH5wFTmHBbk",
        "outputId": "3a1a4043-ce19-443a-d4e1-54521f6eb716",
        "colab": {
          "base_uri": "https://localhost:8080/",
          "height": 279
        }
      },
      "execution_count": 25,
      "outputs": [
        {
          "output_type": "display_data",
          "data": {
            "text/plain": [
              "<Figure size 432x288 with 1 Axes>"
            ],
            "image/png": "[encoded data removed]"
          },
          "metadata": {
            "needs_background": "light"
          }
        }
      ]
    },
    {
      "cell_type": "markdown",
      "source": [
        "\n",
        "The observed mean is substantially higher than the actual."
      ],
      "metadata": {
        "id": "5qyvfAUMHGNS"
      }
    },
    {
      "cell_type": "code",
      "source": [
        "print(\"Actual mean\", pmf.Mean())\n",
        "print(\"Observed mean\", biased_pmf.Mean())"
      ],
      "metadata": {
        "id": "AEANEzAzHIus",
        "outputId": "0d7aaaa2-184d-4c9d-a602-079a37bb26ba",
        "colab": {
          "base_uri": "https://localhost:8080/"
        }
      },
      "execution_count": 26,
      "outputs": [
        {
          "output_type": "stream",
          "name": "stdout",
          "text": [
            "Actual mean 23.692307692307693\n",
            "Observed mean 29.123376623376625\n"
          ]
        }
      ]
    },
    {
      "cell_type": "markdown",
      "source": [
        "If we were only able to collect the biased sample, we could \"unbias\" it by applying the inverse operation."
      ],
      "metadata": {
        "id": "l_9wgQzCHdod"
      }
    },
    {
      "cell_type": "code",
      "source": [
        "def UnbiasPmf(pmf, label=None):\n",
        "    new_pmf = pmf.Copy(label=label)\n",
        "\n",
        "    for x, p in pmf.Items():\n",
        "        new_pmf[x] *= 1 / x\n",
        "\n",
        "    new_pmf.Normalize()\n",
        "    return new_pmf"
      ],
      "metadata": {
        "id": "dT-2tktQHfxX"
      },
      "execution_count": 27,
      "outputs": []
    },
    {
      "cell_type": "markdown",
      "source": [
        "We can unbias the biased PMF:"
      ],
      "metadata": {
        "id": "v2-ISKWiHurY"
      }
    },
    {
      "cell_type": "code",
      "source": [
        "unbiased = UnbiasPmf(biased_pmf, label=\"unbiased\")\n",
        "print(\"Unbiased mean\", unbiased.Mean())"
      ],
      "metadata": {
        "id": "AvNC9c3oHvYd",
        "outputId": "b67f63b9-77cd-4db6-de30-3a9535b2dbc8",
        "colab": {
          "base_uri": "https://localhost:8080/"
        }
      },
      "execution_count": 28,
      "outputs": [
        {
          "output_type": "stream",
          "name": "stdout",
          "text": [
            "Unbiased mean 23.69230769230769\n"
          ]
        }
      ]
    },
    {
      "cell_type": "markdown",
      "source": [
        "And plot the two distributions to confirm they are the same."
      ],
      "metadata": {
        "id": "fSlK0-g4H148"
      }
    },
    {
      "cell_type": "code",
      "source": [
        "thinkplot.PrePlot(2)\n",
        "thinkplot.Pmfs([pmf, unbiased])\n",
        "thinkplot.Config(xlabel=\"Class size\", ylabel=\"PMF\")"
      ],
      "metadata": {
        "id": "rgJqq94WH2gK",
        "outputId": "bc6e5f2a-461e-4399-b0d8-65d34a95e3e5",
        "colab": {
          "base_uri": "https://localhost:8080/",
          "height": 279
        }
      },
      "execution_count": 29,
      "outputs": [
        {
          "output_type": "display_data",
          "data": {
            "text/plain": [
              "<Figure size 432x288 with 1 Axes>"
            ],
            "image/png": "[encoded data removed]"
          },
          "metadata": {
            "needs_background": "light"
          }
        }
      ]
    },
    {
      "cell_type": "markdown",
      "source": [
        "# Pandas indexing\n",
        "\n",
        "Here's an example of a small DataFrame."
      ],
      "metadata": {
        "id": "MqKnYweIH8mQ"
      }
    },
    {
      "cell_type": "code",
      "source": [
        "import numpy as np\n",
        "import pandas\n",
        "\n",
        "array = np.random.randn(4, 2)\n",
        "df = pandas.DataFrame(array)\n",
        "df"
      ],
      "metadata": {
        "id": "0bWD3DG8H-fk",
        "outputId": "5bd7ea82-4cc4-41f8-c51f-350f3bc8285a",
        "colab": {
          "base_uri": "https://localhost:8080/",
          "height": 175
        }
      },
      "execution_count": 30,
      "outputs": [
        {
          "output_type": "execute_result",
          "data": {
            "text/plain": [
              "          0         1\n",
              "0 -1.869752  1.853894\n",
              "1 -0.353949  0.155228\n",
              "2 -1.840035  0.496643\n",
              "3 -0.511923  0.631265"
            ],
            "text/html": [
              "\n",
              "  <div id=\"df-c6089b52-5985-48d8-9e10-59d08dec1d63\">\n",
              "    <div class=\"colab-df-container\">\n",
              "      <div>\n",
              "<style scoped>\n",
              "    .dataframe tbody tr th:only-of-type {\n",
              "        vertical-align: middle;\n",
              "    }\n",
              "\n",
              "    .dataframe tbody tr th {\n",
              "        vertical-align: top;\n",
              "    }\n",
              "\n",
              "    .dataframe thead th {\n",
              "        text-align: right;\n",
              "    }\n",
              "</style>\n",
              "<table border=\"1\" class=\"dataframe\">\n",
              "  <thead>\n",
              "    <tr style=\"text-align: right;\">\n",
              "      <th></th>\n",
              "      <th>0</th>\n",
              "      <th>1</th>\n",
              "    </tr>\n",
              "  </thead>\n",
              "  <tbody>\n",
              "    <tr>\n",
              "      <th>0</th>\n",
              "      <td>-1.869752</td>\n",
              "      <td>1.853894</td>\n",
              "    </tr>\n",
              "    <tr>\n",
              "      <th>1</th>\n",
              "      <td>-0.353949</td>\n",
              "      <td>0.155228</td>\n",
              "    </tr>\n",
              "    <tr>\n",
              "      <th>2</th>\n",
              "      <td>-1.840035</td>\n",
              "      <td>0.496643</td>\n",
              "    </tr>\n",
              "    <tr>\n",
              "      <th>3</th>\n",
              "      <td>-0.511923</td>\n",
              "      <td>0.631265</td>\n",
              "    </tr>\n",
              "  </tbody>\n",
              "</table>\n",
              "</div>\n",
              "      <button class=\"colab-df-convert\" onclick=\"convertToInteractive('df-c6089b52-5985-48d8-9e10-59d08dec1d63')\"\n",
              "              title=\"Convert this dataframe to an interactive table.\"\n",
              "              style=\"display:none;\">\n",
              "        \n",
              "  <svg xmlns=\"http://www.w3.org/2000/svg\" height=\"24px\"viewBox=\"0 0 24 24\"\n",
              "       width=\"24px\">\n",
              "    <path d=\"M0 0h24v24H0V0z\" fill=\"none\"/>\n",
              "    <path d=\"M18.56 5.44l.94 2.06.94-2.06 2.06-.94-2.06-.94-.94-2.06-.94 2.06-2.06.94zm-11 1L8.5 8.5l.94-2.06 2.06-.94-2.06-.94L8.5 2.5l-.94 2.06-2.06.94zm10 10l.94 2.06.94-2.06 2.06-.94-2.06-.94-.94-2.06-.94 2.06-2.06.94z\"/><path d=\"M17.41 7.96l-1.37-1.37c-.4-.4-.92-.59-1.43-.59-.52 0-1.04.2-1.43.59L10.3 9.45l-7.72 7.72c-.78.78-.78 2.05 0 2.83L4 21.41c.39.39.9.59 1.41.59.51 0 1.02-.2 1.41-.59l7.78-7.78 2.81-2.81c.8-.78.8-2.07 0-2.86zM5.41 20L4 18.59l7.72-7.72 1.47 1.35L5.41 20z\"/>\n",
              "  </svg>\n",
              "      </button>\n",
              "      \n",
              "  <style>\n",
              "    .colab-df-container {\n",
              "      display:flex;\n",
              "      flex-wrap:wrap;\n",
              "      gap: 12px;\n",
              "    }\n",
              "\n",
              "    .colab-df-convert {\n",
              "      background-color: #E8F0FE;\n",
              "      border: none;\n",
              "      border-radius: 50%;\n",
              "      cursor: pointer;\n",
              "      display: none;\n",
              "      fill: #1967D2;\n",
              "      height: 32px;\n",
              "      padding: 0 0 0 0;\n",
              "      width: 32px;\n",
              "    }\n",
              "\n",
              "    .colab-df-convert:hover {\n",
              "      background-color: #E2EBFA;\n",
              "      box-shadow: 0px 1px 2px rgba(60, 64, 67, 0.3), 0px 1px 3px 1px rgba(60, 64, 67, 0.15);\n",
              "      fill: #174EA6;\n",
              "    }\n",
              "\n",
              "    [theme=dark] .colab-df-convert {\n",
              "      background-color: #3B4455;\n",
              "      fill: #D2E3FC;\n",
              "    }\n",
              "\n",
              "    [theme=dark] .colab-df-convert:hover {\n",
              "      background-color: #434B5C;\n",
              "      box-shadow: 0px 1px 3px 1px rgba(0, 0, 0, 0.15);\n",
              "      filter: drop-shadow(0px 1px 2px rgba(0, 0, 0, 0.3));\n",
              "      fill: #FFFFFF;\n",
              "    }\n",
              "  </style>\n",
              "\n",
              "      <script>\n",
              "        const buttonEl =\n",
              "          document.querySelector('#df-c6089b52-5985-48d8-9e10-59d08dec1d63 button.colab-df-convert');\n",
              "        buttonEl.style.display =\n",
              "          google.colab.kernel.accessAllowed ? 'block' : 'none';\n",
              "\n",
              "        async function convertToInteractive(key) {\n",
              "          const element = document.querySelector('#df-c6089b52-5985-48d8-9e10-59d08dec1d63');\n",
              "          const dataTable =\n",
              "            await google.colab.kernel.invokeFunction('convertToInteractive',\n",
              "                                                     [key], {});\n",
              "          if (!dataTable) return;\n",
              "\n",
              "          const docLinkHtml = 'Like what you see? Visit the ' +\n",
              "            '<a target=\"_blank\" href=https://colab.research.google.com/notebooks/data_table.ipynb>data table notebook</a>'\n",
              "            + ' to learn more about interactive tables.';\n",
              "          element.innerHTML = '';\n",
              "          dataTable['output_type'] = 'display_data';\n",
              "          await google.colab.output.renderOutput(dataTable, element);\n",
              "          const docLink = document.createElement('div');\n",
              "          docLink.innerHTML = docLinkHtml;\n",
              "          element.appendChild(docLink);\n",
              "        }\n",
              "      </script>\n",
              "    </div>\n",
              "  </div>\n",
              "  "
            ]
          },
          "metadata": {},
          "execution_count": 30
        }
      ]
    },
    {
      "cell_type": "markdown",
      "source": [
        "We can specify column names when we create the DataFrame:"
      ],
      "metadata": {
        "id": "X75w4vKaIIJk"
      }
    },
    {
      "cell_type": "code",
      "source": [
        "columns = [\"A\", \"B\"]\n",
        "df = pandas.DataFrame(array, columns=columns)\n",
        "df"
      ],
      "metadata": {
        "id": "OOeJO82sIIqt",
        "outputId": "dc8f96a4-b9a9-44c4-eed3-316914dd5e5b",
        "colab": {
          "base_uri": "https://localhost:8080/",
          "height": 175
        }
      },
      "execution_count": 31,
      "outputs": [
        {
          "output_type": "execute_result",
          "data": {
            "text/plain": [
              "          A         B\n",
              "0 -1.869752  1.853894\n",
              "1 -0.353949  0.155228\n",
              "2 -1.840035  0.496643\n",
              "3 -0.511923  0.631265"
            ],
            "text/html": [
              "\n",
              "  <div id=\"df-d1809d6d-8b82-490a-b67c-5344bac12a97\">\n",
              "    <div class=\"colab-df-container\">\n",
              "      <div>\n",
              "<style scoped>\n",
              "    .dataframe tbody tr th:only-of-type {\n",
              "        vertical-align: middle;\n",
              "    }\n",
              "\n",
              "    .dataframe tbody tr th {\n",
              "        vertical-align: top;\n",
              "    }\n",
              "\n",
              "    .dataframe thead th {\n",
              "        text-align: right;\n",
              "    }\n",
              "</style>\n",
              "<table border=\"1\" class=\"dataframe\">\n",
              "  <thead>\n",
              "    <tr style=\"text-align: right;\">\n",
              "      <th></th>\n",
              "      <th>A</th>\n",
              "      <th>B</th>\n",
              "    </tr>\n",
              "  </thead>\n",
              "  <tbody>\n",
              "    <tr>\n",
              "      <th>0</th>\n",
              "      <td>-1.869752</td>\n",
              "      <td>1.853894</td>\n",
              "    </tr>\n",
              "    <tr>\n",
              "      <th>1</th>\n",
              "      <td>-0.353949</td>\n",
              "      <td>0.155228</td>\n",
              "    </tr>\n",
              "    <tr>\n",
              "      <th>2</th>\n",
              "      <td>-1.840035</td>\n",
              "      <td>0.496643</td>\n",
              "    </tr>\n",
              "    <tr>\n",
              "      <th>3</th>\n",
              "      <td>-0.511923</td>\n",
              "      <td>0.631265</td>\n",
              "    </tr>\n",
              "  </tbody>\n",
              "</table>\n",
              "</div>\n",
              "      <button class=\"colab-df-convert\" onclick=\"convertToInteractive('df-d1809d6d-8b82-490a-b67c-5344bac12a97')\"\n",
              "              title=\"Convert this dataframe to an interactive table.\"\n",
              "              style=\"display:none;\">\n",
              "        \n",
              "  <svg xmlns=\"http://www.w3.org/2000/svg\" height=\"24px\"viewBox=\"0 0 24 24\"\n",
              "       width=\"24px\">\n",
              "    <path d=\"M0 0h24v24H0V0z\" fill=\"none\"/>\n",
              "    <path d=\"M18.56 5.44l.94 2.06.94-2.06 2.06-.94-2.06-.94-.94-2.06-.94 2.06-2.06.94zm-11 1L8.5 8.5l.94-2.06 2.06-.94-2.06-.94L8.5 2.5l-.94 2.06-2.06.94zm10 10l.94 2.06.94-2.06 2.06-.94-2.06-.94-.94-2.06-.94 2.06-2.06.94z\"/><path d=\"M17.41 7.96l-1.37-1.37c-.4-.4-.92-.59-1.43-.59-.52 0-1.04.2-1.43.59L10.3 9.45l-7.72 7.72c-.78.78-.78 2.05 0 2.83L4 21.41c.39.39.9.59 1.41.59.51 0 1.02-.2 1.41-.59l7.78-7.78 2.81-2.81c.8-.78.8-2.07 0-2.86zM5.41 20L4 18.59l7.72-7.72 1.47 1.35L5.41 20z\"/>\n",
              "  </svg>\n",
              "      </button>\n",
              "      \n",
              "  <style>\n",
              "    .colab-df-container {\n",
              "      display:flex;\n",
              "      flex-wrap:wrap;\n",
              "      gap: 12px;\n",
              "    }\n",
              "\n",
              "    .colab-df-convert {\n",
              "      background-color: #E8F0FE;\n",
              "      border: none;\n",
              "      border-radius: 50%;\n",
              "      cursor: pointer;\n",
              "      display: none;\n",
              "      fill: #1967D2;\n",
              "      height: 32px;\n",
              "      padding: 0 0 0 0;\n",
              "      width: 32px;\n",
              "    }\n",
              "\n",
              "    .colab-df-convert:hover {\n",
              "      background-color: #E2EBFA;\n",
              "      box-shadow: 0px 1px 2px rgba(60, 64, 67, 0.3), 0px 1px 3px 1px rgba(60, 64, 67, 0.15);\n",
              "      fill: #174EA6;\n",
              "    }\n",
              "\n",
              "    [theme=dark] .colab-df-convert {\n",
              "      background-color: #3B4455;\n",
              "      fill: #D2E3FC;\n",
              "    }\n",
              "\n",
              "    [theme=dark] .colab-df-convert:hover {\n",
              "      background-color: #434B5C;\n",
              "      box-shadow: 0px 1px 3px 1px rgba(0, 0, 0, 0.15);\n",
              "      filter: drop-shadow(0px 1px 2px rgba(0, 0, 0, 0.3));\n",
              "      fill: #FFFFFF;\n",
              "    }\n",
              "  </style>\n",
              "\n",
              "      <script>\n",
              "        const buttonEl =\n",
              "          document.querySelector('#df-d1809d6d-8b82-490a-b67c-5344bac12a97 button.colab-df-convert');\n",
              "        buttonEl.style.display =\n",
              "          google.colab.kernel.accessAllowed ? 'block' : 'none';\n",
              "\n",
              "        async function convertToInteractive(key) {\n",
              "          const element = document.querySelector('#df-d1809d6d-8b82-490a-b67c-5344bac12a97');\n",
              "          const dataTable =\n",
              "            await google.colab.kernel.invokeFunction('convertToInteractive',\n",
              "                                                     [key], {});\n",
              "          if (!dataTable) return;\n",
              "\n",
              "          const docLinkHtml = 'Like what you see? Visit the ' +\n",
              "            '<a target=\"_blank\" href=https://colab.research.google.com/notebooks/data_table.ipynb>data table notebook</a>'\n",
              "            + ' to learn more about interactive tables.';\n",
              "          element.innerHTML = '';\n",
              "          dataTable['output_type'] = 'display_data';\n",
              "          await google.colab.output.renderOutput(dataTable, element);\n",
              "          const docLink = document.createElement('div');\n",
              "          docLink.innerHTML = docLinkHtml;\n",
              "          element.appendChild(docLink);\n",
              "        }\n",
              "      </script>\n",
              "    </div>\n",
              "  </div>\n",
              "  "
            ]
          },
          "metadata": {},
          "execution_count": 31
        }
      ]
    },
    {
      "cell_type": "markdown",
      "source": [
        "We can also specify an index that contains labels for the rows."
      ],
      "metadata": {
        "id": "yD9tjenGIPOE"
      }
    },
    {
      "cell_type": "code",
      "source": [
        "index = [\"a\", \"b\", \"c\", \"d\"]\n",
        "df = pandas.DataFrame(array, columns=columns, index=index)\n",
        "df"
      ],
      "metadata": {
        "id": "Z-afnY2MIP2X",
        "outputId": "7941a509-1805-421f-a90a-edd44d33cecd",
        "colab": {
          "base_uri": "https://localhost:8080/",
          "height": 175
        }
      },
      "execution_count": 32,
      "outputs": [
        {
          "output_type": "execute_result",
          "data": {
            "text/plain": [
              "          A         B\n",
              "a -1.869752  1.853894\n",
              "b -0.353949  0.155228\n",
              "c -1.840035  0.496643\n",
              "d -0.511923  0.631265"
            ],
            "text/html": [
              "\n",
              "  <div id=\"df-954a9c19-7348-4d8c-8306-2ec3188e0dc2\">\n",
              "    <div class=\"colab-df-container\">\n",
              "      <div>\n",
              "<style scoped>\n",
              "    .dataframe tbody tr th:only-of-type {\n",
              "        vertical-align: middle;\n",
              "    }\n",
              "\n",
              "    .dataframe tbody tr th {\n",
              "        vertical-align: top;\n",
              "    }\n",
              "\n",
              "    .dataframe thead th {\n",
              "        text-align: right;\n",
              "    }\n",
              "</style>\n",
              "<table border=\"1\" class=\"dataframe\">\n",
              "  <thead>\n",
              "    <tr style=\"text-align: right;\">\n",
              "      <th></th>\n",
              "      <th>A</th>\n",
              "      <th>B</th>\n",
              "    </tr>\n",
              "  </thead>\n",
              "  <tbody>\n",
              "    <tr>\n",
              "      <th>a</th>\n",
              "      <td>-1.869752</td>\n",
              "      <td>1.853894</td>\n",
              "    </tr>\n",
              "    <tr>\n",
              "      <th>b</th>\n",
              "      <td>-0.353949</td>\n",
              "      <td>0.155228</td>\n",
              "    </tr>\n",
              "    <tr>\n",
              "      <th>c</th>\n",
              "      <td>-1.840035</td>\n",
              "      <td>0.496643</td>\n",
              "    </tr>\n",
              "    <tr>\n",
              "      <th>d</th>\n",
              "      <td>-0.511923</td>\n",
              "      <td>0.631265</td>\n",
              "    </tr>\n",
              "  </tbody>\n",
              "</table>\n",
              "</div>\n",
              "      <button class=\"colab-df-convert\" onclick=\"convertToInteractive('df-954a9c19-7348-4d8c-8306-2ec3188e0dc2')\"\n",
              "              title=\"Convert this dataframe to an interactive table.\"\n",
              "              style=\"display:none;\">\n",
              "        \n",
              "  <svg xmlns=\"http://www.w3.org/2000/svg\" height=\"24px\"viewBox=\"0 0 24 24\"\n",
              "       width=\"24px\">\n",
              "    <path d=\"M0 0h24v24H0V0z\" fill=\"none\"/>\n",
              "    <path d=\"M18.56 5.44l.94 2.06.94-2.06 2.06-.94-2.06-.94-.94-2.06-.94 2.06-2.06.94zm-11 1L8.5 8.5l.94-2.06 2.06-.94-2.06-.94L8.5 2.5l-.94 2.06-2.06.94zm10 10l.94 2.06.94-2.06 2.06-.94-2.06-.94-.94-2.06-.94 2.06-2.06.94z\"/><path d=\"M17.41 7.96l-1.37-1.37c-.4-.4-.92-.59-1.43-.59-.52 0-1.04.2-1.43.59L10.3 9.45l-7.72 7.72c-.78.78-.78 2.05 0 2.83L4 21.41c.39.39.9.59 1.41.59.51 0 1.02-.2 1.41-.59l7.78-7.78 2.81-2.81c.8-.78.8-2.07 0-2.86zM5.41 20L4 18.59l7.72-7.72 1.47 1.35L5.41 20z\"/>\n",
              "  </svg>\n",
              "      </button>\n",
              "      \n",
              "  <style>\n",
              "    .colab-df-container {\n",
              "      display:flex;\n",
              "      flex-wrap:wrap;\n",
              "      gap: 12px;\n",
              "    }\n",
              "\n",
              "    .colab-df-convert {\n",
              "      background-color: #E8F0FE;\n",
              "      border: none;\n",
              "      border-radius: 50%;\n",
              "      cursor: pointer;\n",
              "      display: none;\n",
              "      fill: #1967D2;\n",
              "      height: 32px;\n",
              "      padding: 0 0 0 0;\n",
              "      width: 32px;\n",
              "    }\n",
              "\n",
              "    .colab-df-convert:hover {\n",
              "      background-color: #E2EBFA;\n",
              "      box-shadow: 0px 1px 2px rgba(60, 64, 67, 0.3), 0px 1px 3px 1px rgba(60, 64, 67, 0.15);\n",
              "      fill: #174EA6;\n",
              "    }\n",
              "\n",
              "    [theme=dark] .colab-df-convert {\n",
              "      background-color: #3B4455;\n",
              "      fill: #D2E3FC;\n",
              "    }\n",
              "\n",
              "    [theme=dark] .colab-df-convert:hover {\n",
              "      background-color: #434B5C;\n",
              "      box-shadow: 0px 1px 3px 1px rgba(0, 0, 0, 0.15);\n",
              "      filter: drop-shadow(0px 1px 2px rgba(0, 0, 0, 0.3));\n",
              "      fill: #FFFFFF;\n",
              "    }\n",
              "  </style>\n",
              "\n",
              "      <script>\n",
              "        const buttonEl =\n",
              "          document.querySelector('#df-954a9c19-7348-4d8c-8306-2ec3188e0dc2 button.colab-df-convert');\n",
              "        buttonEl.style.display =\n",
              "          google.colab.kernel.accessAllowed ? 'block' : 'none';\n",
              "\n",
              "        async function convertToInteractive(key) {\n",
              "          const element = document.querySelector('#df-954a9c19-7348-4d8c-8306-2ec3188e0dc2');\n",
              "          const dataTable =\n",
              "            await google.colab.kernel.invokeFunction('convertToInteractive',\n",
              "                                                     [key], {});\n",
              "          if (!dataTable) return;\n",
              "\n",
              "          const docLinkHtml = 'Like what you see? Visit the ' +\n",
              "            '<a target=\"_blank\" href=https://colab.research.google.com/notebooks/data_table.ipynb>data table notebook</a>'\n",
              "            + ' to learn more about interactive tables.';\n",
              "          element.innerHTML = '';\n",
              "          dataTable['output_type'] = 'display_data';\n",
              "          await google.colab.output.renderOutput(dataTable, element);\n",
              "          const docLink = document.createElement('div');\n",
              "          docLink.innerHTML = docLinkHtml;\n",
              "          element.appendChild(docLink);\n",
              "        }\n",
              "      </script>\n",
              "    </div>\n",
              "  </div>\n",
              "  "
            ]
          },
          "metadata": {},
          "execution_count": 32
        }
      ]
    },
    {
      "cell_type": "markdown",
      "source": [
        "Normal indexing selects columns."
      ],
      "metadata": {
        "id": "VdcAxFQeIU9E"
      }
    },
    {
      "cell_type": "code",
      "source": [
        "df[\"A\"]"
      ],
      "metadata": {
        "id": "1Lfx1ZO_IVV_",
        "outputId": "66cc39c2-04a5-41ca-af61-940f1c860dd2",
        "colab": {
          "base_uri": "https://localhost:8080/"
        }
      },
      "execution_count": 33,
      "outputs": [
        {
          "output_type": "execute_result",
          "data": {
            "text/plain": [
              "a   -1.869752\n",
              "b   -0.353949\n",
              "c   -1.840035\n",
              "d   -0.511923\n",
              "Name: A, dtype: float64"
            ]
          },
          "metadata": {},
          "execution_count": 33
        }
      ]
    },
    {
      "cell_type": "markdown",
      "source": [
        "We can use the loc attribute to select rows."
      ],
      "metadata": {
        "id": "jqY60cG7IbjU"
      }
    },
    {
      "cell_type": "code",
      "source": [
        "df.loc[\"a\"]"
      ],
      "metadata": {
        "id": "iJGt4mFgIcHw",
        "outputId": "f6dbc521-1dc9-4a34-ab30-e8e5b6b34822",
        "colab": {
          "base_uri": "https://localhost:8080/"
        }
      },
      "execution_count": 34,
      "outputs": [
        {
          "output_type": "execute_result",
          "data": {
            "text/plain": [
              "A   -1.869752\n",
              "B    1.853894\n",
              "Name: a, dtype: float64"
            ]
          },
          "metadata": {},
          "execution_count": 34
        }
      ]
    },
    {
      "cell_type": "markdown",
      "source": [
        "If you don't want to use the row labels and prefer to access the rows using integer indices, you can use the iloc attribute:"
      ],
      "metadata": {
        "id": "1h-Ggv9oIlrq"
      }
    },
    {
      "cell_type": "code",
      "source": [
        "df.iloc[0]"
      ],
      "metadata": {
        "id": "CMctYphXImV1",
        "outputId": "493cba40-940f-4da2-cd8f-522be6cc01bb",
        "colab": {
          "base_uri": "https://localhost:8080/"
        }
      },
      "execution_count": 35,
      "outputs": [
        {
          "output_type": "execute_result",
          "data": {
            "text/plain": [
              "A   -1.869752\n",
              "B    1.853894\n",
              "Name: a, dtype: float64"
            ]
          },
          "metadata": {},
          "execution_count": 35
        }
      ]
    },
    {
      "cell_type": "markdown",
      "source": [
        "loc can also take a list of labels."
      ],
      "metadata": {
        "id": "YZcXKw4CIr0p"
      }
    },
    {
      "cell_type": "code",
      "source": [
        "indices = [\"a\", \"c\"]\n",
        "df.loc[indices]"
      ],
      "metadata": {
        "id": "lJrBN2N2IsW4",
        "outputId": "cb3e8e6d-52ba-450b-d5d0-2da85c18c0b4",
        "colab": {
          "base_uri": "https://localhost:8080/",
          "height": 112
        }
      },
      "execution_count": 36,
      "outputs": [
        {
          "output_type": "execute_result",
          "data": {
            "text/plain": [
              "          A         B\n",
              "a -1.869752  1.853894\n",
              "c -1.840035  0.496643"
            ],
            "text/html": [
              "\n",
              "  <div id=\"df-50b38d94-08a5-45d5-9401-fc96ab69d128\">\n",
              "    <div class=\"colab-df-container\">\n",
              "      <div>\n",
              "<style scoped>\n",
              "    .dataframe tbody tr th:only-of-type {\n",
              "        vertical-align: middle;\n",
              "    }\n",
              "\n",
              "    .dataframe tbody tr th {\n",
              "        vertical-align: top;\n",
              "    }\n",
              "\n",
              "    .dataframe thead th {\n",
              "        text-align: right;\n",
              "    }\n",
              "</style>\n",
              "<table border=\"1\" class=\"dataframe\">\n",
              "  <thead>\n",
              "    <tr style=\"text-align: right;\">\n",
              "      <th></th>\n",
              "      <th>A</th>\n",
              "      <th>B</th>\n",
              "    </tr>\n",
              "  </thead>\n",
              "  <tbody>\n",
              "    <tr>\n",
              "      <th>a</th>\n",
              "      <td>-1.869752</td>\n",
              "      <td>1.853894</td>\n",
              "    </tr>\n",
              "    <tr>\n",
              "      <th>c</th>\n",
              "      <td>-1.840035</td>\n",
              "      <td>0.496643</td>\n",
              "    </tr>\n",
              "  </tbody>\n",
              "</table>\n",
              "</div>\n",
              "      <button class=\"colab-df-convert\" onclick=\"convertToInteractive('df-50b38d94-08a5-45d5-9401-fc96ab69d128')\"\n",
              "              title=\"Convert this dataframe to an interactive table.\"\n",
              "              style=\"display:none;\">\n",
              "        \n",
              "  <svg xmlns=\"http://www.w3.org/2000/svg\" height=\"24px\"viewBox=\"0 0 24 24\"\n",
              "       width=\"24px\">\n",
              "    <path d=\"M0 0h24v24H0V0z\" fill=\"none\"/>\n",
              "    <path d=\"M18.56 5.44l.94 2.06.94-2.06 2.06-.94-2.06-.94-.94-2.06-.94 2.06-2.06.94zm-11 1L8.5 8.5l.94-2.06 2.06-.94-2.06-.94L8.5 2.5l-.94 2.06-2.06.94zm10 10l.94 2.06.94-2.06 2.06-.94-2.06-.94-.94-2.06-.94 2.06-2.06.94z\"/><path d=\"M17.41 7.96l-1.37-1.37c-.4-.4-.92-.59-1.43-.59-.52 0-1.04.2-1.43.59L10.3 9.45l-7.72 7.72c-.78.78-.78 2.05 0 2.83L4 21.41c.39.39.9.59 1.41.59.51 0 1.02-.2 1.41-.59l7.78-7.78 2.81-2.81c.8-.78.8-2.07 0-2.86zM5.41 20L4 18.59l7.72-7.72 1.47 1.35L5.41 20z\"/>\n",
              "  </svg>\n",
              "      </button>\n",
              "      \n",
              "  <style>\n",
              "    .colab-df-container {\n",
              "      display:flex;\n",
              "      flex-wrap:wrap;\n",
              "      gap: 12px;\n",
              "    }\n",
              "\n",
              "    .colab-df-convert {\n",
              "      background-color: #E8F0FE;\n",
              "      border: none;\n",
              "      border-radius: 50%;\n",
              "      cursor: pointer;\n",
              "      display: none;\n",
              "      fill: #1967D2;\n",
              "      height: 32px;\n",
              "      padding: 0 0 0 0;\n",
              "      width: 32px;\n",
              "    }\n",
              "\n",
              "    .colab-df-convert:hover {\n",
              "      background-color: #E2EBFA;\n",
              "      box-shadow: 0px 1px 2px rgba(60, 64, 67, 0.3), 0px 1px 3px 1px rgba(60, 64, 67, 0.15);\n",
              "      fill: #174EA6;\n",
              "    }\n",
              "\n",
              "    [theme=dark] .colab-df-convert {\n",
              "      background-color: #3B4455;\n",
              "      fill: #D2E3FC;\n",
              "    }\n",
              "\n",
              "    [theme=dark] .colab-df-convert:hover {\n",
              "      background-color: #434B5C;\n",
              "      box-shadow: 0px 1px 3px 1px rgba(0, 0, 0, 0.15);\n",
              "      filter: drop-shadow(0px 1px 2px rgba(0, 0, 0, 0.3));\n",
              "      fill: #FFFFFF;\n",
              "    }\n",
              "  </style>\n",
              "\n",
              "      <script>\n",
              "        const buttonEl =\n",
              "          document.querySelector('#df-50b38d94-08a5-45d5-9401-fc96ab69d128 button.colab-df-convert');\n",
              "        buttonEl.style.display =\n",
              "          google.colab.kernel.accessAllowed ? 'block' : 'none';\n",
              "\n",
              "        async function convertToInteractive(key) {\n",
              "          const element = document.querySelector('#df-50b38d94-08a5-45d5-9401-fc96ab69d128');\n",
              "          const dataTable =\n",
              "            await google.colab.kernel.invokeFunction('convertToInteractive',\n",
              "                                                     [key], {});\n",
              "          if (!dataTable) return;\n",
              "\n",
              "          const docLinkHtml = 'Like what you see? Visit the ' +\n",
              "            '<a target=\"_blank\" href=https://colab.research.google.com/notebooks/data_table.ipynb>data table notebook</a>'\n",
              "            + ' to learn more about interactive tables.';\n",
              "          element.innerHTML = '';\n",
              "          dataTable['output_type'] = 'display_data';\n",
              "          await google.colab.output.renderOutput(dataTable, element);\n",
              "          const docLink = document.createElement('div');\n",
              "          docLink.innerHTML = docLinkHtml;\n",
              "          element.appendChild(docLink);\n",
              "        }\n",
              "      </script>\n",
              "    </div>\n",
              "  </div>\n",
              "  "
            ]
          },
          "metadata": {},
          "execution_count": 36
        }
      ]
    },
    {
      "cell_type": "markdown",
      "source": [
        "If you provide a slice of labels, DataFrame uses it to select rows."
      ],
      "metadata": {
        "id": "I4CSWpjRI0kT"
      }
    },
    {
      "cell_type": "code",
      "source": [
        "df[\"a\":\"c\"]"
      ],
      "metadata": {
        "id": "ZvV6PwqgI0-y",
        "outputId": "6a8c400c-81b2-4972-aec2-ea17c96e3a9f",
        "colab": {
          "base_uri": "https://localhost:8080/",
          "height": 143
        }
      },
      "execution_count": 37,
      "outputs": [
        {
          "output_type": "execute_result",
          "data": {
            "text/plain": [
              "          A         B\n",
              "a -1.869752  1.853894\n",
              "b -0.353949  0.155228\n",
              "c -1.840035  0.496643"
            ],
            "text/html": [
              "\n",
              "  <div id=\"df-9a44e00e-8629-48a2-a0cf-538afa56fd5f\">\n",
              "    <div class=\"colab-df-container\">\n",
              "      <div>\n",
              "<style scoped>\n",
              "    .dataframe tbody tr th:only-of-type {\n",
              "        vertical-align: middle;\n",
              "    }\n",
              "\n",
              "    .dataframe tbody tr th {\n",
              "        vertical-align: top;\n",
              "    }\n",
              "\n",
              "    .dataframe thead th {\n",
              "        text-align: right;\n",
              "    }\n",
              "</style>\n",
              "<table border=\"1\" class=\"dataframe\">\n",
              "  <thead>\n",
              "    <tr style=\"text-align: right;\">\n",
              "      <th></th>\n",
              "      <th>A</th>\n",
              "      <th>B</th>\n",
              "    </tr>\n",
              "  </thead>\n",
              "  <tbody>\n",
              "    <tr>\n",
              "      <th>a</th>\n",
              "      <td>-1.869752</td>\n",
              "      <td>1.853894</td>\n",
              "    </tr>\n",
              "    <tr>\n",
              "      <th>b</th>\n",
              "      <td>-0.353949</td>\n",
              "      <td>0.155228</td>\n",
              "    </tr>\n",
              "    <tr>\n",
              "      <th>c</th>\n",
              "      <td>-1.840035</td>\n",
              "      <td>0.496643</td>\n",
              "    </tr>\n",
              "  </tbody>\n",
              "</table>\n",
              "</div>\n",
              "      <button class=\"colab-df-convert\" onclick=\"convertToInteractive('df-9a44e00e-8629-48a2-a0cf-538afa56fd5f')\"\n",
              "              title=\"Convert this dataframe to an interactive table.\"\n",
              "              style=\"display:none;\">\n",
              "        \n",
              "  <svg xmlns=\"http://www.w3.org/2000/svg\" height=\"24px\"viewBox=\"0 0 24 24\"\n",
              "       width=\"24px\">\n",
              "    <path d=\"M0 0h24v24H0V0z\" fill=\"none\"/>\n",
              "    <path d=\"M18.56 5.44l.94 2.06.94-2.06 2.06-.94-2.06-.94-.94-2.06-.94 2.06-2.06.94zm-11 1L8.5 8.5l.94-2.06 2.06-.94-2.06-.94L8.5 2.5l-.94 2.06-2.06.94zm10 10l.94 2.06.94-2.06 2.06-.94-2.06-.94-.94-2.06-.94 2.06-2.06.94z\"/><path d=\"M17.41 7.96l-1.37-1.37c-.4-.4-.92-.59-1.43-.59-.52 0-1.04.2-1.43.59L10.3 9.45l-7.72 7.72c-.78.78-.78 2.05 0 2.83L4 21.41c.39.39.9.59 1.41.59.51 0 1.02-.2 1.41-.59l7.78-7.78 2.81-2.81c.8-.78.8-2.07 0-2.86zM5.41 20L4 18.59l7.72-7.72 1.47 1.35L5.41 20z\"/>\n",
              "  </svg>\n",
              "      </button>\n",
              "      \n",
              "  <style>\n",
              "    .colab-df-container {\n",
              "      display:flex;\n",
              "      flex-wrap:wrap;\n",
              "      gap: 12px;\n",
              "    }\n",
              "\n",
              "    .colab-df-convert {\n",
              "      background-color: #E8F0FE;\n",
              "      border: none;\n",
              "      border-radius: 50%;\n",
              "      cursor: pointer;\n",
              "      display: none;\n",
              "      fill: #1967D2;\n",
              "      height: 32px;\n",
              "      padding: 0 0 0 0;\n",
              "      width: 32px;\n",
              "    }\n",
              "\n",
              "    .colab-df-convert:hover {\n",
              "      background-color: #E2EBFA;\n",
              "      box-shadow: 0px 1px 2px rgba(60, 64, 67, 0.3), 0px 1px 3px 1px rgba(60, 64, 67, 0.15);\n",
              "      fill: #174EA6;\n",
              "    }\n",
              "\n",
              "    [theme=dark] .colab-df-convert {\n",
              "      background-color: #3B4455;\n",
              "      fill: #D2E3FC;\n",
              "    }\n",
              "\n",
              "    [theme=dark] .colab-df-convert:hover {\n",
              "      background-color: #434B5C;\n",
              "      box-shadow: 0px 1px 3px 1px rgba(0, 0, 0, 0.15);\n",
              "      filter: drop-shadow(0px 1px 2px rgba(0, 0, 0, 0.3));\n",
              "      fill: #FFFFFF;\n",
              "    }\n",
              "  </style>\n",
              "\n",
              "      <script>\n",
              "        const buttonEl =\n",
              "          document.querySelector('#df-9a44e00e-8629-48a2-a0cf-538afa56fd5f button.colab-df-convert');\n",
              "        buttonEl.style.display =\n",
              "          google.colab.kernel.accessAllowed ? 'block' : 'none';\n",
              "\n",
              "        async function convertToInteractive(key) {\n",
              "          const element = document.querySelector('#df-9a44e00e-8629-48a2-a0cf-538afa56fd5f');\n",
              "          const dataTable =\n",
              "            await google.colab.kernel.invokeFunction('convertToInteractive',\n",
              "                                                     [key], {});\n",
              "          if (!dataTable) return;\n",
              "\n",
              "          const docLinkHtml = 'Like what you see? Visit the ' +\n",
              "            '<a target=\"_blank\" href=https://colab.research.google.com/notebooks/data_table.ipynb>data table notebook</a>'\n",
              "            + ' to learn more about interactive tables.';\n",
              "          element.innerHTML = '';\n",
              "          dataTable['output_type'] = 'display_data';\n",
              "          await google.colab.output.renderOutput(dataTable, element);\n",
              "          const docLink = document.createElement('div');\n",
              "          docLink.innerHTML = docLinkHtml;\n",
              "          element.appendChild(docLink);\n",
              "        }\n",
              "      </script>\n",
              "    </div>\n",
              "  </div>\n",
              "  "
            ]
          },
          "metadata": {},
          "execution_count": 37
        }
      ]
    },
    {
      "cell_type": "markdown",
      "source": [
        "If you provide a slice of integers, DataFrame selects rows by integer index."
      ],
      "metadata": {
        "id": "GTdfd3asI6J_"
      }
    },
    {
      "cell_type": "code",
      "source": [
        "df[0:2]"
      ],
      "metadata": {
        "id": "m1pRetKeI6xl",
        "outputId": "c3367636-f7e7-44fb-f8f5-daf93ee6c14d",
        "colab": {
          "base_uri": "https://localhost:8080/",
          "height": 112
        }
      },
      "execution_count": 38,
      "outputs": [
        {
          "output_type": "execute_result",
          "data": {
            "text/plain": [
              "          A         B\n",
              "a -1.869752  1.853894\n",
              "b -0.353949  0.155228"
            ],
            "text/html": [
              "\n",
              "  <div id=\"df-938244d5-8108-47d6-9931-e0fbb032870c\">\n",
              "    <div class=\"colab-df-container\">\n",
              "      <div>\n",
              "<style scoped>\n",
              "    .dataframe tbody tr th:only-of-type {\n",
              "        vertical-align: middle;\n",
              "    }\n",
              "\n",
              "    .dataframe tbody tr th {\n",
              "        vertical-align: top;\n",
              "    }\n",
              "\n",
              "    .dataframe thead th {\n",
              "        text-align: right;\n",
              "    }\n",
              "</style>\n",
              "<table border=\"1\" class=\"dataframe\">\n",
              "  <thead>\n",
              "    <tr style=\"text-align: right;\">\n",
              "      <th></th>\n",
              "      <th>A</th>\n",
              "      <th>B</th>\n",
              "    </tr>\n",
              "  </thead>\n",
              "  <tbody>\n",
              "    <tr>\n",
              "      <th>a</th>\n",
              "      <td>-1.869752</td>\n",
              "      <td>1.853894</td>\n",
              "    </tr>\n",
              "    <tr>\n",
              "      <th>b</th>\n",
              "      <td>-0.353949</td>\n",
              "      <td>0.155228</td>\n",
              "    </tr>\n",
              "  </tbody>\n",
              "</table>\n",
              "</div>\n",
              "      <button class=\"colab-df-convert\" onclick=\"convertToInteractive('df-938244d5-8108-47d6-9931-e0fbb032870c')\"\n",
              "              title=\"Convert this dataframe to an interactive table.\"\n",
              "              style=\"display:none;\">\n",
              "        \n",
              "  <svg xmlns=\"http://www.w3.org/2000/svg\" height=\"24px\"viewBox=\"0 0 24 24\"\n",
              "       width=\"24px\">\n",
              "    <path d=\"M0 0h24v24H0V0z\" fill=\"none\"/>\n",
              "    <path d=\"M18.56 5.44l.94 2.06.94-2.06 2.06-.94-2.06-.94-.94-2.06-.94 2.06-2.06.94zm-11 1L8.5 8.5l.94-2.06 2.06-.94-2.06-.94L8.5 2.5l-.94 2.06-2.06.94zm10 10l.94 2.06.94-2.06 2.06-.94-2.06-.94-.94-2.06-.94 2.06-2.06.94z\"/><path d=\"M17.41 7.96l-1.37-1.37c-.4-.4-.92-.59-1.43-.59-.52 0-1.04.2-1.43.59L10.3 9.45l-7.72 7.72c-.78.78-.78 2.05 0 2.83L4 21.41c.39.39.9.59 1.41.59.51 0 1.02-.2 1.41-.59l7.78-7.78 2.81-2.81c.8-.78.8-2.07 0-2.86zM5.41 20L4 18.59l7.72-7.72 1.47 1.35L5.41 20z\"/>\n",
              "  </svg>\n",
              "      </button>\n",
              "      \n",
              "  <style>\n",
              "    .colab-df-container {\n",
              "      display:flex;\n",
              "      flex-wrap:wrap;\n",
              "      gap: 12px;\n",
              "    }\n",
              "\n",
              "    .colab-df-convert {\n",
              "      background-color: #E8F0FE;\n",
              "      border: none;\n",
              "      border-radius: 50%;\n",
              "      cursor: pointer;\n",
              "      display: none;\n",
              "      fill: #1967D2;\n",
              "      height: 32px;\n",
              "      padding: 0 0 0 0;\n",
              "      width: 32px;\n",
              "    }\n",
              "\n",
              "    .colab-df-convert:hover {\n",
              "      background-color: #E2EBFA;\n",
              "      box-shadow: 0px 1px 2px rgba(60, 64, 67, 0.3), 0px 1px 3px 1px rgba(60, 64, 67, 0.15);\n",
              "      fill: #174EA6;\n",
              "    }\n",
              "\n",
              "    [theme=dark] .colab-df-convert {\n",
              "      background-color: #3B4455;\n",
              "      fill: #D2E3FC;\n",
              "    }\n",
              "\n",
              "    [theme=dark] .colab-df-convert:hover {\n",
              "      background-color: #434B5C;\n",
              "      box-shadow: 0px 1px 3px 1px rgba(0, 0, 0, 0.15);\n",
              "      filter: drop-shadow(0px 1px 2px rgba(0, 0, 0, 0.3));\n",
              "      fill: #FFFFFF;\n",
              "    }\n",
              "  </style>\n",
              "\n",
              "      <script>\n",
              "        const buttonEl =\n",
              "          document.querySelector('#df-938244d5-8108-47d6-9931-e0fbb032870c button.colab-df-convert');\n",
              "        buttonEl.style.display =\n",
              "          google.colab.kernel.accessAllowed ? 'block' : 'none';\n",
              "\n",
              "        async function convertToInteractive(key) {\n",
              "          const element = document.querySelector('#df-938244d5-8108-47d6-9931-e0fbb032870c');\n",
              "          const dataTable =\n",
              "            await google.colab.kernel.invokeFunction('convertToInteractive',\n",
              "                                                     [key], {});\n",
              "          if (!dataTable) return;\n",
              "\n",
              "          const docLinkHtml = 'Like what you see? Visit the ' +\n",
              "            '<a target=\"_blank\" href=https://colab.research.google.com/notebooks/data_table.ipynb>data table notebook</a>'\n",
              "            + ' to learn more about interactive tables.';\n",
              "          element.innerHTML = '';\n",
              "          dataTable['output_type'] = 'display_data';\n",
              "          await google.colab.output.renderOutput(dataTable, element);\n",
              "          const docLink = document.createElement('div');\n",
              "          docLink.innerHTML = docLinkHtml;\n",
              "          element.appendChild(docLink);\n",
              "        }\n",
              "      </script>\n",
              "    </div>\n",
              "  </div>\n",
              "  "
            ]
          },
          "metadata": {},
          "execution_count": 38
        }
      ]
    },
    {
      "cell_type": "markdown",
      "source": [
        "# Exercises\n",
        "\n",
        "Exercise: In Chapter 3 we computed the mean of a sample by adding up the elements and dividing by n. If you are given a PMF, you can still compute the mean, but the process is slightly different: %\n"
      ],
      "metadata": {
        "id": "WGQzJj4iJFmb"
      }
    },
    {
      "cell_type": "markdown",
      "source": [
        "% Write functions called PmfMean and PmfVar that take a Pmf object and compute the mean and variance. To test these methods, check that they are consistent with the methods Mean and Var provided by Pmf."
      ],
      "metadata": {
        "id": "57yPtihIJR-m"
      }
    },
    {
      "cell_type": "code",
      "source": [
        "def PmfMean(pmf):\n",
        "    \"\"\"Computes the mean of a PMF.\n",
        "    Returns:\n",
        "        float mean\n",
        "    \"\"\"\n",
        "    return sum(p * x for x, p in pmf.Items())"
      ],
      "metadata": {
        "id": "YzgKdwh_JSf6"
      },
      "execution_count": 39,
      "outputs": []
    },
    {
      "cell_type": "code",
      "source": [
        "def PmfVar(pmf, mu=None):\n",
        "    \"\"\"Computes the variance of a PMF.\n",
        "    mu: the point around which the variance is computed;\n",
        "            if omitted, computes the mean\n",
        "    returns: float variance\n",
        "    \"\"\"\n",
        "    if mu is None:\n",
        "        mu = PmfMean(pmf)\n",
        "\n",
        "    return sum(p * (x - mu) ** 2 for x, p in pmf.Items())"
      ],
      "metadata": {
        "id": "tIh1sAH7JUq0"
      },
      "execution_count": 40,
      "outputs": []
    },
    {
      "cell_type": "markdown",
      "source": [
        "## Exercise:\n",
        " Something like the class size paradox appears if you survey children and ask how many children are in their family. Families with many children are more likely to appear in your sample, and families with no children have no chance to be in the sample.\n",
        "\n",
        "Use the NSFG respondent variable numkdhh to construct the actual distribution for the number of children under 18 in the respondents' households.\n",
        "\n",
        "Now compute the biased distribution we would see if we surveyed the children and asked them how many children under 18 (including themselves) are in their household.\n",
        "\n",
        "Plot the actual and biased distributions, and compute their means."
      ],
      "metadata": {
        "id": "RroECfssJeyZ"
      }
    },
    {
      "cell_type": "code",
      "source": [
        "download(\"https://github.com/AllenDowney/ThinkStats2/raw/master/code/2002FemResp.dct\")\n",
        "download(\"https://github.com/AllenDowney/ThinkStats2/raw/master/code/2002FemResp.dat.gz\")"
      ],
      "metadata": {
        "id": "JvIl4HTcJhPe",
        "outputId": "c37adc5d-c8bc-4d4d-b423-0fe3f13ee3d1",
        "colab": {
          "base_uri": "https://localhost:8080/"
        }
      },
      "execution_count": 41,
      "outputs": [
        {
          "output_type": "stream",
          "name": "stdout",
          "text": [
            "Downloaded 2002FemResp.dct\n",
            "Downloaded 2002FemResp.dat.gz\n"
          ]
        }
      ]
    },
    {
      "cell_type": "code",
      "source": [
        "resp = nsfg.ReadFemResp()"
      ],
      "metadata": {
        "id": "JrFjsKtUJ0A-"
      },
      "execution_count": 42,
      "outputs": []
    },
    {
      "cell_type": "code",
      "source": [
        "# Solution\n",
        "\n",
        "pmf = thinkstats2.Pmf(resp.numkdhh, label=\"numkdhh\")"
      ],
      "metadata": {
        "id": "nD3sY2tWJ5_U"
      },
      "execution_count": 43,
      "outputs": []
    },
    {
      "cell_type": "code",
      "source": [
        "# Solution\n",
        "\n",
        "thinkplot.Pmf(pmf)\n",
        "thinkplot.Config(xlabel=\"Number of children\", ylabel=\"PMF\")"
      ],
      "metadata": {
        "id": "VqDw0ccNJ-Gn",
        "outputId": "4e8a5f54-aad8-4c78-d0d4-58e0597afdd1",
        "colab": {
          "base_uri": "https://localhost:8080/",
          "height": 279
        }
      },
      "execution_count": 44,
      "outputs": [
        {
          "output_type": "display_data",
          "data": {
            "text/plain": [
              "<Figure size 432x288 with 1 Axes>"
            ],
            "image/png": "[encoded data removed]"
          },
          "metadata": {
            "needs_background": "light"
          }
        }
      ]
    },
    {
      "cell_type": "code",
      "source": [
        "# Solution\n",
        "\n",
        "biased = BiasPmf(pmf, label=\"biased\")"
      ],
      "metadata": {
        "id": "LHie7HIIJH04"
      },
      "execution_count": 45,
      "outputs": []
    },
    {
      "cell_type": "code",
      "source": [
        "# Solution\n",
        "\n",
        "thinkplot.PrePlot(2)\n",
        "thinkplot.Pmfs([pmf, biased])\n",
        "thinkplot.Config(xlabel=\"Number of children\", ylabel=\"PMF\")"
      ],
      "metadata": {
        "id": "_c3TL_SpKHe6",
        "outputId": "65ae070d-341f-4743-b40b-1256cfa4bccc",
        "colab": {
          "base_uri": "https://localhost:8080/",
          "height": 279
        }
      },
      "execution_count": 46,
      "outputs": [
        {
          "output_type": "display_data",
          "data": {
            "text/plain": [
              "<Figure size 432x288 with 1 Axes>"
            ],
            "image/png": "[encoded data removed]"
          },
          "metadata": {
            "needs_background": "light"
          }
        }
      ]
    },
    {
      "cell_type": "code",
      "source": [
        "# Solution\n",
        "\n",
        "pmf.Mean()"
      ],
      "metadata": {
        "id": "Xn37mE2iKN8S",
        "outputId": "99463039-4c6f-4834-f8e6-3e008f02c17f",
        "colab": {
          "base_uri": "https://localhost:8080/"
        }
      },
      "execution_count": 47,
      "outputs": [
        {
          "output_type": "execute_result",
          "data": {
            "text/plain": [
              "1.024205155043831"
            ]
          },
          "metadata": {},
          "execution_count": 47
        }
      ]
    },
    {
      "cell_type": "code",
      "source": [
        "# Solution\n",
        "\n",
        "biased.Mean()"
      ],
      "metadata": {
        "id": "oO3UyqAYKP4s",
        "outputId": "4e4aec0b-2373-46f2-c907-a41e966f269d",
        "colab": {
          "base_uri": "https://localhost:8080/"
        }
      },
      "execution_count": 48,
      "outputs": [
        {
          "output_type": "execute_result",
          "data": {
            "text/plain": [
              "2.403679100664282"
            ]
          },
          "metadata": {},
          "execution_count": 48
        }
      ]
    },
    {
      "cell_type": "markdown",
      "source": [
        "Exercise: I started this book with the question, \"Are first babies more likely to be late?\" To address it, I computed the difference in means between groups of babies, but I ignored the possibility that there might be a difference between first babies and others for the same woman.\n",
        "\n",
        "To address this version of the question, select respondents who have at least two live births and compute pairwise differences. Does this formulation of the question yield a different result?\n",
        "\n",
        "Hint: use nsfg.MakePregMap:"
      ],
      "metadata": {
        "id": "T0vHb6BXKTdE"
      }
    },
    {
      "cell_type": "code",
      "source": [
        "live, firsts, others = first.MakeFrames()"
      ],
      "metadata": {
        "id": "DdZmmeN2Kc_g"
      },
      "execution_count": 49,
      "outputs": []
    },
    {
      "cell_type": "code",
      "source": [
        "preg_map = nsfg.MakePregMap(live)"
      ],
      "metadata": {
        "id": "VR_TUemzE9-b"
      },
      "execution_count": 50,
      "outputs": []
    },
    {
      "cell_type": "code",
      "source": [
        "# Solution\n",
        "\n",
        "hist = thinkstats2.Hist()\n",
        "\n",
        "for caseid, indices in preg_map.items():\n",
        "    if len(indices) >= 2:\n",
        "        pair = preg.loc[indices[0:2]].prglngth\n",
        "        diff = np.diff(pair)[0]\n",
        "        hist[diff] += 1"
      ],
      "metadata": {
        "id": "LnPj5w1RKn1S"
      },
      "execution_count": 51,
      "outputs": []
    },
    {
      "cell_type": "code",
      "source": [
        "# Solution\n",
        "\n",
        "thinkplot.Hist(hist)"
      ],
      "metadata": {
        "id": "3XNpxu3tKqdX",
        "outputId": "148c04f9-e99d-4609-86a2-2a812cf2ba23",
        "colab": {
          "base_uri": "https://localhost:8080/",
          "height": 265
        }
      },
      "execution_count": 52,
      "outputs": [
        {
          "data": {
            "image/png": "[encoded data removed]",
            "text/plain": [
              "<Figure size 432x288 with 1 Axes>"
            ]
          },
          "metadata": {},
          "output_type": "display_data"
        }
      ]
    },
    {
      "cell_type": "code",
      "source": [
        "# Solution\n",
        "\n",
        "pmf = thinkstats2.Pmf(hist)\n",
        "pmf.Mean()"
      ],
      "metadata": {
        "id": "zYASwZyiKybk",
        "outputId": "add3072b-87c6-40f9-f782-d1ab31f01ca2",
        "colab": {
          "base_uri": "https://localhost:8080/"
        }
      },
      "execution_count": 53,
      "outputs": [
        {
          "data": {
            "text/plain": [
              "-0.056367432150313125"
            ]
          },
          "execution_count": 53,
          "metadata": {},
          "output_type": "execute_result"
        }
      ]
    },
    {
      "cell_type": "markdown",
      "source": [
        "Exercise: In most foot races, everyone starts at the same time. If you are a fast runner, you usually pass a lot of people at the beginning of the race, but after a few miles everyone around you is going at the same speed. When I ran a long-distance (209 miles) relay race for the first time, I noticed an odd phenomenon: when I overtook another runner, I was usually much faster, and when another runner overtook me, he was usually much faster.\n",
        "\n",
        "At first I thought that the distribution of speeds might be bimodal; that is, there were many slow runners and many fast runners, but few at my speed.\n",
        "\n",
        "Then I realized that I was the victim of a bias similar to the effect of class size. The race was unusual in two ways: it used a staggered start, so teams started at different times; also, many teams included runners at different levels of ability.\n",
        "\n",
        "As a result, runners were spread out along the course with little relationship between speed and location. When I joined the race, the runners near me were (pretty much) a random sample of the runners in the race.\n",
        "\n",
        "So where does the bias come from? During my time on the course, the chance of overtaking a runner, or being overtaken, is proportional to the difference in our speeds. I am more likely to catch a slow runner, and more likely to be caught by a fast runner. But runners at the same speed are unlikely to see each other.\n",
        "\n",
        "Write a function called ObservedPmf that takes a Pmf representing the actual distribution of runners’ speeds, and the speed of a running observer, and returns a new Pmf representing the distribution of runners’ speeds as seen by the observer.\n",
        "\n",
        "To test your function, you can use relay.py, which reads the results from the James Joyce Ramble 10K in Dedham MA and converts the pace of each runner to mph.\n",
        "\n",
        "Compute the distribution of speeds you would observe if you ran a relay race at 7 mph with this group of runners."
      ],
      "metadata": {
        "id": "-5_srFYqK4YK"
      }
    },
    {
      "cell_type": "code",
      "source": [
        "download(\"https://github.com/AllenDowney/ThinkStats2/raw/master/code/relay.py\")\n",
        "download(\"https://github.com/AllenDowney/ThinkStats2/raw/master/code/Apr25_27thAn_set1.shtml\")"
      ],
      "metadata": {
        "id": "3TPcTRmCK49F",
        "outputId": "08c33510-911c-42a0-9dc0-3b47da7756fa",
        "colab": {
          "base_uri": "https://localhost:8080/"
        }
      },
      "execution_count": 54,
      "outputs": [
        {
          "output_type": "stream",
          "name": "stdout",
          "text": [
            "Downloaded relay.py\n",
            "Downloaded Apr25_27thAn_set1.shtml\n"
          ]
        }
      ]
    },
    {
      "cell_type": "code",
      "source": [
        "import relay\n",
        "\n",
        "results = relay.ReadResults()\n",
        "speeds = relay.GetSpeeds(results)\n",
        "speeds = relay.BinData(speeds, 3, 12, 100)"
      ],
      "metadata": {
        "id": "HvtXH0gHLcQn"
      },
      "execution_count": 55,
      "outputs": []
    },
    {
      "cell_type": "code",
      "source": [
        "pmf = thinkstats2.Pmf(speeds, \"actual speeds\")\n",
        "thinkplot.Pmf(pmf)\n",
        "thinkplot.Config(xlabel=\"Speed (mph)\", ylabel=\"PMF\")"
      ],
      "metadata": {
        "id": "A-nc-lRbLhsj",
        "outputId": "cbc1ee3d-66eb-49b8-d9d2-a9a25ed8458a",
        "colab": {
          "base_uri": "https://localhost:8080/",
          "height": 279
        }
      },
      "execution_count": 56,
      "outputs": [
        {
          "output_type": "display_data",
          "data": {
            "text/plain": [
              "<Figure size 432x288 with 1 Axes>"
            ],
            "image/png": "[encoded data removed]"
          },
          "metadata": {
            "needs_background": "light"
          }
        }
      ]
    },
    {
      "cell_type": "code",
      "source": [
        "# Solution\n",
        "\n",
        "def ObservedPmf(pmf, speed, label=None):\n",
        "    \"\"\"Returns a new Pmf representing speeds observed at a given speed.\n",
        "\n",
        "    The chance of observing a runner is proportional to the difference\n",
        "    in speed.\n",
        "\n",
        "    Args:\n",
        "        pmf: distribution of actual speeds\n",
        "        speed: speed of the observing runner\n",
        "        label: string label for the new dist\n",
        "\n",
        "    Returns:\n",
        "        Pmf object\n",
        "    \"\"\"\n",
        "    new = pmf.Copy(label=label)\n",
        "    for val in new.Values():\n",
        "        diff = abs(val - speed)\n",
        "        new[val] *= diff\n",
        "    new.Normalize()\n",
        "    return new"
      ],
      "metadata": {
        "id": "mTk-oedcLkb8"
      },
      "execution_count": 57,
      "outputs": []
    },
    {
      "cell_type": "code",
      "source": [
        "# Solution\n",
        "\n",
        "biased = ObservedPmf(pmf, 7, label=\"observed speeds\")\n",
        "thinkplot.Pmf(biased)\n",
        "thinkplot.Config(xlabel=\"Speed (mph)\", ylabel=\"PMF\")"
      ],
      "metadata": {
        "id": "smUbYF53Lm7v",
        "outputId": "f076ac1f-fd48-43e6-f324-0c4e9ce5b282",
        "colab": {
          "base_uri": "https://localhost:8080/",
          "height": 279
        }
      },
      "execution_count": 58,
      "outputs": [
        {
          "output_type": "display_data",
          "data": {
            "text/plain": [
              "<Figure size 432x288 with 1 Axes>"
            ],
            "image/png": "[encoded data removed]"
          },
          "metadata": {
            "needs_background": "light"
          }
        }
      ]
    }
  ]
}